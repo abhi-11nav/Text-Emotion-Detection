{
  "cells": [
    {
      "cell_type": "markdown",
      "metadata": {
        "id": "view-in-github",
        "colab_type": "text"
      },
      "source": [
        "<a href=\"https://colab.research.google.com/github/abhi-11nav/Text-Emotion-Detection/blob/main/Text_Emotion_Detection.ipynb\" target=\"_parent\"><img src=\"https://colab.research.google.com/assets/colab-badge.svg\" alt=\"Open In Colab\"/></a>"
      ]
    },
    {
      "cell_type": "code",
      "execution_count": 211,
      "metadata": {
        "id": "zofTXg4alSny"
      },
      "outputs": [],
      "source": [
        "# Importing the necessary libraries \n",
        "\n",
        "import pandas as pd\n",
        "import numpy as np "
      ]
    },
    {
      "cell_type": "code",
      "execution_count": 212,
      "metadata": {
        "colab": {
          "base_uri": "https://localhost:8080/"
        },
        "id": "7WhgKucVla2i",
        "outputId": "4669a581-5bf4-4137-ff12-724edfd52e9b"
      },
      "outputs": [
        {
          "output_type": "stream",
          "name": "stdout",
          "text": [
            "fatal: destination path 'Text-Emotion-Detection' already exists and is not an empty directory.\n"
          ]
        }
      ],
      "source": [
        "# Cloning the github repository \n",
        "\n",
        "!git clone https://github.com/abhi-11nav/Text-Emotion-Detection.git"
      ]
    },
    {
      "cell_type": "code",
      "execution_count": 213,
      "metadata": {
        "id": "hKbC0BeildcI"
      },
      "outputs": [],
      "source": [
        "# Importing data\n",
        "\n",
        "data = pd.read_csv(\"/content/Text-Emotion-Detection/tweet_emotions.csv\")"
      ]
    },
    {
      "cell_type": "code",
      "execution_count": 214,
      "metadata": {
        "colab": {
          "base_uri": "https://localhost:8080/",
          "height": 204
        },
        "id": "Yu8taALUlofD",
        "outputId": "f5e28fde-5d91-4bd6-df82-3b60c1da0151"
      },
      "outputs": [
        {
          "output_type": "execute_result",
          "data": {
            "text/plain": [
              "     tweet_id   sentiment                                            content\n",
              "0  1956967341       empty  @tiffanylue i know  i was listenin to bad habi...\n",
              "1  1956967666     sadness  Layin n bed with a headache  ughhhh...waitin o...\n",
              "2  1956967696     sadness                Funeral ceremony...gloomy friday...\n",
              "3  1956967789  enthusiasm               wants to hang out with friends SOON!\n",
              "4  1956968416     neutral  @dannycastillo We want to trade with someone w..."
            ],
            "text/html": [
              "\n",
              "  <div id=\"df-665388b8-ed37-44c5-8b19-7bfc05eb1cd4\">\n",
              "    <div class=\"colab-df-container\">\n",
              "      <div>\n",
              "<style scoped>\n",
              "    .dataframe tbody tr th:only-of-type {\n",
              "        vertical-align: middle;\n",
              "    }\n",
              "\n",
              "    .dataframe tbody tr th {\n",
              "        vertical-align: top;\n",
              "    }\n",
              "\n",
              "    .dataframe thead th {\n",
              "        text-align: right;\n",
              "    }\n",
              "</style>\n",
              "<table border=\"1\" class=\"dataframe\">\n",
              "  <thead>\n",
              "    <tr style=\"text-align: right;\">\n",
              "      <th></th>\n",
              "      <th>tweet_id</th>\n",
              "      <th>sentiment</th>\n",
              "      <th>content</th>\n",
              "    </tr>\n",
              "  </thead>\n",
              "  <tbody>\n",
              "    <tr>\n",
              "      <th>0</th>\n",
              "      <td>1956967341</td>\n",
              "      <td>empty</td>\n",
              "      <td>@tiffanylue i know  i was listenin to bad habi...</td>\n",
              "    </tr>\n",
              "    <tr>\n",
              "      <th>1</th>\n",
              "      <td>1956967666</td>\n",
              "      <td>sadness</td>\n",
              "      <td>Layin n bed with a headache  ughhhh...waitin o...</td>\n",
              "    </tr>\n",
              "    <tr>\n",
              "      <th>2</th>\n",
              "      <td>1956967696</td>\n",
              "      <td>sadness</td>\n",
              "      <td>Funeral ceremony...gloomy friday...</td>\n",
              "    </tr>\n",
              "    <tr>\n",
              "      <th>3</th>\n",
              "      <td>1956967789</td>\n",
              "      <td>enthusiasm</td>\n",
              "      <td>wants to hang out with friends SOON!</td>\n",
              "    </tr>\n",
              "    <tr>\n",
              "      <th>4</th>\n",
              "      <td>1956968416</td>\n",
              "      <td>neutral</td>\n",
              "      <td>@dannycastillo We want to trade with someone w...</td>\n",
              "    </tr>\n",
              "  </tbody>\n",
              "</table>\n",
              "</div>\n",
              "      <button class=\"colab-df-convert\" onclick=\"convertToInteractive('df-665388b8-ed37-44c5-8b19-7bfc05eb1cd4')\"\n",
              "              title=\"Convert this dataframe to an interactive table.\"\n",
              "              style=\"display:none;\">\n",
              "        \n",
              "  <svg xmlns=\"http://www.w3.org/2000/svg\" height=\"24px\"viewBox=\"0 0 24 24\"\n",
              "       width=\"24px\">\n",
              "    <path d=\"M0 0h24v24H0V0z\" fill=\"none\"/>\n",
              "    <path d=\"M18.56 5.44l.94 2.06.94-2.06 2.06-.94-2.06-.94-.94-2.06-.94 2.06-2.06.94zm-11 1L8.5 8.5l.94-2.06 2.06-.94-2.06-.94L8.5 2.5l-.94 2.06-2.06.94zm10 10l.94 2.06.94-2.06 2.06-.94-2.06-.94-.94-2.06-.94 2.06-2.06.94z\"/><path d=\"M17.41 7.96l-1.37-1.37c-.4-.4-.92-.59-1.43-.59-.52 0-1.04.2-1.43.59L10.3 9.45l-7.72 7.72c-.78.78-.78 2.05 0 2.83L4 21.41c.39.39.9.59 1.41.59.51 0 1.02-.2 1.41-.59l7.78-7.78 2.81-2.81c.8-.78.8-2.07 0-2.86zM5.41 20L4 18.59l7.72-7.72 1.47 1.35L5.41 20z\"/>\n",
              "  </svg>\n",
              "      </button>\n",
              "      \n",
              "  <style>\n",
              "    .colab-df-container {\n",
              "      display:flex;\n",
              "      flex-wrap:wrap;\n",
              "      gap: 12px;\n",
              "    }\n",
              "\n",
              "    .colab-df-convert {\n",
              "      background-color: #E8F0FE;\n",
              "      border: none;\n",
              "      border-radius: 50%;\n",
              "      cursor: pointer;\n",
              "      display: none;\n",
              "      fill: #1967D2;\n",
              "      height: 32px;\n",
              "      padding: 0 0 0 0;\n",
              "      width: 32px;\n",
              "    }\n",
              "\n",
              "    .colab-df-convert:hover {\n",
              "      background-color: #E2EBFA;\n",
              "      box-shadow: 0px 1px 2px rgba(60, 64, 67, 0.3), 0px 1px 3px 1px rgba(60, 64, 67, 0.15);\n",
              "      fill: #174EA6;\n",
              "    }\n",
              "\n",
              "    [theme=dark] .colab-df-convert {\n",
              "      background-color: #3B4455;\n",
              "      fill: #D2E3FC;\n",
              "    }\n",
              "\n",
              "    [theme=dark] .colab-df-convert:hover {\n",
              "      background-color: #434B5C;\n",
              "      box-shadow: 0px 1px 3px 1px rgba(0, 0, 0, 0.15);\n",
              "      filter: drop-shadow(0px 1px 2px rgba(0, 0, 0, 0.3));\n",
              "      fill: #FFFFFF;\n",
              "    }\n",
              "  </style>\n",
              "\n",
              "      <script>\n",
              "        const buttonEl =\n",
              "          document.querySelector('#df-665388b8-ed37-44c5-8b19-7bfc05eb1cd4 button.colab-df-convert');\n",
              "        buttonEl.style.display =\n",
              "          google.colab.kernel.accessAllowed ? 'block' : 'none';\n",
              "\n",
              "        async function convertToInteractive(key) {\n",
              "          const element = document.querySelector('#df-665388b8-ed37-44c5-8b19-7bfc05eb1cd4');\n",
              "          const dataTable =\n",
              "            await google.colab.kernel.invokeFunction('convertToInteractive',\n",
              "                                                     [key], {});\n",
              "          if (!dataTable) return;\n",
              "\n",
              "          const docLinkHtml = 'Like what you see? Visit the ' +\n",
              "            '<a target=\"_blank\" href=https://colab.research.google.com/notebooks/data_table.ipynb>data table notebook</a>'\n",
              "            + ' to learn more about interactive tables.';\n",
              "          element.innerHTML = '';\n",
              "          dataTable['output_type'] = 'display_data';\n",
              "          await google.colab.output.renderOutput(dataTable, element);\n",
              "          const docLink = document.createElement('div');\n",
              "          docLink.innerHTML = docLinkHtml;\n",
              "          element.appendChild(docLink);\n",
              "        }\n",
              "      </script>\n",
              "    </div>\n",
              "  </div>\n",
              "  "
            ]
          },
          "metadata": {},
          "execution_count": 214
        }
      ],
      "source": [
        "data.head()"
      ]
    },
    {
      "cell_type": "code",
      "execution_count": 215,
      "metadata": {
        "id": "TIUmyCIAmA-_"
      },
      "outputs": [],
      "source": [
        "# Let us drop the tweet id\n",
        "\n",
        "data.drop(\"tweet_id\", axis=1, inplace=True)"
      ]
    },
    {
      "cell_type": "code",
      "execution_count": 216,
      "metadata": {
        "colab": {
          "base_uri": "https://localhost:8080/",
          "height": 204
        },
        "id": "uIDRz4D-mJXk",
        "outputId": "0a98aecb-8421-4018-9d68-305f407b708d"
      },
      "outputs": [
        {
          "output_type": "execute_result",
          "data": {
            "text/plain": [
              "    sentiment                                            content\n",
              "0       empty  @tiffanylue i know  i was listenin to bad habi...\n",
              "1     sadness  Layin n bed with a headache  ughhhh...waitin o...\n",
              "2     sadness                Funeral ceremony...gloomy friday...\n",
              "3  enthusiasm               wants to hang out with friends SOON!\n",
              "4     neutral  @dannycastillo We want to trade with someone w..."
            ],
            "text/html": [
              "\n",
              "  <div id=\"df-f8435184-04cc-47a9-9c4f-a475354dc8f3\">\n",
              "    <div class=\"colab-df-container\">\n",
              "      <div>\n",
              "<style scoped>\n",
              "    .dataframe tbody tr th:only-of-type {\n",
              "        vertical-align: middle;\n",
              "    }\n",
              "\n",
              "    .dataframe tbody tr th {\n",
              "        vertical-align: top;\n",
              "    }\n",
              "\n",
              "    .dataframe thead th {\n",
              "        text-align: right;\n",
              "    }\n",
              "</style>\n",
              "<table border=\"1\" class=\"dataframe\">\n",
              "  <thead>\n",
              "    <tr style=\"text-align: right;\">\n",
              "      <th></th>\n",
              "      <th>sentiment</th>\n",
              "      <th>content</th>\n",
              "    </tr>\n",
              "  </thead>\n",
              "  <tbody>\n",
              "    <tr>\n",
              "      <th>0</th>\n",
              "      <td>empty</td>\n",
              "      <td>@tiffanylue i know  i was listenin to bad habi...</td>\n",
              "    </tr>\n",
              "    <tr>\n",
              "      <th>1</th>\n",
              "      <td>sadness</td>\n",
              "      <td>Layin n bed with a headache  ughhhh...waitin o...</td>\n",
              "    </tr>\n",
              "    <tr>\n",
              "      <th>2</th>\n",
              "      <td>sadness</td>\n",
              "      <td>Funeral ceremony...gloomy friday...</td>\n",
              "    </tr>\n",
              "    <tr>\n",
              "      <th>3</th>\n",
              "      <td>enthusiasm</td>\n",
              "      <td>wants to hang out with friends SOON!</td>\n",
              "    </tr>\n",
              "    <tr>\n",
              "      <th>4</th>\n",
              "      <td>neutral</td>\n",
              "      <td>@dannycastillo We want to trade with someone w...</td>\n",
              "    </tr>\n",
              "  </tbody>\n",
              "</table>\n",
              "</div>\n",
              "      <button class=\"colab-df-convert\" onclick=\"convertToInteractive('df-f8435184-04cc-47a9-9c4f-a475354dc8f3')\"\n",
              "              title=\"Convert this dataframe to an interactive table.\"\n",
              "              style=\"display:none;\">\n",
              "        \n",
              "  <svg xmlns=\"http://www.w3.org/2000/svg\" height=\"24px\"viewBox=\"0 0 24 24\"\n",
              "       width=\"24px\">\n",
              "    <path d=\"M0 0h24v24H0V0z\" fill=\"none\"/>\n",
              "    <path d=\"M18.56 5.44l.94 2.06.94-2.06 2.06-.94-2.06-.94-.94-2.06-.94 2.06-2.06.94zm-11 1L8.5 8.5l.94-2.06 2.06-.94-2.06-.94L8.5 2.5l-.94 2.06-2.06.94zm10 10l.94 2.06.94-2.06 2.06-.94-2.06-.94-.94-2.06-.94 2.06-2.06.94z\"/><path d=\"M17.41 7.96l-1.37-1.37c-.4-.4-.92-.59-1.43-.59-.52 0-1.04.2-1.43.59L10.3 9.45l-7.72 7.72c-.78.78-.78 2.05 0 2.83L4 21.41c.39.39.9.59 1.41.59.51 0 1.02-.2 1.41-.59l7.78-7.78 2.81-2.81c.8-.78.8-2.07 0-2.86zM5.41 20L4 18.59l7.72-7.72 1.47 1.35L5.41 20z\"/>\n",
              "  </svg>\n",
              "      </button>\n",
              "      \n",
              "  <style>\n",
              "    .colab-df-container {\n",
              "      display:flex;\n",
              "      flex-wrap:wrap;\n",
              "      gap: 12px;\n",
              "    }\n",
              "\n",
              "    .colab-df-convert {\n",
              "      background-color: #E8F0FE;\n",
              "      border: none;\n",
              "      border-radius: 50%;\n",
              "      cursor: pointer;\n",
              "      display: none;\n",
              "      fill: #1967D2;\n",
              "      height: 32px;\n",
              "      padding: 0 0 0 0;\n",
              "      width: 32px;\n",
              "    }\n",
              "\n",
              "    .colab-df-convert:hover {\n",
              "      background-color: #E2EBFA;\n",
              "      box-shadow: 0px 1px 2px rgba(60, 64, 67, 0.3), 0px 1px 3px 1px rgba(60, 64, 67, 0.15);\n",
              "      fill: #174EA6;\n",
              "    }\n",
              "\n",
              "    [theme=dark] .colab-df-convert {\n",
              "      background-color: #3B4455;\n",
              "      fill: #D2E3FC;\n",
              "    }\n",
              "\n",
              "    [theme=dark] .colab-df-convert:hover {\n",
              "      background-color: #434B5C;\n",
              "      box-shadow: 0px 1px 3px 1px rgba(0, 0, 0, 0.15);\n",
              "      filter: drop-shadow(0px 1px 2px rgba(0, 0, 0, 0.3));\n",
              "      fill: #FFFFFF;\n",
              "    }\n",
              "  </style>\n",
              "\n",
              "      <script>\n",
              "        const buttonEl =\n",
              "          document.querySelector('#df-f8435184-04cc-47a9-9c4f-a475354dc8f3 button.colab-df-convert');\n",
              "        buttonEl.style.display =\n",
              "          google.colab.kernel.accessAllowed ? 'block' : 'none';\n",
              "\n",
              "        async function convertToInteractive(key) {\n",
              "          const element = document.querySelector('#df-f8435184-04cc-47a9-9c4f-a475354dc8f3');\n",
              "          const dataTable =\n",
              "            await google.colab.kernel.invokeFunction('convertToInteractive',\n",
              "                                                     [key], {});\n",
              "          if (!dataTable) return;\n",
              "\n",
              "          const docLinkHtml = 'Like what you see? Visit the ' +\n",
              "            '<a target=\"_blank\" href=https://colab.research.google.com/notebooks/data_table.ipynb>data table notebook</a>'\n",
              "            + ' to learn more about interactive tables.';\n",
              "          element.innerHTML = '';\n",
              "          dataTable['output_type'] = 'display_data';\n",
              "          await google.colab.output.renderOutput(dataTable, element);\n",
              "          const docLink = document.createElement('div');\n",
              "          docLink.innerHTML = docLinkHtml;\n",
              "          element.appendChild(docLink);\n",
              "        }\n",
              "      </script>\n",
              "    </div>\n",
              "  </div>\n",
              "  "
            ]
          },
          "metadata": {},
          "execution_count": 216
        }
      ],
      "source": [
        "data.head()"
      ]
    },
    {
      "cell_type": "code",
      "execution_count": 217,
      "metadata": {
        "colab": {
          "base_uri": "https://localhost:8080/"
        },
        "id": "CeEFLErwmZxK",
        "outputId": "eae002d4-07fc-4d21-a8ac-84630407ba80"
      },
      "outputs": [
        {
          "output_type": "execute_result",
          "data": {
            "text/plain": [
              "sentiment    False\n",
              "content      False\n",
              "dtype: bool"
            ]
          },
          "metadata": {},
          "execution_count": 217
        }
      ],
      "source": [
        "# Let us check if the tweet has any missing values \n",
        "\n",
        "data.isna().any()"
      ]
    },
    {
      "cell_type": "markdown",
      "metadata": {
        "id": "syZBYwVdmubC"
      },
      "source": [
        "No missing values"
      ]
    },
    {
      "cell_type": "code",
      "execution_count": 218,
      "metadata": {
        "colab": {
          "base_uri": "https://localhost:8080/"
        },
        "id": "cLiURfjqmszA",
        "outputId": "fb0c39fd-045c-4dd3-b5dd-1d8eb4eacd94"
      },
      "outputs": [
        {
          "output_type": "execute_result",
          "data": {
            "text/plain": [
              "neutral       8638\n",
              "worry         8459\n",
              "happiness     5209\n",
              "sadness       5165\n",
              "love          3842\n",
              "surprise      2187\n",
              "fun           1776\n",
              "relief        1526\n",
              "hate          1323\n",
              "empty          827\n",
              "enthusiasm     759\n",
              "boredom        179\n",
              "anger          110\n",
              "Name: sentiment, dtype: int64"
            ]
          },
          "metadata": {},
          "execution_count": 218
        }
      ],
      "source": [
        "# Let us check the number of categories in sentiment variable\n",
        "\n",
        "data['sentiment'].value_counts()"
      ]
    },
    {
      "cell_type": "markdown",
      "metadata": {
        "id": "xRYV6lDBnsw7"
      },
      "source": [
        "The data seems imbalanced. Let us deal with it after a bit"
      ]
    },
    {
      "cell_type": "code",
      "execution_count": 219,
      "metadata": {
        "colab": {
          "base_uri": "https://localhost:8080/",
          "height": 37
        },
        "id": "4ITV_GjAnT70",
        "outputId": "5a3eebd7-c37f-41ee-999c-63e0a271a1f6"
      },
      "outputs": [
        {
          "output_type": "execute_result",
          "data": {
            "text/plain": [
              "'@tiffanylue i know  i was listenin to bad habit earlier and i started freakin at his part =['"
            ],
            "application/vnd.google.colaboratory.intrinsic+json": {
              "type": "string"
            }
          },
          "metadata": {},
          "execution_count": 219
        }
      ],
      "source": [
        "# Let us look at the sentences\n",
        "\n",
        "data['content'][0]"
      ]
    },
    {
      "cell_type": "code",
      "execution_count": 220,
      "metadata": {
        "colab": {
          "base_uri": "https://localhost:8080/",
          "height": 37
        },
        "id": "LqKVBAqVoMhn",
        "outputId": "3e77ae70-c110-4388-8c6c-f6e841917f1d"
      },
      "outputs": [
        {
          "output_type": "execute_result",
          "data": {
            "text/plain": [
              "'Layin n bed with a headache  ughhhh...waitin on your call...'"
            ],
            "application/vnd.google.colaboratory.intrinsic+json": {
              "type": "string"
            }
          },
          "metadata": {},
          "execution_count": 220
        }
      ],
      "source": [
        "data['content'][1]"
      ]
    },
    {
      "cell_type": "markdown",
      "metadata": {
        "id": "j9VKL5TVpDiw"
      },
      "source": [
        "Text Preprocessing"
      ]
    },
    {
      "cell_type": "code",
      "execution_count": 221,
      "metadata": {
        "colab": {
          "base_uri": "https://localhost:8080/"
        },
        "id": "eMD6rP6Hr_xt",
        "outputId": "44d5f1e9-31cc-4935-98f0-7352a68abf61"
      },
      "outputs": [
        {
          "output_type": "stream",
          "name": "stderr",
          "text": [
            "[nltk_data] Downloading package stopwords to /root/nltk_data...\n",
            "[nltk_data]   Package stopwords is already up-to-date!\n",
            "[nltk_data] Downloading package wordnet to /root/nltk_data...\n",
            "[nltk_data]   Package wordnet is already up-to-date!\n",
            "[nltk_data] Downloading package omw-1.4 to /root/nltk_data...\n",
            "[nltk_data]   Package omw-1.4 is already up-to-date!\n"
          ]
        }
      ],
      "source": [
        "# Importing libraries\n",
        "\n",
        "import re \n",
        "\n",
        "import nltk \n",
        "from nltk.stem import WordNetLemmatizer\n",
        "from nltk.corpus import stopwords\n",
        "\n",
        "nltk.download('stopwords')\n",
        "nltk.download('wordnet')\n",
        "nltk.download('omw-1.4')\n",
        "\n",
        "lemmatizer = WordNetLemmatizer()"
      ]
    },
    {
      "cell_type": "code",
      "execution_count": 222,
      "metadata": {
        "id": "hG_T2DWSo925"
      },
      "outputs": [],
      "source": [
        "def text_preprocess(dataset,list_name):\n",
        "  \n",
        "  for i in range(dataset.shape[0]):\n",
        "    list_name.append(re.sub('[^a-zA-Z]',' ',str(dataset.iloc[i,1])))\n",
        "\n",
        "  print(\"Number and other symbols eliminated from the text\")\n",
        "\n",
        "  # String spacing \n",
        "  for x in range(len(list_name)):\n",
        "    list_name[x] = \" \".join(y for y in str(list_name[x]).split()).lower()\n",
        "\n",
        "  print(\"Text reorganized and converted to small letter\")\n",
        "  \n",
        "  for index in range(len(list_name)):\n",
        "    temp_list= []\n",
        "    # Lemmatization\n",
        "    for word in list_name[index].split():\n",
        "      if word not in stopwords.words('english'):\n",
        "        temp_list.append(word)\n",
        "    \n",
        "    list_name[index] = \" \".join(lemmatizer.lemmatize(words) for words in temp_list )"
      ]
    },
    {
      "cell_type": "code",
      "execution_count": 223,
      "metadata": {
        "colab": {
          "base_uri": "https://localhost:8080/"
        },
        "id": "kiOLAlRoo952",
        "outputId": "83c53ab5-c223-47af-f2eb-d45f3a2912ab"
      },
      "outputs": [
        {
          "output_type": "stream",
          "name": "stdout",
          "text": [
            "Number and other symbols eliminated from the text\n",
            "Text reorganized and converted to small letter\n"
          ]
        }
      ],
      "source": [
        "sentences = []\n",
        "\n",
        "text_preprocess(data,sentences)"
      ]
    },
    {
      "cell_type": "code",
      "execution_count": 224,
      "metadata": {
        "colab": {
          "base_uri": "https://localhost:8080/"
        },
        "id": "WiKdzHTao9-S",
        "outputId": "8c19f1eb-ff47-48e8-825b-22c890b08418"
      },
      "outputs": [
        {
          "output_type": "execute_result",
          "data": {
            "text/plain": [
              "40000"
            ]
          },
          "metadata": {},
          "execution_count": 224
        }
      ],
      "source": [
        "len(sentences)"
      ]
    },
    {
      "cell_type": "markdown",
      "metadata": {
        "id": "Z_6z1WOXKbW5"
      },
      "source": [
        "Text preprocessing done"
      ]
    },
    {
      "cell_type": "markdown",
      "metadata": {
        "id": "dndtBo0EUtUN"
      },
      "source": [
        "Converting text to vectors \n",
        "\n",
        "Word2vec"
      ]
    },
    {
      "cell_type": "code",
      "execution_count": 225,
      "metadata": {
        "colab": {
          "base_uri": "https://localhost:8080/"
        },
        "id": "Wz-Kj1N0Uwgr",
        "outputId": "271da263-1a40-4ce0-a16a-73eea5dea8e6"
      },
      "outputs": [
        {
          "output_type": "stream",
          "name": "stderr",
          "text": [
            "[nltk_data] Downloading package punkt to /root/nltk_data...\n",
            "[nltk_data]   Package punkt is already up-to-date!\n"
          ]
        },
        {
          "output_type": "execute_result",
          "data": {
            "text/plain": [
              "True"
            ]
          },
          "metadata": {},
          "execution_count": 225
        }
      ],
      "source": [
        "# Importing necessary libraries\n",
        "\n",
        "import gensim\n",
        "\n",
        "from gensim.models import Word2Vec\n",
        "\n",
        "from tqdm import tqdm\n",
        "\n",
        "from nltk import word_tokenize\n",
        "nltk.download('punkt')"
      ]
    },
    {
      "cell_type": "code",
      "execution_count": 226,
      "metadata": {
        "colab": {
          "base_uri": "https://localhost:8080/"
        },
        "id": "S5bKDKJyWx50",
        "outputId": "7ca7a7b3-c9b4-44eb-ffe3-61a27504671a"
      },
      "outputs": [
        {
          "output_type": "stream",
          "name": "stdout",
          "text": [
            "40000  length of sentences\n"
          ]
        }
      ],
      "source": [
        "# Words list\n",
        "\n",
        "words_list = []\n",
        "\n",
        "# looping through to append words\n",
        "for index in range(len(sentences)):\n",
        "  words_list.append(nltk.word_tokenize(sentences[index]))\n",
        "\n",
        "print(len(words_list),\" length of sentences\")"
      ]
    },
    {
      "cell_type": "code",
      "execution_count": 227,
      "metadata": {
        "id": "H1zdnQ9KUwkB"
      },
      "outputs": [],
      "source": [
        "model = gensim.models.Word2Vec(words_list, window=5, min_count = 2)"
      ]
    },
    {
      "cell_type": "code",
      "execution_count": 229,
      "metadata": {
        "colab": {
          "base_uri": "https://localhost:8080/"
        },
        "id": "ifTQTZJnUwmX",
        "outputId": "defbd715-1939-4319-bd2f-dfbe09b65ee8"
      },
      "outputs": [
        {
          "output_type": "stream",
          "name": "stderr",
          "text": [
            "100%|██████████| 40000/40000 [00:29<00:00, 1337.43it/s]\n"
          ]
        }
      ],
      "source": [
        "# Empty list \n",
        "X = []\n",
        "\n",
        "# Looping though words\n",
        "for words in tqdm(words_list):\n",
        "  X.append(np.mean([model.wv[word] for word in words if word in model.wv.index2word], axis=0))"
      ]
    },
    {
      "cell_type": "code",
      "execution_count": 230,
      "metadata": {
        "id": "B-7MHnFRUwuc"
      },
      "outputs": [],
      "source": [
        "y = data[\"sentiment\"]"
      ]
    },
    {
      "cell_type": "code",
      "execution_count": 231,
      "metadata": {
        "id": "ezY1CEbqg-jQ"
      },
      "outputs": [],
      "source": [
        "from sklearn import preprocessing\n",
        "\n",
        "le = preprocessing.LabelEncoder()"
      ]
    },
    {
      "cell_type": "code",
      "execution_count": 232,
      "metadata": {
        "id": "0nuueBE5hCT3"
      },
      "outputs": [],
      "source": [
        "y = le.fit_transform(y)"
      ]
    },
    {
      "cell_type": "markdown",
      "metadata": {
        "id": "6p6P_k7kb3H4"
      },
      "source": [
        "Train test split"
      ]
    },
    {
      "cell_type": "code",
      "source": [
        "X = [val.tolist() for val in X]"
      ],
      "metadata": {
        "id": "4Rhqgv-H6iQz"
      },
      "execution_count": 234,
      "outputs": []
    },
    {
      "cell_type": "code",
      "source": [
        "X = np.array(X)"
      ],
      "metadata": {
        "id": "MuHEB3syGdSj"
      },
      "execution_count": 239,
      "outputs": []
    },
    {
      "cell_type": "code",
      "source": [
        "X.shape"
      ],
      "metadata": {
        "colab": {
          "base_uri": "https://localhost:8080/"
        },
        "id": "twWrA4jWGiY2",
        "outputId": "6e776c01-c356-4617-92e2-83baecbdde9e"
      },
      "execution_count": 240,
      "outputs": [
        {
          "output_type": "execute_result",
          "data": {
            "text/plain": [
              "(40000,)"
            ]
          },
          "metadata": {},
          "execution_count": 240
        }
      ]
    },
    {
      "cell_type": "code",
      "source": [],
      "metadata": {
        "id": "8mgEh_yQGidP"
      },
      "execution_count": 240,
      "outputs": []
    },
    {
      "cell_type": "code",
      "execution_count": 241,
      "metadata": {
        "id": "pc-5MJrhUwwy"
      },
      "outputs": [],
      "source": [
        "from sklearn.model_selection import train_test_split\n",
        "\n",
        "train_X, test_X, train_y, test_y = train_test_split(X,y,test_size=0.1,random_state=101)"
      ]
    },
    {
      "cell_type": "code",
      "source": [
        "X[:5]"
      ],
      "metadata": {
        "colab": {
          "base_uri": "https://localhost:8080/"
        },
        "id": "o1woh3LSqFTL",
        "outputId": "6e712a4f-c7cb-4215-f8b1-733df18f367b"
      },
      "execution_count": 242,
      "outputs": [
        {
          "output_type": "execute_result",
          "data": {
            "text/plain": [
              "array([list([-0.3065258264541626, 0.12740002572536469, -0.12171502411365509, -0.0970512181520462, -0.4912981390953064, 0.06366962194442749, 0.015605923719704151, 0.47017550468444824, -0.2934848368167877, 0.2072802484035492, -0.0023908233270049095, 0.48067429661750793, -0.3952907621860504, -0.19955764710903168, -0.6293414831161499, 0.22451119124889374, -0.14762906730175018, 0.05015379190444946, 0.1730164736509323, 0.653520405292511, 0.17127713561058044, -0.11119307577610016, 0.1938396394252777, -0.15994854271411896, 0.1648135632276535, 0.2437869757413864, 0.20727795362472534, 0.20484641194343567, 0.399741530418396, 0.12535996735095978, 0.2687130272388458, -0.016761435195803642, -0.2709988057613373, -0.31958699226379395, -0.13294976949691772, 0.4309920072555542, -0.5058873891830444, -0.08081002533435822, 0.19043804705142975, -0.12645652890205383, -0.26898494362831116, -0.3066118359565735, -0.3582933247089386, -0.5967003107070923, -0.3600606322288513, -0.2959582805633545, -0.1013002097606659, -0.08184531331062317, 0.5059512853622437, -0.2645496129989624, 0.3598583936691284, 0.13087348639965057, 0.024174721911549568, -0.39880281686782837, 0.10529059171676636, 0.29768988490104675, 0.09074991196393967, -0.2090633511543274, -0.030794762074947357, -0.19747862219810486, -0.2028639316558838, 0.11745981872081757, -0.4986851215362549, -0.2232947200536728, 0.16426250338554382, 0.1439703106880188, -0.37402069568634033, -0.0303561482578516, 0.04916182905435562, 0.8070088624954224, -0.300783634185791, -0.04994991049170494, -0.060346364974975586, -0.028026821091771126, -0.0209023617208004, -0.1723494529724121, 0.07340764999389648, 0.42829927802085876, 0.43712154030799866, -0.07813878357410431, 0.07024117559194565, -0.45603156089782715, 0.3825110197067261, 0.06290387362241745, 0.1973964273929596, 0.12651343643665314, 0.1104375571012497, -0.45484042167663574, -0.314050555229187, -0.07343057543039322, -0.12425787001848221, -0.1677546501159668, 0.08683525025844574, 0.18553143739700317, -0.3675994575023651, 0.0030482755973935127, 0.4633874297142029, 0.03012886270880699, -0.12652841210365295, -0.3352745771408081]),\n",
              "       list([-0.30476322770118713, 0.12374132871627808, -0.08702339231967926, 0.02934085950255394, -0.41973209381103516, 0.19003605842590332, -0.05616817995905876, 0.5089472532272339, -0.2546752989292145, 0.24396458268165588, -0.014549784362316132, 0.4600212275981903, -0.41057851910591125, -0.18437035381793976, -0.6111639142036438, 0.10915953665971756, -0.08080710470676422, 0.18408311903476715, 0.22168709337711334, 0.6412216424942017, 0.11233235895633698, -0.12406156957149506, 0.30417463183403015, -0.13031943142414093, 0.2023460566997528, 0.2738761603832245, 0.18856672942638397, 0.2899666428565979, 0.3884693682193756, 0.1323416531085968, 0.276691198348999, -0.02986868843436241, -0.20434896647930145, -0.16176867485046387, -0.18420851230621338, 0.43593963980674744, -0.4809655547142029, -0.22806178033351898, 0.1739533245563507, -0.07889466732740402, -0.20692864060401917, -0.44579145312309265, -0.4040966033935547, -0.6292905211448669, -0.4014361500740051, -0.4348832070827484, -0.14189550280570984, -0.11059783399105072, 0.6658229231834412, -0.188383549451828, 0.3159852623939514, 0.03945412486791611, -0.04111487790942192, -0.40425118803977966, 0.06338202953338623, 0.21005012094974518, -0.08372408151626587, -0.1960972249507904, 0.08433663845062256, -0.15945394337177277, -0.2696172297000885, 0.1233082190155983, -0.45871880650520325, -0.28422608971595764, 0.20050697028636932, 0.2249823361635208, -0.3497578501701355, -0.12852038443088531, 0.16587983071804047, 0.8885409235954285, -0.1056140661239624, 0.0487346313893795, 0.02555834874510765, 0.05811496451497078, 0.024164054542779922, -0.10509232431650162, 0.08961985260248184, 0.48941686749458313, 0.403594046831131, -0.17935003340244293, -0.032608162611722946, -0.4819602966308594, 0.29021432995796204, 0.18118759989738464, 0.14113067090511322, 0.18072499334812164, 0.11273346841335297, -0.4270420968532562, -0.3003195822238922, -0.1260135918855667, -0.21249450743198395, -0.07630927115678787, 0.15852652490139008, 0.2235676497220993, -0.41308358311653137, 0.07844024151563644, 0.36961254477500916, 0.07382199913263321, -0.10549279302358627, -0.16204603016376495]),\n",
              "       list([-0.1154424324631691, 0.15106984972953796, 0.03348037600517273, -0.05784589797258377, -0.27726873755455017, 0.14015673100948334, 0.08281494677066803, 0.2773321270942688, -0.14734958112239838, 0.12765993177890778, -0.051395200192928314, 0.21798700094223022, -0.25174951553344727, -0.127012699842453, -0.40007224678993225, 0.06471148133277893, -0.07599563151597977, 0.06412411481142044, 0.10536234825849533, 0.3611292839050293, 0.0877179205417633, -0.029984934255480766, 0.23199179768562317, -0.03393489122390747, 0.07405441254377365, 0.14841139316558838, 0.005153536796569824, 0.16348323225975037, 0.24111168086528778, 0.1292845457792282, 0.14207683503627777, -0.005044526886194944, -0.0796392410993576, -0.1271330714225769, -0.047953516244888306, 0.2500668168067932, -0.30539166927337646, -0.12008291482925415, 0.17052504420280457, -0.1236935704946518, -0.06719297170639038, -0.26127180457115173, -0.26548606157302856, -0.4442509412765503, -0.1498582661151886, -0.35174596309661865, -0.08475665748119354, -0.05398707464337349, 0.40019288659095764, -0.11303585767745972, 0.181883305311203, 0.0029175886884331703, -0.03734946250915527, -0.17251622676849365, -0.03641057759523392, 0.11691474169492722, -0.09868364036083221, -0.1671714186668396, 0.12050226330757141, -0.09343515336513519, -0.24791289865970612, 0.1293582171201706, -0.4348680377006531, -0.13735127449035645, 0.06235800310969353, 0.12685468792915344, -0.25055503845214844, -0.11832243204116821, 0.07617677748203278, 0.5592060089111328, -0.07454890757799149, -0.013498538173735142, -0.059087567031383514, 0.027456656098365784, 0.06515378504991531, -0.11333291232585907, 0.02095288410782814, 0.32827937602996826, 0.2517790198326111, -0.1370447427034378, -0.009538739919662476, -0.30783143639564514, 0.2044740915298462, 0.11114072799682617, 0.1820276975631714, 0.1815098524093628, 0.07766257226467133, -0.36297526955604553, -0.1772354245185852, 0.0423051081597805, -0.08747810870409012, -0.12791472673416138, 0.06387074291706085, 0.08236828446388245, -0.24099873006343842, 0.047520797699689865, 0.15320536494255066, 0.02868735045194626, -0.15511329472064972, -0.20574410259723663]),\n",
              "       list([-0.531898021697998, 0.0745234414935112, -0.1591838002204895, -0.08409130573272705, -0.6997762322425842, 0.37515926361083984, -0.06735177338123322, 0.6095739006996155, -0.41939014196395874, 0.38935065269470215, 0.04853074252605438, 0.7879915833473206, -0.5599967241287231, -0.41263487935066223, -0.891815185546875, 0.19058343768119812, -0.12591442465782166, 0.35721340775489807, 0.324226051568985, 1.059337854385376, 0.20716561377048492, -0.09562773257493973, 0.4032323658466339, -0.13496233522891998, 0.3222641348838806, 0.5230247974395752, 0.28864964842796326, 0.39239054918289185, 0.4232344627380371, 0.1664162576198578, 0.5562930703163147, 0.03650999441742897, -0.21516266465187073, -0.126597061753273, -0.3640473783016205, 0.6732380390167236, -0.7769729495048523, -0.2784767746925354, 0.12906646728515625, -0.10593946278095245, -0.3306216895580292, -0.5355808138847351, -0.5583670139312744, -0.9129194617271423, -0.68742835521698, -0.4553355574607849, -0.1985311508178711, -0.2869565486907959, 0.8980615735054016, -0.25634947419166565, 0.47780609130859375, 0.10614734888076782, 0.15431803464889526, -0.4373284876346588, 0.09606248140335083, 0.4315447211265564, -0.07484844326972961, -0.329555869102478, -0.04975998401641846, -0.28519976139068604, -0.2402184009552002, 0.3027121126651764, -0.6763243079185486, -0.516351044178009, 0.10404954850673676, 0.47752755880355835, -0.7767041325569153, -0.17096589505672455, 0.2834683358669281, 1.2436552047729492, -0.1965077966451645, 0.1266729235649109, -0.04487357661128044, -0.025360580533742905, -0.02813110500574112, -0.15172868967056274, 0.1972014605998993, 0.6056256890296936, 0.635883092880249, -0.1966480165719986, -0.09807030111551285, -0.7074291110038757, 0.4737168252468109, 0.1042180135846138, 0.4496385455131531, 0.32487040758132935, 0.14446896314620972, -0.6631856560707092, -0.46460384130477905, -0.1585734784603119, -0.36428385972976685, -0.16103141009807587, 0.1454881727695465, 0.33091041445732117, -0.5571523904800415, -0.017343729734420776, 0.5669651031494141, -0.06902138888835907, -0.232097327709198, -0.40908074378967285]),\n",
              "       list([-0.3690502643585205, 0.07171791046857834, -0.2018582820892334, -0.0781397745013237, -0.4983750283718109, 0.17349694669246674, -0.06438156217336655, 0.5448544025421143, -0.33241140842437744, 0.2185673713684082, 0.015124186873435974, 0.5501384139060974, -0.4404609203338623, -0.24870474636554718, -0.6744763851165771, 0.18932144343852997, -0.13075780868530273, 0.17178796231746674, 0.219432532787323, 0.7756619453430176, 0.17055726051330566, -0.11186324805021286, 0.2931094169616699, -0.14483384788036346, 0.19939352571964264, 0.2931182384490967, 0.2089211344718933, 0.23952019214630127, 0.41905105113983154, 0.1605387181043625, 0.3796200454235077, -0.015900030732154846, -0.26786181330680847, -0.26431623101234436, -0.2287793904542923, 0.49023404717445374, -0.584400475025177, -0.09772861003875732, 0.17495734989643097, -0.06012739613652229, -0.3365989923477173, -0.3718283176422119, -0.42604199051856995, -0.6221964955329895, -0.454546183347702, -0.35591819882392883, -0.13855817914009094, -0.18700189888477325, 0.6407983899116516, -0.22242550551891327, 0.39744290709495544, 0.10615812987089157, 0.07275747507810593, -0.42074283957481384, 0.12791024148464203, 0.33146199584007263, 0.05175759270787239, -0.18669851124286652, -0.04966790974140167, -0.1946597546339035, -0.2311496138572693, 0.1410643607378006, -0.5106437802314758, -0.31122973561286926, 0.1658991426229477, 0.29692691564559937, -0.42160463333129883, -0.08427625894546509, 0.1524595469236374, 0.927743673324585, -0.2606762945652008, -0.013389505445957184, 0.015973128378391266, 0.014131039381027222, -0.031860992312431335, -0.1472894698381424, 0.1575722098350525, 0.4563200771808624, 0.4913712441921234, -0.16966362297534943, -0.00013711924839299172, -0.5470602512359619, 0.396115779876709, 0.08623918890953064, 0.2286521941423416, 0.20066247880458832, 0.09322696924209595, -0.47487953305244446, -0.3368760049343109, -0.09799624234437943, -0.2090962529182434, -0.10932186990976334, 0.15437795221805573, 0.2895592749118805, -0.40407511591911316, 0.055843938142061234, 0.495436429977417, 0.033037129789590836, -0.09790000319480896, -0.2564734220504761])],\n",
              "      dtype=object)"
            ]
          },
          "metadata": {},
          "execution_count": 242
        }
      ]
    },
    {
      "cell_type": "code",
      "source": [
        "y.shape"
      ],
      "metadata": {
        "colab": {
          "base_uri": "https://localhost:8080/"
        },
        "id": "cr-F_VTTu-20",
        "outputId": "cba6048c-7fcf-47c9-ff54-06f97c6503d7"
      },
      "execution_count": 243,
      "outputs": [
        {
          "output_type": "execute_result",
          "data": {
            "text/plain": [
              "(40000,)"
            ]
          },
          "metadata": {},
          "execution_count": 243
        }
      ]
    },
    {
      "cell_type": "code",
      "source": [
        "np.expand_dims(X[0],axis=-1).shape"
      ],
      "metadata": {
        "colab": {
          "base_uri": "https://localhost:8080/"
        },
        "id": "7-CZT0BQvA8q",
        "outputId": "ccfe18c6-43ef-4f5f-c01e-3a7817f61eec"
      },
      "execution_count": 244,
      "outputs": [
        {
          "output_type": "execute_result",
          "data": {
            "text/plain": [
              "(100, 1)"
            ]
          },
          "metadata": {},
          "execution_count": 244
        }
      ]
    },
    {
      "cell_type": "markdown",
      "metadata": {
        "id": "0NUPBBroKdfW"
      },
      "source": [
        "."
      ]
    },
    {
      "cell_type": "markdown",
      "metadata": {
        "id": "vQ_uu-D8Kdh8"
      },
      "source": [
        "## Bi-directional LSTM RNN "
      ]
    },
    {
      "cell_type": "markdown",
      "metadata": {
        "id": "OB9_UQpFN-iD"
      },
      "source": [
        "Implementing Bi-directional Long short term Memory recurrent neural network "
      ]
    },
    {
      "cell_type": "code",
      "execution_count": 245,
      "metadata": {
        "id": "5XctiZrBJqNu"
      },
      "outputs": [],
      "source": [
        "# Importing the necessary libraries\n",
        "\n",
        "import tensorflow \n",
        "from tensorflow import keras\n",
        "\n",
        "from keras.layers import Dense, Flatten, Input, LSTM, Bidirectional, Embedding, Dropout\n",
        "from keras.models import Model, Sequential"
      ]
    },
    {
      "cell_type": "code",
      "execution_count": 246,
      "metadata": {
        "colab": {
          "base_uri": "https://localhost:8080/"
        },
        "id": "J4KqfHfJdpO0",
        "outputId": "b0f8d901-bcac-4d28-8e6a-c0a8434509cf"
      },
      "outputs": [
        {
          "output_type": "stream",
          "name": "stdout",
          "text": [
            "42763\n"
          ]
        }
      ],
      "source": [
        "# Unique words\n",
        "\n",
        "unique_word_list = []\n",
        "\n",
        "for index in range(len(sentences)):\n",
        "  [unique_word_list.append(w) for w in sentences[index].split()]\n",
        "\n",
        "\n",
        "unique_words = list(set(unique_word_list))\n",
        "\n",
        "print(len(unique_words))"
      ]
    },
    {
      "cell_type": "markdown",
      "metadata": {
        "id": "6NOrUaaodAwy"
      },
      "source": [
        "Sequential API"
      ]
    },
    {
      "cell_type": "code",
      "execution_count": 247,
      "metadata": {
        "colab": {
          "base_uri": "https://localhost:8080/"
        },
        "id": "kxwstlo7fJsR",
        "outputId": "da36af2d-2715-4b47-a323-3c93817f6110"
      },
      "outputs": [
        {
          "output_type": "stream",
          "name": "stdout",
          "text": [
            "13\n"
          ]
        }
      ],
      "source": [
        "classes = len(data['sentiment'].unique())\n",
        "\n",
        "print(classes)"
      ]
    },
    {
      "cell_type": "code",
      "execution_count": 248,
      "metadata": {
        "id": "K2g2mcyJKSQ6"
      },
      "outputs": [],
      "source": [
        "model = Sequential()"
      ]
    },
    {
      "cell_type": "code",
      "execution_count": 249,
      "metadata": {
        "id": "T7kgXjkTORV3"
      },
      "outputs": [],
      "source": [
        "# Model \n",
        "\n",
        "model.add(LSTM(50, return_sequences=True))\n",
        "model.add(Dropout(0.3))\n",
        "model.add(LSTM(50, return_sequences=True))\n",
        "model.add(Dropout(0.3))\n",
        "model.add(Dense(classes, activation='softmax'))"
      ]
    },
    {
      "cell_type": "code",
      "execution_count": 250,
      "metadata": {
        "id": "3eZhk0AXORa-"
      },
      "outputs": [],
      "source": [
        "model.compile(optimizer='adam', loss='binary_crossentropy', metrics=['accuracy'])"
      ]
    },
    {
      "cell_type": "code",
      "source": [
        "model.summary()"
      ],
      "metadata": {
        "colab": {
          "base_uri": "https://localhost:8080/",
          "height": 283
        },
        "id": "cfmjqpbCrO9a",
        "outputId": "405314c2-80e7-4efd-bb65-106778be3966"
      },
      "execution_count": 251,
      "outputs": [
        {
          "output_type": "error",
          "ename": "ValueError",
          "evalue": "ignored",
          "traceback": [
            "\u001b[0;31m---------------------------------------------------------------------------\u001b[0m",
            "\u001b[0;31mValueError\u001b[0m                                Traceback (most recent call last)",
            "\u001b[0;32m<ipython-input-251-5f15418b3570>\u001b[0m in \u001b[0;36m<module>\u001b[0;34m\u001b[0m\n\u001b[0;32m----> 1\u001b[0;31m \u001b[0mmodel\u001b[0m\u001b[0;34m.\u001b[0m\u001b[0msummary\u001b[0m\u001b[0;34m(\u001b[0m\u001b[0;34m)\u001b[0m\u001b[0;34m\u001b[0m\u001b[0;34m\u001b[0m\u001b[0m\n\u001b[0m",
            "\u001b[0;32m/usr/local/lib/python3.7/dist-packages/keras/engine/training.py\u001b[0m in \u001b[0;36msummary\u001b[0;34m(self, line_length, positions, print_fn, expand_nested, show_trainable)\u001b[0m\n\u001b[1;32m   2868\u001b[0m     \u001b[0;32mif\u001b[0m \u001b[0;32mnot\u001b[0m \u001b[0mself\u001b[0m\u001b[0;34m.\u001b[0m\u001b[0mbuilt\u001b[0m\u001b[0;34m:\u001b[0m\u001b[0;34m\u001b[0m\u001b[0;34m\u001b[0m\u001b[0m\n\u001b[1;32m   2869\u001b[0m       raise ValueError(\n\u001b[0;32m-> 2870\u001b[0;31m           \u001b[0;34m'This model has not yet been built. '\u001b[0m\u001b[0;34m\u001b[0m\u001b[0;34m\u001b[0m\u001b[0m\n\u001b[0m\u001b[1;32m   2871\u001b[0m           \u001b[0;34m'Build the model first by calling `build()` or by calling '\u001b[0m\u001b[0;34m\u001b[0m\u001b[0;34m\u001b[0m\u001b[0m\n\u001b[1;32m   2872\u001b[0m           'the model on a batch of data.')\n",
            "\u001b[0;31mValueError\u001b[0m: This model has not yet been built. Build the model first by calling `build()` or by calling the model on a batch of data."
          ]
        }
      ]
    },
    {
      "cell_type": "code",
      "source": [
        "train_X.dtype"
      ],
      "metadata": {
        "colab": {
          "base_uri": "https://localhost:8080/"
        },
        "id": "pPeTRrHjp9ax",
        "outputId": "c679a14e-3846-4219-9d9c-e0363bc93dd2"
      },
      "execution_count": 252,
      "outputs": [
        {
          "output_type": "execute_result",
          "data": {
            "text/plain": [
              "dtype('O')"
            ]
          },
          "metadata": {},
          "execution_count": 252
        }
      ]
    },
    {
      "cell_type": "code",
      "source": [
        "train_X = np.array([np.array(val).astype('float64') for val in train_X])\n",
        "train_y = np.array([np.array(val).astype('float64') for val in train_y])\n",
        "test_X = np.array([np.array(val).astype('float64') for val in test_X])\n",
        "test_y = np.array([np.array(val).astype('float64') for val in test_y])"
      ],
      "metadata": {
        "colab": {
          "base_uri": "https://localhost:8080/"
        },
        "id": "l6g9bCk22RHV",
        "outputId": "0def35cd-8c6b-44f8-82d5-059a625f3ca8"
      },
      "execution_count": 253,
      "outputs": [
        {
          "output_type": "stream",
          "name": "stderr",
          "text": [
            "/usr/local/lib/python3.7/dist-packages/ipykernel_launcher.py:1: VisibleDeprecationWarning: Creating an ndarray from ragged nested sequences (which is a list-or-tuple of lists-or-tuples-or ndarrays with different lengths or shapes) is deprecated. If you meant to do this, you must specify 'dtype=object' when creating the ndarray.\n",
            "  \"\"\"Entry point for launching an IPython kernel.\n",
            "/usr/local/lib/python3.7/dist-packages/ipykernel_launcher.py:3: VisibleDeprecationWarning: Creating an ndarray from ragged nested sequences (which is a list-or-tuple of lists-or-tuples-or ndarrays with different lengths or shapes) is deprecated. If you meant to do this, you must specify 'dtype=object' when creating the ndarray.\n",
            "  This is separate from the ipykernel package so we can avoid doing imports until\n"
          ]
        }
      ]
    },
    {
      "cell_type": "code",
      "execution_count": 255,
      "metadata": {
        "colab": {
          "base_uri": "https://localhost:8080/",
          "height": 307
        },
        "id": "1NZLT5LeORdV",
        "outputId": "729e0b1b-3c11-4118-af7b-b50dca17e921"
      },
      "outputs": [
        {
          "output_type": "error",
          "ename": "ValueError",
          "evalue": "ignored",
          "traceback": [
            "\u001b[0;31m---------------------------------------------------------------------------\u001b[0m",
            "\u001b[0;31mValueError\u001b[0m                                Traceback (most recent call last)",
            "\u001b[0;32m<ipython-input-255-0e8cb93f2c07>\u001b[0m in \u001b[0;36m<module>\u001b[0;34m\u001b[0m\n\u001b[0;32m----> 1\u001b[0;31m \u001b[0mmodel\u001b[0m\u001b[0;34m.\u001b[0m\u001b[0mfit\u001b[0m\u001b[0;34m(\u001b[0m\u001b[0mtrain_X\u001b[0m\u001b[0;34m,\u001b[0m \u001b[0mtrain_y\u001b[0m\u001b[0;34m,\u001b[0m \u001b[0mepochs\u001b[0m\u001b[0;34m=\u001b[0m\u001b[0;36m10\u001b[0m\u001b[0;34m)\u001b[0m\u001b[0;34m\u001b[0m\u001b[0;34m\u001b[0m\u001b[0m\n\u001b[0m",
            "\u001b[0;32m/usr/local/lib/python3.7/dist-packages/keras/utils/traceback_utils.py\u001b[0m in \u001b[0;36merror_handler\u001b[0;34m(*args, **kwargs)\u001b[0m\n\u001b[1;32m     65\u001b[0m     \u001b[0;32mexcept\u001b[0m \u001b[0mException\u001b[0m \u001b[0;32mas\u001b[0m \u001b[0me\u001b[0m\u001b[0;34m:\u001b[0m  \u001b[0;31m# pylint: disable=broad-except\u001b[0m\u001b[0;34m\u001b[0m\u001b[0;34m\u001b[0m\u001b[0m\n\u001b[1;32m     66\u001b[0m       \u001b[0mfiltered_tb\u001b[0m \u001b[0;34m=\u001b[0m \u001b[0m_process_traceback_frames\u001b[0m\u001b[0;34m(\u001b[0m\u001b[0me\u001b[0m\u001b[0;34m.\u001b[0m\u001b[0m__traceback__\u001b[0m\u001b[0;34m)\u001b[0m\u001b[0;34m\u001b[0m\u001b[0;34m\u001b[0m\u001b[0m\n\u001b[0;32m---> 67\u001b[0;31m       \u001b[0;32mraise\u001b[0m \u001b[0me\u001b[0m\u001b[0;34m.\u001b[0m\u001b[0mwith_traceback\u001b[0m\u001b[0;34m(\u001b[0m\u001b[0mfiltered_tb\u001b[0m\u001b[0;34m)\u001b[0m \u001b[0;32mfrom\u001b[0m \u001b[0;32mNone\u001b[0m\u001b[0;34m\u001b[0m\u001b[0;34m\u001b[0m\u001b[0m\n\u001b[0m\u001b[1;32m     68\u001b[0m     \u001b[0;32mfinally\u001b[0m\u001b[0;34m:\u001b[0m\u001b[0;34m\u001b[0m\u001b[0;34m\u001b[0m\u001b[0m\n\u001b[1;32m     69\u001b[0m       \u001b[0;32mdel\u001b[0m \u001b[0mfiltered_tb\u001b[0m\u001b[0;34m\u001b[0m\u001b[0;34m\u001b[0m\u001b[0m\n",
            "\u001b[0;32m/usr/local/lib/python3.7/dist-packages/tensorflow/python/framework/constant_op.py\u001b[0m in \u001b[0;36mconvert_to_eager_tensor\u001b[0;34m(value, ctx, dtype)\u001b[0m\n\u001b[1;32m    100\u001b[0m       \u001b[0mdtype\u001b[0m \u001b[0;34m=\u001b[0m \u001b[0mdtypes\u001b[0m\u001b[0;34m.\u001b[0m\u001b[0mas_dtype\u001b[0m\u001b[0;34m(\u001b[0m\u001b[0mdtype\u001b[0m\u001b[0;34m)\u001b[0m\u001b[0;34m.\u001b[0m\u001b[0mas_datatype_enum\u001b[0m\u001b[0;34m\u001b[0m\u001b[0;34m\u001b[0m\u001b[0m\n\u001b[1;32m    101\u001b[0m   \u001b[0mctx\u001b[0m\u001b[0;34m.\u001b[0m\u001b[0mensure_initialized\u001b[0m\u001b[0;34m(\u001b[0m\u001b[0;34m)\u001b[0m\u001b[0;34m\u001b[0m\u001b[0;34m\u001b[0m\u001b[0m\n\u001b[0;32m--> 102\u001b[0;31m   \u001b[0;32mreturn\u001b[0m \u001b[0mops\u001b[0m\u001b[0;34m.\u001b[0m\u001b[0mEagerTensor\u001b[0m\u001b[0;34m(\u001b[0m\u001b[0mvalue\u001b[0m\u001b[0;34m,\u001b[0m \u001b[0mctx\u001b[0m\u001b[0;34m.\u001b[0m\u001b[0mdevice_name\u001b[0m\u001b[0;34m,\u001b[0m \u001b[0mdtype\u001b[0m\u001b[0;34m)\u001b[0m\u001b[0;34m\u001b[0m\u001b[0;34m\u001b[0m\u001b[0m\n\u001b[0m\u001b[1;32m    103\u001b[0m \u001b[0;34m\u001b[0m\u001b[0m\n\u001b[1;32m    104\u001b[0m \u001b[0;34m\u001b[0m\u001b[0m\n",
            "\u001b[0;31mValueError\u001b[0m: Failed to convert a NumPy array to a Tensor (Unsupported object type numpy.ndarray)."
          ]
        }
      ],
      "source": [
        "model.fit(train_X, train_y, epochs=10)"
      ]
    }
  ],
  "metadata": {
    "colab": {
      "provenance": [],
      "authorship_tag": "ABX9TyPuOQDKbz3KzJJB5vOn9Jp2",
      "include_colab_link": true
    },
    "kernelspec": {
      "display_name": "Python 3",
      "name": "python3"
    },
    "language_info": {
      "name": "python"
    }
  },
  "nbformat": 4,
  "nbformat_minor": 0
}