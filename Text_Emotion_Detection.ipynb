{
  "cells": [
    {
      "cell_type": "markdown",
      "metadata": {
        "id": "view-in-github",
        "colab_type": "text"
      },
      "source": [
        "<a href=\"https://colab.research.google.com/github/abhi-11nav/Text-Emotion-Detection/blob/main/Text_Emotion_Detection.ipynb\" target=\"_parent\"><img src=\"https://colab.research.google.com/assets/colab-badge.svg\" alt=\"Open In Colab\"/></a>"
      ]
    },
    {
      "cell_type": "code",
      "execution_count": 1,
      "metadata": {
        "id": "zofTXg4alSny"
      },
      "outputs": [],
      "source": [
        "# Importing the necessary libraries \n",
        "\n",
        "import pandas as pd\n",
        "import numpy as np "
      ]
    },
    {
      "cell_type": "code",
      "execution_count": 2,
      "metadata": {
        "colab": {
          "base_uri": "https://localhost:8080/"
        },
        "id": "7WhgKucVla2i",
        "outputId": "5b811e2b-b814-4f65-8dc5-f2f1a79ad0a9"
      },
      "outputs": [
        {
          "output_type": "stream",
          "name": "stdout",
          "text": [
            "Cloning into 'Text-Emotion-Detection'...\n",
            "remote: Enumerating objects: 30, done.\u001b[K\n",
            "remote: Counting objects: 100% (30/30), done.\u001b[K\n",
            "remote: Compressing objects: 100% (28/28), done.\u001b[K\n",
            "remote: Total 30 (delta 16), reused 0 (delta 0), pack-reused 0\u001b[K\n",
            "Unpacking objects: 100% (30/30), done.\n"
          ]
        }
      ],
      "source": [
        "# Cloning the github repository \n",
        "\n",
        "!git clone https://github.com/abhi-11nav/Text-Emotion-Detection.git"
      ]
    },
    {
      "cell_type": "code",
      "execution_count": 3,
      "metadata": {
        "id": "hKbC0BeildcI"
      },
      "outputs": [],
      "source": [
        "# Importing data\n",
        "\n",
        "data = pd.read_csv(\"/content/Text-Emotion-Detection/tweet_emotions.csv\")"
      ]
    },
    {
      "cell_type": "code",
      "execution_count": 4,
      "metadata": {
        "colab": {
          "base_uri": "https://localhost:8080/",
          "height": 204
        },
        "id": "Yu8taALUlofD",
        "outputId": "d06fed6e-b6bb-4c3c-8249-1986100fb4f7"
      },
      "outputs": [
        {
          "output_type": "execute_result",
          "data": {
            "text/plain": [
              "     tweet_id   sentiment                                            content\n",
              "0  1956967341       empty  @tiffanylue i know  i was listenin to bad habi...\n",
              "1  1956967666     sadness  Layin n bed with a headache  ughhhh...waitin o...\n",
              "2  1956967696     sadness                Funeral ceremony...gloomy friday...\n",
              "3  1956967789  enthusiasm               wants to hang out with friends SOON!\n",
              "4  1956968416     neutral  @dannycastillo We want to trade with someone w..."
            ],
            "text/html": [
              "\n",
              "  <div id=\"df-cff038dc-c41e-4f17-b1e5-4a408411be10\">\n",
              "    <div class=\"colab-df-container\">\n",
              "      <div>\n",
              "<style scoped>\n",
              "    .dataframe tbody tr th:only-of-type {\n",
              "        vertical-align: middle;\n",
              "    }\n",
              "\n",
              "    .dataframe tbody tr th {\n",
              "        vertical-align: top;\n",
              "    }\n",
              "\n",
              "    .dataframe thead th {\n",
              "        text-align: right;\n",
              "    }\n",
              "</style>\n",
              "<table border=\"1\" class=\"dataframe\">\n",
              "  <thead>\n",
              "    <tr style=\"text-align: right;\">\n",
              "      <th></th>\n",
              "      <th>tweet_id</th>\n",
              "      <th>sentiment</th>\n",
              "      <th>content</th>\n",
              "    </tr>\n",
              "  </thead>\n",
              "  <tbody>\n",
              "    <tr>\n",
              "      <th>0</th>\n",
              "      <td>1956967341</td>\n",
              "      <td>empty</td>\n",
              "      <td>@tiffanylue i know  i was listenin to bad habi...</td>\n",
              "    </tr>\n",
              "    <tr>\n",
              "      <th>1</th>\n",
              "      <td>1956967666</td>\n",
              "      <td>sadness</td>\n",
              "      <td>Layin n bed with a headache  ughhhh...waitin o...</td>\n",
              "    </tr>\n",
              "    <tr>\n",
              "      <th>2</th>\n",
              "      <td>1956967696</td>\n",
              "      <td>sadness</td>\n",
              "      <td>Funeral ceremony...gloomy friday...</td>\n",
              "    </tr>\n",
              "    <tr>\n",
              "      <th>3</th>\n",
              "      <td>1956967789</td>\n",
              "      <td>enthusiasm</td>\n",
              "      <td>wants to hang out with friends SOON!</td>\n",
              "    </tr>\n",
              "    <tr>\n",
              "      <th>4</th>\n",
              "      <td>1956968416</td>\n",
              "      <td>neutral</td>\n",
              "      <td>@dannycastillo We want to trade with someone w...</td>\n",
              "    </tr>\n",
              "  </tbody>\n",
              "</table>\n",
              "</div>\n",
              "      <button class=\"colab-df-convert\" onclick=\"convertToInteractive('df-cff038dc-c41e-4f17-b1e5-4a408411be10')\"\n",
              "              title=\"Convert this dataframe to an interactive table.\"\n",
              "              style=\"display:none;\">\n",
              "        \n",
              "  <svg xmlns=\"http://www.w3.org/2000/svg\" height=\"24px\"viewBox=\"0 0 24 24\"\n",
              "       width=\"24px\">\n",
              "    <path d=\"M0 0h24v24H0V0z\" fill=\"none\"/>\n",
              "    <path d=\"M18.56 5.44l.94 2.06.94-2.06 2.06-.94-2.06-.94-.94-2.06-.94 2.06-2.06.94zm-11 1L8.5 8.5l.94-2.06 2.06-.94-2.06-.94L8.5 2.5l-.94 2.06-2.06.94zm10 10l.94 2.06.94-2.06 2.06-.94-2.06-.94-.94-2.06-.94 2.06-2.06.94z\"/><path d=\"M17.41 7.96l-1.37-1.37c-.4-.4-.92-.59-1.43-.59-.52 0-1.04.2-1.43.59L10.3 9.45l-7.72 7.72c-.78.78-.78 2.05 0 2.83L4 21.41c.39.39.9.59 1.41.59.51 0 1.02-.2 1.41-.59l7.78-7.78 2.81-2.81c.8-.78.8-2.07 0-2.86zM5.41 20L4 18.59l7.72-7.72 1.47 1.35L5.41 20z\"/>\n",
              "  </svg>\n",
              "      </button>\n",
              "      \n",
              "  <style>\n",
              "    .colab-df-container {\n",
              "      display:flex;\n",
              "      flex-wrap:wrap;\n",
              "      gap: 12px;\n",
              "    }\n",
              "\n",
              "    .colab-df-convert {\n",
              "      background-color: #E8F0FE;\n",
              "      border: none;\n",
              "      border-radius: 50%;\n",
              "      cursor: pointer;\n",
              "      display: none;\n",
              "      fill: #1967D2;\n",
              "      height: 32px;\n",
              "      padding: 0 0 0 0;\n",
              "      width: 32px;\n",
              "    }\n",
              "\n",
              "    .colab-df-convert:hover {\n",
              "      background-color: #E2EBFA;\n",
              "      box-shadow: 0px 1px 2px rgba(60, 64, 67, 0.3), 0px 1px 3px 1px rgba(60, 64, 67, 0.15);\n",
              "      fill: #174EA6;\n",
              "    }\n",
              "\n",
              "    [theme=dark] .colab-df-convert {\n",
              "      background-color: #3B4455;\n",
              "      fill: #D2E3FC;\n",
              "    }\n",
              "\n",
              "    [theme=dark] .colab-df-convert:hover {\n",
              "      background-color: #434B5C;\n",
              "      box-shadow: 0px 1px 3px 1px rgba(0, 0, 0, 0.15);\n",
              "      filter: drop-shadow(0px 1px 2px rgba(0, 0, 0, 0.3));\n",
              "      fill: #FFFFFF;\n",
              "    }\n",
              "  </style>\n",
              "\n",
              "      <script>\n",
              "        const buttonEl =\n",
              "          document.querySelector('#df-cff038dc-c41e-4f17-b1e5-4a408411be10 button.colab-df-convert');\n",
              "        buttonEl.style.display =\n",
              "          google.colab.kernel.accessAllowed ? 'block' : 'none';\n",
              "\n",
              "        async function convertToInteractive(key) {\n",
              "          const element = document.querySelector('#df-cff038dc-c41e-4f17-b1e5-4a408411be10');\n",
              "          const dataTable =\n",
              "            await google.colab.kernel.invokeFunction('convertToInteractive',\n",
              "                                                     [key], {});\n",
              "          if (!dataTable) return;\n",
              "\n",
              "          const docLinkHtml = 'Like what you see? Visit the ' +\n",
              "            '<a target=\"_blank\" href=https://colab.research.google.com/notebooks/data_table.ipynb>data table notebook</a>'\n",
              "            + ' to learn more about interactive tables.';\n",
              "          element.innerHTML = '';\n",
              "          dataTable['output_type'] = 'display_data';\n",
              "          await google.colab.output.renderOutput(dataTable, element);\n",
              "          const docLink = document.createElement('div');\n",
              "          docLink.innerHTML = docLinkHtml;\n",
              "          element.appendChild(docLink);\n",
              "        }\n",
              "      </script>\n",
              "    </div>\n",
              "  </div>\n",
              "  "
            ]
          },
          "metadata": {},
          "execution_count": 4
        }
      ],
      "source": [
        "data.head()"
      ]
    },
    {
      "cell_type": "code",
      "execution_count": 5,
      "metadata": {
        "id": "TIUmyCIAmA-_"
      },
      "outputs": [],
      "source": [
        "# Let us drop the tweet id\n",
        "\n",
        "data.drop(\"tweet_id\", axis=1, inplace=True)"
      ]
    },
    {
      "cell_type": "code",
      "execution_count": 6,
      "metadata": {
        "colab": {
          "base_uri": "https://localhost:8080/",
          "height": 204
        },
        "id": "uIDRz4D-mJXk",
        "outputId": "1b234311-5249-4755-cefd-3184a9e67efd"
      },
      "outputs": [
        {
          "output_type": "execute_result",
          "data": {
            "text/plain": [
              "    sentiment                                            content\n",
              "0       empty  @tiffanylue i know  i was listenin to bad habi...\n",
              "1     sadness  Layin n bed with a headache  ughhhh...waitin o...\n",
              "2     sadness                Funeral ceremony...gloomy friday...\n",
              "3  enthusiasm               wants to hang out with friends SOON!\n",
              "4     neutral  @dannycastillo We want to trade with someone w..."
            ],
            "text/html": [
              "\n",
              "  <div id=\"df-77654056-91da-4916-ac21-b000b2a4c902\">\n",
              "    <div class=\"colab-df-container\">\n",
              "      <div>\n",
              "<style scoped>\n",
              "    .dataframe tbody tr th:only-of-type {\n",
              "        vertical-align: middle;\n",
              "    }\n",
              "\n",
              "    .dataframe tbody tr th {\n",
              "        vertical-align: top;\n",
              "    }\n",
              "\n",
              "    .dataframe thead th {\n",
              "        text-align: right;\n",
              "    }\n",
              "</style>\n",
              "<table border=\"1\" class=\"dataframe\">\n",
              "  <thead>\n",
              "    <tr style=\"text-align: right;\">\n",
              "      <th></th>\n",
              "      <th>sentiment</th>\n",
              "      <th>content</th>\n",
              "    </tr>\n",
              "  </thead>\n",
              "  <tbody>\n",
              "    <tr>\n",
              "      <th>0</th>\n",
              "      <td>empty</td>\n",
              "      <td>@tiffanylue i know  i was listenin to bad habi...</td>\n",
              "    </tr>\n",
              "    <tr>\n",
              "      <th>1</th>\n",
              "      <td>sadness</td>\n",
              "      <td>Layin n bed with a headache  ughhhh...waitin o...</td>\n",
              "    </tr>\n",
              "    <tr>\n",
              "      <th>2</th>\n",
              "      <td>sadness</td>\n",
              "      <td>Funeral ceremony...gloomy friday...</td>\n",
              "    </tr>\n",
              "    <tr>\n",
              "      <th>3</th>\n",
              "      <td>enthusiasm</td>\n",
              "      <td>wants to hang out with friends SOON!</td>\n",
              "    </tr>\n",
              "    <tr>\n",
              "      <th>4</th>\n",
              "      <td>neutral</td>\n",
              "      <td>@dannycastillo We want to trade with someone w...</td>\n",
              "    </tr>\n",
              "  </tbody>\n",
              "</table>\n",
              "</div>\n",
              "      <button class=\"colab-df-convert\" onclick=\"convertToInteractive('df-77654056-91da-4916-ac21-b000b2a4c902')\"\n",
              "              title=\"Convert this dataframe to an interactive table.\"\n",
              "              style=\"display:none;\">\n",
              "        \n",
              "  <svg xmlns=\"http://www.w3.org/2000/svg\" height=\"24px\"viewBox=\"0 0 24 24\"\n",
              "       width=\"24px\">\n",
              "    <path d=\"M0 0h24v24H0V0z\" fill=\"none\"/>\n",
              "    <path d=\"M18.56 5.44l.94 2.06.94-2.06 2.06-.94-2.06-.94-.94-2.06-.94 2.06-2.06.94zm-11 1L8.5 8.5l.94-2.06 2.06-.94-2.06-.94L8.5 2.5l-.94 2.06-2.06.94zm10 10l.94 2.06.94-2.06 2.06-.94-2.06-.94-.94-2.06-.94 2.06-2.06.94z\"/><path d=\"M17.41 7.96l-1.37-1.37c-.4-.4-.92-.59-1.43-.59-.52 0-1.04.2-1.43.59L10.3 9.45l-7.72 7.72c-.78.78-.78 2.05 0 2.83L4 21.41c.39.39.9.59 1.41.59.51 0 1.02-.2 1.41-.59l7.78-7.78 2.81-2.81c.8-.78.8-2.07 0-2.86zM5.41 20L4 18.59l7.72-7.72 1.47 1.35L5.41 20z\"/>\n",
              "  </svg>\n",
              "      </button>\n",
              "      \n",
              "  <style>\n",
              "    .colab-df-container {\n",
              "      display:flex;\n",
              "      flex-wrap:wrap;\n",
              "      gap: 12px;\n",
              "    }\n",
              "\n",
              "    .colab-df-convert {\n",
              "      background-color: #E8F0FE;\n",
              "      border: none;\n",
              "      border-radius: 50%;\n",
              "      cursor: pointer;\n",
              "      display: none;\n",
              "      fill: #1967D2;\n",
              "      height: 32px;\n",
              "      padding: 0 0 0 0;\n",
              "      width: 32px;\n",
              "    }\n",
              "\n",
              "    .colab-df-convert:hover {\n",
              "      background-color: #E2EBFA;\n",
              "      box-shadow: 0px 1px 2px rgba(60, 64, 67, 0.3), 0px 1px 3px 1px rgba(60, 64, 67, 0.15);\n",
              "      fill: #174EA6;\n",
              "    }\n",
              "\n",
              "    [theme=dark] .colab-df-convert {\n",
              "      background-color: #3B4455;\n",
              "      fill: #D2E3FC;\n",
              "    }\n",
              "\n",
              "    [theme=dark] .colab-df-convert:hover {\n",
              "      background-color: #434B5C;\n",
              "      box-shadow: 0px 1px 3px 1px rgba(0, 0, 0, 0.15);\n",
              "      filter: drop-shadow(0px 1px 2px rgba(0, 0, 0, 0.3));\n",
              "      fill: #FFFFFF;\n",
              "    }\n",
              "  </style>\n",
              "\n",
              "      <script>\n",
              "        const buttonEl =\n",
              "          document.querySelector('#df-77654056-91da-4916-ac21-b000b2a4c902 button.colab-df-convert');\n",
              "        buttonEl.style.display =\n",
              "          google.colab.kernel.accessAllowed ? 'block' : 'none';\n",
              "\n",
              "        async function convertToInteractive(key) {\n",
              "          const element = document.querySelector('#df-77654056-91da-4916-ac21-b000b2a4c902');\n",
              "          const dataTable =\n",
              "            await google.colab.kernel.invokeFunction('convertToInteractive',\n",
              "                                                     [key], {});\n",
              "          if (!dataTable) return;\n",
              "\n",
              "          const docLinkHtml = 'Like what you see? Visit the ' +\n",
              "            '<a target=\"_blank\" href=https://colab.research.google.com/notebooks/data_table.ipynb>data table notebook</a>'\n",
              "            + ' to learn more about interactive tables.';\n",
              "          element.innerHTML = '';\n",
              "          dataTable['output_type'] = 'display_data';\n",
              "          await google.colab.output.renderOutput(dataTable, element);\n",
              "          const docLink = document.createElement('div');\n",
              "          docLink.innerHTML = docLinkHtml;\n",
              "          element.appendChild(docLink);\n",
              "        }\n",
              "      </script>\n",
              "    </div>\n",
              "  </div>\n",
              "  "
            ]
          },
          "metadata": {},
          "execution_count": 6
        }
      ],
      "source": [
        "data.head()"
      ]
    },
    {
      "cell_type": "code",
      "execution_count": 7,
      "metadata": {
        "colab": {
          "base_uri": "https://localhost:8080/"
        },
        "id": "CeEFLErwmZxK",
        "outputId": "5619a48b-edfe-4bdd-8e1a-8749654328fb"
      },
      "outputs": [
        {
          "output_type": "execute_result",
          "data": {
            "text/plain": [
              "sentiment    False\n",
              "content      False\n",
              "dtype: bool"
            ]
          },
          "metadata": {},
          "execution_count": 7
        }
      ],
      "source": [
        "# Let us check if the tweet has any missing values \n",
        "\n",
        "data.isna().any()"
      ]
    },
    {
      "cell_type": "markdown",
      "metadata": {
        "id": "syZBYwVdmubC"
      },
      "source": [
        "No missing values"
      ]
    },
    {
      "cell_type": "code",
      "execution_count": 8,
      "metadata": {
        "colab": {
          "base_uri": "https://localhost:8080/"
        },
        "id": "cLiURfjqmszA",
        "outputId": "e94b8dd5-e5ef-42cc-ef7c-8b55aa9af625"
      },
      "outputs": [
        {
          "output_type": "execute_result",
          "data": {
            "text/plain": [
              "neutral       8638\n",
              "worry         8459\n",
              "happiness     5209\n",
              "sadness       5165\n",
              "love          3842\n",
              "surprise      2187\n",
              "fun           1776\n",
              "relief        1526\n",
              "hate          1323\n",
              "empty          827\n",
              "enthusiasm     759\n",
              "boredom        179\n",
              "anger          110\n",
              "Name: sentiment, dtype: int64"
            ]
          },
          "metadata": {},
          "execution_count": 8
        }
      ],
      "source": [
        "# Let us check the number of categories in sentiment variable\n",
        "\n",
        "data['sentiment'].value_counts()"
      ]
    },
    {
      "cell_type": "markdown",
      "metadata": {
        "id": "xRYV6lDBnsw7"
      },
      "source": [
        "The data seems imbalanced. Let us deal with it after a bit"
      ]
    },
    {
      "cell_type": "code",
      "execution_count": 9,
      "metadata": {
        "colab": {
          "base_uri": "https://localhost:8080/",
          "height": 37
        },
        "id": "4ITV_GjAnT70",
        "outputId": "02ac5dc6-0cac-4d3a-ee6b-9afec7d32832"
      },
      "outputs": [
        {
          "output_type": "execute_result",
          "data": {
            "text/plain": [
              "'@tiffanylue i know  i was listenin to bad habit earlier and i started freakin at his part =['"
            ],
            "application/vnd.google.colaboratory.intrinsic+json": {
              "type": "string"
            }
          },
          "metadata": {},
          "execution_count": 9
        }
      ],
      "source": [
        "# Let us look at the sentences\n",
        "\n",
        "data['content'][0]"
      ]
    },
    {
      "cell_type": "code",
      "execution_count": 10,
      "metadata": {
        "colab": {
          "base_uri": "https://localhost:8080/",
          "height": 37
        },
        "id": "LqKVBAqVoMhn",
        "outputId": "b9f72511-3403-494b-8ed5-0dd4f59d3c99"
      },
      "outputs": [
        {
          "output_type": "execute_result",
          "data": {
            "text/plain": [
              "'Layin n bed with a headache  ughhhh...waitin on your call...'"
            ],
            "application/vnd.google.colaboratory.intrinsic+json": {
              "type": "string"
            }
          },
          "metadata": {},
          "execution_count": 10
        }
      ],
      "source": [
        "data['content'][1]"
      ]
    },
    {
      "cell_type": "markdown",
      "metadata": {
        "id": "j9VKL5TVpDiw"
      },
      "source": [
        "Text Preprocessing"
      ]
    },
    {
      "cell_type": "code",
      "execution_count": 11,
      "metadata": {
        "colab": {
          "base_uri": "https://localhost:8080/"
        },
        "id": "eMD6rP6Hr_xt",
        "outputId": "20ee86a4-4b0b-4357-db6f-710bc7b3c47c"
      },
      "outputs": [
        {
          "output_type": "stream",
          "name": "stderr",
          "text": [
            "[nltk_data] Downloading package stopwords to /root/nltk_data...\n",
            "[nltk_data]   Unzipping corpora/stopwords.zip.\n",
            "[nltk_data] Downloading package wordnet to /root/nltk_data...\n",
            "[nltk_data] Downloading package omw-1.4 to /root/nltk_data...\n"
          ]
        }
      ],
      "source": [
        "# Importing libraries\n",
        "\n",
        "import re \n",
        "\n",
        "import nltk \n",
        "from nltk.stem import WordNetLemmatizer\n",
        "from nltk.corpus import stopwords\n",
        "\n",
        "nltk.download('stopwords')\n",
        "nltk.download('wordnet')\n",
        "nltk.download('omw-1.4')\n",
        "\n",
        "lemmatizer = WordNetLemmatizer()"
      ]
    },
    {
      "cell_type": "code",
      "execution_count": 12,
      "metadata": {
        "id": "hG_T2DWSo925"
      },
      "outputs": [],
      "source": [
        "def text_preprocess(dataset,list_name):\n",
        "  \n",
        "  for i in range(dataset.shape[0]):\n",
        "    list_name.append(re.sub('[^a-zA-Z]',' ',str(dataset.iloc[i,1])))\n",
        "\n",
        "  print(\"Number and other symbols eliminated from the text\")\n",
        "\n",
        "  # String spacing \n",
        "  for x in range(len(list_name)):\n",
        "    list_name[x] = \" \".join(y for y in str(list_name[x]).split()).lower()\n",
        "\n",
        "  print(\"Text reorganized and converted to small letter\")\n",
        "  \n",
        "  for index in range(len(list_name)):\n",
        "    temp_list= []\n",
        "    # Lemmatization\n",
        "    for word in list_name[index].split():\n",
        "      if word not in stopwords.words('english'):\n",
        "        temp_list.append(word)\n",
        "    list_name[index] = \" \".join(lemmatizer.lemmatize(words) for words in temp_list )"
      ]
    },
    {
      "cell_type": "code",
      "execution_count": 13,
      "metadata": {
        "colab": {
          "base_uri": "https://localhost:8080/"
        },
        "id": "kiOLAlRoo952",
        "outputId": "3a816ca4-bc43-4801-c814-20889bee2165"
      },
      "outputs": [
        {
          "output_type": "stream",
          "name": "stdout",
          "text": [
            "Number and other symbols eliminated from the text\n",
            "Text reorganized and converted to small letter\n"
          ]
        }
      ],
      "source": [
        "sentences = []\n",
        "\n",
        "text_preprocess(data,sentences)"
      ]
    },
    {
      "cell_type": "code",
      "source": [
        "p_data = pd.concat([pd.DataFrame(np.array(sentences), columns=[\"Content\"]), data['sentiment']], axis=1)"
      ],
      "metadata": {
        "id": "rFIZ0Mdz5f6s"
      },
      "execution_count": 14,
      "outputs": []
    },
    {
      "cell_type": "markdown",
      "source": [
        "Applying one hot encoding '"
      ],
      "metadata": {
        "id": "dtZwnMj55q_c"
      }
    },
    {
      "cell_type": "code",
      "source": [
        "from keras.preprocessing.text import one_hot"
      ],
      "metadata": {
        "id": "JDhVeYD15pGE"
      },
      "execution_count": 15,
      "outputs": []
    },
    {
      "cell_type": "code",
      "source": [
        "p_data.head()"
      ],
      "metadata": {
        "colab": {
          "base_uri": "https://localhost:8080/",
          "height": 204
        },
        "id": "F60GyyZe5pJP",
        "outputId": "3c90138d-4f87-439f-b503-aa64c9758037"
      },
      "execution_count": 16,
      "outputs": [
        {
          "output_type": "execute_result",
          "data": {
            "text/plain": [
              "                                             Content   sentiment\n",
              "0  tiffanylue know listenin bad habit earlier sta...       empty\n",
              "1            layin n bed headache ughhhh waitin call     sadness\n",
              "2                     funeral ceremony gloomy friday     sadness\n",
              "3                              want hang friend soon  enthusiasm\n",
              "4  dannycastillo want trade someone houston ticke...     neutral"
            ],
            "text/html": [
              "\n",
              "  <div id=\"df-12c4f6f4-4226-4021-bc77-b4fd685025fd\">\n",
              "    <div class=\"colab-df-container\">\n",
              "      <div>\n",
              "<style scoped>\n",
              "    .dataframe tbody tr th:only-of-type {\n",
              "        vertical-align: middle;\n",
              "    }\n",
              "\n",
              "    .dataframe tbody tr th {\n",
              "        vertical-align: top;\n",
              "    }\n",
              "\n",
              "    .dataframe thead th {\n",
              "        text-align: right;\n",
              "    }\n",
              "</style>\n",
              "<table border=\"1\" class=\"dataframe\">\n",
              "  <thead>\n",
              "    <tr style=\"text-align: right;\">\n",
              "      <th></th>\n",
              "      <th>Content</th>\n",
              "      <th>sentiment</th>\n",
              "    </tr>\n",
              "  </thead>\n",
              "  <tbody>\n",
              "    <tr>\n",
              "      <th>0</th>\n",
              "      <td>tiffanylue know listenin bad habit earlier sta...</td>\n",
              "      <td>empty</td>\n",
              "    </tr>\n",
              "    <tr>\n",
              "      <th>1</th>\n",
              "      <td>layin n bed headache ughhhh waitin call</td>\n",
              "      <td>sadness</td>\n",
              "    </tr>\n",
              "    <tr>\n",
              "      <th>2</th>\n",
              "      <td>funeral ceremony gloomy friday</td>\n",
              "      <td>sadness</td>\n",
              "    </tr>\n",
              "    <tr>\n",
              "      <th>3</th>\n",
              "      <td>want hang friend soon</td>\n",
              "      <td>enthusiasm</td>\n",
              "    </tr>\n",
              "    <tr>\n",
              "      <th>4</th>\n",
              "      <td>dannycastillo want trade someone houston ticke...</td>\n",
              "      <td>neutral</td>\n",
              "    </tr>\n",
              "  </tbody>\n",
              "</table>\n",
              "</div>\n",
              "      <button class=\"colab-df-convert\" onclick=\"convertToInteractive('df-12c4f6f4-4226-4021-bc77-b4fd685025fd')\"\n",
              "              title=\"Convert this dataframe to an interactive table.\"\n",
              "              style=\"display:none;\">\n",
              "        \n",
              "  <svg xmlns=\"http://www.w3.org/2000/svg\" height=\"24px\"viewBox=\"0 0 24 24\"\n",
              "       width=\"24px\">\n",
              "    <path d=\"M0 0h24v24H0V0z\" fill=\"none\"/>\n",
              "    <path d=\"M18.56 5.44l.94 2.06.94-2.06 2.06-.94-2.06-.94-.94-2.06-.94 2.06-2.06.94zm-11 1L8.5 8.5l.94-2.06 2.06-.94-2.06-.94L8.5 2.5l-.94 2.06-2.06.94zm10 10l.94 2.06.94-2.06 2.06-.94-2.06-.94-.94-2.06-.94 2.06-2.06.94z\"/><path d=\"M17.41 7.96l-1.37-1.37c-.4-.4-.92-.59-1.43-.59-.52 0-1.04.2-1.43.59L10.3 9.45l-7.72 7.72c-.78.78-.78 2.05 0 2.83L4 21.41c.39.39.9.59 1.41.59.51 0 1.02-.2 1.41-.59l7.78-7.78 2.81-2.81c.8-.78.8-2.07 0-2.86zM5.41 20L4 18.59l7.72-7.72 1.47 1.35L5.41 20z\"/>\n",
              "  </svg>\n",
              "      </button>\n",
              "      \n",
              "  <style>\n",
              "    .colab-df-container {\n",
              "      display:flex;\n",
              "      flex-wrap:wrap;\n",
              "      gap: 12px;\n",
              "    }\n",
              "\n",
              "    .colab-df-convert {\n",
              "      background-color: #E8F0FE;\n",
              "      border: none;\n",
              "      border-radius: 50%;\n",
              "      cursor: pointer;\n",
              "      display: none;\n",
              "      fill: #1967D2;\n",
              "      height: 32px;\n",
              "      padding: 0 0 0 0;\n",
              "      width: 32px;\n",
              "    }\n",
              "\n",
              "    .colab-df-convert:hover {\n",
              "      background-color: #E2EBFA;\n",
              "      box-shadow: 0px 1px 2px rgba(60, 64, 67, 0.3), 0px 1px 3px 1px rgba(60, 64, 67, 0.15);\n",
              "      fill: #174EA6;\n",
              "    }\n",
              "\n",
              "    [theme=dark] .colab-df-convert {\n",
              "      background-color: #3B4455;\n",
              "      fill: #D2E3FC;\n",
              "    }\n",
              "\n",
              "    [theme=dark] .colab-df-convert:hover {\n",
              "      background-color: #434B5C;\n",
              "      box-shadow: 0px 1px 3px 1px rgba(0, 0, 0, 0.15);\n",
              "      filter: drop-shadow(0px 1px 2px rgba(0, 0, 0, 0.3));\n",
              "      fill: #FFFFFF;\n",
              "    }\n",
              "  </style>\n",
              "\n",
              "      <script>\n",
              "        const buttonEl =\n",
              "          document.querySelector('#df-12c4f6f4-4226-4021-bc77-b4fd685025fd button.colab-df-convert');\n",
              "        buttonEl.style.display =\n",
              "          google.colab.kernel.accessAllowed ? 'block' : 'none';\n",
              "\n",
              "        async function convertToInteractive(key) {\n",
              "          const element = document.querySelector('#df-12c4f6f4-4226-4021-bc77-b4fd685025fd');\n",
              "          const dataTable =\n",
              "            await google.colab.kernel.invokeFunction('convertToInteractive',\n",
              "                                                     [key], {});\n",
              "          if (!dataTable) return;\n",
              "\n",
              "          const docLinkHtml = 'Like what you see? Visit the ' +\n",
              "            '<a target=\"_blank\" href=https://colab.research.google.com/notebooks/data_table.ipynb>data table notebook</a>'\n",
              "            + ' to learn more about interactive tables.';\n",
              "          element.innerHTML = '';\n",
              "          dataTable['output_type'] = 'display_data';\n",
              "          await google.colab.output.renderOutput(dataTable, element);\n",
              "          const docLink = document.createElement('div');\n",
              "          docLink.innerHTML = docLinkHtml;\n",
              "          element.appendChild(docLink);\n",
              "        }\n",
              "      </script>\n",
              "    </div>\n",
              "  </div>\n",
              "  "
            ]
          },
          "metadata": {},
          "execution_count": 16
        }
      ]
    },
    {
      "cell_type": "code",
      "source": [
        "# List conatining sentences\n",
        "\n",
        "sentences = [sent for sent in p_data[\"Content\"]]"
      ],
      "metadata": {
        "id": "HjGQSxno6zjs"
      },
      "execution_count": 17,
      "outputs": []
    },
    {
      "cell_type": "code",
      "source": [
        "# Unique words\n",
        "\n",
        "unique_word_list = []\n",
        "\n",
        "for index in range(len(sentences)):\n",
        "  [unique_word_list.append(w) for w in sentences[index].split()]\n",
        "\n",
        "\n",
        "unique_words = list(set(unique_word_list))\n",
        "\n",
        "print(len(unique_words))"
      ],
      "metadata": {
        "colab": {
          "base_uri": "https://localhost:8080/"
        },
        "id": "_gCVlTw85pME",
        "outputId": "5529bde0-1b7b-4fc0-ee24-bbac1f126262"
      },
      "execution_count": 18,
      "outputs": [
        {
          "output_type": "stream",
          "name": "stdout",
          "text": [
            "42763\n"
          ]
        }
      ]
    },
    {
      "cell_type": "code",
      "source": [
        "# Vocabulary_size \n",
        "\n",
        "vocab_size = len(unique_words)"
      ],
      "metadata": {
        "id": "66jByVww6hVi"
      },
      "execution_count": 19,
      "outputs": []
    },
    {
      "cell_type": "code",
      "source": [
        "one_hot_encoder = [one_hot(words, vocab_size) for words in sentences]"
      ],
      "metadata": {
        "id": "k3NdRxto6hYK"
      },
      "execution_count": 20,
      "outputs": []
    },
    {
      "cell_type": "code",
      "source": [
        "one_hot_encoder[0]"
      ],
      "metadata": {
        "colab": {
          "base_uri": "https://localhost:8080/"
        },
        "id": "lO94Fpr96hdE",
        "outputId": "662fceaf-db0f-4c0b-e23f-fda7fb0dfd9d"
      },
      "execution_count": 21,
      "outputs": [
        {
          "output_type": "execute_result",
          "data": {
            "text/plain": [
              "[37387, 32288, 33984, 12232, 17768, 4014, 42550, 34624, 26440]"
            ]
          },
          "metadata": {},
          "execution_count": 21
        }
      ]
    },
    {
      "cell_type": "markdown",
      "source": [
        "Padding"
      ],
      "metadata": {
        "id": "Ww__8k1L70kX"
      }
    },
    {
      "cell_type": "code",
      "source": [
        "import tensorflow\n",
        "from tensorflow import keras \n",
        "from tensorflow.keras.preprocessing.sequence import pad_sequences"
      ],
      "metadata": {
        "id": "XGLyqS8S6hgn"
      },
      "execution_count": 37,
      "outputs": []
    },
    {
      "cell_type": "code",
      "source": [
        "# Finidng the sentence with maximum length\n",
        "\n",
        "max_length = 0\n",
        "\n",
        "for sent in sentences:\n",
        "  if len(sent) > max_length:\n",
        "    max_length = len(sent)"
      ],
      "metadata": {
        "id": "LtF41jcS6hjz"
      },
      "execution_count": 38,
      "outputs": []
    },
    {
      "cell_type": "code",
      "source": [
        "max_length"
      ],
      "metadata": {
        "colab": {
          "base_uri": "https://localhost:8080/"
        },
        "id": "YiHYk52C6hl6",
        "outputId": "28522339-1fb3-41bc-9c61-99b85986e8cd"
      },
      "execution_count": 39,
      "outputs": [
        {
          "output_type": "execute_result",
          "data": {
            "text/plain": [
              "133"
            ]
          },
          "metadata": {},
          "execution_count": 39
        }
      ]
    },
    {
      "cell_type": "code",
      "source": [
        "embedded_docs = pad_sequences(one_hot_encoder, padding='pre', maxlen=max_length)"
      ],
      "metadata": {
        "id": "JbXWUakf6hpH"
      },
      "execution_count": 40,
      "outputs": []
    },
    {
      "cell_type": "code",
      "source": [
        "embedded_docs[0]"
      ],
      "metadata": {
        "colab": {
          "base_uri": "https://localhost:8080/"
        },
        "id": "GTkZ8QxF6hrH",
        "outputId": "0f636f7d-69d6-45ef-c06d-9abc1d69475e"
      },
      "execution_count": 41,
      "outputs": [
        {
          "output_type": "execute_result",
          "data": {
            "text/plain": [
              "array([    0,     0,     0,     0,     0,     0,     0,     0,     0,\n",
              "           0,     0,     0,     0,     0,     0,     0,     0,     0,\n",
              "           0,     0,     0,     0,     0,     0,     0,     0,     0,\n",
              "           0,     0,     0,     0,     0,     0,     0,     0,     0,\n",
              "           0,     0,     0,     0,     0,     0,     0,     0,     0,\n",
              "           0,     0,     0,     0,     0,     0,     0,     0,     0,\n",
              "           0,     0,     0,     0,     0,     0,     0,     0,     0,\n",
              "           0,     0,     0,     0,     0,     0,     0,     0,     0,\n",
              "           0,     0,     0,     0,     0,     0,     0,     0,     0,\n",
              "           0,     0,     0,     0,     0,     0,     0,     0,     0,\n",
              "           0,     0,     0,     0,     0,     0,     0,     0,     0,\n",
              "           0,     0,     0,     0,     0,     0,     0,     0,     0,\n",
              "           0,     0,     0,     0,     0,     0,     0,     0,     0,\n",
              "           0,     0,     0,     0,     0,     0,     0, 37387, 32288,\n",
              "       33984, 12232, 17768,  4014, 42550, 34624, 26440], dtype=int32)"
            ]
          },
          "metadata": {},
          "execution_count": 41
        }
      ]
    },
    {
      "cell_type": "markdown",
      "source": [
        "Converting values into vector features"
      ],
      "metadata": {
        "id": "VDlpHgY_-njF"
      }
    },
    {
      "cell_type": "code",
      "source": [
        "from keras.layers import Embedding, LSTM, Dense, Dropout\n",
        "from keras.models import Model, Sequential"
      ],
      "metadata": {
        "id": "QLDUCzf1-9sA"
      },
      "execution_count": 42,
      "outputs": []
    },
    {
      "cell_type": "code",
      "source": [
        "vector_dimension = 50"
      ],
      "metadata": {
        "id": "ZA-mmVyp6huY"
      },
      "execution_count": 43,
      "outputs": []
    },
    {
      "cell_type": "code",
      "source": [
        "model = Sequential()"
      ],
      "metadata": {
        "id": "lxb1Bn9J6hx2"
      },
      "execution_count": 44,
      "outputs": []
    },
    {
      "cell_type": "markdown",
      "source": [
        "Embedding layer and LSTM RNN Model"
      ],
      "metadata": {
        "id": "aXmL0-daK_uV"
      }
    },
    {
      "cell_type": "code",
      "source": [
        "model.add(Embedding(vocab_size, output_dim = vector_dimension,input_length=max_length))\n",
        "model.add(LSTM(100))\n",
        "model.add(Dropout(0.1))\n",
        "model.add(Dense(13, activation='softmax'))\n",
        "\n",
        "model.compile(optimizer='adam', loss='categorical_crossentropy', metrics='accuracy')"
      ],
      "metadata": {
        "id": "6WvluKAp6hz0"
      },
      "execution_count": 46,
      "outputs": []
    },
    {
      "cell_type": "code",
      "source": [
        "from keras.callbacks import EarlyStopping\n",
        "\n",
        "checkpoint = EarlyStopping(patience = 20)"
      ],
      "metadata": {
        "id": "hZYxZtt_jy4q"
      },
      "execution_count": 59,
      "outputs": []
    },
    {
      "cell_type": "code",
      "source": [
        "history = model.fit(embedded_docs, y, validation_split=0.15, epochs = 100,callbacks=checkpoint)"
      ],
      "metadata": {
        "colab": {
          "base_uri": "https://localhost:8080/"
        },
        "id": "z7SfPZa4jhax",
        "outputId": "76017393-beb0-4fc4-a1f3-471fe127108f"
      },
      "execution_count": 62,
      "outputs": [
        {
          "output_type": "stream",
          "name": "stdout",
          "text": [
            "Epoch 1/100\n"
          ]
        },
        {
          "output_type": "stream",
          "name": "stderr",
          "text": [
            "WARNING:tensorflow:Gradients do not exist for variables ['embedding_1/embeddings:0', 'lstm_2/lstm_cell_2/kernel:0', 'lstm_2/lstm_cell_2/recurrent_kernel:0', 'lstm_2/lstm_cell_2/bias:0'] when minimizing the loss. If you're using `model.compile()`, did you forget to provide a `loss`argument?\n"
          ]
        },
        {
          "output_type": "stream",
          "name": "stdout",
          "text": [
            "1063/1063 [==============================] - 16s 12ms/step - loss: 2.1307 - accuracy: 0.2295 - val_loss: 2.2517 - val_accuracy: 0.1035\n",
            "Epoch 2/100\n",
            "1063/1063 [==============================] - 12s 11ms/step - loss: 2.1302 - accuracy: 0.2296 - val_loss: 2.2562 - val_accuracy: 0.2317\n",
            "Epoch 3/100\n",
            "1063/1063 [==============================] - 13s 12ms/step - loss: 2.1305 - accuracy: 0.2300 - val_loss: 2.2498 - val_accuracy: 0.1035\n",
            "Epoch 4/100\n",
            "1063/1063 [==============================] - 12s 11ms/step - loss: 2.1303 - accuracy: 0.2308 - val_loss: 2.2485 - val_accuracy: 0.1035\n",
            "Epoch 5/100\n",
            "1063/1063 [==============================] - 12s 11ms/step - loss: 2.1301 - accuracy: 0.2300 - val_loss: 2.2617 - val_accuracy: 0.1035\n",
            "Epoch 6/100\n",
            "1063/1063 [==============================] - 12s 12ms/step - loss: 2.1302 - accuracy: 0.2295 - val_loss: 2.2644 - val_accuracy: 0.1035\n",
            "Epoch 7/100\n",
            "1063/1063 [==============================] - 12s 11ms/step - loss: 2.1302 - accuracy: 0.2291 - val_loss: 2.2630 - val_accuracy: 0.1035\n",
            "Epoch 8/100\n",
            "1063/1063 [==============================] - 12s 11ms/step - loss: 2.1300 - accuracy: 0.2296 - val_loss: 2.2642 - val_accuracy: 0.1035\n",
            "Epoch 9/100\n",
            "1063/1063 [==============================] - 12s 11ms/step - loss: 2.1303 - accuracy: 0.2302 - val_loss: 2.2671 - val_accuracy: 0.1035\n",
            "Epoch 10/100\n",
            "1063/1063 [==============================] - 12s 11ms/step - loss: 2.1302 - accuracy: 0.2303 - val_loss: 2.2741 - val_accuracy: 0.1035\n",
            "Epoch 11/100\n",
            "1063/1063 [==============================] - 12s 11ms/step - loss: 2.1303 - accuracy: 0.2285 - val_loss: 2.2702 - val_accuracy: 0.1035\n",
            "Epoch 12/100\n",
            "1063/1063 [==============================] - 12s 11ms/step - loss: 2.1303 - accuracy: 0.2301 - val_loss: 2.2664 - val_accuracy: 0.1035\n",
            "Epoch 13/100\n",
            "1063/1063 [==============================] - 12s 12ms/step - loss: 2.1298 - accuracy: 0.2304 - val_loss: 2.2864 - val_accuracy: 0.1035\n",
            "Epoch 14/100\n",
            "1063/1063 [==============================] - 13s 12ms/step - loss: 2.1302 - accuracy: 0.2304 - val_loss: 2.2547 - val_accuracy: 0.1035\n",
            "Epoch 15/100\n",
            "1063/1063 [==============================] - 12s 12ms/step - loss: 2.1300 - accuracy: 0.2290 - val_loss: 2.2579 - val_accuracy: 0.1035\n",
            "Epoch 16/100\n",
            "1063/1063 [==============================] - 13s 12ms/step - loss: 2.1298 - accuracy: 0.2296 - val_loss: 2.2664 - val_accuracy: 0.1035\n",
            "Epoch 17/100\n",
            "1063/1063 [==============================] - 12s 11ms/step - loss: 2.1296 - accuracy: 0.2303 - val_loss: 2.2588 - val_accuracy: 0.1035\n",
            "Epoch 18/100\n",
            "1063/1063 [==============================] - 12s 11ms/step - loss: 2.1299 - accuracy: 0.2289 - val_loss: 2.2594 - val_accuracy: 0.1035\n",
            "Epoch 19/100\n",
            "1063/1063 [==============================] - 12s 11ms/step - loss: 2.1300 - accuracy: 0.2299 - val_loss: 2.2707 - val_accuracy: 0.1035\n",
            "Epoch 20/100\n",
            "1063/1063 [==============================] - 12s 12ms/step - loss: 2.1300 - accuracy: 0.2304 - val_loss: 2.2714 - val_accuracy: 0.1035\n",
            "Epoch 21/100\n",
            "1063/1063 [==============================] - 12s 11ms/step - loss: 2.1301 - accuracy: 0.2308 - val_loss: 2.2777 - val_accuracy: 0.1035\n",
            "Epoch 22/100\n",
            "1063/1063 [==============================] - 12s 11ms/step - loss: 2.1298 - accuracy: 0.2305 - val_loss: 2.2636 - val_accuracy: 0.1035\n",
            "Epoch 23/100\n",
            "1063/1063 [==============================] - 12s 11ms/step - loss: 2.1298 - accuracy: 0.2299 - val_loss: 2.2610 - val_accuracy: 0.1035\n",
            "Epoch 24/100\n",
            "1063/1063 [==============================] - 12s 11ms/step - loss: 2.1298 - accuracy: 0.2295 - val_loss: 2.2610 - val_accuracy: 0.1035\n"
          ]
        }
      ]
    },
    {
      "cell_type": "code",
      "source": [],
      "metadata": {
        "id": "jrTMnFMiM_HG",
        "colab": {
          "base_uri": "https://localhost:8080/"
        },
        "outputId": "4af68d66-6a8e-4291-fa73-a7aeab1fe2b5"
      },
      "execution_count": 33,
      "outputs": [
        {
          "output_type": "execute_result",
          "data": {
            "text/plain": [
              "(40000, 133, 50)"
            ]
          },
          "metadata": {},
          "execution_count": 33
        }
      ]
    },
    {
      "cell_type": "code",
      "source": [
        "from sklearn.naive_bayes import GaussianNB"
      ],
      "metadata": {
        "id": "9TkJwIhHLIhB"
      },
      "execution_count": 103,
      "outputs": []
    },
    {
      "cell_type": "code",
      "source": [
        "model = GaussianNB()"
      ],
      "metadata": {
        "id": "5xln-IPELIk_"
      },
      "execution_count": 104,
      "outputs": []
    },
    {
      "cell_type": "code",
      "source": [
        "from sklearn.model_selection import train_test_split\n",
        "\n",
        "train_X, test_X, train_y, test_y = train_test_split(X,y,test_size=0.1,random_state=101)"
      ],
      "metadata": {
        "id": "wUtx6seAoz2L"
      },
      "execution_count": 105,
      "outputs": []
    },
    {
      "cell_type": "code",
      "source": [
        "model.fit(train_X, train_y)"
      ],
      "metadata": {
        "id": "f23ZfokRLIn4",
        "colab": {
          "base_uri": "https://localhost:8080/",
          "height": 409
        },
        "outputId": "dc2c050d-a9b5-4328-9b43-4221aa95fa36"
      },
      "execution_count": 122,
      "outputs": [
        {
          "output_type": "error",
          "ename": "ValueError",
          "evalue": "ignored",
          "traceback": [
            "\u001b[0;31m---------------------------------------------------------------------------\u001b[0m",
            "\u001b[0;31mTypeError\u001b[0m                                 Traceback (most recent call last)",
            "\u001b[0;31mTypeError\u001b[0m: only size-1 arrays can be converted to Python scalars",
            "\nThe above exception was the direct cause of the following exception:\n",
            "\u001b[0;31mValueError\u001b[0m                                Traceback (most recent call last)",
            "\u001b[0;32m<ipython-input-122-92379a943613>\u001b[0m in \u001b[0;36m<module>\u001b[0;34m\u001b[0m\n\u001b[0;32m----> 1\u001b[0;31m \u001b[0mmodel\u001b[0m\u001b[0;34m.\u001b[0m\u001b[0mfit\u001b[0m\u001b[0;34m(\u001b[0m\u001b[0mtrain_X\u001b[0m\u001b[0;34m,\u001b[0m \u001b[0mtrain_y\u001b[0m\u001b[0;34m)\u001b[0m\u001b[0;34m\u001b[0m\u001b[0;34m\u001b[0m\u001b[0m\n\u001b[0m",
            "\u001b[0;32m/usr/local/lib/python3.7/dist-packages/sklearn/naive_bayes.py\u001b[0m in \u001b[0;36mfit\u001b[0;34m(self, X, y, sample_weight)\u001b[0m\n\u001b[1;32m    244\u001b[0m         \u001b[0my\u001b[0m \u001b[0;34m=\u001b[0m \u001b[0mself\u001b[0m\u001b[0;34m.\u001b[0m\u001b[0m_validate_data\u001b[0m\u001b[0;34m(\u001b[0m\u001b[0my\u001b[0m\u001b[0;34m=\u001b[0m\u001b[0my\u001b[0m\u001b[0;34m)\u001b[0m\u001b[0;34m\u001b[0m\u001b[0;34m\u001b[0m\u001b[0m\n\u001b[1;32m    245\u001b[0m         return self._partial_fit(\n\u001b[0;32m--> 246\u001b[0;31m             \u001b[0mX\u001b[0m\u001b[0;34m,\u001b[0m \u001b[0my\u001b[0m\u001b[0;34m,\u001b[0m \u001b[0mnp\u001b[0m\u001b[0;34m.\u001b[0m\u001b[0munique\u001b[0m\u001b[0;34m(\u001b[0m\u001b[0my\u001b[0m\u001b[0;34m)\u001b[0m\u001b[0;34m,\u001b[0m \u001b[0m_refit\u001b[0m\u001b[0;34m=\u001b[0m\u001b[0;32mTrue\u001b[0m\u001b[0;34m,\u001b[0m \u001b[0msample_weight\u001b[0m\u001b[0;34m=\u001b[0m\u001b[0msample_weight\u001b[0m\u001b[0;34m\u001b[0m\u001b[0;34m\u001b[0m\u001b[0m\n\u001b[0m\u001b[1;32m    247\u001b[0m         )\n\u001b[1;32m    248\u001b[0m \u001b[0;34m\u001b[0m\u001b[0m\n",
            "\u001b[0;32m/usr/local/lib/python3.7/dist-packages/sklearn/naive_bayes.py\u001b[0m in \u001b[0;36m_partial_fit\u001b[0;34m(self, X, y, classes, _refit, sample_weight)\u001b[0m\n\u001b[1;32m    400\u001b[0m \u001b[0;34m\u001b[0m\u001b[0m\n\u001b[1;32m    401\u001b[0m         \u001b[0mfirst_call\u001b[0m \u001b[0;34m=\u001b[0m \u001b[0m_check_partial_fit_first_call\u001b[0m\u001b[0;34m(\u001b[0m\u001b[0mself\u001b[0m\u001b[0;34m,\u001b[0m \u001b[0mclasses\u001b[0m\u001b[0;34m)\u001b[0m\u001b[0;34m\u001b[0m\u001b[0;34m\u001b[0m\u001b[0m\n\u001b[0;32m--> 402\u001b[0;31m         \u001b[0mX\u001b[0m\u001b[0;34m,\u001b[0m \u001b[0my\u001b[0m \u001b[0;34m=\u001b[0m \u001b[0mself\u001b[0m\u001b[0;34m.\u001b[0m\u001b[0m_validate_data\u001b[0m\u001b[0;34m(\u001b[0m\u001b[0mX\u001b[0m\u001b[0;34m,\u001b[0m \u001b[0my\u001b[0m\u001b[0;34m,\u001b[0m \u001b[0mreset\u001b[0m\u001b[0;34m=\u001b[0m\u001b[0mfirst_call\u001b[0m\u001b[0;34m)\u001b[0m\u001b[0;34m\u001b[0m\u001b[0;34m\u001b[0m\u001b[0m\n\u001b[0m\u001b[1;32m    403\u001b[0m         \u001b[0;32mif\u001b[0m \u001b[0msample_weight\u001b[0m \u001b[0;32mis\u001b[0m \u001b[0;32mnot\u001b[0m \u001b[0;32mNone\u001b[0m\u001b[0;34m:\u001b[0m\u001b[0;34m\u001b[0m\u001b[0;34m\u001b[0m\u001b[0m\n\u001b[1;32m    404\u001b[0m             \u001b[0msample_weight\u001b[0m \u001b[0;34m=\u001b[0m \u001b[0m_check_sample_weight\u001b[0m\u001b[0;34m(\u001b[0m\u001b[0msample_weight\u001b[0m\u001b[0;34m,\u001b[0m \u001b[0mX\u001b[0m\u001b[0;34m)\u001b[0m\u001b[0;34m\u001b[0m\u001b[0;34m\u001b[0m\u001b[0m\n",
            "\u001b[0;32m/usr/local/lib/python3.7/dist-packages/sklearn/base.py\u001b[0m in \u001b[0;36m_validate_data\u001b[0;34m(self, X, y, reset, validate_separately, **check_params)\u001b[0m\n\u001b[1;32m    579\u001b[0m                 \u001b[0my\u001b[0m \u001b[0;34m=\u001b[0m \u001b[0mcheck_array\u001b[0m\u001b[0;34m(\u001b[0m\u001b[0my\u001b[0m\u001b[0;34m,\u001b[0m \u001b[0;34m**\u001b[0m\u001b[0mcheck_y_params\u001b[0m\u001b[0;34m)\u001b[0m\u001b[0;34m\u001b[0m\u001b[0;34m\u001b[0m\u001b[0m\n\u001b[1;32m    580\u001b[0m             \u001b[0;32melse\u001b[0m\u001b[0;34m:\u001b[0m\u001b[0;34m\u001b[0m\u001b[0;34m\u001b[0m\u001b[0m\n\u001b[0;32m--> 581\u001b[0;31m                 \u001b[0mX\u001b[0m\u001b[0;34m,\u001b[0m \u001b[0my\u001b[0m \u001b[0;34m=\u001b[0m \u001b[0mcheck_X_y\u001b[0m\u001b[0;34m(\u001b[0m\u001b[0mX\u001b[0m\u001b[0;34m,\u001b[0m \u001b[0my\u001b[0m\u001b[0;34m,\u001b[0m \u001b[0;34m**\u001b[0m\u001b[0mcheck_params\u001b[0m\u001b[0;34m)\u001b[0m\u001b[0;34m\u001b[0m\u001b[0;34m\u001b[0m\u001b[0m\n\u001b[0m\u001b[1;32m    582\u001b[0m             \u001b[0mout\u001b[0m \u001b[0;34m=\u001b[0m \u001b[0mX\u001b[0m\u001b[0;34m,\u001b[0m \u001b[0my\u001b[0m\u001b[0;34m\u001b[0m\u001b[0;34m\u001b[0m\u001b[0m\n\u001b[1;32m    583\u001b[0m \u001b[0;34m\u001b[0m\u001b[0m\n",
            "\u001b[0;32m/usr/local/lib/python3.7/dist-packages/sklearn/utils/validation.py\u001b[0m in \u001b[0;36mcheck_X_y\u001b[0;34m(X, y, accept_sparse, accept_large_sparse, dtype, order, copy, force_all_finite, ensure_2d, allow_nd, multi_output, ensure_min_samples, ensure_min_features, y_numeric, estimator)\u001b[0m\n\u001b[1;32m    974\u001b[0m         \u001b[0mensure_min_samples\u001b[0m\u001b[0;34m=\u001b[0m\u001b[0mensure_min_samples\u001b[0m\u001b[0;34m,\u001b[0m\u001b[0;34m\u001b[0m\u001b[0;34m\u001b[0m\u001b[0m\n\u001b[1;32m    975\u001b[0m         \u001b[0mensure_min_features\u001b[0m\u001b[0;34m=\u001b[0m\u001b[0mensure_min_features\u001b[0m\u001b[0;34m,\u001b[0m\u001b[0;34m\u001b[0m\u001b[0;34m\u001b[0m\u001b[0m\n\u001b[0;32m--> 976\u001b[0;31m         \u001b[0mestimator\u001b[0m\u001b[0;34m=\u001b[0m\u001b[0mestimator\u001b[0m\u001b[0;34m,\u001b[0m\u001b[0;34m\u001b[0m\u001b[0;34m\u001b[0m\u001b[0m\n\u001b[0m\u001b[1;32m    977\u001b[0m     )\n\u001b[1;32m    978\u001b[0m \u001b[0;34m\u001b[0m\u001b[0m\n",
            "\u001b[0;32m/usr/local/lib/python3.7/dist-packages/sklearn/utils/validation.py\u001b[0m in \u001b[0;36mcheck_array\u001b[0;34m(array, accept_sparse, accept_large_sparse, dtype, order, copy, force_all_finite, ensure_2d, allow_nd, ensure_min_samples, ensure_min_features, estimator)\u001b[0m\n\u001b[1;32m    744\u001b[0m                     \u001b[0marray\u001b[0m \u001b[0;34m=\u001b[0m \u001b[0marray\u001b[0m\u001b[0;34m.\u001b[0m\u001b[0mastype\u001b[0m\u001b[0;34m(\u001b[0m\u001b[0mdtype\u001b[0m\u001b[0;34m,\u001b[0m \u001b[0mcasting\u001b[0m\u001b[0;34m=\u001b[0m\u001b[0;34m\"unsafe\"\u001b[0m\u001b[0;34m,\u001b[0m \u001b[0mcopy\u001b[0m\u001b[0;34m=\u001b[0m\u001b[0;32mFalse\u001b[0m\u001b[0;34m)\u001b[0m\u001b[0;34m\u001b[0m\u001b[0;34m\u001b[0m\u001b[0m\n\u001b[1;32m    745\u001b[0m                 \u001b[0;32melse\u001b[0m\u001b[0;34m:\u001b[0m\u001b[0;34m\u001b[0m\u001b[0;34m\u001b[0m\u001b[0m\n\u001b[0;32m--> 746\u001b[0;31m                     \u001b[0marray\u001b[0m \u001b[0;34m=\u001b[0m \u001b[0mnp\u001b[0m\u001b[0;34m.\u001b[0m\u001b[0masarray\u001b[0m\u001b[0;34m(\u001b[0m\u001b[0marray\u001b[0m\u001b[0;34m,\u001b[0m \u001b[0morder\u001b[0m\u001b[0;34m=\u001b[0m\u001b[0morder\u001b[0m\u001b[0;34m,\u001b[0m \u001b[0mdtype\u001b[0m\u001b[0;34m=\u001b[0m\u001b[0mdtype\u001b[0m\u001b[0;34m)\u001b[0m\u001b[0;34m\u001b[0m\u001b[0;34m\u001b[0m\u001b[0m\n\u001b[0m\u001b[1;32m    747\u001b[0m             \u001b[0;32mexcept\u001b[0m \u001b[0mComplexWarning\u001b[0m \u001b[0;32mas\u001b[0m \u001b[0mcomplex_warning\u001b[0m\u001b[0;34m:\u001b[0m\u001b[0;34m\u001b[0m\u001b[0;34m\u001b[0m\u001b[0m\n\u001b[1;32m    748\u001b[0m                 raise ValueError(\n",
            "\u001b[0;31mValueError\u001b[0m: setting an array element with a sequence."
          ]
        }
      ]
    },
    {
      "cell_type": "code",
      "source": [
        "train_X = np.array(train_X)"
      ],
      "metadata": {
        "colab": {
          "base_uri": "https://localhost:8080/"
        },
        "id": "BFQte-cnqWL7",
        "outputId": "00097ed3-6a09-4eba-9c1a-0c1ea9ebab3a"
      },
      "execution_count": 111,
      "outputs": [
        {
          "output_type": "stream",
          "name": "stderr",
          "text": [
            "/usr/local/lib/python3.7/dist-packages/ipykernel_launcher.py:1: VisibleDeprecationWarning: Creating an ndarray from ragged nested sequences (which is a list-or-tuple of lists-or-tuples-or ndarrays with different lengths or shapes) is deprecated. If you meant to do this, you must specify 'dtype=object' when creating the ndarray.\n",
            "  \"\"\"Entry point for launching an IPython kernel.\n"
          ]
        }
      ]
    },
    {
      "cell_type": "code",
      "source": [
        "train_X = np.array([x.reshape(-1,1) for x in train_X])"
      ],
      "metadata": {
        "colab": {
          "base_uri": "https://localhost:8080/"
        },
        "id": "9tmJOV1Jqhv3",
        "outputId": "c0b6429b-ce6f-4912-849c-d59282b44b6e"
      },
      "execution_count": 119,
      "outputs": [
        {
          "output_type": "stream",
          "name": "stderr",
          "text": [
            "/usr/local/lib/python3.7/dist-packages/ipykernel_launcher.py:1: VisibleDeprecationWarning: Creating an ndarray from ragged nested sequences (which is a list-or-tuple of lists-or-tuples-or ndarrays with different lengths or shapes) is deprecated. If you meant to do this, you must specify 'dtype=object' when creating the ndarray.\n",
            "  \"\"\"Entry point for launching an IPython kernel.\n"
          ]
        }
      ]
    },
    {
      "cell_type": "code",
      "source": [],
      "metadata": {
        "colab": {
          "base_uri": "https://localhost:8080/"
        },
        "id": "DYpA1tHAqh2h",
        "outputId": "9141758b-f6c2-4b7b-8060-f7fe81898c8e"
      },
      "execution_count": 121,
      "outputs": [
        {
          "output_type": "execute_result",
          "data": {
            "text/plain": [
              "array([array([[ 0.27491593],\n",
              "              [ 0.41282833],\n",
              "              [-0.01270285],\n",
              "              [-0.25749844],\n",
              "              [-0.1957191 ],\n",
              "              [ 0.2122929 ],\n",
              "              [ 0.58277845],\n",
              "              [-0.29069602],\n",
              "              [-0.42071745],\n",
              "              [ 0.10021882],\n",
              "              [-0.29858506],\n",
              "              [ 0.36073023],\n",
              "              [ 0.48109752],\n",
              "              [-0.02303667],\n",
              "              [ 0.36719283],\n",
              "              [-0.41648272],\n",
              "              [ 0.19968332],\n",
              "              [ 0.49226862],\n",
              "              [-0.49404752],\n",
              "              [ 0.2213645 ],\n",
              "              [ 0.05294527],\n",
              "              [-0.28327057],\n",
              "              [ 0.7143531 ],\n",
              "              [ 0.12390218],\n",
              "              [-0.27217388],\n",
              "              [ 0.14298905],\n",
              "              [ 0.2755219 ],\n",
              "              [ 0.13692763],\n",
              "              [ 0.04909097],\n",
              "              [ 0.14675997],\n",
              "              [-0.14315654],\n",
              "              [-0.19010043],\n",
              "              [ 0.06489009],\n",
              "              [-0.13566436],\n",
              "              [ 0.00996519],\n",
              "              [ 0.07804023],\n",
              "              [ 0.04568996],\n",
              "              [-0.3057729 ],\n",
              "              [ 0.48461848],\n",
              "              [ 0.8743787 ],\n",
              "              [-0.11286641],\n",
              "              [-0.02491016],\n",
              "              [-0.22247745],\n",
              "              [ 0.67071885],\n",
              "              [-0.02536144],\n",
              "              [ 0.01085136],\n",
              "              [ 0.28746644],\n",
              "              [ 0.00881164],\n",
              "              [-0.32512024],\n",
              "              [-0.09782726],\n",
              "              [-0.03833021],\n",
              "              [-0.00662757],\n",
              "              [ 0.321119  ],\n",
              "              [ 0.19329059],\n",
              "              [-0.23793009],\n",
              "              [-0.06401974],\n",
              "              [ 0.10530461],\n",
              "              [ 0.14781563],\n",
              "              [ 0.7212163 ],\n",
              "              [ 0.44568425],\n",
              "              [-0.633816  ],\n",
              "              [ 0.30850315],\n",
              "              [ 0.44533455],\n",
              "              [ 0.22027269],\n",
              "              [ 0.11435456],\n",
              "              [-0.05817213],\n",
              "              [ 0.679321  ],\n",
              "              [-0.25020924],\n",
              "              [-0.11049689],\n",
              "              [-0.43052998],\n",
              "              [ 0.29335508],\n",
              "              [-0.31983384],\n",
              "              [-0.06705924],\n",
              "              [-0.20344992],\n",
              "              [-0.49507955],\n",
              "              [ 0.01003643],\n",
              "              [ 0.4258897 ],\n",
              "              [ 0.23233572],\n",
              "              [-0.2302036 ],\n",
              "              [-0.61114985],\n",
              "              [ 0.05399668],\n",
              "              [-0.40399373],\n",
              "              [-0.05760612],\n",
              "              [-0.48401475],\n",
              "              [-0.429524  ],\n",
              "              [ 0.37362438],\n",
              "              [ 0.03500752],\n",
              "              [-0.3502816 ],\n",
              "              [-0.5405217 ],\n",
              "              [-0.60452574],\n",
              "              [ 0.19013256],\n",
              "              [-0.2377    ],\n",
              "              [ 0.6461646 ],\n",
              "              [ 0.32495114],\n",
              "              [ 0.6850548 ],\n",
              "              [-0.42569837],\n",
              "              [ 0.42593372],\n",
              "              [-0.20015164],\n",
              "              [-0.07324942],\n",
              "              [ 0.37300766]], dtype=float32),\n",
              "       array([[ 2.85403162e-01],\n",
              "              [ 5.12752533e-01],\n",
              "              [-4.42623720e-02],\n",
              "              [-2.38722861e-01],\n",
              "              [-2.07826823e-01],\n",
              "              [ 1.14844963e-01],\n",
              "              [ 6.85545206e-01],\n",
              "              [-3.93128335e-01],\n",
              "              [-3.76380265e-01],\n",
              "              [ 8.15292969e-02],\n",
              "              [-3.58259857e-01],\n",
              "              [ 4.83209014e-01],\n",
              "              [ 5.26176274e-01],\n",
              "              [ 2.00906619e-02],\n",
              "              [ 4.29534733e-01],\n",
              "              [-3.17332000e-01],\n",
              "              [ 2.58196652e-01],\n",
              "              [ 5.79094887e-01],\n",
              "              [-5.44833302e-01],\n",
              "              [ 2.74095953e-01],\n",
              "              [ 4.78716567e-04],\n",
              "              [-3.96058947e-01],\n",
              "              [ 6.05015278e-01],\n",
              "              [ 4.51381281e-02],\n",
              "              [-2.83572704e-01],\n",
              "              [ 1.73195496e-01],\n",
              "              [ 2.24940419e-01],\n",
              "              [ 6.37690723e-02],\n",
              "              [-1.58705801e-01],\n",
              "              [ 1.67623609e-01],\n",
              "              [-1.69567570e-01],\n",
              "              [-1.54000148e-01],\n",
              "              [ 7.67672360e-02],\n",
              "              [-1.24118283e-01],\n",
              "              [ 7.18663037e-02],\n",
              "              [ 1.14203095e-01],\n",
              "              [ 1.84569284e-01],\n",
              "              [-1.95239708e-01],\n",
              "              [ 6.09653592e-01],\n",
              "              [ 1.15750933e+00],\n",
              "              [-2.84679793e-03],\n",
              "              [-1.00092389e-01],\n",
              "              [-2.77179211e-01],\n",
              "              [ 6.36531472e-01],\n",
              "              [-1.21896163e-01],\n",
              "              [ 5.82569093e-03],\n",
              "              [ 3.19327831e-01],\n",
              "              [-5.90001754e-02],\n",
              "              [-3.76262844e-01],\n",
              "              [-1.05434069e-02],\n",
              "              [ 1.35673314e-01],\n",
              "              [-4.76984568e-02],\n",
              "              [ 2.14119792e-01],\n",
              "              [ 4.39505190e-01],\n",
              "              [-4.06646699e-01],\n",
              "              [ 2.44448148e-02],\n",
              "              [ 2.36416936e-01],\n",
              "              [ 1.20690577e-01],\n",
              "              [ 7.64401972e-01],\n",
              "              [ 2.44963482e-01],\n",
              "              [-6.48327351e-01],\n",
              "              [ 3.77582461e-01],\n",
              "              [ 3.36932093e-01],\n",
              "              [ 1.63270235e-01],\n",
              "              [ 1.52916342e-01],\n",
              "              [-3.12780812e-02],\n",
              "              [ 9.69712794e-01],\n",
              "              [-3.63633096e-01],\n",
              "              [ 3.68983671e-02],\n",
              "              [-3.82520080e-01],\n",
              "              [ 1.55540109e-01],\n",
              "              [-5.27817070e-01],\n",
              "              [-3.60778645e-02],\n",
              "              [-2.35051438e-01],\n",
              "              [-4.87939000e-01],\n",
              "              [ 2.04644531e-01],\n",
              "              [ 3.20332855e-01],\n",
              "              [ 2.24460989e-01],\n",
              "              [-1.60624281e-01],\n",
              "              [-5.82555532e-01],\n",
              "              [-5.08381017e-02],\n",
              "              [-4.14070308e-01],\n",
              "              [ 5.53406999e-02],\n",
              "              [-4.73815143e-01],\n",
              "              [-5.17094791e-01],\n",
              "              [ 2.13760570e-01],\n",
              "              [-3.80819738e-02],\n",
              "              [-2.67006218e-01],\n",
              "              [-4.25886840e-01],\n",
              "              [-7.16761589e-01],\n",
              "              [ 3.31053436e-01],\n",
              "              [-2.18688250e-01],\n",
              "              [ 6.71743393e-01],\n",
              "              [ 3.41271579e-01],\n",
              "              [ 7.01737225e-01],\n",
              "              [-4.26069260e-01],\n",
              "              [ 4.34574455e-01],\n",
              "              [-2.86575466e-01],\n",
              "              [ 7.28878230e-02],\n",
              "              [ 3.88479382e-01]], dtype=float32),\n",
              "       array([[ 0.4947347 ],\n",
              "              [ 0.17295854],\n",
              "              [-0.05501253],\n",
              "              [-0.53673273],\n",
              "              [-0.81367177],\n",
              "              [-0.38751295],\n",
              "              [ 0.34588218],\n",
              "              [-0.3602162 ],\n",
              "              [-0.26305607],\n",
              "              [ 0.21133275],\n",
              "              [-0.23482706],\n",
              "              [ 1.4287444 ],\n",
              "              [ 1.0797348 ],\n",
              "              [ 0.19539024],\n",
              "              [ 0.14760426],\n",
              "              [-0.39677116],\n",
              "              [ 0.49359798],\n",
              "              [ 1.1270932 ],\n",
              "              [-0.64529556],\n",
              "              [ 0.5228323 ],\n",
              "              [-0.1450471 ],\n",
              "              [-0.48473   ],\n",
              "              [ 0.8029567 ],\n",
              "              [ 0.1275766 ],\n",
              "              [-0.91900647],\n",
              "              [ 0.95577425],\n",
              "              [ 0.20320441],\n",
              "              [ 0.06925761],\n",
              "              [-0.33276948],\n",
              "              [-0.21206601],\n",
              "              [-0.01126566],\n",
              "              [-0.12786782],\n",
              "              [-0.12206958],\n",
              "              [ 0.24613643],\n",
              "              [-0.07802223],\n",
              "              [-0.12356079],\n",
              "              [ 0.33156297],\n",
              "              [ 0.14409468],\n",
              "              [ 0.3060772 ],\n",
              "              [ 2.204204  ],\n",
              "              [ 0.23454873],\n",
              "              [-0.67025024],\n",
              "              [-1.00437   ],\n",
              "              [ 0.5659091 ],\n",
              "              [-0.10549393],\n",
              "              [ 0.76711464],\n",
              "              [ 0.60007775],\n",
              "              [-0.3576791 ],\n",
              "              [-0.6311525 ],\n",
              "              [-0.34767768],\n",
              "              [ 0.22943725],\n",
              "              [ 0.06528522],\n",
              "              [ 0.23289378],\n",
              "              [ 0.749872  ],\n",
              "              [-0.3974736 ],\n",
              "              [ 0.08159619],\n",
              "              [ 0.7736822 ],\n",
              "              [-0.56144303],\n",
              "              [ 1.2445726 ],\n",
              "              [ 0.41112152],\n",
              "              [-0.57848024],\n",
              "              [ 0.6669718 ],\n",
              "              [ 0.6971754 ],\n",
              "              [ 0.21756169],\n",
              "              [ 0.26882696],\n",
              "              [ 0.63387644],\n",
              "              [ 0.9087459 ],\n",
              "              [-0.36592075],\n",
              "              [ 0.1569748 ],\n",
              "              [-0.01205954],\n",
              "              [ 0.3113094 ],\n",
              "              [-1.2837671 ],\n",
              "              [-0.02139185],\n",
              "              [ 0.12144409],\n",
              "              [-0.6678111 ],\n",
              "              [ 0.7215128 ],\n",
              "              [ 0.82422984],\n",
              "              [ 0.04171241],\n",
              "              [-0.15785278],\n",
              "              [-0.5823487 ],\n",
              "              [ 0.517003  ],\n",
              "              [-0.42073613],\n",
              "              [ 0.20922537],\n",
              "              [-0.3381899 ],\n",
              "              [-0.8439902 ],\n",
              "              [ 0.1025581 ],\n",
              "              [ 0.43120894],\n",
              "              [-0.21164279],\n",
              "              [-0.35958365],\n",
              "              [-1.2376169 ],\n",
              "              [ 0.5138223 ],\n",
              "              [ 0.2564407 ],\n",
              "              [ 0.40752715],\n",
              "              [ 0.7925352 ],\n",
              "              [ 0.9334234 ],\n",
              "              [-0.57019687],\n",
              "              [-0.38171163],\n",
              "              [ 0.34425482],\n",
              "              [ 0.2838217 ],\n",
              "              [ 0.4636909 ]], dtype=float32), ...,\n",
              "       array([[ 0.13296637],\n",
              "              [ 0.5814908 ],\n",
              "              [-0.04925527],\n",
              "              [-0.17993774],\n",
              "              [-0.1641917 ],\n",
              "              [-0.00884548],\n",
              "              [ 0.73658043],\n",
              "              [-0.431938  ],\n",
              "              [-0.36489445],\n",
              "              [ 0.10638161],\n",
              "              [-0.36871663],\n",
              "              [ 0.3984389 ],\n",
              "              [ 0.37601554],\n",
              "              [ 0.03342215],\n",
              "              [ 0.47588977],\n",
              "              [-0.15500435],\n",
              "              [ 0.19377227],\n",
              "              [ 0.48452127],\n",
              "              [-0.5554501 ],\n",
              "              [ 0.24811868],\n",
              "              [ 0.01433072],\n",
              "              [-0.49938595],\n",
              "              [ 0.47472072],\n",
              "              [ 0.08661499],\n",
              "              [-0.12385606],\n",
              "              [ 0.03560281],\n",
              "              [ 0.2448442 ],\n",
              "              [ 0.01652676],\n",
              "              [-0.26286045],\n",
              "              [ 0.2424008 ],\n",
              "              [-0.28369603],\n",
              "              [-0.0907214 ],\n",
              "              [ 0.05295482],\n",
              "              [-0.11605667],\n",
              "              [ 0.1704216 ],\n",
              "              [ 0.15259388],\n",
              "              [ 0.21959907],\n",
              "              [-0.28417996],\n",
              "              [ 0.7004508 ],\n",
              "              [ 1.1800258 ],\n",
              "              [ 0.10934135],\n",
              "              [-0.12214117],\n",
              "              [-0.16667306],\n",
              "              [ 0.5040288 ],\n",
              "              [-0.18402457],\n",
              "              [-0.06398311],\n",
              "              [ 0.27018124],\n",
              "              [-0.01480679],\n",
              "              [-0.3723356 ],\n",
              "              [ 0.09168892],\n",
              "              [ 0.2829433 ],\n",
              "              [-0.02149268],\n",
              "              [ 0.10367786],\n",
              "              [ 0.5306566 ],\n",
              "              [-0.47954267],\n",
              "              [ 0.17836323],\n",
              "              [ 0.32092044],\n",
              "              [ 0.26306984],\n",
              "              [ 0.5788808 ],\n",
              "              [ 0.03053785],\n",
              "              [-0.58616376],\n",
              "              [ 0.24331054],\n",
              "              [ 0.14341304],\n",
              "              [ 0.14441417],\n",
              "              [ 0.09113226],\n",
              "              [-0.18781902],\n",
              "              [ 1.229391  ],\n",
              "              [-0.5254169 ],\n",
              "              [ 0.24161103],\n",
              "              [-0.416958  ],\n",
              "              [ 0.06784823],\n",
              "              [-0.4846934 ],\n",
              "              [-0.05417113],\n",
              "              [-0.35637775],\n",
              "              [-0.42175326],\n",
              "              [ 0.26630512],\n",
              "              [ 0.20560563],\n",
              "              [ 0.30451867],\n",
              "              [-0.15880042],\n",
              "              [-0.5639546 ],\n",
              "              [-0.25683874],\n",
              "              [-0.47674087],\n",
              "              [ 0.19929883],\n",
              "              [-0.6149168 ],\n",
              "              [-0.4244548 ],\n",
              "              [ 0.16735643],\n",
              "              [-0.25119963],\n",
              "              [-0.2833767 ],\n",
              "              [-0.30903494],\n",
              "              [-0.7127337 ],\n",
              "              [ 0.43015555],\n",
              "              [-0.36926812],\n",
              "              [ 0.69214916],\n",
              "              [ 0.23630032],\n",
              "              [ 0.62555015],\n",
              "              [-0.24004671],\n",
              "              [ 0.6237112 ],\n",
              "              [-0.43860164],\n",
              "              [ 0.06040215],\n",
              "              [ 0.29016596]], dtype=float32),\n",
              "       array([[ 0.2433854 ],\n",
              "              [ 0.29411003],\n",
              "              [-0.0420293 ],\n",
              "              [-0.18866007],\n",
              "              [-0.18375729],\n",
              "              [ 0.0591388 ],\n",
              "              [ 0.4841799 ],\n",
              "              [-0.25611445],\n",
              "              [-0.23498908],\n",
              "              [ 0.05077134],\n",
              "              [-0.15392025],\n",
              "              [ 0.37686986],\n",
              "              [ 0.34168452],\n",
              "              [ 0.0607665 ],\n",
              "              [ 0.24547005],\n",
              "              [-0.2021825 ],\n",
              "              [ 0.20409946],\n",
              "              [ 0.43493557],\n",
              "              [-0.413552  ],\n",
              "              [ 0.18527006],\n",
              "              [-0.0209314 ],\n",
              "              [-0.32267126],\n",
              "              [ 0.35375482],\n",
              "              [-0.01377353],\n",
              "              [-0.24168523],\n",
              "              [ 0.16812228],\n",
              "              [ 0.14822733],\n",
              "              [ 0.04562138],\n",
              "              [-0.18583046],\n",
              "              [ 0.13773093],\n",
              "              [-0.12237835],\n",
              "              [-0.04804252],\n",
              "              [ 0.04686537],\n",
              "              [-0.09902704],\n",
              "              [ 0.03169517],\n",
              "              [ 0.06502181],\n",
              "              [ 0.18460569],\n",
              "              [-0.01797232],\n",
              "              [ 0.37396777],\n",
              "              [ 0.8951725 ],\n",
              "              [ 0.04664961],\n",
              "              [-0.05311432],\n",
              "              [-0.25612298],\n",
              "              [ 0.3854859 ],\n",
              "              [-0.11826215],\n",
              "              [ 0.04728965],\n",
              "              [ 0.24873057],\n",
              "              [-0.04337153],\n",
              "              [-0.2860262 ],\n",
              "              [-0.03065665],\n",
              "              [ 0.13816634],\n",
              "              [-0.03849892],\n",
              "              [ 0.13315538],\n",
              "              [ 0.32346573],\n",
              "              [-0.2677825 ],\n",
              "              [ 0.02329951],\n",
              "              [ 0.22268939],\n",
              "              [ 0.08237752],\n",
              "              [ 0.50999314],\n",
              "              [ 0.10644086],\n",
              "              [-0.43308902],\n",
              "              [ 0.2813036 ],\n",
              "              [ 0.23221776],\n",
              "              [ 0.06710836],\n",
              "              [ 0.12862523],\n",
              "              [ 0.05388594],\n",
              "              [ 0.6183908 ],\n",
              "              [-0.2365977 ],\n",
              "              [ 0.03740105],\n",
              "              [-0.17636266],\n",
              "              [ 0.13064046],\n",
              "              [-0.428972  ],\n",
              "              [-0.02720251],\n",
              "              [-0.13840207],\n",
              "              [-0.3239055 ],\n",
              "              [ 0.22299941],\n",
              "              [ 0.23906533],\n",
              "              [ 0.12053853],\n",
              "              [-0.09211022],\n",
              "              [-0.35656568],\n",
              "              [-0.03819478],\n",
              "              [-0.32216814],\n",
              "              [ 0.04846466],\n",
              "              [-0.31981403],\n",
              "              [-0.34117502],\n",
              "              [ 0.12844427],\n",
              "              [-0.03149309],\n",
              "              [-0.18326677],\n",
              "              [-0.27766737],\n",
              "              [-0.5242114 ],\n",
              "              [ 0.23979   ],\n",
              "              [-0.09117534],\n",
              "              [ 0.42998686],\n",
              "              [ 0.25054297],\n",
              "              [ 0.47619325],\n",
              "              [-0.24728656],\n",
              "              [ 0.21048789],\n",
              "              [-0.2141871 ],\n",
              "              [ 0.08646725],\n",
              "              [ 0.24935064]], dtype=float32),\n",
              "       array([[ 0.11156362],\n",
              "              [ 0.3241921 ],\n",
              "              [-0.02378886],\n",
              "              [-0.17545433],\n",
              "              [-0.07950677],\n",
              "              [-0.00834977],\n",
              "              [ 0.40991998],\n",
              "              [-0.3269077 ],\n",
              "              [-0.29316097],\n",
              "              [ 0.05007941],\n",
              "              [-0.15392579],\n",
              "              [ 0.38712323],\n",
              "              [ 0.41688022],\n",
              "              [ 0.06298611],\n",
              "              [ 0.30885416],\n",
              "              [-0.16396917],\n",
              "              [ 0.18669575],\n",
              "              [ 0.4350605 ],\n",
              "              [-0.36998564],\n",
              "              [ 0.17781559],\n",
              "              [-0.07121767],\n",
              "              [-0.40456954],\n",
              "              [ 0.5105211 ],\n",
              "              [ 0.1045836 ],\n",
              "              [-0.14357376],\n",
              "              [ 0.08572745],\n",
              "              [ 0.19667393],\n",
              "              [ 0.0960657 ],\n",
              "              [-0.21622087],\n",
              "              [ 0.06040707],\n",
              "              [-0.17819709],\n",
              "              [ 0.0046328 ],\n",
              "              [ 0.07157295],\n",
              "              [-0.06864638],\n",
              "              [ 0.06549397],\n",
              "              [ 0.05069351],\n",
              "              [ 0.1475186 ],\n",
              "              [-0.16801156],\n",
              "              [ 0.4406858 ],\n",
              "              [ 0.8651451 ],\n",
              "              [ 0.0820521 ],\n",
              "              [-0.04898944],\n",
              "              [-0.14524296],\n",
              "              [ 0.40377855],\n",
              "              [-0.10808025],\n",
              "              [ 0.12256385],\n",
              "              [ 0.31324327],\n",
              "              [-0.05791081],\n",
              "              [-0.3676294 ],\n",
              "              [-0.05148575],\n",
              "              [ 0.1694275 ],\n",
              "              [-0.0026004 ],\n",
              "              [ 0.1700939 ],\n",
              "              [ 0.39117438],\n",
              "              [-0.28377366],\n",
              "              [ 0.1651455 ],\n",
              "              [ 0.21436095],\n",
              "              [ 0.1483716 ],\n",
              "              [ 0.47281116],\n",
              "              [ 0.09133199],\n",
              "              [-0.3959707 ],\n",
              "              [ 0.2653997 ],\n",
              "              [ 0.20860505],\n",
              "              [ 0.13021925],\n",
              "              [ 0.03567558],\n",
              "              [-0.07761006],\n",
              "              [ 0.7295768 ],\n",
              "              [-0.36706674],\n",
              "              [ 0.11983591],\n",
              "              [-0.33775762],\n",
              "              [ 0.18086123],\n",
              "              [-0.38542613],\n",
              "              [-0.08677527],\n",
              "              [-0.30352685],\n",
              "              [-0.36068103],\n",
              "              [ 0.16391137],\n",
              "              [ 0.256888  ],\n",
              "              [ 0.21819325],\n",
              "              [-0.10091734],\n",
              "              [-0.4994222 ],\n",
              "              [-0.01991089],\n",
              "              [-0.2836181 ],\n",
              "              [ 0.08991621],\n",
              "              [-0.43655992],\n",
              "              [-0.30005467],\n",
              "              [ 0.12644808],\n",
              "              [-0.05571187],\n",
              "              [-0.28666818],\n",
              "              [-0.2226582 ],\n",
              "              [-0.5539759 ],\n",
              "              [ 0.22968464],\n",
              "              [-0.22759289],\n",
              "              [ 0.56878495],\n",
              "              [ 0.17052445],\n",
              "              [ 0.59545887],\n",
              "              [-0.16717288],\n",
              "              [ 0.319737  ],\n",
              "              [-0.21007514],\n",
              "              [ 0.07028386],\n",
              "              [ 0.29666302]], dtype=float32)], dtype=object)"
            ]
          },
          "metadata": {},
          "execution_count": 121
        }
      ]
    },
    {
      "cell_type": "code",
      "source": [
        "predictions = model.predict(test_X)"
      ],
      "metadata": {
        "id": "yvSjiNYf6h15"
      },
      "execution_count": 80,
      "outputs": []
    },
    {
      "cell_type": "code",
      "source": [
        "from sklearn.metrics import accuracy_score"
      ],
      "metadata": {
        "id": "lUOrNWbH6h4C"
      },
      "execution_count": 81,
      "outputs": []
    },
    {
      "cell_type": "code",
      "source": [
        "accuracy_score(test_y, predictions)"
      ],
      "metadata": {
        "colab": {
          "base_uri": "https://localhost:8080/"
        },
        "id": "LptD70mjpF8g",
        "outputId": "a145053a-072e-493f-d66f-532bca0458ba"
      },
      "execution_count": 83,
      "outputs": [
        {
          "output_type": "execute_result",
          "data": {
            "text/plain": [
              "0.019"
            ]
          },
          "metadata": {},
          "execution_count": 83
        }
      ]
    },
    {
      "cell_type": "code",
      "source": [],
      "metadata": {
        "colab": {
          "base_uri": "https://localhost:8080/"
        },
        "id": "b8BIJb_7pF_q",
        "outputId": "f6b5b1d0-ba9f-40cf-fcdd-03fcc09b96f1"
      },
      "execution_count": 91,
      "outputs": [
        {
          "output_type": "execute_result",
          "data": {
            "text/plain": [
              "3"
            ]
          },
          "metadata": {},
          "execution_count": 91
        }
      ]
    },
    {
      "cell_type": "code",
      "source": [],
      "metadata": {
        "id": "lknjHGaRpGCf"
      },
      "execution_count": null,
      "outputs": []
    },
    {
      "cell_type": "code",
      "source": [],
      "metadata": {
        "id": "P0I34fKVpGFY"
      },
      "execution_count": null,
      "outputs": []
    },
    {
      "cell_type": "code",
      "source": [],
      "metadata": {
        "id": "w3BpfwkspGIh"
      },
      "execution_count": null,
      "outputs": []
    },
    {
      "cell_type": "markdown",
      "metadata": {
        "id": "Z_6z1WOXKbW5"
      },
      "source": [
        "Text preprocessing done"
      ]
    },
    {
      "cell_type": "markdown",
      "metadata": {
        "id": "dndtBo0EUtUN"
      },
      "source": [
        "Converting text to vectors \n",
        "\n",
        "Word2vec"
      ]
    },
    {
      "cell_type": "code",
      "execution_count": 163,
      "metadata": {
        "colab": {
          "base_uri": "https://localhost:8080/"
        },
        "id": "Wz-Kj1N0Uwgr",
        "outputId": "5adca75d-7768-43ac-db85-7341471ab570"
      },
      "outputs": [
        {
          "output_type": "stream",
          "name": "stderr",
          "text": [
            "[nltk_data] Downloading package punkt to /root/nltk_data...\n",
            "[nltk_data]   Package punkt is already up-to-date!\n"
          ]
        },
        {
          "output_type": "execute_result",
          "data": {
            "text/plain": [
              "True"
            ]
          },
          "metadata": {},
          "execution_count": 163
        }
      ],
      "source": [
        "# Importing necessary libraries\n",
        "\n",
        "import gensim\n",
        "\n",
        "from gensim.models import Word2Vec\n",
        "\n",
        "from tqdm import tqdm\n",
        "\n",
        "from nltk import word_tokenize\n",
        "nltk.download('punkt')"
      ]
    },
    {
      "cell_type": "code",
      "execution_count": 164,
      "metadata": {
        "colab": {
          "base_uri": "https://localhost:8080/"
        },
        "id": "S5bKDKJyWx50",
        "outputId": "8f80bb46-3c35-4670-abab-1b7b2d5c1188"
      },
      "outputs": [
        {
          "output_type": "stream",
          "name": "stdout",
          "text": [
            "40000  length of sentences\n"
          ]
        }
      ],
      "source": [
        "# Words list\n",
        "\n",
        "words_list = []\n",
        "\n",
        "# looping through to append words\n",
        "for index in range(len(sentences)):\n",
        "  words_list.append(nltk.word_tokenize(sentences[index]))\n",
        "\n",
        "print(len(words_list),\" length of sentences\")"
      ]
    },
    {
      "cell_type": "code",
      "execution_count": 165,
      "metadata": {
        "id": "H1zdnQ9KUwkB"
      },
      "outputs": [],
      "source": [
        "model = gensim.models.Word2Vec(words_list, window=5, min_count = 2)"
      ]
    },
    {
      "cell_type": "code",
      "execution_count": 166,
      "metadata": {
        "colab": {
          "base_uri": "https://localhost:8080/"
        },
        "id": "ifTQTZJnUwmX",
        "outputId": "108db697-858b-4241-d5c4-afc573071384"
      },
      "outputs": [
        {
          "output_type": "stream",
          "name": "stderr",
          "text": [
            "  0%|          | 0/40000 [00:00<?, ?it/s]/usr/local/lib/python3.7/dist-packages/numpy/core/fromnumeric.py:3441: RuntimeWarning: Mean of empty slice.\n",
            "  out=out, **kwargs)\n",
            "/usr/local/lib/python3.7/dist-packages/numpy/core/_methods.py:189: RuntimeWarning: invalid value encountered in double_scalars\n",
            "  ret = ret.dtype.type(ret / rcount)\n",
            "100%|██████████| 40000/40000 [00:29<00:00, 1360.44it/s]\n"
          ]
        }
      ],
      "source": [
        "# Empty list \n",
        "X = []\n",
        "\n",
        "# Looping though words\n",
        "for words in tqdm(words_list):\n",
        "  X.append(np.mean([model.wv[word] for word in words if word in model.wv.index2word], axis=0))"
      ]
    },
    {
      "cell_type": "code",
      "source": [
        "# Let us combine the dataset and get rid of any null values that may have occured after preprocessing\n",
        "\n",
        "preprocessed_data = pd.concat([pd.DataFrame(np.array(X)),pd.DataFrame(data['sentiment'])], axis=1)"
      ],
      "metadata": {
        "colab": {
          "base_uri": "https://localhost:8080/"
        },
        "id": "6k7AnxBbQuuD",
        "outputId": "0546080e-2564-483d-809c-a827279dba40"
      },
      "execution_count": 167,
      "outputs": [
        {
          "output_type": "stream",
          "name": "stderr",
          "text": [
            "/usr/local/lib/python3.7/dist-packages/ipykernel_launcher.py:3: VisibleDeprecationWarning: Creating an ndarray from ragged nested sequences (which is a list-or-tuple of lists-or-tuples-or ndarrays with different lengths or shapes) is deprecated. If you meant to do this, you must specify 'dtype=object' when creating the ndarray.\n",
            "  This is separate from the ipykernel package so we can avoid doing imports until\n"
          ]
        }
      ]
    },
    {
      "cell_type": "code",
      "source": [],
      "metadata": {
        "id": "-e4U7Wbrzm96"
      },
      "execution_count": 167,
      "outputs": []
    },
    {
      "cell_type": "code",
      "source": [
        "preprocessed_data.shape"
      ],
      "metadata": {
        "colab": {
          "base_uri": "https://localhost:8080/"
        },
        "id": "jO_nhxZQRr5F",
        "outputId": "d1ac9149-9cc3-4b63-8f72-a073add9a4ff"
      },
      "execution_count": 168,
      "outputs": [
        {
          "output_type": "execute_result",
          "data": {
            "text/plain": [
              "(40000, 2)"
            ]
          },
          "metadata": {},
          "execution_count": 168
        }
      ]
    },
    {
      "cell_type": "code",
      "source": [
        "# eliminating missing values \n",
        "\n",
        "preprocessed_data.isna().any()"
      ],
      "metadata": {
        "colab": {
          "base_uri": "https://localhost:8080/"
        },
        "id": "CwL8hoQfRr9l",
        "outputId": "db0b3c08-b6de-4cc7-9d83-fbb519f0eef3"
      },
      "execution_count": 169,
      "outputs": [
        {
          "output_type": "execute_result",
          "data": {
            "text/plain": [
              "0             True\n",
              "sentiment    False\n",
              "dtype: bool"
            ]
          },
          "metadata": {},
          "execution_count": 169
        }
      ]
    },
    {
      "cell_type": "code",
      "source": [
        "# Dropping misisng value\n",
        "\n",
        "preprocessed_data.dropna(inplace=True)"
      ],
      "metadata": {
        "id": "-UL4fsUjRsBe"
      },
      "execution_count": 170,
      "outputs": []
    },
    {
      "cell_type": "code",
      "source": [
        "preprocessed_data.isna().any()"
      ],
      "metadata": {
        "colab": {
          "base_uri": "https://localhost:8080/"
        },
        "id": "XNyTjehnq_tw",
        "outputId": "7502d3e8-ef61-426f-f106-6dfa92d39074"
      },
      "execution_count": 171,
      "outputs": [
        {
          "output_type": "execute_result",
          "data": {
            "text/plain": [
              "0            False\n",
              "sentiment    False\n",
              "dtype: bool"
            ]
          },
          "metadata": {},
          "execution_count": 171
        }
      ]
    },
    {
      "cell_type": "code",
      "source": [
        "# Assinging feature and label\n",
        "\n",
        "X = preprocessed_data[0]\n",
        "y = preprocessed_data['sentiment']"
      ],
      "metadata": {
        "id": "VivyhJgBSHh5"
      },
      "execution_count": 172,
      "outputs": []
    },
    {
      "cell_type": "code",
      "execution_count": 173,
      "metadata": {
        "id": "ezY1CEbqg-jQ"
      },
      "outputs": [],
      "source": [
        "from sklearn import preprocessing\n",
        "\n",
        "le = preprocessing.LabelEncoder()"
      ]
    },
    {
      "cell_type": "code",
      "execution_count": 174,
      "metadata": {
        "id": "0nuueBE5hCT3"
      },
      "outputs": [],
      "source": [
        "y = le.fit_transform(y)"
      ]
    },
    {
      "cell_type": "code",
      "source": [
        "X = np.array(X)"
      ],
      "metadata": {
        "id": "Lm0yWUoQrFz1"
      },
      "execution_count": 175,
      "outputs": []
    },
    {
      "cell_type": "code",
      "source": [
        "from sklearn.model_selection import train_test_split\n",
        "\n",
        "train_X, test_X, train_y, test_y = train_test_split(X,y, train_size = 0.93, random_state= 101 )"
      ],
      "metadata": {
        "id": "yJpmXLdErQ5O"
      },
      "execution_count": 183,
      "outputs": []
    },
    {
      "cell_type": "code",
      "source": [
        "gnb = GaussianNB()"
      ],
      "metadata": {
        "id": "AyXVg7s0rQ9_"
      },
      "execution_count": 184,
      "outputs": []
    },
    {
      "cell_type": "code",
      "source": [
        "gnb.fit(train_X.tolist(), train_y)"
      ],
      "metadata": {
        "colab": {
          "base_uri": "https://localhost:8080/"
        },
        "id": "_rAMyMdHrRBS",
        "outputId": "d1974144-32bc-4a9d-87be-2169ae8fc028"
      },
      "execution_count": 186,
      "outputs": [
        {
          "output_type": "execute_result",
          "data": {
            "text/plain": [
              "GaussianNB()"
            ]
          },
          "metadata": {},
          "execution_count": 186
        }
      ]
    },
    {
      "cell_type": "code",
      "source": [
        "predictions = gnb.predict(test_X.tolist())"
      ],
      "metadata": {
        "id": "7qqIIkV5rRGT"
      },
      "execution_count": 187,
      "outputs": []
    },
    {
      "cell_type": "code",
      "source": [
        "score = accuracy_score(test_y, predictions)"
      ],
      "metadata": {
        "id": "tHrQlJJurRLM"
      },
      "execution_count": 188,
      "outputs": []
    },
    {
      "cell_type": "code",
      "source": [
        "print(\"And the final score is ...... ..... ...\", score)"
      ],
      "metadata": {
        "colab": {
          "base_uri": "https://localhost:8080/"
        },
        "id": "kv2YvqIHs31U",
        "outputId": "9f4af754-a312-4390-85c2-31d859719131"
      },
      "execution_count": 189,
      "outputs": [
        {
          "output_type": "stream",
          "name": "stdout",
          "text": [
            "And the final score is ...... ..... ... 0.06036651095939633\n"
          ]
        }
      ]
    },
    {
      "cell_type": "code",
      "source": [
        "test_y"
      ],
      "metadata": {
        "colab": {
          "base_uri": "https://localhost:8080/"
        },
        "id": "6zpj4P31s35c",
        "outputId": "ca4ec741-269c-4df8-fa19-0ec017725eee"
      },
      "execution_count": 191,
      "outputs": [
        {
          "output_type": "execute_result",
          "data": {
            "text/plain": [
              "array([11,  8, 12, ...,  5,  8,  5])"
            ]
          },
          "metadata": {},
          "execution_count": 191
        }
      ]
    },
    {
      "cell_type": "code",
      "source": [],
      "metadata": {
        "id": "r0r_zFvas3-2"
      },
      "execution_count": 195,
      "outputs": []
    },
    {
      "cell_type": "code",
      "source": [],
      "metadata": {
        "id": "XO6JNpqds4EL"
      },
      "execution_count": null,
      "outputs": []
    },
    {
      "cell_type": "code",
      "source": [],
      "metadata": {
        "id": "mw19XNuds4Ho"
      },
      "execution_count": null,
      "outputs": []
    },
    {
      "cell_type": "code",
      "source": [],
      "metadata": {
        "id": "2_prIezks4NE"
      },
      "execution_count": null,
      "outputs": []
    },
    {
      "cell_type": "code",
      "source": [
        "="
      ],
      "metadata": {
        "colab": {
          "base_uri": "https://localhost:8080/"
        },
        "id": "GmnfgyQRqJOQ",
        "outputId": "1f26e705-58e5-4f17-ea2d-441b44ee4fd2"
      },
      "execution_count": 162,
      "outputs": [
        {
          "output_type": "execute_result",
          "data": {
            "text/plain": [
              "(39752,)"
            ]
          },
          "metadata": {},
          "execution_count": 162
        }
      ]
    },
    {
      "cell_type": "markdown",
      "metadata": {
        "id": "6p6P_k7kb3H4"
      },
      "source": [
        "Train test split"
      ]
    },
    {
      "cell_type": "code",
      "source": [
        "import tensorflow as tf"
      ],
      "metadata": {
        "id": "MuHEB3syGdSj"
      },
      "execution_count": null,
      "outputs": []
    },
    {
      "cell_type": "code",
      "execution_count": null,
      "metadata": {
        "id": "pc-5MJrhUwwy"
      },
      "outputs": [],
      "source": [
        "from sklearn.model_selection import train_test_split\n",
        "\n",
        "train_X, test_X, train_y, test_y = train_test_split(X,y,test_size=0.1,random_state=101)"
      ]
    },
    {
      "cell_type": "code",
      "source": [
        "train_X.shape"
      ],
      "metadata": {
        "colab": {
          "base_uri": "https://localhost:8080/"
        },
        "id": "cr-F_VTTu-20",
        "outputId": "aa3df06c-e683-4bdd-8337-4f03b93b315d"
      },
      "execution_count": null,
      "outputs": [
        {
          "output_type": "execute_result",
          "data": {
            "text/plain": [
              "(35776,)"
            ]
          },
          "metadata": {},
          "execution_count": 121
        }
      ]
    },
    {
      "cell_type": "code",
      "source": [
        "train_y.shape"
      ],
      "metadata": {
        "colab": {
          "base_uri": "https://localhost:8080/"
        },
        "id": "qIV7VPb0LT0U",
        "outputId": "88f78197-78fe-427e-c02f-b571945c4c0e"
      },
      "execution_count": null,
      "outputs": [
        {
          "output_type": "execute_result",
          "data": {
            "text/plain": [
              "(35776, 13)"
            ]
          },
          "metadata": {},
          "execution_count": 122
        }
      ]
    },
    {
      "cell_type": "code",
      "source": [
        "test_X.shape"
      ],
      "metadata": {
        "colab": {
          "base_uri": "https://localhost:8080/"
        },
        "id": "uXiZbVjvLT3p",
        "outputId": "32dbe620-3610-4544-8937-b39edc232fcf"
      },
      "execution_count": null,
      "outputs": [
        {
          "output_type": "execute_result",
          "data": {
            "text/plain": [
              "(3976,)"
            ]
          },
          "metadata": {},
          "execution_count": 123
        }
      ]
    },
    {
      "cell_type": "code",
      "source": [
        "test_y.shape"
      ],
      "metadata": {
        "colab": {
          "base_uri": "https://localhost:8080/"
        },
        "id": "QBSk8vDDLT6y",
        "outputId": "72fdc72a-72db-4579-b044-dfba8654036b"
      },
      "execution_count": null,
      "outputs": [
        {
          "output_type": "execute_result",
          "data": {
            "text/plain": [
              "(3976, 13)"
            ]
          },
          "metadata": {},
          "execution_count": 124
        }
      ]
    },
    {
      "cell_type": "code",
      "source": [],
      "metadata": {
        "id": "KbyYtgLP3dgw"
      },
      "execution_count": null,
      "outputs": []
    },
    {
      "cell_type": "markdown",
      "metadata": {
        "id": "0NUPBBroKdfW"
      },
      "source": [
        "."
      ]
    },
    {
      "cell_type": "markdown",
      "metadata": {
        "id": "vQ_uu-D8Kdh8"
      },
      "source": [
        "## Bi-directional LSTM RNN "
      ]
    },
    {
      "cell_type": "markdown",
      "metadata": {
        "id": "OB9_UQpFN-iD"
      },
      "source": [
        "Implementing Bi-directional Long short term Memory recurrent neural network "
      ]
    },
    {
      "cell_type": "code",
      "execution_count": null,
      "metadata": {
        "id": "5XctiZrBJqNu"
      },
      "outputs": [],
      "source": [
        "# Importing the necessary libraries\n",
        "\n",
        "import tensorflow \n",
        "from tensorflow import keras\n",
        "\n",
        "from keras.layers import Dense, Flatten, Input, LSTM, Bidirectional, Embedding, Dropout\n",
        "from keras.models import Model, Sequential"
      ]
    },
    {
      "cell_type": "code",
      "execution_count": null,
      "metadata": {
        "colab": {
          "base_uri": "https://localhost:8080/"
        },
        "id": "J4KqfHfJdpO0",
        "outputId": "0ec54178-0637-4ea3-890e-34ba56d698c7"
      },
      "outputs": [
        {
          "output_type": "stream",
          "name": "stdout",
          "text": [
            "42763\n"
          ]
        }
      ],
      "source": []
    },
    {
      "cell_type": "markdown",
      "metadata": {
        "id": "6NOrUaaodAwy"
      },
      "source": [
        "Sequential API"
      ]
    },
    {
      "cell_type": "code",
      "execution_count": null,
      "metadata": {
        "colab": {
          "base_uri": "https://localhost:8080/"
        },
        "id": "kxwstlo7fJsR",
        "outputId": "26a81548-f3be-410a-ce48-6c2a3198a8cb"
      },
      "outputs": [
        {
          "output_type": "stream",
          "name": "stdout",
          "text": [
            "13\n"
          ]
        }
      ],
      "source": [
        "classes = len(data['sentiment'].unique())\n",
        "\n",
        "print(classes)"
      ]
    },
    {
      "cell_type": "code",
      "execution_count": null,
      "metadata": {
        "id": "K2g2mcyJKSQ6"
      },
      "outputs": [],
      "source": [
        "model = Sequential()"
      ]
    },
    {
      "cell_type": "code",
      "source": [
        "X[0].shape"
      ],
      "metadata": {
        "id": "PJ3rMZn3g6wL",
        "colab": {
          "base_uri": "https://localhost:8080/"
        },
        "outputId": "ef2eb1c0-219a-4763-e27c-d24b484f528c"
      },
      "execution_count": null,
      "outputs": [
        {
          "output_type": "execute_result",
          "data": {
            "text/plain": [
              "(100,)"
            ]
          },
          "metadata": {},
          "execution_count": 151
        }
      ]
    },
    {
      "cell_type": "code",
      "execution_count": null,
      "metadata": {
        "id": "T7kgXjkTORV3"
      },
      "outputs": [],
      "source": [
        "model.add(Embedding(input_dim = len(unique_words),output_dim = 1,input_length= 100))\n",
        "model.add(LSTM(100))\n",
        "model.add(Dense(classes, activation = 'softmax'))"
      ]
    },
    {
      "cell_type": "code",
      "source": [
        "model.summary()"
      ],
      "metadata": {
        "colab": {
          "base_uri": "https://localhost:8080/"
        },
        "id": "Pz2tKVqcMRTP",
        "outputId": "172bd4e2-6465-4f1f-9678-bb5ff90fc9a2"
      },
      "execution_count": null,
      "outputs": [
        {
          "output_type": "stream",
          "name": "stdout",
          "text": [
            "Model: \"sequential_6\"\n",
            "_________________________________________________________________\n",
            " Layer (type)                Output Shape              Param #   \n",
            "=================================================================\n",
            " embedding_4 (Embedding)     (None, 35776, 100)        4276300   \n",
            "                                                                 \n",
            " lstm_4 (LSTM)               (None, 100)               80400     \n",
            "                                                                 \n",
            " dense_4 (Dense)             (None, 13)                1313      \n",
            "                                                                 \n",
            " embedding_5 (Embedding)     (None, 13, 100)           4276300   \n",
            "                                                                 \n",
            " lstm_5 (LSTM)               (None, 100)               80400     \n",
            "                                                                 \n",
            " dense_5 (Dense)             (None, 13)                1313      \n",
            "                                                                 \n",
            " embedding_6 (Embedding)     (None, 13, 1)             42763     \n",
            "                                                                 \n",
            " lstm_6 (LSTM)               (None, 100)               40800     \n",
            "                                                                 \n",
            " dense_6 (Dense)             (None, 13)                1313      \n",
            "                                                                 \n",
            "=================================================================\n",
            "Total params: 8,800,902\n",
            "Trainable params: 8,800,902\n",
            "Non-trainable params: 0\n",
            "_________________________________________________________________\n"
          ]
        }
      ]
    },
    {
      "cell_type": "code",
      "source": [
        "model.compile(optimizer='adam', loss='categorical_crossentropy', metrics=['accuracy'])"
      ],
      "metadata": {
        "id": "EiM_XQMJf7aL"
      },
      "execution_count": null,
      "outputs": []
    },
    {
      "cell_type": "code",
      "source": [
        "model.fit(train_X, train_y, epochs=3)"
      ],
      "metadata": {
        "colab": {
          "base_uri": "https://localhost:8080/",
          "height": 307
        },
        "id": "YpPn7PiHr4BT",
        "outputId": "c0fe969f-4c56-46fd-c822-6995f6b4589d"
      },
      "execution_count": null,
      "outputs": [
        {
          "output_type": "error",
          "ename": "ValueError",
          "evalue": "ignored",
          "traceback": [
            "\u001b[0;31m---------------------------------------------------------------------------\u001b[0m",
            "\u001b[0;31mValueError\u001b[0m                                Traceback (most recent call last)",
            "\u001b[0;32m<ipython-input-142-3c2822725a79>\u001b[0m in \u001b[0;36m<module>\u001b[0;34m\u001b[0m\n\u001b[0;32m----> 1\u001b[0;31m \u001b[0mmodel\u001b[0m\u001b[0;34m.\u001b[0m\u001b[0mfit\u001b[0m\u001b[0;34m(\u001b[0m\u001b[0mtrain_X\u001b[0m\u001b[0;34m,\u001b[0m \u001b[0mtrain_y\u001b[0m\u001b[0;34m,\u001b[0m \u001b[0mepochs\u001b[0m\u001b[0;34m=\u001b[0m\u001b[0;36m3\u001b[0m\u001b[0;34m)\u001b[0m\u001b[0;34m\u001b[0m\u001b[0;34m\u001b[0m\u001b[0m\n\u001b[0m",
            "\u001b[0;32m/usr/local/lib/python3.7/dist-packages/keras/utils/traceback_utils.py\u001b[0m in \u001b[0;36merror_handler\u001b[0;34m(*args, **kwargs)\u001b[0m\n\u001b[1;32m     65\u001b[0m     \u001b[0;32mexcept\u001b[0m \u001b[0mException\u001b[0m \u001b[0;32mas\u001b[0m \u001b[0me\u001b[0m\u001b[0;34m:\u001b[0m  \u001b[0;31m# pylint: disable=broad-except\u001b[0m\u001b[0;34m\u001b[0m\u001b[0;34m\u001b[0m\u001b[0m\n\u001b[1;32m     66\u001b[0m       \u001b[0mfiltered_tb\u001b[0m \u001b[0;34m=\u001b[0m \u001b[0m_process_traceback_frames\u001b[0m\u001b[0;34m(\u001b[0m\u001b[0me\u001b[0m\u001b[0;34m.\u001b[0m\u001b[0m__traceback__\u001b[0m\u001b[0;34m)\u001b[0m\u001b[0;34m\u001b[0m\u001b[0;34m\u001b[0m\u001b[0m\n\u001b[0;32m---> 67\u001b[0;31m       \u001b[0;32mraise\u001b[0m \u001b[0me\u001b[0m\u001b[0;34m.\u001b[0m\u001b[0mwith_traceback\u001b[0m\u001b[0;34m(\u001b[0m\u001b[0mfiltered_tb\u001b[0m\u001b[0;34m)\u001b[0m \u001b[0;32mfrom\u001b[0m \u001b[0;32mNone\u001b[0m\u001b[0;34m\u001b[0m\u001b[0;34m\u001b[0m\u001b[0m\n\u001b[0m\u001b[1;32m     68\u001b[0m     \u001b[0;32mfinally\u001b[0m\u001b[0;34m:\u001b[0m\u001b[0;34m\u001b[0m\u001b[0;34m\u001b[0m\u001b[0m\n\u001b[1;32m     69\u001b[0m       \u001b[0;32mdel\u001b[0m \u001b[0mfiltered_tb\u001b[0m\u001b[0;34m\u001b[0m\u001b[0;34m\u001b[0m\u001b[0m\n",
            "\u001b[0;32m/usr/local/lib/python3.7/dist-packages/tensorflow/python/framework/constant_op.py\u001b[0m in \u001b[0;36mconvert_to_eager_tensor\u001b[0;34m(value, ctx, dtype)\u001b[0m\n\u001b[1;32m    100\u001b[0m       \u001b[0mdtype\u001b[0m \u001b[0;34m=\u001b[0m \u001b[0mdtypes\u001b[0m\u001b[0;34m.\u001b[0m\u001b[0mas_dtype\u001b[0m\u001b[0;34m(\u001b[0m\u001b[0mdtype\u001b[0m\u001b[0;34m)\u001b[0m\u001b[0;34m.\u001b[0m\u001b[0mas_datatype_enum\u001b[0m\u001b[0;34m\u001b[0m\u001b[0;34m\u001b[0m\u001b[0m\n\u001b[1;32m    101\u001b[0m   \u001b[0mctx\u001b[0m\u001b[0;34m.\u001b[0m\u001b[0mensure_initialized\u001b[0m\u001b[0;34m(\u001b[0m\u001b[0;34m)\u001b[0m\u001b[0;34m\u001b[0m\u001b[0;34m\u001b[0m\u001b[0m\n\u001b[0;32m--> 102\u001b[0;31m   \u001b[0;32mreturn\u001b[0m \u001b[0mops\u001b[0m\u001b[0;34m.\u001b[0m\u001b[0mEagerTensor\u001b[0m\u001b[0;34m(\u001b[0m\u001b[0mvalue\u001b[0m\u001b[0;34m,\u001b[0m \u001b[0mctx\u001b[0m\u001b[0;34m.\u001b[0m\u001b[0mdevice_name\u001b[0m\u001b[0;34m,\u001b[0m \u001b[0mdtype\u001b[0m\u001b[0;34m)\u001b[0m\u001b[0;34m\u001b[0m\u001b[0;34m\u001b[0m\u001b[0m\n\u001b[0m\u001b[1;32m    103\u001b[0m \u001b[0;34m\u001b[0m\u001b[0m\n\u001b[1;32m    104\u001b[0m \u001b[0;34m\u001b[0m\u001b[0m\n",
            "\u001b[0;31mValueError\u001b[0m: Failed to convert a NumPy array to a Tensor (Unsupported object type numpy.ndarray)."
          ]
        }
      ]
    },
    {
      "cell_type": "code",
      "source": [
        "preprocessed_data[\"sentiment\"].unique()"
      ],
      "metadata": {
        "colab": {
          "base_uri": "https://localhost:8080/"
        },
        "id": "VrgVkekcxlWU",
        "outputId": "fb7d620e-496d-4dd7-fcfc-db4f7fc615dd"
      },
      "execution_count": null,
      "outputs": [
        {
          "output_type": "execute_result",
          "data": {
            "text/plain": [
              "array(['empty', 'sadness', 'enthusiasm', 'neutral', 'worry', 'surprise',\n",
              "       'love', 'fun', 'hate', 'happiness', 'boredom', 'relief', 'anger'],\n",
              "      dtype=object)"
            ]
          },
          "metadata": {},
          "execution_count": 308
        }
      ]
    },
    {
      "cell_type": "code",
      "source": [
        "min(test_y)"
      ],
      "metadata": {
        "id": "cfmjqpbCrO9a",
        "colab": {
          "base_uri": "https://localhost:8080/"
        },
        "outputId": "75abd358-67ff-42ae-adac-ba58332dbe59"
      },
      "execution_count": null,
      "outputs": [
        {
          "output_type": "execute_result",
          "data": {
            "text/plain": [
              "0"
            ]
          },
          "metadata": {},
          "execution_count": 311
        }
      ]
    },
    {
      "cell_type": "code",
      "source": [
        "train_X.shape"
      ],
      "metadata": {
        "colab": {
          "base_uri": "https://localhost:8080/"
        },
        "id": "KkFPU6sVesxa",
        "outputId": "84a36bd8-d83c-41f2-b40c-0eed5f31bc2f"
      },
      "execution_count": null,
      "outputs": [
        {
          "output_type": "execute_result",
          "data": {
            "text/plain": [
              "(35776, 100)"
            ]
          },
          "metadata": {},
          "execution_count": 143
        }
      ]
    },
    {
      "cell_type": "code",
      "source": [
        "train_X.dtype"
      ],
      "metadata": {
        "colab": {
          "base_uri": "https://localhost:8080/"
        },
        "id": "pPeTRrHjp9ax",
        "outputId": "c679a14e-3846-4219-9d9c-e0363bc93dd2"
      },
      "execution_count": null,
      "outputs": [
        {
          "output_type": "execute_result",
          "data": {
            "text/plain": [
              "dtype('O')"
            ]
          },
          "metadata": {},
          "execution_count": 252
        }
      ]
    },
    {
      "cell_type": "code",
      "source": [
        "train_X = np.array([np.array(val).astype('float64') for val in train_X])\n",
        "train_y = np.array([np.array(val).astype('float64') for val in train_y])\n",
        "test_X = np.array([np.array(val).astype('float64') for val in test_X])\n",
        "test_y = np.array([np.array(val).astype('float64') for val in test_y])"
      ],
      "metadata": {
        "colab": {
          "base_uri": "https://localhost:8080/"
        },
        "id": "l6g9bCk22RHV",
        "outputId": "0def35cd-8c6b-44f8-82d5-059a625f3ca8"
      },
      "execution_count": null,
      "outputs": [
        {
          "output_type": "stream",
          "name": "stderr",
          "text": [
            "/usr/local/lib/python3.7/dist-packages/ipykernel_launcher.py:1: VisibleDeprecationWarning: Creating an ndarray from ragged nested sequences (which is a list-or-tuple of lists-or-tuples-or ndarrays with different lengths or shapes) is deprecated. If you meant to do this, you must specify 'dtype=object' when creating the ndarray.\n",
            "  \"\"\"Entry point for launching an IPython kernel.\n",
            "/usr/local/lib/python3.7/dist-packages/ipykernel_launcher.py:3: VisibleDeprecationWarning: Creating an ndarray from ragged nested sequences (which is a list-or-tuple of lists-or-tuples-or ndarrays with different lengths or shapes) is deprecated. If you meant to do this, you must specify 'dtype=object' when creating the ndarray.\n",
            "  This is separate from the ipykernel package so we can avoid doing imports until\n"
          ]
        }
      ]
    },
    {
      "cell_type": "code",
      "execution_count": null,
      "metadata": {
        "colab": {
          "base_uri": "https://localhost:8080/",
          "height": 307
        },
        "id": "1NZLT5LeORdV",
        "outputId": "729e0b1b-3c11-4118-af7b-b50dca17e921"
      },
      "outputs": [
        {
          "output_type": "error",
          "ename": "ValueError",
          "evalue": "ignored",
          "traceback": [
            "\u001b[0;31m---------------------------------------------------------------------------\u001b[0m",
            "\u001b[0;31mValueError\u001b[0m                                Traceback (most recent call last)",
            "\u001b[0;32m<ipython-input-255-0e8cb93f2c07>\u001b[0m in \u001b[0;36m<module>\u001b[0;34m\u001b[0m\n\u001b[0;32m----> 1\u001b[0;31m \u001b[0mmodel\u001b[0m\u001b[0;34m.\u001b[0m\u001b[0mfit\u001b[0m\u001b[0;34m(\u001b[0m\u001b[0mtrain_X\u001b[0m\u001b[0;34m,\u001b[0m \u001b[0mtrain_y\u001b[0m\u001b[0;34m,\u001b[0m \u001b[0mepochs\u001b[0m\u001b[0;34m=\u001b[0m\u001b[0;36m10\u001b[0m\u001b[0;34m)\u001b[0m\u001b[0;34m\u001b[0m\u001b[0;34m\u001b[0m\u001b[0m\n\u001b[0m",
            "\u001b[0;32m/usr/local/lib/python3.7/dist-packages/keras/utils/traceback_utils.py\u001b[0m in \u001b[0;36merror_handler\u001b[0;34m(*args, **kwargs)\u001b[0m\n\u001b[1;32m     65\u001b[0m     \u001b[0;32mexcept\u001b[0m \u001b[0mException\u001b[0m \u001b[0;32mas\u001b[0m \u001b[0me\u001b[0m\u001b[0;34m:\u001b[0m  \u001b[0;31m# pylint: disable=broad-except\u001b[0m\u001b[0;34m\u001b[0m\u001b[0;34m\u001b[0m\u001b[0m\n\u001b[1;32m     66\u001b[0m       \u001b[0mfiltered_tb\u001b[0m \u001b[0;34m=\u001b[0m \u001b[0m_process_traceback_frames\u001b[0m\u001b[0;34m(\u001b[0m\u001b[0me\u001b[0m\u001b[0;34m.\u001b[0m\u001b[0m__traceback__\u001b[0m\u001b[0;34m)\u001b[0m\u001b[0;34m\u001b[0m\u001b[0;34m\u001b[0m\u001b[0m\n\u001b[0;32m---> 67\u001b[0;31m       \u001b[0;32mraise\u001b[0m \u001b[0me\u001b[0m\u001b[0;34m.\u001b[0m\u001b[0mwith_traceback\u001b[0m\u001b[0;34m(\u001b[0m\u001b[0mfiltered_tb\u001b[0m\u001b[0;34m)\u001b[0m \u001b[0;32mfrom\u001b[0m \u001b[0;32mNone\u001b[0m\u001b[0;34m\u001b[0m\u001b[0;34m\u001b[0m\u001b[0m\n\u001b[0m\u001b[1;32m     68\u001b[0m     \u001b[0;32mfinally\u001b[0m\u001b[0;34m:\u001b[0m\u001b[0;34m\u001b[0m\u001b[0;34m\u001b[0m\u001b[0m\n\u001b[1;32m     69\u001b[0m       \u001b[0;32mdel\u001b[0m \u001b[0mfiltered_tb\u001b[0m\u001b[0;34m\u001b[0m\u001b[0;34m\u001b[0m\u001b[0m\n",
            "\u001b[0;32m/usr/local/lib/python3.7/dist-packages/tensorflow/python/framework/constant_op.py\u001b[0m in \u001b[0;36mconvert_to_eager_tensor\u001b[0;34m(value, ctx, dtype)\u001b[0m\n\u001b[1;32m    100\u001b[0m       \u001b[0mdtype\u001b[0m \u001b[0;34m=\u001b[0m \u001b[0mdtypes\u001b[0m\u001b[0;34m.\u001b[0m\u001b[0mas_dtype\u001b[0m\u001b[0;34m(\u001b[0m\u001b[0mdtype\u001b[0m\u001b[0;34m)\u001b[0m\u001b[0;34m.\u001b[0m\u001b[0mas_datatype_enum\u001b[0m\u001b[0;34m\u001b[0m\u001b[0;34m\u001b[0m\u001b[0m\n\u001b[1;32m    101\u001b[0m   \u001b[0mctx\u001b[0m\u001b[0;34m.\u001b[0m\u001b[0mensure_initialized\u001b[0m\u001b[0;34m(\u001b[0m\u001b[0;34m)\u001b[0m\u001b[0;34m\u001b[0m\u001b[0;34m\u001b[0m\u001b[0m\n\u001b[0;32m--> 102\u001b[0;31m   \u001b[0;32mreturn\u001b[0m \u001b[0mops\u001b[0m\u001b[0;34m.\u001b[0m\u001b[0mEagerTensor\u001b[0m\u001b[0;34m(\u001b[0m\u001b[0mvalue\u001b[0m\u001b[0;34m,\u001b[0m \u001b[0mctx\u001b[0m\u001b[0;34m.\u001b[0m\u001b[0mdevice_name\u001b[0m\u001b[0;34m,\u001b[0m \u001b[0mdtype\u001b[0m\u001b[0;34m)\u001b[0m\u001b[0;34m\u001b[0m\u001b[0;34m\u001b[0m\u001b[0m\n\u001b[0m\u001b[1;32m    103\u001b[0m \u001b[0;34m\u001b[0m\u001b[0m\n\u001b[1;32m    104\u001b[0m \u001b[0;34m\u001b[0m\u001b[0m\n",
            "\u001b[0;31mValueError\u001b[0m: Failed to convert a NumPy array to a Tensor (Unsupported object type numpy.ndarray)."
          ]
        }
      ],
      "source": [
        "model.fit(train_X, train_y, epochs=10)"
      ]
    },
    {
      "cell_type": "code",
      "source": [
        "from sklearn.ensemble import RandomForestClassifier"
      ],
      "metadata": {
        "id": "kh5I7Oc_eOgL"
      },
      "execution_count": null,
      "outputs": []
    },
    {
      "cell_type": "code",
      "source": [
        "classifier = RandomForestClassifier()"
      ],
      "metadata": {
        "id": "OmVafoHReOir"
      },
      "execution_count": null,
      "outputs": []
    },
    {
      "cell_type": "code",
      "source": [
        "classifier.fit(train_X, train_y)"
      ],
      "metadata": {
        "colab": {
          "base_uri": "https://localhost:8080/",
          "height": 409
        },
        "id": "XpblmKsreOli",
        "outputId": "f05c81ca-035e-4584-aaab-2e6ecd74be11"
      },
      "execution_count": null,
      "outputs": [
        {
          "output_type": "error",
          "ename": "ValueError",
          "evalue": "ignored",
          "traceback": [
            "\u001b[0;31m---------------------------------------------------------------------------\u001b[0m",
            "\u001b[0;31mTypeError\u001b[0m                                 Traceback (most recent call last)",
            "\u001b[0;31mTypeError\u001b[0m: float() argument must be a string or a number, not 'list'",
            "\nThe above exception was the direct cause of the following exception:\n",
            "\u001b[0;31mValueError\u001b[0m                                Traceback (most recent call last)",
            "\u001b[0;32m<ipython-input-297-b75a78cce711>\u001b[0m in \u001b[0;36m<module>\u001b[0;34m\u001b[0m\n\u001b[0;32m----> 1\u001b[0;31m \u001b[0mclassifier\u001b[0m\u001b[0;34m.\u001b[0m\u001b[0mfit\u001b[0m\u001b[0;34m(\u001b[0m\u001b[0mtrain_X\u001b[0m\u001b[0;34m,\u001b[0m \u001b[0mtrain_y\u001b[0m\u001b[0;34m)\u001b[0m\u001b[0;34m\u001b[0m\u001b[0;34m\u001b[0m\u001b[0m\n\u001b[0m",
            "\u001b[0;32m/usr/local/lib/python3.7/dist-packages/sklearn/ensemble/_forest.py\u001b[0m in \u001b[0;36mfit\u001b[0;34m(self, X, y, sample_weight)\u001b[0m\n\u001b[1;32m    326\u001b[0m             \u001b[0;32mraise\u001b[0m \u001b[0mValueError\u001b[0m\u001b[0;34m(\u001b[0m\u001b[0;34m\"sparse multilabel-indicator for y is not supported.\"\u001b[0m\u001b[0;34m)\u001b[0m\u001b[0;34m\u001b[0m\u001b[0;34m\u001b[0m\u001b[0m\n\u001b[1;32m    327\u001b[0m         X, y = self._validate_data(\n\u001b[0;32m--> 328\u001b[0;31m             \u001b[0mX\u001b[0m\u001b[0;34m,\u001b[0m \u001b[0my\u001b[0m\u001b[0;34m,\u001b[0m \u001b[0mmulti_output\u001b[0m\u001b[0;34m=\u001b[0m\u001b[0;32mTrue\u001b[0m\u001b[0;34m,\u001b[0m \u001b[0maccept_sparse\u001b[0m\u001b[0;34m=\u001b[0m\u001b[0;34m\"csc\"\u001b[0m\u001b[0;34m,\u001b[0m \u001b[0mdtype\u001b[0m\u001b[0;34m=\u001b[0m\u001b[0mDTYPE\u001b[0m\u001b[0;34m\u001b[0m\u001b[0;34m\u001b[0m\u001b[0m\n\u001b[0m\u001b[1;32m    329\u001b[0m         )\n\u001b[1;32m    330\u001b[0m         \u001b[0;32mif\u001b[0m \u001b[0msample_weight\u001b[0m \u001b[0;32mis\u001b[0m \u001b[0;32mnot\u001b[0m \u001b[0;32mNone\u001b[0m\u001b[0;34m:\u001b[0m\u001b[0;34m\u001b[0m\u001b[0;34m\u001b[0m\u001b[0m\n",
            "\u001b[0;32m/usr/local/lib/python3.7/dist-packages/sklearn/base.py\u001b[0m in \u001b[0;36m_validate_data\u001b[0;34m(self, X, y, reset, validate_separately, **check_params)\u001b[0m\n\u001b[1;32m    579\u001b[0m                 \u001b[0my\u001b[0m \u001b[0;34m=\u001b[0m \u001b[0mcheck_array\u001b[0m\u001b[0;34m(\u001b[0m\u001b[0my\u001b[0m\u001b[0;34m,\u001b[0m \u001b[0;34m**\u001b[0m\u001b[0mcheck_y_params\u001b[0m\u001b[0;34m)\u001b[0m\u001b[0;34m\u001b[0m\u001b[0;34m\u001b[0m\u001b[0m\n\u001b[1;32m    580\u001b[0m             \u001b[0;32melse\u001b[0m\u001b[0;34m:\u001b[0m\u001b[0;34m\u001b[0m\u001b[0;34m\u001b[0m\u001b[0m\n\u001b[0;32m--> 581\u001b[0;31m                 \u001b[0mX\u001b[0m\u001b[0;34m,\u001b[0m \u001b[0my\u001b[0m \u001b[0;34m=\u001b[0m \u001b[0mcheck_X_y\u001b[0m\u001b[0;34m(\u001b[0m\u001b[0mX\u001b[0m\u001b[0;34m,\u001b[0m \u001b[0my\u001b[0m\u001b[0;34m,\u001b[0m \u001b[0;34m**\u001b[0m\u001b[0mcheck_params\u001b[0m\u001b[0;34m)\u001b[0m\u001b[0;34m\u001b[0m\u001b[0;34m\u001b[0m\u001b[0m\n\u001b[0m\u001b[1;32m    582\u001b[0m             \u001b[0mout\u001b[0m \u001b[0;34m=\u001b[0m \u001b[0mX\u001b[0m\u001b[0;34m,\u001b[0m \u001b[0my\u001b[0m\u001b[0;34m\u001b[0m\u001b[0;34m\u001b[0m\u001b[0m\n\u001b[1;32m    583\u001b[0m \u001b[0;34m\u001b[0m\u001b[0m\n",
            "\u001b[0;32m/usr/local/lib/python3.7/dist-packages/sklearn/utils/validation.py\u001b[0m in \u001b[0;36mcheck_X_y\u001b[0;34m(X, y, accept_sparse, accept_large_sparse, dtype, order, copy, force_all_finite, ensure_2d, allow_nd, multi_output, ensure_min_samples, ensure_min_features, y_numeric, estimator)\u001b[0m\n\u001b[1;32m    974\u001b[0m         \u001b[0mensure_min_samples\u001b[0m\u001b[0;34m=\u001b[0m\u001b[0mensure_min_samples\u001b[0m\u001b[0;34m,\u001b[0m\u001b[0;34m\u001b[0m\u001b[0;34m\u001b[0m\u001b[0m\n\u001b[1;32m    975\u001b[0m         \u001b[0mensure_min_features\u001b[0m\u001b[0;34m=\u001b[0m\u001b[0mensure_min_features\u001b[0m\u001b[0;34m,\u001b[0m\u001b[0;34m\u001b[0m\u001b[0;34m\u001b[0m\u001b[0m\n\u001b[0;32m--> 976\u001b[0;31m         \u001b[0mestimator\u001b[0m\u001b[0;34m=\u001b[0m\u001b[0mestimator\u001b[0m\u001b[0;34m,\u001b[0m\u001b[0;34m\u001b[0m\u001b[0;34m\u001b[0m\u001b[0m\n\u001b[0m\u001b[1;32m    977\u001b[0m     )\n\u001b[1;32m    978\u001b[0m \u001b[0;34m\u001b[0m\u001b[0m\n",
            "\u001b[0;32m/usr/local/lib/python3.7/dist-packages/sklearn/utils/validation.py\u001b[0m in \u001b[0;36mcheck_array\u001b[0;34m(array, accept_sparse, accept_large_sparse, dtype, order, copy, force_all_finite, ensure_2d, allow_nd, ensure_min_samples, ensure_min_features, estimator)\u001b[0m\n\u001b[1;32m    744\u001b[0m                     \u001b[0marray\u001b[0m \u001b[0;34m=\u001b[0m \u001b[0marray\u001b[0m\u001b[0;34m.\u001b[0m\u001b[0mastype\u001b[0m\u001b[0;34m(\u001b[0m\u001b[0mdtype\u001b[0m\u001b[0;34m,\u001b[0m \u001b[0mcasting\u001b[0m\u001b[0;34m=\u001b[0m\u001b[0;34m\"unsafe\"\u001b[0m\u001b[0;34m,\u001b[0m \u001b[0mcopy\u001b[0m\u001b[0;34m=\u001b[0m\u001b[0;32mFalse\u001b[0m\u001b[0;34m)\u001b[0m\u001b[0;34m\u001b[0m\u001b[0;34m\u001b[0m\u001b[0m\n\u001b[1;32m    745\u001b[0m                 \u001b[0;32melse\u001b[0m\u001b[0;34m:\u001b[0m\u001b[0;34m\u001b[0m\u001b[0;34m\u001b[0m\u001b[0m\n\u001b[0;32m--> 746\u001b[0;31m                     \u001b[0marray\u001b[0m \u001b[0;34m=\u001b[0m \u001b[0mnp\u001b[0m\u001b[0;34m.\u001b[0m\u001b[0masarray\u001b[0m\u001b[0;34m(\u001b[0m\u001b[0marray\u001b[0m\u001b[0;34m,\u001b[0m \u001b[0morder\u001b[0m\u001b[0;34m=\u001b[0m\u001b[0morder\u001b[0m\u001b[0;34m,\u001b[0m \u001b[0mdtype\u001b[0m\u001b[0;34m=\u001b[0m\u001b[0mdtype\u001b[0m\u001b[0;34m)\u001b[0m\u001b[0;34m\u001b[0m\u001b[0;34m\u001b[0m\u001b[0m\n\u001b[0m\u001b[1;32m    747\u001b[0m             \u001b[0;32mexcept\u001b[0m \u001b[0mComplexWarning\u001b[0m \u001b[0;32mas\u001b[0m \u001b[0mcomplex_warning\u001b[0m\u001b[0;34m:\u001b[0m\u001b[0;34m\u001b[0m\u001b[0;34m\u001b[0m\u001b[0m\n\u001b[1;32m    748\u001b[0m                 raise ValueError(\n",
            "\u001b[0;31mValueError\u001b[0m: setting an array element with a sequence."
          ]
        }
      ]
    },
    {
      "cell_type": "code",
      "source": [
        "train_X = np.array(train_X)"
      ],
      "metadata": {
        "id": "Wnk6TT-leOoI"
      },
      "execution_count": null,
      "outputs": []
    },
    {
      "cell_type": "code",
      "source": [
        "train_y.dtype"
      ],
      "metadata": {
        "colab": {
          "base_uri": "https://localhost:8080/"
        },
        "id": "xjzvqpbRgecN",
        "outputId": "756d33e1-577e-44b1-98f3-d7a3373115aa"
      },
      "execution_count": null,
      "outputs": [
        {
          "output_type": "execute_result",
          "data": {
            "text/plain": [
              "dtype('int64')"
            ]
          },
          "metadata": {},
          "execution_count": 299
        }
      ]
    },
    {
      "cell_type": "code",
      "source": [
        "classifier.fit(train_X, train_y)"
      ],
      "metadata": {
        "colab": {
          "base_uri": "https://localhost:8080/",
          "height": 409
        },
        "id": "82vEJ_hfgkSR",
        "outputId": "ffb922a5-0c03-412f-965c-93ac55785b0c"
      },
      "execution_count": null,
      "outputs": [
        {
          "output_type": "error",
          "ename": "ValueError",
          "evalue": "ignored",
          "traceback": [
            "\u001b[0;31m---------------------------------------------------------------------------\u001b[0m",
            "\u001b[0;31mTypeError\u001b[0m                                 Traceback (most recent call last)",
            "\u001b[0;31mTypeError\u001b[0m: float() argument must be a string or a number, not 'list'",
            "\nThe above exception was the direct cause of the following exception:\n",
            "\u001b[0;31mValueError\u001b[0m                                Traceback (most recent call last)",
            "\u001b[0;32m<ipython-input-300-b75a78cce711>\u001b[0m in \u001b[0;36m<module>\u001b[0;34m\u001b[0m\n\u001b[0;32m----> 1\u001b[0;31m \u001b[0mclassifier\u001b[0m\u001b[0;34m.\u001b[0m\u001b[0mfit\u001b[0m\u001b[0;34m(\u001b[0m\u001b[0mtrain_X\u001b[0m\u001b[0;34m,\u001b[0m \u001b[0mtrain_y\u001b[0m\u001b[0;34m)\u001b[0m\u001b[0;34m\u001b[0m\u001b[0;34m\u001b[0m\u001b[0m\n\u001b[0m",
            "\u001b[0;32m/usr/local/lib/python3.7/dist-packages/sklearn/ensemble/_forest.py\u001b[0m in \u001b[0;36mfit\u001b[0;34m(self, X, y, sample_weight)\u001b[0m\n\u001b[1;32m    326\u001b[0m             \u001b[0;32mraise\u001b[0m \u001b[0mValueError\u001b[0m\u001b[0;34m(\u001b[0m\u001b[0;34m\"sparse multilabel-indicator for y is not supported.\"\u001b[0m\u001b[0;34m)\u001b[0m\u001b[0;34m\u001b[0m\u001b[0;34m\u001b[0m\u001b[0m\n\u001b[1;32m    327\u001b[0m         X, y = self._validate_data(\n\u001b[0;32m--> 328\u001b[0;31m             \u001b[0mX\u001b[0m\u001b[0;34m,\u001b[0m \u001b[0my\u001b[0m\u001b[0;34m,\u001b[0m \u001b[0mmulti_output\u001b[0m\u001b[0;34m=\u001b[0m\u001b[0;32mTrue\u001b[0m\u001b[0;34m,\u001b[0m \u001b[0maccept_sparse\u001b[0m\u001b[0;34m=\u001b[0m\u001b[0;34m\"csc\"\u001b[0m\u001b[0;34m,\u001b[0m \u001b[0mdtype\u001b[0m\u001b[0;34m=\u001b[0m\u001b[0mDTYPE\u001b[0m\u001b[0;34m\u001b[0m\u001b[0;34m\u001b[0m\u001b[0m\n\u001b[0m\u001b[1;32m    329\u001b[0m         )\n\u001b[1;32m    330\u001b[0m         \u001b[0;32mif\u001b[0m \u001b[0msample_weight\u001b[0m \u001b[0;32mis\u001b[0m \u001b[0;32mnot\u001b[0m \u001b[0;32mNone\u001b[0m\u001b[0;34m:\u001b[0m\u001b[0;34m\u001b[0m\u001b[0;34m\u001b[0m\u001b[0m\n",
            "\u001b[0;32m/usr/local/lib/python3.7/dist-packages/sklearn/base.py\u001b[0m in \u001b[0;36m_validate_data\u001b[0;34m(self, X, y, reset, validate_separately, **check_params)\u001b[0m\n\u001b[1;32m    579\u001b[0m                 \u001b[0my\u001b[0m \u001b[0;34m=\u001b[0m \u001b[0mcheck_array\u001b[0m\u001b[0;34m(\u001b[0m\u001b[0my\u001b[0m\u001b[0;34m,\u001b[0m \u001b[0;34m**\u001b[0m\u001b[0mcheck_y_params\u001b[0m\u001b[0;34m)\u001b[0m\u001b[0;34m\u001b[0m\u001b[0;34m\u001b[0m\u001b[0m\n\u001b[1;32m    580\u001b[0m             \u001b[0;32melse\u001b[0m\u001b[0;34m:\u001b[0m\u001b[0;34m\u001b[0m\u001b[0;34m\u001b[0m\u001b[0m\n\u001b[0;32m--> 581\u001b[0;31m                 \u001b[0mX\u001b[0m\u001b[0;34m,\u001b[0m \u001b[0my\u001b[0m \u001b[0;34m=\u001b[0m \u001b[0mcheck_X_y\u001b[0m\u001b[0;34m(\u001b[0m\u001b[0mX\u001b[0m\u001b[0;34m,\u001b[0m \u001b[0my\u001b[0m\u001b[0;34m,\u001b[0m \u001b[0;34m**\u001b[0m\u001b[0mcheck_params\u001b[0m\u001b[0;34m)\u001b[0m\u001b[0;34m\u001b[0m\u001b[0;34m\u001b[0m\u001b[0m\n\u001b[0m\u001b[1;32m    582\u001b[0m             \u001b[0mout\u001b[0m \u001b[0;34m=\u001b[0m \u001b[0mX\u001b[0m\u001b[0;34m,\u001b[0m \u001b[0my\u001b[0m\u001b[0;34m\u001b[0m\u001b[0;34m\u001b[0m\u001b[0m\n\u001b[1;32m    583\u001b[0m \u001b[0;34m\u001b[0m\u001b[0m\n",
            "\u001b[0;32m/usr/local/lib/python3.7/dist-packages/sklearn/utils/validation.py\u001b[0m in \u001b[0;36mcheck_X_y\u001b[0;34m(X, y, accept_sparse, accept_large_sparse, dtype, order, copy, force_all_finite, ensure_2d, allow_nd, multi_output, ensure_min_samples, ensure_min_features, y_numeric, estimator)\u001b[0m\n\u001b[1;32m    974\u001b[0m         \u001b[0mensure_min_samples\u001b[0m\u001b[0;34m=\u001b[0m\u001b[0mensure_min_samples\u001b[0m\u001b[0;34m,\u001b[0m\u001b[0;34m\u001b[0m\u001b[0;34m\u001b[0m\u001b[0m\n\u001b[1;32m    975\u001b[0m         \u001b[0mensure_min_features\u001b[0m\u001b[0;34m=\u001b[0m\u001b[0mensure_min_features\u001b[0m\u001b[0;34m,\u001b[0m\u001b[0;34m\u001b[0m\u001b[0;34m\u001b[0m\u001b[0m\n\u001b[0;32m--> 976\u001b[0;31m         \u001b[0mestimator\u001b[0m\u001b[0;34m=\u001b[0m\u001b[0mestimator\u001b[0m\u001b[0;34m,\u001b[0m\u001b[0;34m\u001b[0m\u001b[0;34m\u001b[0m\u001b[0m\n\u001b[0m\u001b[1;32m    977\u001b[0m     )\n\u001b[1;32m    978\u001b[0m \u001b[0;34m\u001b[0m\u001b[0m\n",
            "\u001b[0;32m/usr/local/lib/python3.7/dist-packages/sklearn/utils/validation.py\u001b[0m in \u001b[0;36mcheck_array\u001b[0;34m(array, accept_sparse, accept_large_sparse, dtype, order, copy, force_all_finite, ensure_2d, allow_nd, ensure_min_samples, ensure_min_features, estimator)\u001b[0m\n\u001b[1;32m    744\u001b[0m                     \u001b[0marray\u001b[0m \u001b[0;34m=\u001b[0m \u001b[0marray\u001b[0m\u001b[0;34m.\u001b[0m\u001b[0mastype\u001b[0m\u001b[0;34m(\u001b[0m\u001b[0mdtype\u001b[0m\u001b[0;34m,\u001b[0m \u001b[0mcasting\u001b[0m\u001b[0;34m=\u001b[0m\u001b[0;34m\"unsafe\"\u001b[0m\u001b[0;34m,\u001b[0m \u001b[0mcopy\u001b[0m\u001b[0;34m=\u001b[0m\u001b[0;32mFalse\u001b[0m\u001b[0;34m)\u001b[0m\u001b[0;34m\u001b[0m\u001b[0;34m\u001b[0m\u001b[0m\n\u001b[1;32m    745\u001b[0m                 \u001b[0;32melse\u001b[0m\u001b[0;34m:\u001b[0m\u001b[0;34m\u001b[0m\u001b[0;34m\u001b[0m\u001b[0m\n\u001b[0;32m--> 746\u001b[0;31m                     \u001b[0marray\u001b[0m \u001b[0;34m=\u001b[0m \u001b[0mnp\u001b[0m\u001b[0;34m.\u001b[0m\u001b[0masarray\u001b[0m\u001b[0;34m(\u001b[0m\u001b[0marray\u001b[0m\u001b[0;34m,\u001b[0m \u001b[0morder\u001b[0m\u001b[0;34m=\u001b[0m\u001b[0morder\u001b[0m\u001b[0;34m,\u001b[0m \u001b[0mdtype\u001b[0m\u001b[0;34m=\u001b[0m\u001b[0mdtype\u001b[0m\u001b[0;34m)\u001b[0m\u001b[0;34m\u001b[0m\u001b[0;34m\u001b[0m\u001b[0m\n\u001b[0m\u001b[1;32m    747\u001b[0m             \u001b[0;32mexcept\u001b[0m \u001b[0mComplexWarning\u001b[0m \u001b[0;32mas\u001b[0m \u001b[0mcomplex_warning\u001b[0m\u001b[0;34m:\u001b[0m\u001b[0;34m\u001b[0m\u001b[0;34m\u001b[0m\u001b[0m\n\u001b[1;32m    748\u001b[0m                 raise ValueError(\n",
            "\u001b[0;31mValueError\u001b[0m: setting an array element with a sequence."
          ]
        }
      ]
    },
    {
      "cell_type": "code",
      "source": [],
      "metadata": {
        "id": "8Hj4QZFfhdgr"
      },
      "execution_count": null,
      "outputs": []
    },
    {
      "cell_type": "code",
      "source": [],
      "metadata": {
        "id": "-QYSa2w9KQ6t"
      },
      "execution_count": null,
      "outputs": []
    },
    {
      "cell_type": "code",
      "source": [],
      "metadata": {
        "id": "nCItX4eCKWWG"
      },
      "execution_count": null,
      "outputs": []
    },
    {
      "cell_type": "markdown",
      "source": [
        "## Machine learning model"
      ],
      "metadata": {
        "id": "dnhXNiUfKWft"
      }
    },
    {
      "cell_type": "code",
      "source": [
        "from sklearn.ensemble import RandomForestClassifier"
      ],
      "metadata": {
        "id": "X2iqSdfPKbYo"
      },
      "execution_count": null,
      "outputs": []
    },
    {
      "cell_type": "code",
      "source": [
        "rf_classifier = RandomForestClassifier()"
      ],
      "metadata": {
        "id": "V1tmG1Q6KmYv"
      },
      "execution_count": null,
      "outputs": []
    },
    {
      "cell_type": "code",
      "source": [
        "# converting it into array\n",
        "\n",
        "train_X = list(train_X)\n",
        "\n",
        "train_X = np.array(train_X)"
      ],
      "metadata": {
        "id": "zlm3xhLyTU9l"
      },
      "execution_count": null,
      "outputs": []
    },
    {
      "cell_type": "code",
      "source": [
        "rf_classifier.fit(train_X, train_y)"
      ],
      "metadata": {
        "colab": {
          "base_uri": "https://localhost:8080/"
        },
        "id": "6ThD4_96Kpwq",
        "outputId": "b646d71d-bd63-4db9-f39d-114e3d678d7b"
      },
      "execution_count": null,
      "outputs": [
        {
          "output_type": "execute_result",
          "data": {
            "text/plain": [
              "RandomForestClassifier()"
            ]
          },
          "metadata": {},
          "execution_count": 119
        }
      ]
    },
    {
      "cell_type": "code",
      "source": [
        "predictions = rf_classifier.predict(np.array(list(test_X)))"
      ],
      "metadata": {
        "id": "6XmOaYwEKtip"
      },
      "execution_count": null,
      "outputs": []
    },
    {
      "cell_type": "code",
      "source": [
        "from sklearn.metrics import accuracy_score"
      ],
      "metadata": {
        "id": "Zzuj22xjTEU9"
      },
      "execution_count": null,
      "outputs": []
    },
    {
      "cell_type": "code",
      "source": [
        "score = accuracy_score(test_y, predictions)"
      ],
      "metadata": {
        "id": "zyRJpNwiTKdc"
      },
      "execution_count": null,
      "outputs": []
    },
    {
      "cell_type": "code",
      "source": [
        "score"
      ],
      "metadata": {
        "colab": {
          "base_uri": "https://localhost:8080/"
        },
        "id": "FImeP1SMT2WT",
        "outputId": "f8e4b84d-251f-4b46-b19f-2591c5d8dedd"
      },
      "execution_count": null,
      "outputs": [
        {
          "output_type": "execute_result",
          "data": {
            "text/plain": [
              "0.2623239436619718"
            ]
          },
          "metadata": {},
          "execution_count": 125
        }
      ]
    },
    {
      "cell_type": "code",
      "source": [
        "test_y"
      ],
      "metadata": {
        "colab": {
          "base_uri": "https://localhost:8080/"
        },
        "id": "LT3NflxvT2uS",
        "outputId": "932b28fc-551e-4fd5-bd3f-79cf78ce4fc5"
      },
      "execution_count": null,
      "outputs": [
        {
          "output_type": "execute_result",
          "data": {
            "text/plain": [
              "array([11,  8, 12, ..., 12,  8, 10])"
            ]
          },
          "metadata": {},
          "execution_count": 126
        }
      ]
    },
    {
      "cell_type": "code",
      "source": [
        "predictions"
      ],
      "metadata": {
        "colab": {
          "base_uri": "https://localhost:8080/"
        },
        "id": "kFTeQU5xT4h6",
        "outputId": "c63f8b25-99e6-49e8-c5cf-8e5bcd2f69ca"
      },
      "execution_count": null,
      "outputs": [
        {
          "output_type": "execute_result",
          "data": {
            "text/plain": [
              "array([ 8,  8, 12, ...,  8,  8,  8])"
            ]
          },
          "metadata": {},
          "execution_count": 127
        }
      ]
    },
    {
      "cell_type": "code",
      "source": [],
      "metadata": {
        "id": "PcOUsHH5T573"
      },
      "execution_count": null,
      "outputs": []
    }
  ],
  "metadata": {
    "colab": {
      "provenance": [],
      "collapsed_sections": [
        "dnhXNiUfKWft"
      ],
      "authorship_tag": "ABX9TyPBTcYGnVY2jqJBPWVQIiER",
      "include_colab_link": true
    },
    "kernelspec": {
      "display_name": "Python 3",
      "name": "python3"
    },
    "language_info": {
      "name": "python"
    },
    "accelerator": "GPU",
    "gpuClass": "standard"
  },
  "nbformat": 4,
  "nbformat_minor": 0
}