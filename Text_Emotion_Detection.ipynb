{
  "cells": [
    {
      "cell_type": "markdown",
      "metadata": {
        "id": "view-in-github",
        "colab_type": "text"
      },
      "source": [
        "<a href=\"https://colab.research.google.com/github/abhi-11nav/Text-Emotion-Detection/blob/main/Text_Emotion_Detection.ipynb\" target=\"_parent\"><img src=\"https://colab.research.google.com/assets/colab-badge.svg\" alt=\"Open In Colab\"/></a>"
      ]
    },
    {
      "cell_type": "code",
      "execution_count": 1,
      "metadata": {
        "id": "zofTXg4alSny"
      },
      "outputs": [],
      "source": [
        "# Importing the necessary libraries \n",
        "\n",
        "import pandas as pd\n",
        "import numpy as np "
      ]
    },
    {
      "cell_type": "code",
      "source": [
        "!git clone https://github.com/abhi-11nav/Text-Emotion-Detection.git"
      ],
      "metadata": {
        "id": "tiwW5EtC8MpQ",
        "colab": {
          "base_uri": "https://localhost:8080/"
        },
        "outputId": "c6288fee-fb90-4bcb-cde1-123dc49ce207"
      },
      "execution_count": 2,
      "outputs": [
        {
          "output_type": "stream",
          "name": "stdout",
          "text": [
            "Cloning into 'Text-Emotion-Detection'...\n",
            "remote: Enumerating objects: 105, done.\u001b[K\n",
            "remote: Counting objects: 100% (104/104), done.\u001b[K\n",
            "remote: Compressing objects: 100% (44/44), done.\u001b[K\n",
            "remote: Total 105 (delta 67), reused 90 (delta 57), pack-reused 1\u001b[K\n",
            "Receiving objects: 100% (105/105), 43.47 MiB | 15.15 MiB/s, done.\n",
            "Resolving deltas: 100% (67/67), done.\n"
          ]
        }
      ]
    },
    {
      "cell_type": "code",
      "execution_count": 3,
      "metadata": {
        "id": "hKbC0BeildcI"
      },
      "outputs": [],
      "source": [
        "# Importing data\n",
        "\n",
        "data = pd.read_csv(\"/content/Text-Emotion-Detection/tweet_emotions.csv\")"
      ]
    },
    {
      "cell_type": "code",
      "execution_count": 4,
      "metadata": {
        "colab": {
          "base_uri": "https://localhost:8080/",
          "height": 204
        },
        "id": "Yu8taALUlofD",
        "outputId": "61f575a8-ce31-4495-c8fc-8d56df15c020"
      },
      "outputs": [
        {
          "output_type": "execute_result",
          "data": {
            "text/plain": [
              "     tweet_id   sentiment                                            content\n",
              "0  1956967341       empty  @tiffanylue i know  i was listenin to bad habi...\n",
              "1  1956967666     sadness  Layin n bed with a headache  ughhhh...waitin o...\n",
              "2  1956967696     sadness                Funeral ceremony...gloomy friday...\n",
              "3  1956967789  enthusiasm               wants to hang out with friends SOON!\n",
              "4  1956968416     neutral  @dannycastillo We want to trade with someone w..."
            ],
            "text/html": [
              "\n",
              "  <div id=\"df-7e82faf7-af8a-44d9-829b-3d038392bb99\">\n",
              "    <div class=\"colab-df-container\">\n",
              "      <div>\n",
              "<style scoped>\n",
              "    .dataframe tbody tr th:only-of-type {\n",
              "        vertical-align: middle;\n",
              "    }\n",
              "\n",
              "    .dataframe tbody tr th {\n",
              "        vertical-align: top;\n",
              "    }\n",
              "\n",
              "    .dataframe thead th {\n",
              "        text-align: right;\n",
              "    }\n",
              "</style>\n",
              "<table border=\"1\" class=\"dataframe\">\n",
              "  <thead>\n",
              "    <tr style=\"text-align: right;\">\n",
              "      <th></th>\n",
              "      <th>tweet_id</th>\n",
              "      <th>sentiment</th>\n",
              "      <th>content</th>\n",
              "    </tr>\n",
              "  </thead>\n",
              "  <tbody>\n",
              "    <tr>\n",
              "      <th>0</th>\n",
              "      <td>1956967341</td>\n",
              "      <td>empty</td>\n",
              "      <td>@tiffanylue i know  i was listenin to bad habi...</td>\n",
              "    </tr>\n",
              "    <tr>\n",
              "      <th>1</th>\n",
              "      <td>1956967666</td>\n",
              "      <td>sadness</td>\n",
              "      <td>Layin n bed with a headache  ughhhh...waitin o...</td>\n",
              "    </tr>\n",
              "    <tr>\n",
              "      <th>2</th>\n",
              "      <td>1956967696</td>\n",
              "      <td>sadness</td>\n",
              "      <td>Funeral ceremony...gloomy friday...</td>\n",
              "    </tr>\n",
              "    <tr>\n",
              "      <th>3</th>\n",
              "      <td>1956967789</td>\n",
              "      <td>enthusiasm</td>\n",
              "      <td>wants to hang out with friends SOON!</td>\n",
              "    </tr>\n",
              "    <tr>\n",
              "      <th>4</th>\n",
              "      <td>1956968416</td>\n",
              "      <td>neutral</td>\n",
              "      <td>@dannycastillo We want to trade with someone w...</td>\n",
              "    </tr>\n",
              "  </tbody>\n",
              "</table>\n",
              "</div>\n",
              "      <button class=\"colab-df-convert\" onclick=\"convertToInteractive('df-7e82faf7-af8a-44d9-829b-3d038392bb99')\"\n",
              "              title=\"Convert this dataframe to an interactive table.\"\n",
              "              style=\"display:none;\">\n",
              "        \n",
              "  <svg xmlns=\"http://www.w3.org/2000/svg\" height=\"24px\"viewBox=\"0 0 24 24\"\n",
              "       width=\"24px\">\n",
              "    <path d=\"M0 0h24v24H0V0z\" fill=\"none\"/>\n",
              "    <path d=\"M18.56 5.44l.94 2.06.94-2.06 2.06-.94-2.06-.94-.94-2.06-.94 2.06-2.06.94zm-11 1L8.5 8.5l.94-2.06 2.06-.94-2.06-.94L8.5 2.5l-.94 2.06-2.06.94zm10 10l.94 2.06.94-2.06 2.06-.94-2.06-.94-.94-2.06-.94 2.06-2.06.94z\"/><path d=\"M17.41 7.96l-1.37-1.37c-.4-.4-.92-.59-1.43-.59-.52 0-1.04.2-1.43.59L10.3 9.45l-7.72 7.72c-.78.78-.78 2.05 0 2.83L4 21.41c.39.39.9.59 1.41.59.51 0 1.02-.2 1.41-.59l7.78-7.78 2.81-2.81c.8-.78.8-2.07 0-2.86zM5.41 20L4 18.59l7.72-7.72 1.47 1.35L5.41 20z\"/>\n",
              "  </svg>\n",
              "      </button>\n",
              "      \n",
              "  <style>\n",
              "    .colab-df-container {\n",
              "      display:flex;\n",
              "      flex-wrap:wrap;\n",
              "      gap: 12px;\n",
              "    }\n",
              "\n",
              "    .colab-df-convert {\n",
              "      background-color: #E8F0FE;\n",
              "      border: none;\n",
              "      border-radius: 50%;\n",
              "      cursor: pointer;\n",
              "      display: none;\n",
              "      fill: #1967D2;\n",
              "      height: 32px;\n",
              "      padding: 0 0 0 0;\n",
              "      width: 32px;\n",
              "    }\n",
              "\n",
              "    .colab-df-convert:hover {\n",
              "      background-color: #E2EBFA;\n",
              "      box-shadow: 0px 1px 2px rgba(60, 64, 67, 0.3), 0px 1px 3px 1px rgba(60, 64, 67, 0.15);\n",
              "      fill: #174EA6;\n",
              "    }\n",
              "\n",
              "    [theme=dark] .colab-df-convert {\n",
              "      background-color: #3B4455;\n",
              "      fill: #D2E3FC;\n",
              "    }\n",
              "\n",
              "    [theme=dark] .colab-df-convert:hover {\n",
              "      background-color: #434B5C;\n",
              "      box-shadow: 0px 1px 3px 1px rgba(0, 0, 0, 0.15);\n",
              "      filter: drop-shadow(0px 1px 2px rgba(0, 0, 0, 0.3));\n",
              "      fill: #FFFFFF;\n",
              "    }\n",
              "  </style>\n",
              "\n",
              "      <script>\n",
              "        const buttonEl =\n",
              "          document.querySelector('#df-7e82faf7-af8a-44d9-829b-3d038392bb99 button.colab-df-convert');\n",
              "        buttonEl.style.display =\n",
              "          google.colab.kernel.accessAllowed ? 'block' : 'none';\n",
              "\n",
              "        async function convertToInteractive(key) {\n",
              "          const element = document.querySelector('#df-7e82faf7-af8a-44d9-829b-3d038392bb99');\n",
              "          const dataTable =\n",
              "            await google.colab.kernel.invokeFunction('convertToInteractive',\n",
              "                                                     [key], {});\n",
              "          if (!dataTable) return;\n",
              "\n",
              "          const docLinkHtml = 'Like what you see? Visit the ' +\n",
              "            '<a target=\"_blank\" href=https://colab.research.google.com/notebooks/data_table.ipynb>data table notebook</a>'\n",
              "            + ' to learn more about interactive tables.';\n",
              "          element.innerHTML = '';\n",
              "          dataTable['output_type'] = 'display_data';\n",
              "          await google.colab.output.renderOutput(dataTable, element);\n",
              "          const docLink = document.createElement('div');\n",
              "          docLink.innerHTML = docLinkHtml;\n",
              "          element.appendChild(docLink);\n",
              "        }\n",
              "      </script>\n",
              "    </div>\n",
              "  </div>\n",
              "  "
            ]
          },
          "metadata": {},
          "execution_count": 4
        }
      ],
      "source": [
        "data.head()"
      ]
    },
    {
      "cell_type": "markdown",
      "metadata": {
        "id": "OLCfmZ18pXYF"
      },
      "source": [
        "Funeral ceremony...gloomy friday..."
      ]
    },
    {
      "cell_type": "code",
      "execution_count": 5,
      "metadata": {
        "id": "TIUmyCIAmA-_"
      },
      "outputs": [],
      "source": [
        "# Let us drop the tweet id\n",
        "\n",
        "data.drop(\"tweet_id\", axis=1, inplace=True)"
      ]
    },
    {
      "cell_type": "code",
      "execution_count": 6,
      "metadata": {
        "colab": {
          "base_uri": "https://localhost:8080/",
          "height": 204
        },
        "id": "uIDRz4D-mJXk",
        "outputId": "572c5941-b11c-47b9-c61e-f056de4efaaa"
      },
      "outputs": [
        {
          "output_type": "execute_result",
          "data": {
            "text/plain": [
              "    sentiment                                            content\n",
              "0       empty  @tiffanylue i know  i was listenin to bad habi...\n",
              "1     sadness  Layin n bed with a headache  ughhhh...waitin o...\n",
              "2     sadness                Funeral ceremony...gloomy friday...\n",
              "3  enthusiasm               wants to hang out with friends SOON!\n",
              "4     neutral  @dannycastillo We want to trade with someone w..."
            ],
            "text/html": [
              "\n",
              "  <div id=\"df-1ed99f38-f3db-44e7-9255-554ef01b86be\">\n",
              "    <div class=\"colab-df-container\">\n",
              "      <div>\n",
              "<style scoped>\n",
              "    .dataframe tbody tr th:only-of-type {\n",
              "        vertical-align: middle;\n",
              "    }\n",
              "\n",
              "    .dataframe tbody tr th {\n",
              "        vertical-align: top;\n",
              "    }\n",
              "\n",
              "    .dataframe thead th {\n",
              "        text-align: right;\n",
              "    }\n",
              "</style>\n",
              "<table border=\"1\" class=\"dataframe\">\n",
              "  <thead>\n",
              "    <tr style=\"text-align: right;\">\n",
              "      <th></th>\n",
              "      <th>sentiment</th>\n",
              "      <th>content</th>\n",
              "    </tr>\n",
              "  </thead>\n",
              "  <tbody>\n",
              "    <tr>\n",
              "      <th>0</th>\n",
              "      <td>empty</td>\n",
              "      <td>@tiffanylue i know  i was listenin to bad habi...</td>\n",
              "    </tr>\n",
              "    <tr>\n",
              "      <th>1</th>\n",
              "      <td>sadness</td>\n",
              "      <td>Layin n bed with a headache  ughhhh...waitin o...</td>\n",
              "    </tr>\n",
              "    <tr>\n",
              "      <th>2</th>\n",
              "      <td>sadness</td>\n",
              "      <td>Funeral ceremony...gloomy friday...</td>\n",
              "    </tr>\n",
              "    <tr>\n",
              "      <th>3</th>\n",
              "      <td>enthusiasm</td>\n",
              "      <td>wants to hang out with friends SOON!</td>\n",
              "    </tr>\n",
              "    <tr>\n",
              "      <th>4</th>\n",
              "      <td>neutral</td>\n",
              "      <td>@dannycastillo We want to trade with someone w...</td>\n",
              "    </tr>\n",
              "  </tbody>\n",
              "</table>\n",
              "</div>\n",
              "      <button class=\"colab-df-convert\" onclick=\"convertToInteractive('df-1ed99f38-f3db-44e7-9255-554ef01b86be')\"\n",
              "              title=\"Convert this dataframe to an interactive table.\"\n",
              "              style=\"display:none;\">\n",
              "        \n",
              "  <svg xmlns=\"http://www.w3.org/2000/svg\" height=\"24px\"viewBox=\"0 0 24 24\"\n",
              "       width=\"24px\">\n",
              "    <path d=\"M0 0h24v24H0V0z\" fill=\"none\"/>\n",
              "    <path d=\"M18.56 5.44l.94 2.06.94-2.06 2.06-.94-2.06-.94-.94-2.06-.94 2.06-2.06.94zm-11 1L8.5 8.5l.94-2.06 2.06-.94-2.06-.94L8.5 2.5l-.94 2.06-2.06.94zm10 10l.94 2.06.94-2.06 2.06-.94-2.06-.94-.94-2.06-.94 2.06-2.06.94z\"/><path d=\"M17.41 7.96l-1.37-1.37c-.4-.4-.92-.59-1.43-.59-.52 0-1.04.2-1.43.59L10.3 9.45l-7.72 7.72c-.78.78-.78 2.05 0 2.83L4 21.41c.39.39.9.59 1.41.59.51 0 1.02-.2 1.41-.59l7.78-7.78 2.81-2.81c.8-.78.8-2.07 0-2.86zM5.41 20L4 18.59l7.72-7.72 1.47 1.35L5.41 20z\"/>\n",
              "  </svg>\n",
              "      </button>\n",
              "      \n",
              "  <style>\n",
              "    .colab-df-container {\n",
              "      display:flex;\n",
              "      flex-wrap:wrap;\n",
              "      gap: 12px;\n",
              "    }\n",
              "\n",
              "    .colab-df-convert {\n",
              "      background-color: #E8F0FE;\n",
              "      border: none;\n",
              "      border-radius: 50%;\n",
              "      cursor: pointer;\n",
              "      display: none;\n",
              "      fill: #1967D2;\n",
              "      height: 32px;\n",
              "      padding: 0 0 0 0;\n",
              "      width: 32px;\n",
              "    }\n",
              "\n",
              "    .colab-df-convert:hover {\n",
              "      background-color: #E2EBFA;\n",
              "      box-shadow: 0px 1px 2px rgba(60, 64, 67, 0.3), 0px 1px 3px 1px rgba(60, 64, 67, 0.15);\n",
              "      fill: #174EA6;\n",
              "    }\n",
              "\n",
              "    [theme=dark] .colab-df-convert {\n",
              "      background-color: #3B4455;\n",
              "      fill: #D2E3FC;\n",
              "    }\n",
              "\n",
              "    [theme=dark] .colab-df-convert:hover {\n",
              "      background-color: #434B5C;\n",
              "      box-shadow: 0px 1px 3px 1px rgba(0, 0, 0, 0.15);\n",
              "      filter: drop-shadow(0px 1px 2px rgba(0, 0, 0, 0.3));\n",
              "      fill: #FFFFFF;\n",
              "    }\n",
              "  </style>\n",
              "\n",
              "      <script>\n",
              "        const buttonEl =\n",
              "          document.querySelector('#df-1ed99f38-f3db-44e7-9255-554ef01b86be button.colab-df-convert');\n",
              "        buttonEl.style.display =\n",
              "          google.colab.kernel.accessAllowed ? 'block' : 'none';\n",
              "\n",
              "        async function convertToInteractive(key) {\n",
              "          const element = document.querySelector('#df-1ed99f38-f3db-44e7-9255-554ef01b86be');\n",
              "          const dataTable =\n",
              "            await google.colab.kernel.invokeFunction('convertToInteractive',\n",
              "                                                     [key], {});\n",
              "          if (!dataTable) return;\n",
              "\n",
              "          const docLinkHtml = 'Like what you see? Visit the ' +\n",
              "            '<a target=\"_blank\" href=https://colab.research.google.com/notebooks/data_table.ipynb>data table notebook</a>'\n",
              "            + ' to learn more about interactive tables.';\n",
              "          element.innerHTML = '';\n",
              "          dataTable['output_type'] = 'display_data';\n",
              "          await google.colab.output.renderOutput(dataTable, element);\n",
              "          const docLink = document.createElement('div');\n",
              "          docLink.innerHTML = docLinkHtml;\n",
              "          element.appendChild(docLink);\n",
              "        }\n",
              "      </script>\n",
              "    </div>\n",
              "  </div>\n",
              "  "
            ]
          },
          "metadata": {},
          "execution_count": 6
        }
      ],
      "source": [
        "data.head()"
      ]
    },
    {
      "cell_type": "code",
      "execution_count": 7,
      "metadata": {
        "colab": {
          "base_uri": "https://localhost:8080/"
        },
        "id": "CeEFLErwmZxK",
        "outputId": "5aaab7cc-9f71-4bee-a101-678fcf81e7e9"
      },
      "outputs": [
        {
          "output_type": "execute_result",
          "data": {
            "text/plain": [
              "sentiment    False\n",
              "content      False\n",
              "dtype: bool"
            ]
          },
          "metadata": {},
          "execution_count": 7
        }
      ],
      "source": [
        "# Let us check if the tweet has any missing values \n",
        "\n",
        "data.isna().any()"
      ]
    },
    {
      "cell_type": "markdown",
      "metadata": {
        "id": "syZBYwVdmubC"
      },
      "source": [
        "No missing values"
      ]
    },
    {
      "cell_type": "code",
      "execution_count": 8,
      "metadata": {
        "colab": {
          "base_uri": "https://localhost:8080/"
        },
        "id": "cLiURfjqmszA",
        "outputId": "fe1f488c-b8b5-499c-ddbe-9f3a1c19bfb1"
      },
      "outputs": [
        {
          "output_type": "execute_result",
          "data": {
            "text/plain": [
              "neutral       8638\n",
              "worry         8459\n",
              "happiness     5209\n",
              "sadness       5165\n",
              "love          3842\n",
              "surprise      2187\n",
              "fun           1776\n",
              "relief        1526\n",
              "hate          1323\n",
              "empty          827\n",
              "enthusiasm     759\n",
              "boredom        179\n",
              "anger          110\n",
              "Name: sentiment, dtype: int64"
            ]
          },
          "metadata": {},
          "execution_count": 8
        }
      ],
      "source": [
        "# Let us check the number of categories in sentiment variable\n",
        "\n",
        "data['sentiment'].value_counts()"
      ]
    },
    {
      "cell_type": "markdown",
      "metadata": {
        "id": "xRYV6lDBnsw7"
      },
      "source": [
        "Since the data is imbalanced, we'll be deadling with it "
      ]
    },
    {
      "cell_type": "markdown",
      "metadata": {
        "id": "FEMWU1Y9GEbL"
      },
      "source": [
        "Data Imbalance"
      ]
    },
    {
      "cell_type": "markdown",
      "metadata": {
        "id": "lu2uF4piNa6F"
      },
      "source": [
        "### Eliminating the last two categories of sentiment as they are least represented. "
      ]
    },
    {
      "cell_type": "code",
      "execution_count": 9,
      "metadata": {
        "id": "uGGCatHTGE8P"
      },
      "outputs": [],
      "source": [
        "# dropping the last two samples\n",
        "\n",
        "# Appending indexes to remove\n",
        "indexes_to_remove = []\n",
        "\n",
        "\n",
        "for index in data[data['sentiment']==\"boredom\"].index:\n",
        "  indexes_to_remove.append(index)\n",
        "\n",
        "for index in data[data['sentiment']==\"anger\"].index:\n",
        "  indexes_to_remove.append(index)"
      ]
    },
    {
      "cell_type": "code",
      "execution_count": 10,
      "metadata": {
        "colab": {
          "base_uri": "https://localhost:8080/"
        },
        "id": "mAgIIK9IOnll",
        "outputId": "d41e337a-be92-4296-eee6-2e6b4ae8c9ac"
      },
      "outputs": [
        {
          "output_type": "execute_result",
          "data": {
            "text/plain": [
              "289"
            ]
          },
          "metadata": {},
          "execution_count": 10
        }
      ],
      "source": [
        "len(indexes_to_remove)"
      ]
    },
    {
      "cell_type": "code",
      "execution_count": 11,
      "metadata": {
        "id": "GaacF126Ono5"
      },
      "outputs": [],
      "source": [
        "data.drop(indexes_to_remove, inplace=True, axis=0)"
      ]
    },
    {
      "cell_type": "code",
      "execution_count": 12,
      "metadata": {
        "colab": {
          "base_uri": "https://localhost:8080/"
        },
        "id": "zPl5Fzn4GE-x",
        "outputId": "29cef070-e3c2-45a5-c016-c3f9808c6092"
      },
      "outputs": [
        {
          "output_type": "execute_result",
          "data": {
            "text/plain": [
              "neutral       8638\n",
              "worry         8459\n",
              "happiness     5209\n",
              "sadness       5165\n",
              "love          3842\n",
              "surprise      2187\n",
              "fun           1776\n",
              "relief        1526\n",
              "hate          1323\n",
              "empty          827\n",
              "enthusiasm     759\n",
              "Name: sentiment, dtype: int64"
            ]
          },
          "metadata": {},
          "execution_count": 12
        }
      ],
      "source": [
        "data[\"sentiment\"].value_counts()"
      ]
    },
    {
      "cell_type": "code",
      "execution_count": 13,
      "metadata": {
        "id": "7hl9qozlNPEr"
      },
      "outputs": [],
      "source": [
        "labels = [label for label in data[\"sentiment\"].unique()]"
      ]
    },
    {
      "cell_type": "code",
      "execution_count": 14,
      "metadata": {
        "id": "bOK_Yc3lGFBK"
      },
      "outputs": [],
      "source": [
        "balanced_df = pd.DataFrame()\n",
        "\n",
        "for label in labels: \n",
        "  balanced_df = pd.concat([data[data[\"sentiment\"]==label].sample(759),balanced_df], axis=0)"
      ]
    },
    {
      "cell_type": "code",
      "execution_count": 15,
      "metadata": {
        "colab": {
          "base_uri": "https://localhost:8080/"
        },
        "id": "qkiL8HfSGFGF",
        "outputId": "ca291f85-0a14-4397-e905-d0bc8a0603f7"
      },
      "outputs": [
        {
          "output_type": "execute_result",
          "data": {
            "text/plain": [
              "relief        759\n",
              "happiness     759\n",
              "hate          759\n",
              "fun           759\n",
              "love          759\n",
              "surprise      759\n",
              "worry         759\n",
              "neutral       759\n",
              "enthusiasm    759\n",
              "sadness       759\n",
              "empty         759\n",
              "Name: sentiment, dtype: int64"
            ]
          },
          "metadata": {},
          "execution_count": 15
        }
      ],
      "source": [
        "balanced_df[\"sentiment\"].value_counts()"
      ]
    },
    {
      "cell_type": "markdown",
      "metadata": {
        "id": "l65X2l8lXPjT"
      },
      "source": [
        " Now we have a balanced dataset"
      ]
    },
    {
      "cell_type": "code",
      "execution_count": 16,
      "metadata": {
        "id": "KhDwpJKWGFJO"
      },
      "outputs": [],
      "source": [
        "# shuffling samples and resetting indexes\n",
        "\n",
        "balanced_df = balanced_df.sample(len(balanced_df))"
      ]
    },
    {
      "cell_type": "code",
      "execution_count": 17,
      "metadata": {
        "id": "OLRi0Mj0YwGy"
      },
      "outputs": [],
      "source": [
        "balanced_df.reset_index(inplace=True)"
      ]
    },
    {
      "cell_type": "code",
      "execution_count": 18,
      "metadata": {
        "colab": {
          "base_uri": "https://localhost:8080/",
          "height": 204
        },
        "id": "xfkwmfzPYwCW",
        "outputId": "6352c1cf-1e63-4f6c-f7d1-173f47a8ba79"
      },
      "outputs": [
        {
          "output_type": "execute_result",
          "data": {
            "text/plain": [
              "   index  sentiment                                            content\n",
              "0  16745   surprise        Sometimes I could swear I really am insane.\n",
              "1    365       hate  @ksutt11 ohhhh thunderstorms...boo  why do the...\n",
              "2  25186      worry  @sir_benzo the first step to recory is admitti...\n",
              "3  31091  happiness  @JanieceLincoln Ha... Totally go for it. You'r...\n",
              "4  23688    neutral                        @souljaboytellem Good night"
            ],
            "text/html": [
              "\n",
              "  <div id=\"df-f92ecad2-5c2d-472b-be88-2de40ea50292\">\n",
              "    <div class=\"colab-df-container\">\n",
              "      <div>\n",
              "<style scoped>\n",
              "    .dataframe tbody tr th:only-of-type {\n",
              "        vertical-align: middle;\n",
              "    }\n",
              "\n",
              "    .dataframe tbody tr th {\n",
              "        vertical-align: top;\n",
              "    }\n",
              "\n",
              "    .dataframe thead th {\n",
              "        text-align: right;\n",
              "    }\n",
              "</style>\n",
              "<table border=\"1\" class=\"dataframe\">\n",
              "  <thead>\n",
              "    <tr style=\"text-align: right;\">\n",
              "      <th></th>\n",
              "      <th>index</th>\n",
              "      <th>sentiment</th>\n",
              "      <th>content</th>\n",
              "    </tr>\n",
              "  </thead>\n",
              "  <tbody>\n",
              "    <tr>\n",
              "      <th>0</th>\n",
              "      <td>16745</td>\n",
              "      <td>surprise</td>\n",
              "      <td>Sometimes I could swear I really am insane.</td>\n",
              "    </tr>\n",
              "    <tr>\n",
              "      <th>1</th>\n",
              "      <td>365</td>\n",
              "      <td>hate</td>\n",
              "      <td>@ksutt11 ohhhh thunderstorms...boo  why do the...</td>\n",
              "    </tr>\n",
              "    <tr>\n",
              "      <th>2</th>\n",
              "      <td>25186</td>\n",
              "      <td>worry</td>\n",
              "      <td>@sir_benzo the first step to recory is admitti...</td>\n",
              "    </tr>\n",
              "    <tr>\n",
              "      <th>3</th>\n",
              "      <td>31091</td>\n",
              "      <td>happiness</td>\n",
              "      <td>@JanieceLincoln Ha... Totally go for it. You'r...</td>\n",
              "    </tr>\n",
              "    <tr>\n",
              "      <th>4</th>\n",
              "      <td>23688</td>\n",
              "      <td>neutral</td>\n",
              "      <td>@souljaboytellem Good night</td>\n",
              "    </tr>\n",
              "  </tbody>\n",
              "</table>\n",
              "</div>\n",
              "      <button class=\"colab-df-convert\" onclick=\"convertToInteractive('df-f92ecad2-5c2d-472b-be88-2de40ea50292')\"\n",
              "              title=\"Convert this dataframe to an interactive table.\"\n",
              "              style=\"display:none;\">\n",
              "        \n",
              "  <svg xmlns=\"http://www.w3.org/2000/svg\" height=\"24px\"viewBox=\"0 0 24 24\"\n",
              "       width=\"24px\">\n",
              "    <path d=\"M0 0h24v24H0V0z\" fill=\"none\"/>\n",
              "    <path d=\"M18.56 5.44l.94 2.06.94-2.06 2.06-.94-2.06-.94-.94-2.06-.94 2.06-2.06.94zm-11 1L8.5 8.5l.94-2.06 2.06-.94-2.06-.94L8.5 2.5l-.94 2.06-2.06.94zm10 10l.94 2.06.94-2.06 2.06-.94-2.06-.94-.94-2.06-.94 2.06-2.06.94z\"/><path d=\"M17.41 7.96l-1.37-1.37c-.4-.4-.92-.59-1.43-.59-.52 0-1.04.2-1.43.59L10.3 9.45l-7.72 7.72c-.78.78-.78 2.05 0 2.83L4 21.41c.39.39.9.59 1.41.59.51 0 1.02-.2 1.41-.59l7.78-7.78 2.81-2.81c.8-.78.8-2.07 0-2.86zM5.41 20L4 18.59l7.72-7.72 1.47 1.35L5.41 20z\"/>\n",
              "  </svg>\n",
              "      </button>\n",
              "      \n",
              "  <style>\n",
              "    .colab-df-container {\n",
              "      display:flex;\n",
              "      flex-wrap:wrap;\n",
              "      gap: 12px;\n",
              "    }\n",
              "\n",
              "    .colab-df-convert {\n",
              "      background-color: #E8F0FE;\n",
              "      border: none;\n",
              "      border-radius: 50%;\n",
              "      cursor: pointer;\n",
              "      display: none;\n",
              "      fill: #1967D2;\n",
              "      height: 32px;\n",
              "      padding: 0 0 0 0;\n",
              "      width: 32px;\n",
              "    }\n",
              "\n",
              "    .colab-df-convert:hover {\n",
              "      background-color: #E2EBFA;\n",
              "      box-shadow: 0px 1px 2px rgba(60, 64, 67, 0.3), 0px 1px 3px 1px rgba(60, 64, 67, 0.15);\n",
              "      fill: #174EA6;\n",
              "    }\n",
              "\n",
              "    [theme=dark] .colab-df-convert {\n",
              "      background-color: #3B4455;\n",
              "      fill: #D2E3FC;\n",
              "    }\n",
              "\n",
              "    [theme=dark] .colab-df-convert:hover {\n",
              "      background-color: #434B5C;\n",
              "      box-shadow: 0px 1px 3px 1px rgba(0, 0, 0, 0.15);\n",
              "      filter: drop-shadow(0px 1px 2px rgba(0, 0, 0, 0.3));\n",
              "      fill: #FFFFFF;\n",
              "    }\n",
              "  </style>\n",
              "\n",
              "      <script>\n",
              "        const buttonEl =\n",
              "          document.querySelector('#df-f92ecad2-5c2d-472b-be88-2de40ea50292 button.colab-df-convert');\n",
              "        buttonEl.style.display =\n",
              "          google.colab.kernel.accessAllowed ? 'block' : 'none';\n",
              "\n",
              "        async function convertToInteractive(key) {\n",
              "          const element = document.querySelector('#df-f92ecad2-5c2d-472b-be88-2de40ea50292');\n",
              "          const dataTable =\n",
              "            await google.colab.kernel.invokeFunction('convertToInteractive',\n",
              "                                                     [key], {});\n",
              "          if (!dataTable) return;\n",
              "\n",
              "          const docLinkHtml = 'Like what you see? Visit the ' +\n",
              "            '<a target=\"_blank\" href=https://colab.research.google.com/notebooks/data_table.ipynb>data table notebook</a>'\n",
              "            + ' to learn more about interactive tables.';\n",
              "          element.innerHTML = '';\n",
              "          dataTable['output_type'] = 'display_data';\n",
              "          await google.colab.output.renderOutput(dataTable, element);\n",
              "          const docLink = document.createElement('div');\n",
              "          docLink.innerHTML = docLinkHtml;\n",
              "          element.appendChild(docLink);\n",
              "        }\n",
              "      </script>\n",
              "    </div>\n",
              "  </div>\n",
              "  "
            ]
          },
          "metadata": {},
          "execution_count": 18
        }
      ],
      "source": [
        "balanced_df.head()"
      ]
    },
    {
      "cell_type": "code",
      "execution_count": 19,
      "metadata": {
        "id": "RdsGAuZaYs49"
      },
      "outputs": [],
      "source": [
        "balanced_df.drop(\"index\", inplace=True, axis=1)"
      ]
    },
    {
      "cell_type": "code",
      "execution_count": 20,
      "metadata": {
        "id": "zeAMfYLJaFRW"
      },
      "outputs": [],
      "source": [
        "# Changing the name of the data frame\n",
        "\n",
        "data = balanced_df"
      ]
    },
    {
      "cell_type": "code",
      "execution_count": 21,
      "metadata": {
        "colab": {
          "base_uri": "https://localhost:8080/",
          "height": 37
        },
        "id": "4ITV_GjAnT70",
        "outputId": "3e7594ec-c74b-46fb-bff6-f498397fec3e"
      },
      "outputs": [
        {
          "output_type": "execute_result",
          "data": {
            "text/plain": [
              "'Sometimes I could swear I really am insane.'"
            ],
            "application/vnd.google.colaboratory.intrinsic+json": {
              "type": "string"
            }
          },
          "metadata": {},
          "execution_count": 21
        }
      ],
      "source": [
        "# Let us look at the sentences\n",
        "\n",
        "data['content'][0]"
      ]
    },
    {
      "cell_type": "code",
      "execution_count": 22,
      "metadata": {
        "colab": {
          "base_uri": "https://localhost:8080/",
          "height": 37
        },
        "id": "LqKVBAqVoMhn",
        "outputId": "86c21dfe-24c2-4d04-8df6-23c728cc6b93"
      },
      "outputs": [
        {
          "output_type": "execute_result",
          "data": {
            "text/plain": [
              "'@ksutt11 ohhhh thunderstorms...boo  why do they always have to make the power go out??'"
            ],
            "application/vnd.google.colaboratory.intrinsic+json": {
              "type": "string"
            }
          },
          "metadata": {},
          "execution_count": 22
        }
      ],
      "source": [
        "data['content'][1]"
      ]
    },
    {
      "cell_type": "markdown",
      "metadata": {
        "id": "j9VKL5TVpDiw"
      },
      "source": [
        "Text Preprocessing"
      ]
    },
    {
      "cell_type": "code",
      "execution_count": 23,
      "metadata": {
        "colab": {
          "base_uri": "https://localhost:8080/"
        },
        "id": "eMD6rP6Hr_xt",
        "outputId": "cf761b4e-552c-42da-b9f0-39838b57c5c5"
      },
      "outputs": [
        {
          "output_type": "stream",
          "name": "stderr",
          "text": [
            "[nltk_data] Downloading package stopwords to /root/nltk_data...\n",
            "[nltk_data]   Unzipping corpora/stopwords.zip.\n",
            "[nltk_data] Downloading package wordnet to /root/nltk_data...\n",
            "[nltk_data] Downloading package omw-1.4 to /root/nltk_data...\n"
          ]
        }
      ],
      "source": [
        "# Importing libraries\n",
        "\n",
        "import re \n",
        "\n",
        "import nltk \n",
        "from nltk.stem import WordNetLemmatizer\n",
        "from nltk.corpus import stopwords\n",
        "\n",
        "nltk.download('stopwords')\n",
        "nltk.download('wordnet')\n",
        "nltk.download('omw-1.4')\n",
        "\n",
        "lemmatizer = WordNetLemmatizer()"
      ]
    },
    {
      "cell_type": "code",
      "execution_count": 24,
      "metadata": {
        "id": "hG_T2DWSo925"
      },
      "outputs": [],
      "source": [
        "def text_preprocess(dataset,list_name):\n",
        "  \n",
        "  for i in range(dataset.shape[0]):\n",
        "    list_name.append(re.sub('[^a-zA-Z]',' ',str(dataset.iloc[i,1])))\n",
        "\n",
        "  print(\"Number and other symbols eliminated from the text\")\n",
        "\n",
        "  # String spacing \n",
        "  for x in range(len(list_name)):\n",
        "    list_name[x] = \" \".join(y for y in str(list_name[x]).split()).lower()\n",
        "\n",
        "  print(\"Text reorganized and converted to small letter\")\n",
        "  \n",
        "  for index in range(len(list_name)):\n",
        "    temp_list= []\n",
        "    # Lemmatization\n",
        "    for word in list_name[index].split():\n",
        "      if word not in stopwords.words('english'):\n",
        "        temp_list.append(word)\n",
        "    list_name[index] = \" \".join(lemmatizer.lemmatize(words) for words in temp_list )"
      ]
    },
    {
      "cell_type": "code",
      "source": [
        "sample = \"This is it& I am going to be very sad, today\""
      ],
      "metadata": {
        "id": "mIKTpK1WNmoA"
      },
      "execution_count": 25,
      "outputs": []
    },
    {
      "cell_type": "code",
      "source": [
        "sample = re.sub('[^a-zA-Z]',' ',sample)\n",
        "sample"
      ],
      "metadata": {
        "colab": {
          "base_uri": "https://localhost:8080/",
          "height": 37
        },
        "id": "Fb2iqZ7wNpIN",
        "outputId": "32d61061-d7aa-4b4a-be16-7249878d211b"
      },
      "execution_count": 26,
      "outputs": [
        {
          "output_type": "execute_result",
          "data": {
            "text/plain": [
              "'This is it  I am going to be very sad  today'"
            ],
            "application/vnd.google.colaboratory.intrinsic+json": {
              "type": "string"
            }
          },
          "metadata": {},
          "execution_count": 26
        }
      ]
    },
    {
      "cell_type": "code",
      "source": [
        "sample = \" \".join(sent.lower() for sent in sample.split())\n",
        "sample"
      ],
      "metadata": {
        "colab": {
          "base_uri": "https://localhost:8080/",
          "height": 37
        },
        "id": "Ddhf7DcCNpKz",
        "outputId": "e1d09331-441d-4a4b-ac4b-ab18987f21a7"
      },
      "execution_count": 27,
      "outputs": [
        {
          "output_type": "execute_result",
          "data": {
            "text/plain": [
              "'this is it i am going to be very sad today'"
            ],
            "application/vnd.google.colaboratory.intrinsic+json": {
              "type": "string"
            }
          },
          "metadata": {},
          "execution_count": 27
        }
      ]
    },
    {
      "cell_type": "code",
      "source": [
        "\" \".join(lemmatizer.lemmatize(words) for words in sample.split() if words not in stopwords.words(\"english\"))"
      ],
      "metadata": {
        "colab": {
          "base_uri": "https://localhost:8080/",
          "height": 37
        },
        "id": "uT3epQkfN9n4",
        "outputId": "7b1ee2e7-d629-449c-a4e0-cb04513ef39a"
      },
      "execution_count": 28,
      "outputs": [
        {
          "output_type": "execute_result",
          "data": {
            "text/plain": [
              "'going sad today'"
            ],
            "application/vnd.google.colaboratory.intrinsic+json": {
              "type": "string"
            }
          },
          "metadata": {},
          "execution_count": 28
        }
      ]
    },
    {
      "cell_type": "code",
      "source": [],
      "metadata": {
        "id": "reV_U2c7N9qr"
      },
      "execution_count": 28,
      "outputs": []
    },
    {
      "cell_type": "code",
      "execution_count": 29,
      "metadata": {
        "colab": {
          "base_uri": "https://localhost:8080/"
        },
        "id": "kiOLAlRoo952",
        "outputId": "200143d5-1636-498b-a20f-3728ee15b096"
      },
      "outputs": [
        {
          "output_type": "stream",
          "name": "stdout",
          "text": [
            "Number and other symbols eliminated from the text\n",
            "Text reorganized and converted to small letter\n"
          ]
        }
      ],
      "source": [
        "sentences = []\n",
        "\n",
        "text_preprocess(data,sentences)"
      ]
    },
    {
      "cell_type": "code",
      "execution_count": 30,
      "metadata": {
        "id": "rFIZ0Mdz5f6s"
      },
      "outputs": [],
      "source": [
        "p_data = pd.concat([pd.DataFrame(np.array(sentences), columns=[\"Content\"]), data['sentiment']], axis=1)"
      ]
    },
    {
      "cell_type": "markdown",
      "metadata": {
        "id": "940QFH6M-rOY"
      },
      "source": []
    },
    {
      "cell_type": "code",
      "execution_count": 31,
      "metadata": {
        "colab": {
          "base_uri": "https://localhost:8080/",
          "height": 204
        },
        "id": "TcbulVrDFjHF",
        "outputId": "09b3f864-a9bf-474f-eaa1-ce41f383e603"
      },
      "outputs": [
        {
          "output_type": "execute_result",
          "data": {
            "text/plain": [
              "                                             Content  sentiment\n",
              "0                sometimes could swear really insane   surprise\n",
              "1  ksutt ohhhh thunderstorm boo always make power go       hate\n",
              "2              sir benzo first step recory admitting      worry\n",
              "3  janiecelincoln ha totally go journalism major ...  happiness\n",
              "4                         souljaboytellem good night    neutral"
            ],
            "text/html": [
              "\n",
              "  <div id=\"df-3870faf2-c5d5-4093-9f9f-c02c2ad481ae\">\n",
              "    <div class=\"colab-df-container\">\n",
              "      <div>\n",
              "<style scoped>\n",
              "    .dataframe tbody tr th:only-of-type {\n",
              "        vertical-align: middle;\n",
              "    }\n",
              "\n",
              "    .dataframe tbody tr th {\n",
              "        vertical-align: top;\n",
              "    }\n",
              "\n",
              "    .dataframe thead th {\n",
              "        text-align: right;\n",
              "    }\n",
              "</style>\n",
              "<table border=\"1\" class=\"dataframe\">\n",
              "  <thead>\n",
              "    <tr style=\"text-align: right;\">\n",
              "      <th></th>\n",
              "      <th>Content</th>\n",
              "      <th>sentiment</th>\n",
              "    </tr>\n",
              "  </thead>\n",
              "  <tbody>\n",
              "    <tr>\n",
              "      <th>0</th>\n",
              "      <td>sometimes could swear really insane</td>\n",
              "      <td>surprise</td>\n",
              "    </tr>\n",
              "    <tr>\n",
              "      <th>1</th>\n",
              "      <td>ksutt ohhhh thunderstorm boo always make power go</td>\n",
              "      <td>hate</td>\n",
              "    </tr>\n",
              "    <tr>\n",
              "      <th>2</th>\n",
              "      <td>sir benzo first step recory admitting</td>\n",
              "      <td>worry</td>\n",
              "    </tr>\n",
              "    <tr>\n",
              "      <th>3</th>\n",
              "      <td>janiecelincoln ha totally go journalism major ...</td>\n",
              "      <td>happiness</td>\n",
              "    </tr>\n",
              "    <tr>\n",
              "      <th>4</th>\n",
              "      <td>souljaboytellem good night</td>\n",
              "      <td>neutral</td>\n",
              "    </tr>\n",
              "  </tbody>\n",
              "</table>\n",
              "</div>\n",
              "      <button class=\"colab-df-convert\" onclick=\"convertToInteractive('df-3870faf2-c5d5-4093-9f9f-c02c2ad481ae')\"\n",
              "              title=\"Convert this dataframe to an interactive table.\"\n",
              "              style=\"display:none;\">\n",
              "        \n",
              "  <svg xmlns=\"http://www.w3.org/2000/svg\" height=\"24px\"viewBox=\"0 0 24 24\"\n",
              "       width=\"24px\">\n",
              "    <path d=\"M0 0h24v24H0V0z\" fill=\"none\"/>\n",
              "    <path d=\"M18.56 5.44l.94 2.06.94-2.06 2.06-.94-2.06-.94-.94-2.06-.94 2.06-2.06.94zm-11 1L8.5 8.5l.94-2.06 2.06-.94-2.06-.94L8.5 2.5l-.94 2.06-2.06.94zm10 10l.94 2.06.94-2.06 2.06-.94-2.06-.94-.94-2.06-.94 2.06-2.06.94z\"/><path d=\"M17.41 7.96l-1.37-1.37c-.4-.4-.92-.59-1.43-.59-.52 0-1.04.2-1.43.59L10.3 9.45l-7.72 7.72c-.78.78-.78 2.05 0 2.83L4 21.41c.39.39.9.59 1.41.59.51 0 1.02-.2 1.41-.59l7.78-7.78 2.81-2.81c.8-.78.8-2.07 0-2.86zM5.41 20L4 18.59l7.72-7.72 1.47 1.35L5.41 20z\"/>\n",
              "  </svg>\n",
              "      </button>\n",
              "      \n",
              "  <style>\n",
              "    .colab-df-container {\n",
              "      display:flex;\n",
              "      flex-wrap:wrap;\n",
              "      gap: 12px;\n",
              "    }\n",
              "\n",
              "    .colab-df-convert {\n",
              "      background-color: #E8F0FE;\n",
              "      border: none;\n",
              "      border-radius: 50%;\n",
              "      cursor: pointer;\n",
              "      display: none;\n",
              "      fill: #1967D2;\n",
              "      height: 32px;\n",
              "      padding: 0 0 0 0;\n",
              "      width: 32px;\n",
              "    }\n",
              "\n",
              "    .colab-df-convert:hover {\n",
              "      background-color: #E2EBFA;\n",
              "      box-shadow: 0px 1px 2px rgba(60, 64, 67, 0.3), 0px 1px 3px 1px rgba(60, 64, 67, 0.15);\n",
              "      fill: #174EA6;\n",
              "    }\n",
              "\n",
              "    [theme=dark] .colab-df-convert {\n",
              "      background-color: #3B4455;\n",
              "      fill: #D2E3FC;\n",
              "    }\n",
              "\n",
              "    [theme=dark] .colab-df-convert:hover {\n",
              "      background-color: #434B5C;\n",
              "      box-shadow: 0px 1px 3px 1px rgba(0, 0, 0, 0.15);\n",
              "      filter: drop-shadow(0px 1px 2px rgba(0, 0, 0, 0.3));\n",
              "      fill: #FFFFFF;\n",
              "    }\n",
              "  </style>\n",
              "\n",
              "      <script>\n",
              "        const buttonEl =\n",
              "          document.querySelector('#df-3870faf2-c5d5-4093-9f9f-c02c2ad481ae button.colab-df-convert');\n",
              "        buttonEl.style.display =\n",
              "          google.colab.kernel.accessAllowed ? 'block' : 'none';\n",
              "\n",
              "        async function convertToInteractive(key) {\n",
              "          const element = document.querySelector('#df-3870faf2-c5d5-4093-9f9f-c02c2ad481ae');\n",
              "          const dataTable =\n",
              "            await google.colab.kernel.invokeFunction('convertToInteractive',\n",
              "                                                     [key], {});\n",
              "          if (!dataTable) return;\n",
              "\n",
              "          const docLinkHtml = 'Like what you see? Visit the ' +\n",
              "            '<a target=\"_blank\" href=https://colab.research.google.com/notebooks/data_table.ipynb>data table notebook</a>'\n",
              "            + ' to learn more about interactive tables.';\n",
              "          element.innerHTML = '';\n",
              "          dataTable['output_type'] = 'display_data';\n",
              "          await google.colab.output.renderOutput(dataTable, element);\n",
              "          const docLink = document.createElement('div');\n",
              "          docLink.innerHTML = docLinkHtml;\n",
              "          element.appendChild(docLink);\n",
              "        }\n",
              "      </script>\n",
              "    </div>\n",
              "  </div>\n",
              "  "
            ]
          },
          "metadata": {},
          "execution_count": 31
        }
      ],
      "source": [
        "p_data.head()"
      ]
    },
    {
      "cell_type": "code",
      "source": [
        "import nltk \n",
        "nltk.download('words')\n",
        "words = set(nltk.corpus.words.words())"
      ],
      "metadata": {
        "colab": {
          "base_uri": "https://localhost:8080/"
        },
        "id": "D7e6S14zLhZI",
        "outputId": "51fca142-444f-4fac-98f4-41538198f38b"
      },
      "execution_count": 32,
      "outputs": [
        {
          "output_type": "stream",
          "name": "stderr",
          "text": [
            "[nltk_data] Downloading package words to /root/nltk_data...\n",
            "[nltk_data]   Unzipping corpora/words.zip.\n"
          ]
        }
      ]
    },
    {
      "cell_type": "code",
      "source": [
        "len(words)"
      ],
      "metadata": {
        "colab": {
          "base_uri": "https://localhost:8080/"
        },
        "id": "fIa2KjFLLiw6",
        "outputId": "e7f3ebac-2e4d-49e3-82ec-4ff7f4e2d19d"
      },
      "execution_count": 33,
      "outputs": [
        {
          "output_type": "execute_result",
          "data": {
            "text/plain": [
              "235892"
            ]
          },
          "metadata": {},
          "execution_count": 33
        }
      ]
    },
    {
      "cell_type": "markdown",
      "source": [
        "## Word2Vec"
      ],
      "metadata": {
        "id": "aR42dOrA_pbZ"
      }
    },
    {
      "cell_type": "markdown",
      "source": [
        "Pre-trained models\n",
        "\n",
        "import gensim.downloader\n",
        "\n",
        "Show all available models in gensim-data\n",
        "\n",
        "print(list(gensim.downloader.info()['models'].keys()))\n",
        "\n",
        "['fasttext-wiki-news-subwords-300',\n",
        " 'conceptnet-numberbatch-17-06-300',\n",
        " 'word2vec-ruscorpora-300',\n",
        " 'word2vec-google-news-300',\n",
        " 'glove-wiki-gigaword-50',\n",
        " 'glove-wiki-gigaword-100',\n",
        " 'glove-wiki-gigaword-200',\n",
        " 'glove-wiki-gigaword-300',\n",
        " 'glove-twitter-25',\n",
        " 'glove-twitter-50',\n",
        " 'glove-twitter-100',\n",
        " 'glove-twitter-200',\n",
        " '__testing_word2vec-matrix-synopsis']"
      ],
      "metadata": {
        "id": "P-oZy9oWEG0L"
      }
    },
    {
      "cell_type": "code",
      "source": [
        "import gensim\n",
        "\n",
        "import gensim.downloader\n",
        "\n",
        "from gensim.models import Word2Vec"
      ],
      "metadata": {
        "id": "K_wTZ172_rj1"
      },
      "execution_count": 99,
      "outputs": []
    },
    {
      "cell_type": "code",
      "source": [
        "sentences = [sentence for sentence in p_data[\"Content\"]]"
      ],
      "metadata": {
        "id": "094HKESWHJBQ"
      },
      "execution_count": 100,
      "outputs": []
    },
    {
      "cell_type": "code",
      "source": [
        "for index in range(len(sentences)):\n",
        "  sentences[index] = sentences[index].split()"
      ],
      "metadata": {
        "id": "-xDhHGxxCf_a"
      },
      "execution_count": 101,
      "outputs": []
    },
    {
      "cell_type": "code",
      "source": [
        "import numpy as np \n",
        "\n",
        "np.zeros(100)"
      ],
      "metadata": {
        "colab": {
          "base_uri": "https://localhost:8080/"
        },
        "id": "gf_tXE9TAKAy",
        "outputId": "8041017f-0cea-4edb-c56e-185c4f506e8c"
      },
      "execution_count": 102,
      "outputs": [
        {
          "output_type": "execute_result",
          "data": {
            "text/plain": [
              "array([0., 0., 0., 0., 0., 0., 0., 0., 0., 0., 0., 0., 0., 0., 0., 0., 0.,\n",
              "       0., 0., 0., 0., 0., 0., 0., 0., 0., 0., 0., 0., 0., 0., 0., 0., 0.,\n",
              "       0., 0., 0., 0., 0., 0., 0., 0., 0., 0., 0., 0., 0., 0., 0., 0., 0.,\n",
              "       0., 0., 0., 0., 0., 0., 0., 0., 0., 0., 0., 0., 0., 0., 0., 0., 0.,\n",
              "       0., 0., 0., 0., 0., 0., 0., 0., 0., 0., 0., 0., 0., 0., 0., 0., 0.,\n",
              "       0., 0., 0., 0., 0., 0., 0., 0., 0., 0., 0., 0., 0., 0., 0.])"
            ]
          },
          "metadata": {},
          "execution_count": 102
        }
      ]
    },
    {
      "cell_type": "code",
      "source": [
        "glove_vectors = gensim.downloader.load('glove-twitter-100')"
      ],
      "metadata": {
        "id": "6TBE5Hbd_rpA",
        "colab": {
          "base_uri": "https://localhost:8080/"
        },
        "outputId": "264c9709-08af-4f1e-cce6-33e2d2e2b1eb"
      },
      "execution_count": 39,
      "outputs": [
        {
          "output_type": "stream",
          "name": "stdout",
          "text": [
            "[==================================================] 100.0% 387.1/387.1MB downloaded\n"
          ]
        }
      ]
    },
    {
      "cell_type": "code",
      "source": [
        "for index in range(len(sentences)):\n",
        "  temp = [glove_vectors[word] for word in sentences[index] if word in glove_vectors.vocab]\n",
        "  sentences[index] = temp"
      ],
      "metadata": {
        "id": "bB_aXh0e_ruL"
      },
      "execution_count": 103,
      "outputs": []
    },
    {
      "cell_type": "code",
      "source": [
        "max_length = 0\n",
        "\n",
        "for sent in sentences:\n",
        "  if len(sent)>max_length:\n",
        "    max_length = len(sent)"
      ],
      "metadata": {
        "id": "k1cIsFQoJHvX"
      },
      "execution_count": 104,
      "outputs": []
    },
    {
      "cell_type": "code",
      "source": [
        "for index in range(len(sentences)):\n",
        "  while(len(sentences[index])!=27):\n",
        "    sentences[index].append(np.zeros(100))"
      ],
      "metadata": {
        "id": "sLAww_w0HqHe"
      },
      "execution_count": 105,
      "outputs": []
    },
    {
      "cell_type": "code",
      "source": [
        "for index in range(len(sentences)):\n",
        "  sentences[index] = np.array(sentences[index])"
      ],
      "metadata": {
        "id": "3VT5LYLHDQb_"
      },
      "execution_count": 115,
      "outputs": []
    },
    {
      "cell_type": "code",
      "source": [
        "X = np.array(sentences)"
      ],
      "metadata": {
        "id": "IUAoYA-5Dqs_"
      },
      "execution_count": 131,
      "outputs": []
    },
    {
      "cell_type": "markdown",
      "metadata": {
        "id": "Z_6z1WOXKbW5"
      },
      "source": [
        "Text preprocessing done"
      ]
    },
    {
      "cell_type": "markdown",
      "metadata": {
        "id": "V3E4xpOEmdNf"
      },
      "source": [
        "Reference : https://phdstatsphys.wordpress.com/2018/12/27/word2vec-how-to-train-and-update-it/"
      ]
    },
    {
      "cell_type": "markdown",
      "metadata": {
        "id": "-s6ApnHXN9Iu"
      },
      "source": [
        "We have vectors stored in **vectors**"
      ]
    },
    {
      "cell_type": "markdown",
      "metadata": {
        "id": "TExG04nXgaL5"
      },
      "source": [
        "## One hot encoding - padding"
      ]
    },
    {
      "cell_type": "code",
      "source": [
        "for index in range(len(sentences)):\n",
        "  sentence_list = []\n",
        "\n",
        "  for word in sentences[index].split():\n",
        "    if word in words:\n",
        "      sentence_list.append(word)\n",
        "  \n",
        "  sentences[index] = sentence_list"
      ],
      "metadata": {
        "id": "ezpvEDPwL9Oh"
      },
      "execution_count": null,
      "outputs": []
    },
    {
      "cell_type": "code",
      "source": [
        "for index in range(len(sentences)):\n",
        "  sentences[index] = \" \".join(sent for sent in sentences[index])"
      ],
      "metadata": {
        "id": "daNO9eL9E-E5"
      },
      "execution_count": null,
      "outputs": []
    },
    {
      "cell_type": "code",
      "execution_count": null,
      "metadata": {
        "id": "zNE8xGUDaK6f"
      },
      "outputs": [],
      "source": [
        "unique_words = set()\n",
        "\n",
        "for sent in sentences:\n",
        "  for word in sent:\n",
        "    unique_words.add(word)"
      ]
    },
    {
      "cell_type": "code",
      "execution_count": null,
      "metadata": {
        "id": "ymMTgmajaK8-"
      },
      "outputs": [],
      "source": [
        "unique_words = list(unique_words)"
      ]
    },
    {
      "cell_type": "code",
      "execution_count": null,
      "metadata": {
        "id": "k8JMp7BCaLBS"
      },
      "outputs": [],
      "source": [
        "# The length of unique words will be vocabulary size\n",
        "\n",
        "vocabulary_size = len(unique_words)"
      ]
    },
    {
      "cell_type": "code",
      "execution_count": null,
      "metadata": {
        "id": "KCci2g1ahQZo"
      },
      "outputs": [],
      "source": [
        "# Importing libraries for one hot encoding \n",
        "\n",
        "from tensorflow.keras.preprocessing.text import one_hot"
      ]
    },
    {
      "cell_type": "code",
      "execution_count": null,
      "metadata": {
        "id": "d-ZbMXDgilYM"
      },
      "outputs": [],
      "source": [
        "sent_tokens = []\n",
        "\n",
        "for sent in sentences:\n",
        "  temp_list = []\n",
        "  for word in sent.split():\n",
        "    temp_list.append(word)\n",
        "  \n",
        "  sent_tokens.append(temp_list)"
      ]
    },
    {
      "cell_type": "code",
      "source": [],
      "metadata": {
        "id": "o5hFmEjgFbix"
      },
      "execution_count": null,
      "outputs": []
    },
    {
      "cell_type": "code",
      "execution_count": null,
      "metadata": {
        "colab": {
          "base_uri": "https://localhost:8080/"
        },
        "id": "2ghK351Sxudx",
        "outputId": "19c0b896-f5ec-48e0-f7d0-ff508d3af672"
      },
      "outputs": [
        {
          "output_type": "execute_result",
          "data": {
            "text/plain": [
              "['love',\n",
              " 'night',\n",
              " 'wish',\n",
              " 'span',\n",
              " 'week',\n",
              " 'gossip',\n",
              " 'girl',\n",
              " 'big',\n",
              " 'bang',\n",
              " 'theory',\n",
              " 'met',\n",
              " 'mother',\n",
              " 'hill']"
            ]
          },
          "metadata": {},
          "execution_count": 87
        }
      ],
      "source": [
        "[word for word in sent_tokens[0]]"
      ]
    },
    {
      "cell_type": "code",
      "execution_count": null,
      "metadata": {
        "id": "opihn7XNh_BP"
      },
      "outputs": [],
      "source": [
        "sentences = [str(sent) for sent in sentences]"
      ]
    },
    {
      "cell_type": "code",
      "source": [
        "vocabulary_size"
      ],
      "metadata": {
        "colab": {
          "base_uri": "https://localhost:8080/"
        },
        "id": "OIAeN1YUgfEk",
        "outputId": "537ee9ad-f63b-4b7f-c0d4-d0a267c6826c"
      },
      "execution_count": null,
      "outputs": [
        {
          "output_type": "execute_result",
          "data": {
            "text/plain": [
              "27"
            ]
          },
          "metadata": {},
          "execution_count": 97
        }
      ]
    },
    {
      "cell_type": "markdown",
      "source": [],
      "metadata": {
        "id": "KBqcEDJ6gZC9"
      }
    },
    {
      "cell_type": "code",
      "execution_count": null,
      "metadata": {
        "id": "OaBcbNT5h_Dx"
      },
      "outputs": [],
      "source": [
        "one_hot_vectors = []\n",
        "\n",
        "for sent in sent_tokens:\n",
        "  one_hot_vec = []\n",
        "  for words in sent:\n",
        "    one_hot_vec.append(one_hot(words,vocabulary_size)[0])\n",
        "  \n",
        "  one_hot_vectors.append(one_hot_vec)"
      ]
    },
    {
      "cell_type": "code",
      "execution_count": null,
      "metadata": {
        "id": "_Kx5O-2Uh_Gn"
      },
      "outputs": [],
      "source": [
        "# Importing libraries necessary for padding sequence\n",
        "\n",
        "from tensorflow.keras.preprocessing.sequence import pad_sequences"
      ]
    },
    {
      "cell_type": "code",
      "execution_count": null,
      "metadata": {
        "id": "EbhA4JQDh_JB"
      },
      "outputs": [],
      "source": [
        "# Finding the sentence length \n",
        "\n",
        "max_len = 0\n",
        "\n",
        "for sent in sent_tokens:\n",
        "  if len(sent)>max_len:\n",
        "    max_len = len(sent)"
      ]
    },
    {
      "cell_type": "code",
      "execution_count": null,
      "metadata": {
        "id": "tLiTI6Cvh_LT"
      },
      "outputs": [],
      "source": [
        "# Padding sequences \n",
        "\n",
        "embedded_docs = pad_sequences(one_hot_vectors,maxlen=max_len, padding='post')"
      ]
    },
    {
      "cell_type": "code",
      "source": [
        "embedded_docs[0]"
      ],
      "metadata": {
        "colab": {
          "base_uri": "https://localhost:8080/"
        },
        "id": "5V_vhIYXWof5",
        "outputId": "50cc1d09-a880-45f5-e1c5-5c9a700c40ed"
      },
      "execution_count": null,
      "outputs": [
        {
          "output_type": "execute_result",
          "data": {
            "text/plain": [
              "array([17, 14, 18,  4,  8, 25, 15,  8,  7,  1, 20, 25, 19,  0,  0,  0,  0,\n",
              "        0,  0,  0], dtype=int32)"
            ]
          },
          "metadata": {},
          "execution_count": 94
        }
      ]
    },
    {
      "cell_type": "code",
      "source": [
        "X = embedded_docs"
      ],
      "metadata": {
        "id": "K8KBx_I4owPp"
      },
      "execution_count": null,
      "outputs": []
    },
    {
      "cell_type": "code",
      "execution_count": null,
      "metadata": {
        "colab": {
          "base_uri": "https://localhost:8080/"
        },
        "id": "RqsbsTw1h_aZ",
        "outputId": "d96c1b97-36e3-4a8b-a1c5-bd5706f0a1e9"
      },
      "outputs": [
        {
          "output_type": "execute_result",
          "data": {
            "text/plain": [
              "20"
            ]
          },
          "metadata": {},
          "execution_count": 96
        }
      ],
      "source": [
        "max_len"
      ]
    },
    {
      "cell_type": "code",
      "source": [
        "# Grabbing the labels\n",
        "\n",
        "y = p_data['sentiment']\n",
        "\n",
        "labels = []\n",
        "corresponding_num = []\n",
        "\n",
        "for ind,lab in enumerate(y.unique()):\n",
        "  labels.append(lab)\n",
        "  corresponding_num.append(ind)\n",
        "\n",
        "encodings = [val for val in y]\n",
        "\n",
        "for i,value in enumerate(encodings):\n",
        "  for ind,unique in enumerate(labels):\n",
        "    if value==unique:\n",
        "      encodings[i] = ind\n",
        "      \n",
        "encodings = np.array(encodings)\n",
        "\n",
        "y = encodings"
      ],
      "metadata": {
        "id": "qpyD4yCTOwtP"
      },
      "execution_count": 124,
      "outputs": []
    },
    {
      "cell_type": "markdown",
      "source": [
        "encoding y into vectors of size 13"
      ],
      "metadata": {
        "id": "1BmrI8hPpwDU"
      }
    },
    {
      "cell_type": "code",
      "source": [
        "from tensorflow.keras.utils import to_categorical"
      ],
      "metadata": {
        "id": "mw2arERBpILe"
      },
      "execution_count": 125,
      "outputs": []
    },
    {
      "cell_type": "code",
      "source": [
        "y = to_categorical(y,13)"
      ],
      "metadata": {
        "id": "Qk8hQLRcpvnr"
      },
      "execution_count": 126,
      "outputs": []
    },
    {
      "cell_type": "markdown",
      "source": [
        "Train-test-split"
      ],
      "metadata": {
        "id": "drXBqE7toiDJ"
      }
    },
    {
      "cell_type": "code",
      "source": [
        "from sklearn.model_selection import train_test_split"
      ],
      "metadata": {
        "id": "LnpvIrCTohIh"
      },
      "execution_count": 132,
      "outputs": []
    },
    {
      "cell_type": "code",
      "source": [
        "train_X, test_X, train_y, test_y = train_test_split(X,y, test_size=0.12, random_state=122, shuffle=True, stratify=y)"
      ],
      "metadata": {
        "id": "XJsly-7PohuN"
      },
      "execution_count": 133,
      "outputs": []
    },
    {
      "cell_type": "code",
      "source": [
        "train_X.shape"
      ],
      "metadata": {
        "colab": {
          "base_uri": "https://localhost:8080/"
        },
        "id": "sDbLmnPvogLC",
        "outputId": "18ee276f-af36-4020-a6dd-9c3984842fba"
      },
      "execution_count": 135,
      "outputs": [
        {
          "output_type": "execute_result",
          "data": {
            "text/plain": [
              "(7347, 27, 100)"
            ]
          },
          "metadata": {},
          "execution_count": 135
        }
      ]
    },
    {
      "cell_type": "code",
      "source": [
        "train_y.shape"
      ],
      "metadata": {
        "colab": {
          "base_uri": "https://localhost:8080/"
        },
        "id": "6gtbCObeogOJ",
        "outputId": "df9e8e72-a4e3-4ca6-a686-bf37e5e62d03"
      },
      "execution_count": 136,
      "outputs": [
        {
          "output_type": "execute_result",
          "data": {
            "text/plain": [
              "(7347, 13)"
            ]
          },
          "metadata": {},
          "execution_count": 136
        }
      ]
    },
    {
      "cell_type": "code",
      "source": [
        "test_X.shape"
      ],
      "metadata": {
        "colab": {
          "base_uri": "https://localhost:8080/"
        },
        "id": "-ow9NRudogRD",
        "outputId": "6e03c851-302a-4230-bf23-5ac899f83bc8"
      },
      "execution_count": 137,
      "outputs": [
        {
          "output_type": "execute_result",
          "data": {
            "text/plain": [
              "(1002, 27, 100)"
            ]
          },
          "metadata": {},
          "execution_count": 137
        }
      ]
    },
    {
      "cell_type": "code",
      "source": [
        "test_y.shape"
      ],
      "metadata": {
        "colab": {
          "base_uri": "https://localhost:8080/"
        },
        "id": "MWwfj30zogS8",
        "outputId": "22c675c0-6c19-4a46-fc06-663069898636"
      },
      "execution_count": 138,
      "outputs": [
        {
          "output_type": "execute_result",
          "data": {
            "text/plain": [
              "(1002, 13)"
            ]
          },
          "metadata": {},
          "execution_count": 138
        }
      ]
    },
    {
      "cell_type": "code",
      "source": [
        "train_X[0].shape"
      ],
      "metadata": {
        "colab": {
          "base_uri": "https://localhost:8080/"
        },
        "id": "XzShVXg5D3Ku",
        "outputId": "a5e9fdfe-1a26-4c8a-8df1-f03640995556"
      },
      "execution_count": 81,
      "outputs": [
        {
          "output_type": "execute_result",
          "data": {
            "text/plain": [
              "(27, 100)"
            ]
          },
          "metadata": {},
          "execution_count": 81
        }
      ]
    },
    {
      "cell_type": "code",
      "source": [
        "\"\"\"\n",
        "Call arguments received by layer \"sequential_1\" (type Sequential):\n",
        "      • inputs=tf.Tensor(shape=(None,), dtype=int64)\n",
        "      • training=False\n",
        "      • mask=None\n",
        "      \"\"\""
      ],
      "metadata": {
        "colab": {
          "base_uri": "https://localhost:8080/",
          "height": 54
        },
        "id": "r2jU-H70ynYS",
        "outputId": "8afcff4b-c945-4147-9e13-2e547fcf49e7"
      },
      "execution_count": null,
      "outputs": [
        {
          "output_type": "execute_result",
          "data": {
            "text/plain": [
              "'\\nCall arguments received by layer \"sequential_1\" (type Sequential):\\n      • inputs=tf.Tensor(shape=(None,), dtype=int64)\\n      • training=False\\n      • mask=None\\n      '"
            ],
            "application/vnd.google.colaboratory.intrinsic+json": {
              "type": "string"
            }
          },
          "metadata": {},
          "execution_count": 62
        }
      ]
    },
    {
      "cell_type": "code",
      "source": [
        "test_X[0]"
      ],
      "metadata": {
        "colab": {
          "base_uri": "https://localhost:8080/"
        },
        "id": "YROx9d7ZyneR",
        "outputId": "03225e98-f767-48e1-9018-137bc41c6137"
      },
      "execution_count": null,
      "outputs": [
        {
          "output_type": "execute_result",
          "data": {
            "text/plain": [
              "array([20, 18, 22,  4, 16,  9,  0,  0,  0,  0,  0,  0,  0,  0,  0,  0,  0,\n",
              "        0,  0,  0], dtype=int32)"
            ]
          },
          "metadata": {},
          "execution_count": 63
        }
      ]
    },
    {
      "cell_type": "code",
      "source": [],
      "metadata": {
        "id": "WU6g475zyngp"
      },
      "execution_count": null,
      "outputs": []
    },
    {
      "cell_type": "code",
      "source": [],
      "metadata": {
        "id": "Jx3_DLjmynj-"
      },
      "execution_count": null,
      "outputs": []
    },
    {
      "cell_type": "markdown",
      "metadata": {
        "id": "vQ_uu-D8Kdh8"
      },
      "source": [
        "## Birdectional LSTM RNN MODEL"
      ]
    },
    {
      "cell_type": "markdown",
      "metadata": {
        "id": "OB9_UQpFN-iD"
      },
      "source": [
        "Implementing Bi-directional Long short term Memory recurrent neural network "
      ]
    },
    {
      "cell_type": "code",
      "execution_count": 139,
      "metadata": {
        "id": "5XctiZrBJqNu"
      },
      "outputs": [],
      "source": [
        "# Importing the necessary libraries\n",
        "\n",
        "import tensorflow \n",
        "from tensorflow import keras\n",
        "\n",
        "from keras.layers import Dense, Flatten, Input, LSTM, Bidirectional, Embedding, Dropout, CuDNNLSTM\n",
        "from keras.models import Model, Sequential"
      ]
    },
    {
      "cell_type": "markdown",
      "metadata": {
        "id": "ANsSvX-5HvnH"
      },
      "source": [
        "The fluctuations are normal within certain limits and depend on the fact that you use a heuristic method but in your case they are excessive. Despite all the performance takes a definite direction and therefore the system works. From the graphs you have posted, the problem depends on your data so it's a difficult training. If you have already tried to change the learning rate try to change training algorithm. You would agree to test your data: first compute the Bayes error rate using a KNN (use the trick regression in case you need), in this way you can check whether the input data contain all the information you need. Then try the LSTM without the validation or dropout to verify that it has the ability to achieve the result for you necessary. If the training algorithm is not suitable you should have the same problems even without the validation or dropout. Just at the end adjust the training and the validation size to get the best result in the test set. Statistical learning theory is not a topic that can be talked about at one time, we must proceed step by step.\n"
      ]
    },
    {
      "cell_type": "markdown",
      "metadata": {
        "id": "cdaMQD09qzdD"
      },
      "source": [
        "source :https://stats.stackexchange.com/questions/345990/why-does-the-loss-accuracy-fluctuate-during-the-training-keras-lstm"
      ]
    },
    {
      "cell_type": "code",
      "source": [
        "## Creating model\n",
        "\n",
        "embedding_vector_features=300\n",
        "model=Sequential()\n",
        "model.add(Input(shape=(27,100)))\n",
        "model.add(Bidirectional(LSTM(256,return_sequences=True)))\n",
        "model.add(Dropout(0.15))\n",
        "model.add(Bidirectional(LSTM(128)))\n",
        "model.add(Dense(64,activation=\"relu\"))\n",
        "model.add(Dense(64,activation=\"relu\"))\n",
        "model.add(Dense(13,activation='softmax'))"
      ],
      "metadata": {
        "id": "Bc1UCQ8YV5Tn"
      },
      "execution_count": 140,
      "outputs": []
    },
    {
      "cell_type": "code",
      "source": [
        "model.summary()"
      ],
      "metadata": {
        "colab": {
          "base_uri": "https://localhost:8080/"
        },
        "id": "IKYYvQ6C3U2N",
        "outputId": "072d7e0d-0746-40c9-84ff-87ce28d410a5"
      },
      "execution_count": 141,
      "outputs": [
        {
          "output_type": "stream",
          "name": "stdout",
          "text": [
            "Model: \"sequential_2\"\n",
            "_________________________________________________________________\n",
            " Layer (type)                Output Shape              Param #   \n",
            "=================================================================\n",
            " bidirectional_2 (Bidirectio  (None, 27, 512)          731136    \n",
            " nal)                                                            \n",
            "                                                                 \n",
            " dropout_1 (Dropout)         (None, 27, 512)           0         \n",
            "                                                                 \n",
            " bidirectional_3 (Bidirectio  (None, 256)              656384    \n",
            " nal)                                                            \n",
            "                                                                 \n",
            " dense_3 (Dense)             (None, 64)                16448     \n",
            "                                                                 \n",
            " dense_4 (Dense)             (None, 64)                4160      \n",
            "                                                                 \n",
            " dense_5 (Dense)             (None, 13)                845       \n",
            "                                                                 \n",
            "=================================================================\n",
            "Total params: 1,408,973\n",
            "Trainable params: 1,408,973\n",
            "Non-trainable params: 0\n",
            "_________________________________________________________________\n"
          ]
        }
      ]
    },
    {
      "cell_type": "code",
      "source": [
        "# Importing library for optimizer\n",
        "from keras import optimizers\n",
        "\n",
        "# adam optimizer with custom learning rate\n",
        "from keras.optimizers import Adam\n",
        "\n",
        "optimizer = Adam(learning_rate=1e-5)\n",
        "\n",
        "\n",
        "# Compiling the modle \n",
        "model.compile(optimizer = optimizer, loss=\"categorical_crossentropy\", metrics=['accuracy'])"
      ],
      "metadata": {
        "id": "gpjY78rzkuCy"
      },
      "execution_count": 142,
      "outputs": []
    },
    {
      "cell_type": "markdown",
      "metadata": {
        "id": "uaxBoFlHAySp"
      },
      "source": [
        "Keras callbacks"
      ]
    },
    {
      "cell_type": "code",
      "execution_count": 143,
      "metadata": {
        "id": "YAjvM2gpA6KC"
      },
      "outputs": [],
      "source": [
        "from keras.callbacks import EarlyStopping, ModelCheckpoint"
      ]
    },
    {
      "cell_type": "code",
      "execution_count": 147,
      "metadata": {
        "id": "RwBTC950A6rE"
      },
      "outputs": [],
      "source": [
        "patience = EarlyStopping(patience=300)\n",
        "\n",
        "save_best = ModelCheckpoint(\"lstm_model.h5\", save_best_only=True)"
      ]
    },
    {
      "cell_type": "code",
      "execution_count": 148,
      "metadata": {
        "colab": {
          "base_uri": "https://localhost:8080/",
          "height": 1000
        },
        "id": "qwu7JZws1tJR",
        "outputId": "679589da-37f3-41b8-f6d3-67376a76d420"
      },
      "outputs": [
        {
          "output_type": "stream",
          "name": "stdout",
          "text": [
            "Epoch 1/400\n",
            "230/230 [==============================] - 4s 17ms/step - loss: 1.7621 - accuracy: 0.3983 - val_loss: 2.2304 - val_accuracy: 0.2275\n",
            "Epoch 2/400\n",
            "230/230 [==============================] - 4s 16ms/step - loss: 1.7603 - accuracy: 0.3987 - val_loss: 2.2356 - val_accuracy: 0.2216\n",
            "Epoch 3/400\n",
            "230/230 [==============================] - 4s 16ms/step - loss: 1.7542 - accuracy: 0.4034 - val_loss: 2.2405 - val_accuracy: 0.2365\n",
            "Epoch 4/400\n",
            "230/230 [==============================] - 4s 16ms/step - loss: 1.7496 - accuracy: 0.4052 - val_loss: 2.2402 - val_accuracy: 0.2255\n",
            "Epoch 5/400\n",
            "230/230 [==============================] - 4s 16ms/step - loss: 1.7454 - accuracy: 0.4017 - val_loss: 2.2428 - val_accuracy: 0.2226\n",
            "Epoch 6/400\n",
            "230/230 [==============================] - 4s 17ms/step - loss: 1.7429 - accuracy: 0.4053 - val_loss: 2.2385 - val_accuracy: 0.2305\n",
            "Epoch 7/400\n",
            "230/230 [==============================] - 4s 16ms/step - loss: 1.7349 - accuracy: 0.4070 - val_loss: 2.2402 - val_accuracy: 0.2275\n",
            "Epoch 8/400\n",
            "230/230 [==============================] - 4s 16ms/step - loss: 1.7327 - accuracy: 0.4123 - val_loss: 2.2451 - val_accuracy: 0.2226\n",
            "Epoch 9/400\n",
            "230/230 [==============================] - 4s 16ms/step - loss: 1.7260 - accuracy: 0.4120 - val_loss: 2.2450 - val_accuracy: 0.2305\n",
            "Epoch 10/400\n",
            "230/230 [==============================] - 4s 16ms/step - loss: 1.7223 - accuracy: 0.4111 - val_loss: 2.2442 - val_accuracy: 0.2265\n",
            "Epoch 11/400\n",
            "230/230 [==============================] - 4s 16ms/step - loss: 1.7217 - accuracy: 0.4112 - val_loss: 2.2633 - val_accuracy: 0.2206\n",
            "Epoch 12/400\n",
            "230/230 [==============================] - 4s 16ms/step - loss: 1.7111 - accuracy: 0.4183 - val_loss: 2.2706 - val_accuracy: 0.2295\n",
            "Epoch 13/400\n",
            "230/230 [==============================] - 4s 17ms/step - loss: 1.7117 - accuracy: 0.4187 - val_loss: 2.2674 - val_accuracy: 0.2265\n",
            "Epoch 14/400\n",
            "230/230 [==============================] - 4s 16ms/step - loss: 1.7068 - accuracy: 0.4218 - val_loss: 2.2647 - val_accuracy: 0.2116\n",
            "Epoch 15/400\n",
            "230/230 [==============================] - 4s 16ms/step - loss: 1.6989 - accuracy: 0.4252 - val_loss: 2.2769 - val_accuracy: 0.2236\n",
            "Epoch 16/400\n",
            "230/230 [==============================] - 4s 16ms/step - loss: 1.6954 - accuracy: 0.4237 - val_loss: 2.2607 - val_accuracy: 0.2216\n",
            "Epoch 17/400\n",
            "230/230 [==============================] - 4s 16ms/step - loss: 1.6947 - accuracy: 0.4267 - val_loss: 2.2677 - val_accuracy: 0.2246\n",
            "Epoch 18/400\n",
            "230/230 [==============================] - 4s 16ms/step - loss: 1.6854 - accuracy: 0.4302 - val_loss: 2.2795 - val_accuracy: 0.2236\n",
            "Epoch 19/400\n",
            "230/230 [==============================] - 4s 16ms/step - loss: 1.6857 - accuracy: 0.4307 - val_loss: 2.2817 - val_accuracy: 0.2166\n",
            "Epoch 20/400\n",
            "230/230 [==============================] - 4s 16ms/step - loss: 1.6795 - accuracy: 0.4304 - val_loss: 2.2854 - val_accuracy: 0.2275\n",
            "Epoch 21/400\n",
            "230/230 [==============================] - 4s 16ms/step - loss: 1.6739 - accuracy: 0.4343 - val_loss: 2.2786 - val_accuracy: 0.2236\n",
            "Epoch 22/400\n",
            "230/230 [==============================] - 4s 16ms/step - loss: 1.6705 - accuracy: 0.4316 - val_loss: 2.2792 - val_accuracy: 0.2255\n",
            "Epoch 23/400\n",
            "230/230 [==============================] - 4s 16ms/step - loss: 1.6616 - accuracy: 0.4356 - val_loss: 2.2855 - val_accuracy: 0.2226\n",
            "Epoch 24/400\n",
            "230/230 [==============================] - 4s 16ms/step - loss: 1.6636 - accuracy: 0.4356 - val_loss: 2.2877 - val_accuracy: 0.2196\n",
            "Epoch 25/400\n",
            "230/230 [==============================] - 4s 16ms/step - loss: 1.6551 - accuracy: 0.4439 - val_loss: 2.2950 - val_accuracy: 0.2166\n",
            "Epoch 26/400\n",
            "230/230 [==============================] - 4s 16ms/step - loss: 1.6491 - accuracy: 0.4402 - val_loss: 2.2856 - val_accuracy: 0.2216\n",
            "Epoch 27/400\n",
            "230/230 [==============================] - 4s 16ms/step - loss: 1.6455 - accuracy: 0.4448 - val_loss: 2.2908 - val_accuracy: 0.2255\n",
            "Epoch 28/400\n",
            "230/230 [==============================] - 4s 16ms/step - loss: 1.6412 - accuracy: 0.4432 - val_loss: 2.3141 - val_accuracy: 0.2186\n",
            "Epoch 29/400\n",
            "230/230 [==============================] - 4s 16ms/step - loss: 1.6318 - accuracy: 0.4535 - val_loss: 2.2996 - val_accuracy: 0.2285\n",
            "Epoch 30/400\n",
            "230/230 [==============================] - 4s 16ms/step - loss: 1.6291 - accuracy: 0.4512 - val_loss: 2.2986 - val_accuracy: 0.2206\n",
            "Epoch 31/400\n",
            "230/230 [==============================] - 4s 16ms/step - loss: 1.6243 - accuracy: 0.4562 - val_loss: 2.3156 - val_accuracy: 0.2156\n",
            "Epoch 32/400\n",
            "230/230 [==============================] - 4s 16ms/step - loss: 1.6202 - accuracy: 0.4542 - val_loss: 2.3120 - val_accuracy: 0.2196\n",
            "Epoch 33/400\n",
            "230/230 [==============================] - 4s 19ms/step - loss: 1.6127 - accuracy: 0.4606 - val_loss: 2.3145 - val_accuracy: 0.2146\n",
            "Epoch 34/400\n",
            "230/230 [==============================] - 4s 16ms/step - loss: 1.6089 - accuracy: 0.4562 - val_loss: 2.3212 - val_accuracy: 0.2196\n",
            "Epoch 35/400\n",
            "230/230 [==============================] - 4s 16ms/step - loss: 1.6068 - accuracy: 0.4606 - val_loss: 2.3176 - val_accuracy: 0.2086\n",
            "Epoch 36/400\n",
            "230/230 [==============================] - 4s 16ms/step - loss: 1.6031 - accuracy: 0.4664 - val_loss: 2.3221 - val_accuracy: 0.2096\n",
            "Epoch 37/400\n",
            "230/230 [==============================] - 4s 16ms/step - loss: 1.6001 - accuracy: 0.4628 - val_loss: 2.3205 - val_accuracy: 0.2166\n",
            "Epoch 38/400\n",
            "230/230 [==============================] - 4s 16ms/step - loss: 1.5896 - accuracy: 0.4669 - val_loss: 2.3300 - val_accuracy: 0.2126\n",
            "Epoch 39/400\n",
            "230/230 [==============================] - 4s 16ms/step - loss: 1.5859 - accuracy: 0.4671 - val_loss: 2.3529 - val_accuracy: 0.2186\n",
            "Epoch 40/400\n",
            "230/230 [==============================] - 4s 16ms/step - loss: 1.5849 - accuracy: 0.4662 - val_loss: 2.3186 - val_accuracy: 0.2236\n",
            "Epoch 41/400\n",
            "230/230 [==============================] - 4s 16ms/step - loss: 1.5779 - accuracy: 0.4709 - val_loss: 2.3469 - val_accuracy: 0.2196\n",
            "Epoch 42/400\n",
            "230/230 [==============================] - 4s 17ms/step - loss: 1.5695 - accuracy: 0.4752 - val_loss: 2.3405 - val_accuracy: 0.2086\n",
            "Epoch 43/400\n",
            "230/230 [==============================] - 4s 16ms/step - loss: 1.5681 - accuracy: 0.4749 - val_loss: 2.3490 - val_accuracy: 0.2106\n",
            "Epoch 44/400\n",
            "230/230 [==============================] - 4s 16ms/step - loss: 1.5608 - accuracy: 0.4798 - val_loss: 2.3504 - val_accuracy: 0.2166\n",
            "Epoch 45/400\n",
            "230/230 [==============================] - 4s 16ms/step - loss: 1.5566 - accuracy: 0.4769 - val_loss: 2.3628 - val_accuracy: 0.2056\n",
            "Epoch 46/400\n",
            "230/230 [==============================] - 4s 16ms/step - loss: 1.5526 - accuracy: 0.4803 - val_loss: 2.3386 - val_accuracy: 0.2136\n",
            "Epoch 47/400\n",
            "230/230 [==============================] - 4s 16ms/step - loss: 1.5496 - accuracy: 0.4813 - val_loss: 2.3688 - val_accuracy: 0.2106\n",
            "Epoch 48/400\n",
            "230/230 [==============================] - 4s 16ms/step - loss: 1.5414 - accuracy: 0.4863 - val_loss: 2.3569 - val_accuracy: 0.2106\n",
            "Epoch 49/400\n",
            "230/230 [==============================] - 4s 16ms/step - loss: 1.5328 - accuracy: 0.4852 - val_loss: 2.3779 - val_accuracy: 0.2066\n",
            "Epoch 50/400\n",
            "230/230 [==============================] - 4s 17ms/step - loss: 1.5353 - accuracy: 0.4859 - val_loss: 2.3776 - val_accuracy: 0.2166\n",
            "Epoch 51/400\n",
            "230/230 [==============================] - 4s 16ms/step - loss: 1.5239 - accuracy: 0.4904 - val_loss: 2.3638 - val_accuracy: 0.2116\n",
            "Epoch 52/400\n",
            "230/230 [==============================] - 4s 17ms/step - loss: 1.5164 - accuracy: 0.4935 - val_loss: 2.3786 - val_accuracy: 0.2046\n",
            "Epoch 53/400\n",
            "230/230 [==============================] - 4s 17ms/step - loss: 1.5178 - accuracy: 0.4895 - val_loss: 2.3734 - val_accuracy: 0.2046\n",
            "Epoch 54/400\n",
            "230/230 [==============================] - 4s 17ms/step - loss: 1.5140 - accuracy: 0.4937 - val_loss: 2.3857 - val_accuracy: 0.2086\n",
            "Epoch 55/400\n",
            "230/230 [==============================] - 4s 16ms/step - loss: 1.5073 - accuracy: 0.5028 - val_loss: 2.3886 - val_accuracy: 0.2056\n",
            "Epoch 56/400\n",
            "230/230 [==============================] - 4s 17ms/step - loss: 1.5024 - accuracy: 0.5005 - val_loss: 2.3937 - val_accuracy: 0.2116\n",
            "Epoch 57/400\n",
            "230/230 [==============================] - 4s 17ms/step - loss: 1.5029 - accuracy: 0.4976 - val_loss: 2.3862 - val_accuracy: 0.2076\n",
            "Epoch 58/400\n",
            "230/230 [==============================] - 4s 17ms/step - loss: 1.4931 - accuracy: 0.5065 - val_loss: 2.3845 - val_accuracy: 0.2026\n",
            "Epoch 59/400\n",
            "230/230 [==============================] - 4s 17ms/step - loss: 1.4873 - accuracy: 0.5039 - val_loss: 2.3920 - val_accuracy: 0.2216\n",
            "Epoch 60/400\n",
            "230/230 [==============================] - 4s 17ms/step - loss: 1.4853 - accuracy: 0.5036 - val_loss: 2.4211 - val_accuracy: 0.2066\n",
            "Epoch 61/400\n",
            "230/230 [==============================] - 4s 16ms/step - loss: 1.4789 - accuracy: 0.5082 - val_loss: 2.4006 - val_accuracy: 0.2096\n",
            "Epoch 62/400\n",
            "230/230 [==============================] - 4s 16ms/step - loss: 1.4716 - accuracy: 0.5089 - val_loss: 2.3967 - val_accuracy: 0.2156\n",
            "Epoch 63/400\n",
            "230/230 [==============================] - 4s 16ms/step - loss: 1.4670 - accuracy: 0.5137 - val_loss: 2.4047 - val_accuracy: 0.2076\n",
            "Epoch 64/400\n",
            "230/230 [==============================] - 4s 16ms/step - loss: 1.4574 - accuracy: 0.5201 - val_loss: 2.4204 - val_accuracy: 0.2156\n",
            "Epoch 65/400\n",
            "230/230 [==============================] - 4s 16ms/step - loss: 1.4577 - accuracy: 0.5186 - val_loss: 2.4056 - val_accuracy: 0.2166\n",
            "Epoch 66/400\n",
            "230/230 [==============================] - 4s 17ms/step - loss: 1.4509 - accuracy: 0.5180 - val_loss: 2.4408 - val_accuracy: 0.2066\n",
            "Epoch 67/400\n",
            "230/230 [==============================] - 4s 16ms/step - loss: 1.4487 - accuracy: 0.5203 - val_loss: 2.4382 - val_accuracy: 0.2076\n",
            "Epoch 68/400\n",
            "230/230 [==============================] - 4s 16ms/step - loss: 1.4428 - accuracy: 0.5187 - val_loss: 2.4331 - val_accuracy: 0.2026\n",
            "Epoch 69/400\n",
            "230/230 [==============================] - 4s 17ms/step - loss: 1.4341 - accuracy: 0.5274 - val_loss: 2.4205 - val_accuracy: 0.2076\n",
            "Epoch 70/400\n",
            "230/230 [==============================] - 4s 16ms/step - loss: 1.4245 - accuracy: 0.5325 - val_loss: 2.4307 - val_accuracy: 0.2066\n",
            "Epoch 71/400\n",
            "230/230 [==============================] - 4s 16ms/step - loss: 1.4266 - accuracy: 0.5295 - val_loss: 2.4355 - val_accuracy: 0.2086\n",
            "Epoch 72/400\n",
            "230/230 [==============================] - 4s 16ms/step - loss: 1.4205 - accuracy: 0.5331 - val_loss: 2.4497 - val_accuracy: 0.2016\n",
            "Epoch 73/400\n",
            "230/230 [==============================] - 4s 16ms/step - loss: 1.4102 - accuracy: 0.5370 - val_loss: 2.4659 - val_accuracy: 0.2046\n",
            "Epoch 74/400\n",
            "230/230 [==============================] - 4s 16ms/step - loss: 1.4151 - accuracy: 0.5315 - val_loss: 2.4450 - val_accuracy: 0.2126\n",
            "Epoch 75/400\n",
            "230/230 [==============================] - 4s 16ms/step - loss: 1.4036 - accuracy: 0.5383 - val_loss: 2.4550 - val_accuracy: 0.2056\n",
            "Epoch 76/400\n",
            "230/230 [==============================] - 4s 16ms/step - loss: 1.4017 - accuracy: 0.5380 - val_loss: 2.4633 - val_accuracy: 0.2136\n",
            "Epoch 77/400\n",
            "230/230 [==============================] - 4s 16ms/step - loss: 1.3920 - accuracy: 0.5424 - val_loss: 2.4616 - val_accuracy: 0.2056\n",
            "Epoch 78/400\n",
            "230/230 [==============================] - 4s 20ms/step - loss: 1.3887 - accuracy: 0.5444 - val_loss: 2.4869 - val_accuracy: 0.2076\n",
            "Epoch 79/400\n",
            "230/230 [==============================] - 4s 16ms/step - loss: 1.3848 - accuracy: 0.5477 - val_loss: 2.4721 - val_accuracy: 0.2066\n",
            "Epoch 80/400\n",
            "230/230 [==============================] - 4s 17ms/step - loss: 1.3788 - accuracy: 0.5468 - val_loss: 2.4957 - val_accuracy: 0.2056\n",
            "Epoch 81/400\n",
            "230/230 [==============================] - 4s 17ms/step - loss: 1.3744 - accuracy: 0.5462 - val_loss: 2.4767 - val_accuracy: 0.2096\n",
            "Epoch 82/400\n",
            "230/230 [==============================] - 4s 17ms/step - loss: 1.3729 - accuracy: 0.5481 - val_loss: 2.4779 - val_accuracy: 0.2036\n",
            "Epoch 83/400\n",
            "230/230 [==============================] - 4s 16ms/step - loss: 1.3680 - accuracy: 0.5442 - val_loss: 2.4993 - val_accuracy: 0.2126\n",
            "Epoch 84/400\n",
            "230/230 [==============================] - 4s 17ms/step - loss: 1.3646 - accuracy: 0.5532 - val_loss: 2.4933 - val_accuracy: 0.2086\n",
            "Epoch 85/400\n",
            "230/230 [==============================] - 4s 17ms/step - loss: 1.3538 - accuracy: 0.5549 - val_loss: 2.4964 - val_accuracy: 0.2056\n",
            "Epoch 86/400\n",
            "230/230 [==============================] - 4s 16ms/step - loss: 1.3511 - accuracy: 0.5549 - val_loss: 2.4929 - val_accuracy: 0.2076\n",
            "Epoch 87/400\n",
            "230/230 [==============================] - 4s 17ms/step - loss: 1.3458 - accuracy: 0.5560 - val_loss: 2.5194 - val_accuracy: 0.2096\n",
            "Epoch 88/400\n",
            "230/230 [==============================] - 4s 16ms/step - loss: 1.3449 - accuracy: 0.5609 - val_loss: 2.5063 - val_accuracy: 0.2096\n",
            "Epoch 89/400\n",
            "230/230 [==============================] - 4s 16ms/step - loss: 1.3292 - accuracy: 0.5650 - val_loss: 2.5166 - val_accuracy: 0.2116\n",
            "Epoch 90/400\n",
            "230/230 [==============================] - 4s 16ms/step - loss: 1.3244 - accuracy: 0.5657 - val_loss: 2.5336 - val_accuracy: 0.2136\n",
            "Epoch 91/400\n",
            "230/230 [==============================] - 4s 16ms/step - loss: 1.3219 - accuracy: 0.5628 - val_loss: 2.5452 - val_accuracy: 0.2116\n",
            "Epoch 92/400\n",
            "230/230 [==============================] - 4s 17ms/step - loss: 1.3137 - accuracy: 0.5677 - val_loss: 2.5238 - val_accuracy: 0.2016\n",
            "Epoch 93/400\n",
            "230/230 [==============================] - 4s 17ms/step - loss: 1.3140 - accuracy: 0.5730 - val_loss: 2.5527 - val_accuracy: 0.2066\n",
            "Epoch 94/400\n",
            "230/230 [==============================] - 4s 17ms/step - loss: 1.3074 - accuracy: 0.5726 - val_loss: 2.5322 - val_accuracy: 0.2056\n",
            "Epoch 95/400\n",
            "230/230 [==============================] - 4s 17ms/step - loss: 1.3036 - accuracy: 0.5742 - val_loss: 2.5415 - val_accuracy: 0.2026\n",
            "Epoch 96/400\n",
            "230/230 [==============================] - 4s 16ms/step - loss: 1.3000 - accuracy: 0.5740 - val_loss: 2.5390 - val_accuracy: 0.2086\n",
            "Epoch 97/400\n",
            "230/230 [==============================] - 4s 16ms/step - loss: 1.2878 - accuracy: 0.5774 - val_loss: 2.5623 - val_accuracy: 0.1986\n",
            "Epoch 98/400\n",
            "230/230 [==============================] - 4s 17ms/step - loss: 1.2887 - accuracy: 0.5772 - val_loss: 2.5552 - val_accuracy: 0.2076\n",
            "Epoch 99/400\n",
            "230/230 [==============================] - 4s 16ms/step - loss: 1.2859 - accuracy: 0.5770 - val_loss: 2.5482 - val_accuracy: 0.2046\n",
            "Epoch 100/400\n",
            "230/230 [==============================] - 4s 16ms/step - loss: 1.2789 - accuracy: 0.5865 - val_loss: 2.5878 - val_accuracy: 0.2096\n",
            "Epoch 101/400\n",
            "230/230 [==============================] - 4s 16ms/step - loss: 1.2676 - accuracy: 0.5909 - val_loss: 2.5800 - val_accuracy: 0.2126\n",
            "Epoch 102/400\n",
            "230/230 [==============================] - 4s 16ms/step - loss: 1.2637 - accuracy: 0.5914 - val_loss: 2.5653 - val_accuracy: 0.2116\n",
            "Epoch 103/400\n",
            "230/230 [==============================] - 4s 16ms/step - loss: 1.2660 - accuracy: 0.5851 - val_loss: 2.5725 - val_accuracy: 0.2126\n",
            "Epoch 104/400\n",
            "230/230 [==============================] - 4s 16ms/step - loss: 1.2581 - accuracy: 0.5915 - val_loss: 2.5652 - val_accuracy: 0.2076\n",
            "Epoch 105/400\n",
            "230/230 [==============================] - 4s 16ms/step - loss: 1.2460 - accuracy: 0.5949 - val_loss: 2.5811 - val_accuracy: 0.2166\n",
            "Epoch 106/400\n",
            "230/230 [==============================] - 4s 17ms/step - loss: 1.2483 - accuracy: 0.5932 - val_loss: 2.5953 - val_accuracy: 0.2156\n",
            "Epoch 107/400\n",
            "230/230 [==============================] - 4s 16ms/step - loss: 1.2385 - accuracy: 0.6020 - val_loss: 2.5968 - val_accuracy: 0.2156\n",
            "Epoch 108/400\n",
            "230/230 [==============================] - 4s 16ms/step - loss: 1.2353 - accuracy: 0.6011 - val_loss: 2.6126 - val_accuracy: 0.2116\n",
            "Epoch 109/400\n",
            "230/230 [==============================] - 4s 16ms/step - loss: 1.2237 - accuracy: 0.6092 - val_loss: 2.6177 - val_accuracy: 0.2136\n",
            "Epoch 110/400\n",
            "230/230 [==============================] - 4s 16ms/step - loss: 1.2240 - accuracy: 0.6049 - val_loss: 2.6303 - val_accuracy: 0.2086\n",
            "Epoch 111/400\n",
            "230/230 [==============================] - 4s 16ms/step - loss: 1.2227 - accuracy: 0.6031 - val_loss: 2.6253 - val_accuracy: 0.2116\n",
            "Epoch 112/400\n",
            "230/230 [==============================] - 4s 16ms/step - loss: 1.2182 - accuracy: 0.6024 - val_loss: 2.6244 - val_accuracy: 0.2126\n",
            "Epoch 113/400\n",
            "230/230 [==============================] - 4s 16ms/step - loss: 1.2086 - accuracy: 0.6043 - val_loss: 2.6398 - val_accuracy: 0.2076\n",
            "Epoch 114/400\n",
            "230/230 [==============================] - 4s 17ms/step - loss: 1.2013 - accuracy: 0.6136 - val_loss: 2.6363 - val_accuracy: 0.2086\n",
            "Epoch 115/400\n",
            "230/230 [==============================] - 4s 16ms/step - loss: 1.1999 - accuracy: 0.6102 - val_loss: 2.6358 - val_accuracy: 0.2066\n",
            "Epoch 116/400\n",
            "230/230 [==============================] - 4s 16ms/step - loss: 1.1905 - accuracy: 0.6156 - val_loss: 2.6482 - val_accuracy: 0.2066\n",
            "Epoch 117/400\n",
            "230/230 [==============================] - 4s 17ms/step - loss: 1.1884 - accuracy: 0.6143 - val_loss: 2.6675 - val_accuracy: 0.2066\n",
            "Epoch 118/400\n",
            "230/230 [==============================] - 4s 16ms/step - loss: 1.1798 - accuracy: 0.6189 - val_loss: 2.6734 - val_accuracy: 0.2136\n",
            "Epoch 119/400\n",
            "230/230 [==============================] - 4s 16ms/step - loss: 1.1704 - accuracy: 0.6205 - val_loss: 2.6540 - val_accuracy: 0.2086\n",
            "Epoch 120/400\n",
            "230/230 [==============================] - 4s 16ms/step - loss: 1.1784 - accuracy: 0.6275 - val_loss: 2.6629 - val_accuracy: 0.2106\n",
            "Epoch 121/400\n",
            "230/230 [==============================] - 4s 16ms/step - loss: 1.1684 - accuracy: 0.6234 - val_loss: 2.6832 - val_accuracy: 0.2116\n",
            "Epoch 122/400\n",
            "230/230 [==============================] - 4s 17ms/step - loss: 1.1664 - accuracy: 0.6253 - val_loss: 2.7055 - val_accuracy: 0.2196\n",
            "Epoch 123/400\n",
            "230/230 [==============================] - 4s 20ms/step - loss: 1.1547 - accuracy: 0.6288 - val_loss: 2.6831 - val_accuracy: 0.2066\n",
            "Epoch 124/400\n",
            "230/230 [==============================] - 4s 16ms/step - loss: 1.1549 - accuracy: 0.6237 - val_loss: 2.6944 - val_accuracy: 0.2056\n",
            "Epoch 125/400\n",
            "230/230 [==============================] - 4s 17ms/step - loss: 1.1492 - accuracy: 0.6348 - val_loss: 2.6935 - val_accuracy: 0.2126\n",
            "Epoch 126/400\n",
            "230/230 [==============================] - 4s 17ms/step - loss: 1.1371 - accuracy: 0.6330 - val_loss: 2.7036 - val_accuracy: 0.2126\n",
            "Epoch 127/400\n",
            "230/230 [==============================] - 4s 17ms/step - loss: 1.1407 - accuracy: 0.6345 - val_loss: 2.7219 - val_accuracy: 0.2026\n",
            "Epoch 128/400\n",
            "230/230 [==============================] - 4s 16ms/step - loss: 1.1365 - accuracy: 0.6324 - val_loss: 2.7066 - val_accuracy: 0.2096\n",
            "Epoch 129/400\n",
            "230/230 [==============================] - 4s 16ms/step - loss: 1.1302 - accuracy: 0.6375 - val_loss: 2.7362 - val_accuracy: 0.2116\n",
            "Epoch 130/400\n",
            "230/230 [==============================] - 4s 17ms/step - loss: 1.1228 - accuracy: 0.6409 - val_loss: 2.7346 - val_accuracy: 0.2066\n",
            "Epoch 131/400\n",
            "230/230 [==============================] - 4s 17ms/step - loss: 1.1226 - accuracy: 0.6336 - val_loss: 2.7372 - val_accuracy: 0.2076\n",
            "Epoch 132/400\n",
            "230/230 [==============================] - 4s 17ms/step - loss: 1.1190 - accuracy: 0.6318 - val_loss: 2.7592 - val_accuracy: 0.2106\n",
            "Epoch 133/400\n",
            "230/230 [==============================] - 4s 16ms/step - loss: 1.1023 - accuracy: 0.6448 - val_loss: 2.7639 - val_accuracy: 0.2086\n",
            "Epoch 134/400\n",
            "230/230 [==============================] - 4s 16ms/step - loss: 1.0977 - accuracy: 0.6457 - val_loss: 2.7618 - val_accuracy: 0.2026\n",
            "Epoch 135/400\n",
            "230/230 [==============================] - 4s 16ms/step - loss: 1.0961 - accuracy: 0.6505 - val_loss: 2.7776 - val_accuracy: 0.2106\n",
            "Epoch 136/400\n",
            "230/230 [==============================] - 4s 16ms/step - loss: 1.0887 - accuracy: 0.6499 - val_loss: 2.7682 - val_accuracy: 0.2026\n",
            "Epoch 137/400\n",
            "230/230 [==============================] - 4s 16ms/step - loss: 1.0862 - accuracy: 0.6520 - val_loss: 2.7748 - val_accuracy: 0.2076\n",
            "Epoch 138/400\n",
            "230/230 [==============================] - 4s 16ms/step - loss: 1.0841 - accuracy: 0.6567 - val_loss: 2.7835 - val_accuracy: 0.2146\n",
            "Epoch 139/400\n",
            "230/230 [==============================] - 4s 16ms/step - loss: 1.0745 - accuracy: 0.6548 - val_loss: 2.7812 - val_accuracy: 0.2046\n",
            "Epoch 140/400\n",
            "230/230 [==============================] - 4s 16ms/step - loss: 1.0693 - accuracy: 0.6558 - val_loss: 2.7886 - val_accuracy: 0.1996\n",
            "Epoch 141/400\n",
            "230/230 [==============================] - 4s 16ms/step - loss: 1.0640 - accuracy: 0.6624 - val_loss: 2.8143 - val_accuracy: 0.2066\n",
            "Epoch 142/400\n",
            "230/230 [==============================] - 4s 16ms/step - loss: 1.0608 - accuracy: 0.6601 - val_loss: 2.8090 - val_accuracy: 0.1996\n",
            "Epoch 143/400\n",
            "230/230 [==============================] - 4s 16ms/step - loss: 1.0631 - accuracy: 0.6597 - val_loss: 2.8153 - val_accuracy: 0.2096\n",
            "Epoch 144/400\n",
            "230/230 [==============================] - 4s 16ms/step - loss: 1.0493 - accuracy: 0.6649 - val_loss: 2.8292 - val_accuracy: 0.2096\n",
            "Epoch 145/400\n",
            "230/230 [==============================] - 4s 16ms/step - loss: 1.0443 - accuracy: 0.6673 - val_loss: 2.8376 - val_accuracy: 0.2136\n",
            "Epoch 146/400\n",
            "230/230 [==============================] - 4s 17ms/step - loss: 1.0503 - accuracy: 0.6638 - val_loss: 2.8366 - val_accuracy: 0.2086\n",
            "Epoch 147/400\n",
            "230/230 [==============================] - 4s 16ms/step - loss: 1.0400 - accuracy: 0.6740 - val_loss: 2.8406 - val_accuracy: 0.2126\n",
            "Epoch 148/400\n",
            "230/230 [==============================] - 4s 16ms/step - loss: 1.0305 - accuracy: 0.6781 - val_loss: 2.8420 - val_accuracy: 0.2186\n",
            "Epoch 149/400\n",
            "230/230 [==============================] - 4s 16ms/step - loss: 1.0214 - accuracy: 0.6743 - val_loss: 2.8632 - val_accuracy: 0.2066\n",
            "Epoch 150/400\n",
            "230/230 [==============================] - 4s 16ms/step - loss: 1.0195 - accuracy: 0.6786 - val_loss: 2.8691 - val_accuracy: 0.2116\n",
            "Epoch 151/400\n",
            "230/230 [==============================] - 4s 16ms/step - loss: 1.0182 - accuracy: 0.6771 - val_loss: 2.8674 - val_accuracy: 0.2036\n",
            "Epoch 152/400\n",
            "230/230 [==============================] - 4s 16ms/step - loss: 1.0107 - accuracy: 0.6762 - val_loss: 2.8654 - val_accuracy: 0.2126\n",
            "Epoch 153/400\n",
            "230/230 [==============================] - 4s 16ms/step - loss: 1.0122 - accuracy: 0.6769 - val_loss: 2.8762 - val_accuracy: 0.2066\n",
            "Epoch 154/400\n",
            "230/230 [==============================] - 4s 16ms/step - loss: 1.0015 - accuracy: 0.6850 - val_loss: 2.8817 - val_accuracy: 0.2136\n",
            "Epoch 155/400\n",
            "230/230 [==============================] - 4s 16ms/step - loss: 1.0022 - accuracy: 0.6789 - val_loss: 2.9068 - val_accuracy: 0.2016\n",
            "Epoch 156/400\n",
            "230/230 [==============================] - 4s 16ms/step - loss: 0.9893 - accuracy: 0.6905 - val_loss: 2.8796 - val_accuracy: 0.2136\n",
            "Epoch 157/400\n",
            "230/230 [==============================] - 4s 16ms/step - loss: 0.9910 - accuracy: 0.6853 - val_loss: 2.9218 - val_accuracy: 0.2166\n",
            "Epoch 158/400\n",
            "230/230 [==============================] - 4s 16ms/step - loss: 0.9790 - accuracy: 0.6910 - val_loss: 2.9423 - val_accuracy: 0.2166\n",
            "Epoch 159/400\n",
            "230/230 [==============================] - 4s 16ms/step - loss: 0.9861 - accuracy: 0.6845 - val_loss: 2.9181 - val_accuracy: 0.2196\n",
            "Epoch 160/400\n",
            "230/230 [==============================] - 4s 16ms/step - loss: 0.9714 - accuracy: 0.6921 - val_loss: 2.9322 - val_accuracy: 0.2056\n",
            "Epoch 161/400\n",
            "230/230 [==============================] - 4s 16ms/step - loss: 0.9668 - accuracy: 0.6906 - val_loss: 2.9269 - val_accuracy: 0.2106\n",
            "Epoch 162/400\n",
            "230/230 [==============================] - 4s 16ms/step - loss: 0.9588 - accuracy: 0.6962 - val_loss: 2.9552 - val_accuracy: 0.2156\n",
            "Epoch 163/400\n",
            "230/230 [==============================] - 4s 17ms/step - loss: 0.9715 - accuracy: 0.6878 - val_loss: 2.9555 - val_accuracy: 0.2186\n",
            "Epoch 164/400\n",
            "230/230 [==============================] - 4s 16ms/step - loss: 0.9549 - accuracy: 0.7018 - val_loss: 2.9547 - val_accuracy: 0.2046\n",
            "Epoch 165/400\n",
            "230/230 [==============================] - 4s 16ms/step - loss: 0.9461 - accuracy: 0.7004 - val_loss: 2.9703 - val_accuracy: 0.2086\n",
            "Epoch 166/400\n",
            "230/230 [==============================] - 4s 16ms/step - loss: 0.9410 - accuracy: 0.7027 - val_loss: 2.9884 - val_accuracy: 0.2186\n",
            "Epoch 167/400\n",
            "230/230 [==============================] - 4s 16ms/step - loss: 0.9383 - accuracy: 0.7026 - val_loss: 2.9841 - val_accuracy: 0.2206\n",
            "Epoch 168/400\n",
            "230/230 [==============================] - 4s 19ms/step - loss: 0.9436 - accuracy: 0.6999 - val_loss: 2.9716 - val_accuracy: 0.2116\n",
            "Epoch 169/400\n",
            "230/230 [==============================] - 4s 16ms/step - loss: 0.9288 - accuracy: 0.7074 - val_loss: 3.0225 - val_accuracy: 0.2066\n",
            "Epoch 170/400\n",
            "230/230 [==============================] - 4s 16ms/step - loss: 0.9313 - accuracy: 0.7068 - val_loss: 3.0009 - val_accuracy: 0.2066\n",
            "Epoch 171/400\n",
            "230/230 [==============================] - 4s 17ms/step - loss: 0.9172 - accuracy: 0.7098 - val_loss: 3.0233 - val_accuracy: 0.2106\n",
            "Epoch 172/400\n",
            "230/230 [==============================] - 4s 16ms/step - loss: 0.9180 - accuracy: 0.7125 - val_loss: 3.0187 - val_accuracy: 0.2156\n",
            "Epoch 173/400\n",
            "230/230 [==============================] - 4s 16ms/step - loss: 0.9160 - accuracy: 0.7085 - val_loss: 3.0365 - val_accuracy: 0.2156\n",
            "Epoch 174/400\n",
            "230/230 [==============================] - 4s 17ms/step - loss: 0.9057 - accuracy: 0.7159 - val_loss: 3.0561 - val_accuracy: 0.2126\n",
            "Epoch 175/400\n",
            "230/230 [==============================] - 4s 16ms/step - loss: 0.9131 - accuracy: 0.7109 - val_loss: 3.0369 - val_accuracy: 0.2086\n",
            "Epoch 176/400\n",
            "230/230 [==============================] - 4s 16ms/step - loss: 0.8913 - accuracy: 0.7242 - val_loss: 3.0579 - val_accuracy: 0.2126\n",
            "Epoch 177/400\n",
            "230/230 [==============================] - 4s 17ms/step - loss: 0.8909 - accuracy: 0.7181 - val_loss: 3.0358 - val_accuracy: 0.1996\n",
            "Epoch 178/400\n",
            "230/230 [==============================] - 4s 17ms/step - loss: 0.8834 - accuracy: 0.7210 - val_loss: 3.0648 - val_accuracy: 0.2096\n",
            "Epoch 179/400\n",
            "230/230 [==============================] - 4s 17ms/step - loss: 0.8803 - accuracy: 0.7282 - val_loss: 3.0933 - val_accuracy: 0.2086\n",
            "Epoch 180/400\n",
            "230/230 [==============================] - 4s 17ms/step - loss: 0.8828 - accuracy: 0.7221 - val_loss: 3.1119 - val_accuracy: 0.2136\n",
            "Epoch 181/400\n",
            "230/230 [==============================] - 4s 17ms/step - loss: 0.8780 - accuracy: 0.7227 - val_loss: 3.0947 - val_accuracy: 0.2066\n",
            "Epoch 182/400\n",
            "230/230 [==============================] - 4s 17ms/step - loss: 0.8679 - accuracy: 0.7300 - val_loss: 3.0836 - val_accuracy: 0.2176\n",
            "Epoch 183/400\n",
            "230/230 [==============================] - 4s 16ms/step - loss: 0.8652 - accuracy: 0.7295 - val_loss: 3.1376 - val_accuracy: 0.2116\n",
            "Epoch 184/400\n",
            "230/230 [==============================] - 4s 16ms/step - loss: 0.8636 - accuracy: 0.7281 - val_loss: 3.1277 - val_accuracy: 0.2036\n",
            "Epoch 185/400\n",
            "230/230 [==============================] - 4s 16ms/step - loss: 0.8517 - accuracy: 0.7316 - val_loss: 3.1091 - val_accuracy: 0.2166\n",
            "Epoch 186/400\n",
            "230/230 [==============================] - 4s 17ms/step - loss: 0.8553 - accuracy: 0.7316 - val_loss: 3.1498 - val_accuracy: 0.2116\n",
            "Epoch 187/400\n",
            "230/230 [==============================] - 4s 17ms/step - loss: 0.8499 - accuracy: 0.7295 - val_loss: 3.1324 - val_accuracy: 0.2156\n",
            "Epoch 188/400\n",
            "230/230 [==============================] - 4s 16ms/step - loss: 0.8440 - accuracy: 0.7328 - val_loss: 3.1286 - val_accuracy: 0.2186\n",
            "Epoch 189/400\n",
            "230/230 [==============================] - 4s 16ms/step - loss: 0.8332 - accuracy: 0.7418 - val_loss: 3.1517 - val_accuracy: 0.2086\n",
            "Epoch 190/400\n",
            "230/230 [==============================] - 4s 17ms/step - loss: 0.8435 - accuracy: 0.7373 - val_loss: 3.1561 - val_accuracy: 0.2136\n",
            "Epoch 191/400\n",
            "230/230 [==============================] - 4s 16ms/step - loss: 0.8238 - accuracy: 0.7464 - val_loss: 3.1562 - val_accuracy: 0.2106\n",
            "Epoch 192/400\n",
            "230/230 [==============================] - 4s 16ms/step - loss: 0.8227 - accuracy: 0.7434 - val_loss: 3.1985 - val_accuracy: 0.2126\n",
            "Epoch 193/400\n",
            "230/230 [==============================] - 4s 16ms/step - loss: 0.8289 - accuracy: 0.7418 - val_loss: 3.1748 - val_accuracy: 0.2006\n",
            "Epoch 194/400\n",
            "230/230 [==============================] - 4s 16ms/step - loss: 0.8175 - accuracy: 0.7468 - val_loss: 3.2000 - val_accuracy: 0.2116\n",
            "Epoch 195/400\n",
            "230/230 [==============================] - 4s 17ms/step - loss: 0.8224 - accuracy: 0.7389 - val_loss: 3.2172 - val_accuracy: 0.2016\n",
            "Epoch 196/400\n",
            "230/230 [==============================] - 4s 16ms/step - loss: 0.8108 - accuracy: 0.7520 - val_loss: 3.2029 - val_accuracy: 0.2096\n",
            "Epoch 197/400\n",
            "230/230 [==============================] - 4s 16ms/step - loss: 0.7982 - accuracy: 0.7491 - val_loss: 3.2341 - val_accuracy: 0.2096\n",
            "Epoch 198/400\n",
            "230/230 [==============================] - 4s 17ms/step - loss: 0.8036 - accuracy: 0.7498 - val_loss: 3.2196 - val_accuracy: 0.2076\n",
            "Epoch 199/400\n",
            "230/230 [==============================] - 4s 16ms/step - loss: 0.7903 - accuracy: 0.7547 - val_loss: 3.2311 - val_accuracy: 0.2116\n",
            "Epoch 200/400\n",
            "230/230 [==============================] - 4s 16ms/step - loss: 0.7921 - accuracy: 0.7538 - val_loss: 3.2629 - val_accuracy: 0.2066\n",
            "Epoch 201/400\n",
            "230/230 [==============================] - 4s 17ms/step - loss: 0.7836 - accuracy: 0.7569 - val_loss: 3.2695 - val_accuracy: 0.2166\n",
            "Epoch 202/400\n",
            "230/230 [==============================] - 4s 16ms/step - loss: 0.7813 - accuracy: 0.7573 - val_loss: 3.2507 - val_accuracy: 0.2086\n",
            "Epoch 203/400\n",
            "230/230 [==============================] - 4s 16ms/step - loss: 0.7766 - accuracy: 0.7617 - val_loss: 3.2700 - val_accuracy: 0.2026\n",
            "Epoch 204/400\n",
            "230/230 [==============================] - 4s 16ms/step - loss: 0.7768 - accuracy: 0.7606 - val_loss: 3.2557 - val_accuracy: 0.2096\n",
            "Epoch 205/400\n",
            " 68/230 [=======>......................] - ETA: 2s - loss: 0.7927 - accuracy: 0.7491"
          ]
        },
        {
          "output_type": "error",
          "ename": "KeyboardInterrupt",
          "evalue": "ignored",
          "traceback": [
            "\u001b[0;31m---------------------------------------------------------------------------\u001b[0m",
            "\u001b[0;31mKeyboardInterrupt\u001b[0m                         Traceback (most recent call last)",
            "\u001b[0;32m<ipython-input-148-dd3aec8a0731>\u001b[0m in \u001b[0;36m<module>\u001b[0;34m\u001b[0m\n\u001b[0;32m----> 1\u001b[0;31m \u001b[0mhistory\u001b[0m \u001b[0;34m=\u001b[0m \u001b[0mmodel\u001b[0m\u001b[0;34m.\u001b[0m\u001b[0mfit\u001b[0m\u001b[0;34m(\u001b[0m\u001b[0mtrain_X\u001b[0m\u001b[0;34m,\u001b[0m \u001b[0mtrain_y\u001b[0m\u001b[0;34m,\u001b[0m\u001b[0mvalidation_data\u001b[0m\u001b[0;34m=\u001b[0m\u001b[0;34m(\u001b[0m\u001b[0mtest_X\u001b[0m\u001b[0;34m,\u001b[0m \u001b[0mtest_y\u001b[0m\u001b[0;34m)\u001b[0m\u001b[0;34m,\u001b[0m\u001b[0mepochs\u001b[0m\u001b[0;34m=\u001b[0m\u001b[0;36m400\u001b[0m\u001b[0;34m,\u001b[0m \u001b[0mcallbacks\u001b[0m\u001b[0;34m=\u001b[0m\u001b[0;34m(\u001b[0m\u001b[0mpatience\u001b[0m\u001b[0;34m,\u001b[0m \u001b[0msave_best\u001b[0m\u001b[0;34m)\u001b[0m\u001b[0;34m)\u001b[0m\u001b[0;34m\u001b[0m\u001b[0;34m\u001b[0m\u001b[0m\n\u001b[0m",
            "\u001b[0;32m/usr/local/lib/python3.8/dist-packages/keras/utils/traceback_utils.py\u001b[0m in \u001b[0;36merror_handler\u001b[0;34m(*args, **kwargs)\u001b[0m\n\u001b[1;32m     62\u001b[0m     \u001b[0mfiltered_tb\u001b[0m \u001b[0;34m=\u001b[0m \u001b[0;32mNone\u001b[0m\u001b[0;34m\u001b[0m\u001b[0;34m\u001b[0m\u001b[0m\n\u001b[1;32m     63\u001b[0m     \u001b[0;32mtry\u001b[0m\u001b[0;34m:\u001b[0m\u001b[0;34m\u001b[0m\u001b[0;34m\u001b[0m\u001b[0m\n\u001b[0;32m---> 64\u001b[0;31m       \u001b[0;32mreturn\u001b[0m \u001b[0mfn\u001b[0m\u001b[0;34m(\u001b[0m\u001b[0;34m*\u001b[0m\u001b[0margs\u001b[0m\u001b[0;34m,\u001b[0m \u001b[0;34m**\u001b[0m\u001b[0mkwargs\u001b[0m\u001b[0;34m)\u001b[0m\u001b[0;34m\u001b[0m\u001b[0;34m\u001b[0m\u001b[0m\n\u001b[0m\u001b[1;32m     65\u001b[0m     \u001b[0;32mexcept\u001b[0m \u001b[0mException\u001b[0m \u001b[0;32mas\u001b[0m \u001b[0me\u001b[0m\u001b[0;34m:\u001b[0m  \u001b[0;31m# pylint: disable=broad-except\u001b[0m\u001b[0;34m\u001b[0m\u001b[0;34m\u001b[0m\u001b[0m\n\u001b[1;32m     66\u001b[0m       \u001b[0mfiltered_tb\u001b[0m \u001b[0;34m=\u001b[0m \u001b[0m_process_traceback_frames\u001b[0m\u001b[0;34m(\u001b[0m\u001b[0me\u001b[0m\u001b[0;34m.\u001b[0m\u001b[0m__traceback__\u001b[0m\u001b[0;34m)\u001b[0m\u001b[0;34m\u001b[0m\u001b[0;34m\u001b[0m\u001b[0m\n",
            "\u001b[0;32m/usr/local/lib/python3.8/dist-packages/keras/engine/training.py\u001b[0m in \u001b[0;36mfit\u001b[0;34m(self, x, y, batch_size, epochs, verbose, callbacks, validation_split, validation_data, shuffle, class_weight, sample_weight, initial_epoch, steps_per_epoch, validation_steps, validation_batch_size, validation_freq, max_queue_size, workers, use_multiprocessing)\u001b[0m\n\u001b[1;32m   1407\u001b[0m                 _r=1):\n\u001b[1;32m   1408\u001b[0m               \u001b[0mcallbacks\u001b[0m\u001b[0;34m.\u001b[0m\u001b[0mon_train_batch_begin\u001b[0m\u001b[0;34m(\u001b[0m\u001b[0mstep\u001b[0m\u001b[0;34m)\u001b[0m\u001b[0;34m\u001b[0m\u001b[0;34m\u001b[0m\u001b[0m\n\u001b[0;32m-> 1409\u001b[0;31m               \u001b[0mtmp_logs\u001b[0m \u001b[0;34m=\u001b[0m \u001b[0mself\u001b[0m\u001b[0;34m.\u001b[0m\u001b[0mtrain_function\u001b[0m\u001b[0;34m(\u001b[0m\u001b[0miterator\u001b[0m\u001b[0;34m)\u001b[0m\u001b[0;34m\u001b[0m\u001b[0;34m\u001b[0m\u001b[0m\n\u001b[0m\u001b[1;32m   1410\u001b[0m               \u001b[0;32mif\u001b[0m \u001b[0mdata_handler\u001b[0m\u001b[0;34m.\u001b[0m\u001b[0mshould_sync\u001b[0m\u001b[0;34m:\u001b[0m\u001b[0;34m\u001b[0m\u001b[0;34m\u001b[0m\u001b[0m\n\u001b[1;32m   1411\u001b[0m                 \u001b[0mcontext\u001b[0m\u001b[0;34m.\u001b[0m\u001b[0masync_wait\u001b[0m\u001b[0;34m(\u001b[0m\u001b[0;34m)\u001b[0m\u001b[0;34m\u001b[0m\u001b[0;34m\u001b[0m\u001b[0m\n",
            "\u001b[0;32m/usr/local/lib/python3.8/dist-packages/tensorflow/python/util/traceback_utils.py\u001b[0m in \u001b[0;36merror_handler\u001b[0;34m(*args, **kwargs)\u001b[0m\n\u001b[1;32m    148\u001b[0m     \u001b[0mfiltered_tb\u001b[0m \u001b[0;34m=\u001b[0m \u001b[0;32mNone\u001b[0m\u001b[0;34m\u001b[0m\u001b[0;34m\u001b[0m\u001b[0m\n\u001b[1;32m    149\u001b[0m     \u001b[0;32mtry\u001b[0m\u001b[0;34m:\u001b[0m\u001b[0;34m\u001b[0m\u001b[0;34m\u001b[0m\u001b[0m\n\u001b[0;32m--> 150\u001b[0;31m       \u001b[0;32mreturn\u001b[0m \u001b[0mfn\u001b[0m\u001b[0;34m(\u001b[0m\u001b[0;34m*\u001b[0m\u001b[0margs\u001b[0m\u001b[0;34m,\u001b[0m \u001b[0;34m**\u001b[0m\u001b[0mkwargs\u001b[0m\u001b[0;34m)\u001b[0m\u001b[0;34m\u001b[0m\u001b[0;34m\u001b[0m\u001b[0m\n\u001b[0m\u001b[1;32m    151\u001b[0m     \u001b[0;32mexcept\u001b[0m \u001b[0mException\u001b[0m \u001b[0;32mas\u001b[0m \u001b[0me\u001b[0m\u001b[0;34m:\u001b[0m\u001b[0;34m\u001b[0m\u001b[0;34m\u001b[0m\u001b[0m\n\u001b[1;32m    152\u001b[0m       \u001b[0mfiltered_tb\u001b[0m \u001b[0;34m=\u001b[0m \u001b[0m_process_traceback_frames\u001b[0m\u001b[0;34m(\u001b[0m\u001b[0me\u001b[0m\u001b[0;34m.\u001b[0m\u001b[0m__traceback__\u001b[0m\u001b[0;34m)\u001b[0m\u001b[0;34m\u001b[0m\u001b[0;34m\u001b[0m\u001b[0m\n",
            "\u001b[0;32m/usr/local/lib/python3.8/dist-packages/tensorflow/python/eager/def_function.py\u001b[0m in \u001b[0;36m__call__\u001b[0;34m(self, *args, **kwds)\u001b[0m\n\u001b[1;32m    913\u001b[0m \u001b[0;34m\u001b[0m\u001b[0m\n\u001b[1;32m    914\u001b[0m       \u001b[0;32mwith\u001b[0m \u001b[0mOptionalXlaContext\u001b[0m\u001b[0;34m(\u001b[0m\u001b[0mself\u001b[0m\u001b[0;34m.\u001b[0m\u001b[0m_jit_compile\u001b[0m\u001b[0;34m)\u001b[0m\u001b[0;34m:\u001b[0m\u001b[0;34m\u001b[0m\u001b[0;34m\u001b[0m\u001b[0m\n\u001b[0;32m--> 915\u001b[0;31m         \u001b[0mresult\u001b[0m \u001b[0;34m=\u001b[0m \u001b[0mself\u001b[0m\u001b[0;34m.\u001b[0m\u001b[0m_call\u001b[0m\u001b[0;34m(\u001b[0m\u001b[0;34m*\u001b[0m\u001b[0margs\u001b[0m\u001b[0;34m,\u001b[0m \u001b[0;34m**\u001b[0m\u001b[0mkwds\u001b[0m\u001b[0;34m)\u001b[0m\u001b[0;34m\u001b[0m\u001b[0;34m\u001b[0m\u001b[0m\n\u001b[0m\u001b[1;32m    916\u001b[0m \u001b[0;34m\u001b[0m\u001b[0m\n\u001b[1;32m    917\u001b[0m       \u001b[0mnew_tracing_count\u001b[0m \u001b[0;34m=\u001b[0m \u001b[0mself\u001b[0m\u001b[0;34m.\u001b[0m\u001b[0mexperimental_get_tracing_count\u001b[0m\u001b[0;34m(\u001b[0m\u001b[0;34m)\u001b[0m\u001b[0;34m\u001b[0m\u001b[0;34m\u001b[0m\u001b[0m\n",
            "\u001b[0;32m/usr/local/lib/python3.8/dist-packages/tensorflow/python/eager/def_function.py\u001b[0m in \u001b[0;36m_call\u001b[0;34m(self, *args, **kwds)\u001b[0m\n\u001b[1;32m    945\u001b[0m       \u001b[0;31m# In this case we have created variables on the first call, so we run the\u001b[0m\u001b[0;34m\u001b[0m\u001b[0;34m\u001b[0m\u001b[0;34m\u001b[0m\u001b[0m\n\u001b[1;32m    946\u001b[0m       \u001b[0;31m# defunned version which is guaranteed to never create variables.\u001b[0m\u001b[0;34m\u001b[0m\u001b[0;34m\u001b[0m\u001b[0;34m\u001b[0m\u001b[0m\n\u001b[0;32m--> 947\u001b[0;31m       \u001b[0;32mreturn\u001b[0m \u001b[0mself\u001b[0m\u001b[0;34m.\u001b[0m\u001b[0m_stateless_fn\u001b[0m\u001b[0;34m(\u001b[0m\u001b[0;34m*\u001b[0m\u001b[0margs\u001b[0m\u001b[0;34m,\u001b[0m \u001b[0;34m**\u001b[0m\u001b[0mkwds\u001b[0m\u001b[0;34m)\u001b[0m  \u001b[0;31m# pylint: disable=not-callable\u001b[0m\u001b[0;34m\u001b[0m\u001b[0;34m\u001b[0m\u001b[0m\n\u001b[0m\u001b[1;32m    948\u001b[0m     \u001b[0;32melif\u001b[0m \u001b[0mself\u001b[0m\u001b[0;34m.\u001b[0m\u001b[0m_stateful_fn\u001b[0m \u001b[0;32mis\u001b[0m \u001b[0;32mnot\u001b[0m \u001b[0;32mNone\u001b[0m\u001b[0;34m:\u001b[0m\u001b[0;34m\u001b[0m\u001b[0;34m\u001b[0m\u001b[0m\n\u001b[1;32m    949\u001b[0m       \u001b[0;31m# Release the lock early so that multiple threads can perform the call\u001b[0m\u001b[0;34m\u001b[0m\u001b[0;34m\u001b[0m\u001b[0;34m\u001b[0m\u001b[0m\n",
            "\u001b[0;32m/usr/local/lib/python3.8/dist-packages/tensorflow/python/eager/function.py\u001b[0m in \u001b[0;36m__call__\u001b[0;34m(self, *args, **kwargs)\u001b[0m\n\u001b[1;32m   2451\u001b[0m       (graph_function,\n\u001b[1;32m   2452\u001b[0m        filtered_flat_args) = self._maybe_define_function(args, kwargs)\n\u001b[0;32m-> 2453\u001b[0;31m     return graph_function._call_flat(\n\u001b[0m\u001b[1;32m   2454\u001b[0m         filtered_flat_args, captured_inputs=graph_function.captured_inputs)  # pylint: disable=protected-access\n\u001b[1;32m   2455\u001b[0m \u001b[0;34m\u001b[0m\u001b[0m\n",
            "\u001b[0;32m/usr/local/lib/python3.8/dist-packages/tensorflow/python/eager/function.py\u001b[0m in \u001b[0;36m_call_flat\u001b[0;34m(self, args, captured_inputs, cancellation_manager)\u001b[0m\n\u001b[1;32m   1858\u001b[0m         and executing_eagerly):\n\u001b[1;32m   1859\u001b[0m       \u001b[0;31m# No tape is watching; skip to running the function.\u001b[0m\u001b[0;34m\u001b[0m\u001b[0;34m\u001b[0m\u001b[0;34m\u001b[0m\u001b[0m\n\u001b[0;32m-> 1860\u001b[0;31m       return self._build_call_outputs(self._inference_function.call(\n\u001b[0m\u001b[1;32m   1861\u001b[0m           ctx, args, cancellation_manager=cancellation_manager))\n\u001b[1;32m   1862\u001b[0m     forward_backward = self._select_forward_and_backward_functions(\n",
            "\u001b[0;32m/usr/local/lib/python3.8/dist-packages/tensorflow/python/eager/function.py\u001b[0m in \u001b[0;36mcall\u001b[0;34m(self, ctx, args, cancellation_manager)\u001b[0m\n\u001b[1;32m    495\u001b[0m       \u001b[0;32mwith\u001b[0m \u001b[0m_InterpolateFunctionError\u001b[0m\u001b[0;34m(\u001b[0m\u001b[0mself\u001b[0m\u001b[0;34m)\u001b[0m\u001b[0;34m:\u001b[0m\u001b[0;34m\u001b[0m\u001b[0;34m\u001b[0m\u001b[0m\n\u001b[1;32m    496\u001b[0m         \u001b[0;32mif\u001b[0m \u001b[0mcancellation_manager\u001b[0m \u001b[0;32mis\u001b[0m \u001b[0;32mNone\u001b[0m\u001b[0;34m:\u001b[0m\u001b[0;34m\u001b[0m\u001b[0;34m\u001b[0m\u001b[0m\n\u001b[0;32m--> 497\u001b[0;31m           outputs = execute.execute(\n\u001b[0m\u001b[1;32m    498\u001b[0m               \u001b[0mstr\u001b[0m\u001b[0;34m(\u001b[0m\u001b[0mself\u001b[0m\u001b[0;34m.\u001b[0m\u001b[0msignature\u001b[0m\u001b[0;34m.\u001b[0m\u001b[0mname\u001b[0m\u001b[0;34m)\u001b[0m\u001b[0;34m,\u001b[0m\u001b[0;34m\u001b[0m\u001b[0;34m\u001b[0m\u001b[0m\n\u001b[1;32m    499\u001b[0m               \u001b[0mnum_outputs\u001b[0m\u001b[0;34m=\u001b[0m\u001b[0mself\u001b[0m\u001b[0;34m.\u001b[0m\u001b[0m_num_outputs\u001b[0m\u001b[0;34m,\u001b[0m\u001b[0;34m\u001b[0m\u001b[0;34m\u001b[0m\u001b[0m\n",
            "\u001b[0;32m/usr/local/lib/python3.8/dist-packages/tensorflow/python/eager/execute.py\u001b[0m in \u001b[0;36mquick_execute\u001b[0;34m(op_name, num_outputs, inputs, attrs, ctx, name)\u001b[0m\n\u001b[1;32m     52\u001b[0m   \u001b[0;32mtry\u001b[0m\u001b[0;34m:\u001b[0m\u001b[0;34m\u001b[0m\u001b[0;34m\u001b[0m\u001b[0m\n\u001b[1;32m     53\u001b[0m     \u001b[0mctx\u001b[0m\u001b[0;34m.\u001b[0m\u001b[0mensure_initialized\u001b[0m\u001b[0;34m(\u001b[0m\u001b[0;34m)\u001b[0m\u001b[0;34m\u001b[0m\u001b[0;34m\u001b[0m\u001b[0m\n\u001b[0;32m---> 54\u001b[0;31m     tensors = pywrap_tfe.TFE_Py_Execute(ctx._handle, device_name, op_name,\n\u001b[0m\u001b[1;32m     55\u001b[0m                                         inputs, attrs, num_outputs)\n\u001b[1;32m     56\u001b[0m   \u001b[0;32mexcept\u001b[0m \u001b[0mcore\u001b[0m\u001b[0;34m.\u001b[0m\u001b[0m_NotOkStatusException\u001b[0m \u001b[0;32mas\u001b[0m \u001b[0me\u001b[0m\u001b[0;34m:\u001b[0m\u001b[0;34m\u001b[0m\u001b[0;34m\u001b[0m\u001b[0m\n",
            "\u001b[0;31mKeyboardInterrupt\u001b[0m: "
          ]
        }
      ],
      "source": [
        "history = model.fit(train_X, train_y,validation_data=(test_X, test_y),epochs=400, callbacks=(patience, save_best))"
      ]
    },
    {
      "cell_type": "code",
      "execution_count": null,
      "metadata": {
        "id": "FRuvGjLNCO8A"
      },
      "outputs": [],
      "source": [
        "import matplotlib.pyplot as plt"
      ]
    },
    {
      "cell_type": "code",
      "source": [
        "plt.plot(history.history['loss'])\n",
        "plt.plot(history.history['val_loss'])"
      ],
      "metadata": {
        "colab": {
          "base_uri": "https://localhost:8080/",
          "height": 282
        },
        "id": "z9ND6Y6x20CX",
        "outputId": "8f72678c-4861-4620-b46a-b07839f109e8"
      },
      "execution_count": null,
      "outputs": [
        {
          "output_type": "execute_result",
          "data": {
            "text/plain": [
              "[<matplotlib.lines.Line2D at 0x7f94c23e2b80>]"
            ]
          },
          "metadata": {},
          "execution_count": 77
        },
        {
          "output_type": "display_data",
          "data": {
            "text/plain": [
              "<Figure size 432x288 with 1 Axes>"
            ],
            "image/png": "[encoded data removed]"
          },
          "metadata": {
            "needs_background": "light"
          }
        }
      ]
    },
    {
      "cell_type": "code",
      "source": [
        "plt.plot(history.history['accuracy'])\n",
        "plt.plot(history.history['val_accuracy'])"
      ],
      "metadata": {
        "colab": {
          "base_uri": "https://localhost:8080/",
          "height": 283
        },
        "id": "yhPWxbsS20E_",
        "outputId": "375d72f8-0df3-4a1b-c85a-318c0710ff2c"
      },
      "execution_count": null,
      "outputs": [
        {
          "output_type": "execute_result",
          "data": {
            "text/plain": [
              "[<matplotlib.lines.Line2D at 0x7f94c24c3610>]"
            ]
          },
          "metadata": {},
          "execution_count": 78
        },
        {
          "output_type": "display_data",
          "data": {
            "text/plain": [
              "<Figure size 432x288 with 1 Axes>"
            ],
            "image/png": "[encoded data removed]"
          },
          "metadata": {
            "needs_background": "light"
          }
        }
      ]
    },
    {
      "cell_type": "code",
      "source": [],
      "metadata": {
        "id": "K4WATgTt20If"
      },
      "execution_count": null,
      "outputs": []
    },
    {
      "cell_type": "code",
      "source": [
        "test_X[3]"
      ],
      "metadata": {
        "id": "RVRJTGB1_89-",
        "colab": {
          "base_uri": "https://localhost:8080/"
        },
        "outputId": "1c721297-00f5-4245-befd-01507a1dcb35"
      },
      "execution_count": null,
      "outputs": [
        {
          "output_type": "execute_result",
          "data": {
            "text/plain": [
              "array([13746,  8197,  3877, 11394,  8878,  6805, 12253,  6289,  1171,\n",
              "        7986, 10534,  6552,   175,     0,     0,     0,     0,     0,\n",
              "           0,     0,     0,     0,     0,     0,     0,     0,     0],\n",
              "      dtype=int32)"
            ]
          },
          "metadata": {},
          "execution_count": 85
        }
      ]
    },
    {
      "cell_type": "code",
      "source": [
        "test_y[3]"
      ],
      "metadata": {
        "colab": {
          "base_uri": "https://localhost:8080/"
        },
        "id": "mMiPCPITq4-c",
        "outputId": "8ade71fa-4b96-4913-843c-35d711256fe9"
      },
      "execution_count": null,
      "outputs": [
        {
          "output_type": "execute_result",
          "data": {
            "text/plain": [
              "array([0., 0., 0., 0., 0., 0., 0., 1., 0., 0., 0., 0., 0.], dtype=float32)"
            ]
          },
          "metadata": {},
          "execution_count": 86
        }
      ]
    },
    {
      "cell_type": "code",
      "source": [
        "prediction = model.predict(test_X[3].reshape(1,-1))"
      ],
      "metadata": {
        "colab": {
          "base_uri": "https://localhost:8080/"
        },
        "id": "uofOy0EAq5BT",
        "outputId": "e6b84212-132e-4782-e8b3-917403cdf1fe"
      },
      "execution_count": null,
      "outputs": [
        {
          "output_type": "stream",
          "name": "stdout",
          "text": [
            "1/1 [==============================] - 0s 17ms/step\n"
          ]
        }
      ]
    },
    {
      "cell_type": "code",
      "source": [
        "np.argmax(prediction)"
      ],
      "metadata": {
        "colab": {
          "base_uri": "https://localhost:8080/"
        },
        "id": "tjB5CxVKq5Dn",
        "outputId": "dbbc96e1-1df8-4789-f1ab-ae89747a102b"
      },
      "execution_count": null,
      "outputs": [
        {
          "output_type": "execute_result",
          "data": {
            "text/plain": [
              "7"
            ]
          },
          "metadata": {},
          "execution_count": 104
        }
      ]
    },
    {
      "cell_type": "code",
      "source": [
        "test"
      ],
      "metadata": {
        "colab": {
          "base_uri": "https://localhost:8080/"
        },
        "id": "nwud7F2Wq5GA",
        "outputId": "4204539a-6d82-4da6-81e5-6be5c48f8496"
      },
      "execution_count": null,
      "outputs": [
        {
          "output_type": "execute_result",
          "data": {
            "text/plain": [
              "(27, 1)"
            ]
          },
          "metadata": {},
          "execution_count": 96
        }
      ]
    },
    {
      "cell_type": "code",
      "source": [],
      "metadata": {
        "id": "6hhN_CrNrxP8"
      },
      "execution_count": null,
      "outputs": []
    }
  ],
  "metadata": {
    "accelerator": "GPU",
    "colab": {
      "provenance": [],
      "collapsed_sections": [
        "vQ_uu-D8Kdh8"
      ],
      "authorship_tag": "ABX9TyMsD4LqQmlB6KMclVFRUu7C",
      "include_colab_link": true
    },
    "gpuClass": "standard",
    "kernelspec": {
      "display_name": "Python 3",
      "name": "python3"
    },
    "language_info": {
      "name": "python"
    }
  },
  "nbformat": 4,
  "nbformat_minor": 0
}