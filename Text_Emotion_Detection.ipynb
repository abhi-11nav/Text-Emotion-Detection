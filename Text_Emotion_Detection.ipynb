{
  "cells": [
    {
      "cell_type": "markdown",
      "metadata": {
        "id": "view-in-github",
        "colab_type": "text"
      },
      "source": [
        "<a href=\"https://colab.research.google.com/github/abhi-11nav/Text-Emotion-Detection/blob/main/Text_Emotion_Detection.ipynb\" target=\"_parent\"><img src=\"https://colab.research.google.com/assets/colab-badge.svg\" alt=\"Open In Colab\"/></a>"
      ]
    },
    {
      "cell_type": "code",
      "execution_count": 2,
      "metadata": {
        "id": "zofTXg4alSny"
      },
      "outputs": [],
      "source": [
        "# Importing the necessary libraries \n",
        "\n",
        "import pandas as pd\n",
        "import numpy as np "
      ]
    },
    {
      "cell_type": "code",
      "source": [
        "!git clone https://github.com/abhi-11nav/Text-Emotion-Detection.git"
      ],
      "metadata": {
        "id": "tiwW5EtC8MpQ",
        "colab": {
          "base_uri": "https://localhost:8080/"
        },
        "outputId": "ce591e61-beb8-4552-d1d3-00f426e16b52"
      },
      "execution_count": 3,
      "outputs": [
        {
          "output_type": "stream",
          "name": "stdout",
          "text": [
            "Cloning into 'Text-Emotion-Detection'...\n",
            "remote: Enumerating objects: 99, done.\u001b[K\n",
            "remote: Counting objects: 100% (98/98), done.\u001b[K\n",
            "remote: Compressing objects: 100% (37/37), done.\u001b[K\n",
            "remote: Total 99 (delta 62), reused 93 (delta 58), pack-reused 1\u001b[K\n",
            "Unpacking objects: 100% (99/99), done.\n"
          ]
        }
      ]
    },
    {
      "cell_type": "code",
      "execution_count": 4,
      "metadata": {
        "id": "hKbC0BeildcI"
      },
      "outputs": [],
      "source": [
        "# Importing data\n",
        "\n",
        "data = pd.read_csv(\"/content/Text-Emotion-Detection/tweet_emotions.csv\")"
      ]
    },
    {
      "cell_type": "code",
      "execution_count": 5,
      "metadata": {
        "colab": {
          "base_uri": "https://localhost:8080/",
          "height": 204
        },
        "id": "Yu8taALUlofD",
        "outputId": "8a87a8aa-e6a2-4cb8-af63-a0fba70853a9"
      },
      "outputs": [
        {
          "output_type": "execute_result",
          "data": {
            "text/plain": [
              "     tweet_id   sentiment                                            content\n",
              "0  1956967341       empty  @tiffanylue i know  i was listenin to bad habi...\n",
              "1  1956967666     sadness  Layin n bed with a headache  ughhhh...waitin o...\n",
              "2  1956967696     sadness                Funeral ceremony...gloomy friday...\n",
              "3  1956967789  enthusiasm               wants to hang out with friends SOON!\n",
              "4  1956968416     neutral  @dannycastillo We want to trade with someone w..."
            ],
            "text/html": [
              "\n",
              "  <div id=\"df-3dff6f2c-5146-4acd-ad21-111a3be2f5f2\">\n",
              "    <div class=\"colab-df-container\">\n",
              "      <div>\n",
              "<style scoped>\n",
              "    .dataframe tbody tr th:only-of-type {\n",
              "        vertical-align: middle;\n",
              "    }\n",
              "\n",
              "    .dataframe tbody tr th {\n",
              "        vertical-align: top;\n",
              "    }\n",
              "\n",
              "    .dataframe thead th {\n",
              "        text-align: right;\n",
              "    }\n",
              "</style>\n",
              "<table border=\"1\" class=\"dataframe\">\n",
              "  <thead>\n",
              "    <tr style=\"text-align: right;\">\n",
              "      <th></th>\n",
              "      <th>tweet_id</th>\n",
              "      <th>sentiment</th>\n",
              "      <th>content</th>\n",
              "    </tr>\n",
              "  </thead>\n",
              "  <tbody>\n",
              "    <tr>\n",
              "      <th>0</th>\n",
              "      <td>1956967341</td>\n",
              "      <td>empty</td>\n",
              "      <td>@tiffanylue i know  i was listenin to bad habi...</td>\n",
              "    </tr>\n",
              "    <tr>\n",
              "      <th>1</th>\n",
              "      <td>1956967666</td>\n",
              "      <td>sadness</td>\n",
              "      <td>Layin n bed with a headache  ughhhh...waitin o...</td>\n",
              "    </tr>\n",
              "    <tr>\n",
              "      <th>2</th>\n",
              "      <td>1956967696</td>\n",
              "      <td>sadness</td>\n",
              "      <td>Funeral ceremony...gloomy friday...</td>\n",
              "    </tr>\n",
              "    <tr>\n",
              "      <th>3</th>\n",
              "      <td>1956967789</td>\n",
              "      <td>enthusiasm</td>\n",
              "      <td>wants to hang out with friends SOON!</td>\n",
              "    </tr>\n",
              "    <tr>\n",
              "      <th>4</th>\n",
              "      <td>1956968416</td>\n",
              "      <td>neutral</td>\n",
              "      <td>@dannycastillo We want to trade with someone w...</td>\n",
              "    </tr>\n",
              "  </tbody>\n",
              "</table>\n",
              "</div>\n",
              "      <button class=\"colab-df-convert\" onclick=\"convertToInteractive('df-3dff6f2c-5146-4acd-ad21-111a3be2f5f2')\"\n",
              "              title=\"Convert this dataframe to an interactive table.\"\n",
              "              style=\"display:none;\">\n",
              "        \n",
              "  <svg xmlns=\"http://www.w3.org/2000/svg\" height=\"24px\"viewBox=\"0 0 24 24\"\n",
              "       width=\"24px\">\n",
              "    <path d=\"M0 0h24v24H0V0z\" fill=\"none\"/>\n",
              "    <path d=\"M18.56 5.44l.94 2.06.94-2.06 2.06-.94-2.06-.94-.94-2.06-.94 2.06-2.06.94zm-11 1L8.5 8.5l.94-2.06 2.06-.94-2.06-.94L8.5 2.5l-.94 2.06-2.06.94zm10 10l.94 2.06.94-2.06 2.06-.94-2.06-.94-.94-2.06-.94 2.06-2.06.94z\"/><path d=\"M17.41 7.96l-1.37-1.37c-.4-.4-.92-.59-1.43-.59-.52 0-1.04.2-1.43.59L10.3 9.45l-7.72 7.72c-.78.78-.78 2.05 0 2.83L4 21.41c.39.39.9.59 1.41.59.51 0 1.02-.2 1.41-.59l7.78-7.78 2.81-2.81c.8-.78.8-2.07 0-2.86zM5.41 20L4 18.59l7.72-7.72 1.47 1.35L5.41 20z\"/>\n",
              "  </svg>\n",
              "      </button>\n",
              "      \n",
              "  <style>\n",
              "    .colab-df-container {\n",
              "      display:flex;\n",
              "      flex-wrap:wrap;\n",
              "      gap: 12px;\n",
              "    }\n",
              "\n",
              "    .colab-df-convert {\n",
              "      background-color: #E8F0FE;\n",
              "      border: none;\n",
              "      border-radius: 50%;\n",
              "      cursor: pointer;\n",
              "      display: none;\n",
              "      fill: #1967D2;\n",
              "      height: 32px;\n",
              "      padding: 0 0 0 0;\n",
              "      width: 32px;\n",
              "    }\n",
              "\n",
              "    .colab-df-convert:hover {\n",
              "      background-color: #E2EBFA;\n",
              "      box-shadow: 0px 1px 2px rgba(60, 64, 67, 0.3), 0px 1px 3px 1px rgba(60, 64, 67, 0.15);\n",
              "      fill: #174EA6;\n",
              "    }\n",
              "\n",
              "    [theme=dark] .colab-df-convert {\n",
              "      background-color: #3B4455;\n",
              "      fill: #D2E3FC;\n",
              "    }\n",
              "\n",
              "    [theme=dark] .colab-df-convert:hover {\n",
              "      background-color: #434B5C;\n",
              "      box-shadow: 0px 1px 3px 1px rgba(0, 0, 0, 0.15);\n",
              "      filter: drop-shadow(0px 1px 2px rgba(0, 0, 0, 0.3));\n",
              "      fill: #FFFFFF;\n",
              "    }\n",
              "  </style>\n",
              "\n",
              "      <script>\n",
              "        const buttonEl =\n",
              "          document.querySelector('#df-3dff6f2c-5146-4acd-ad21-111a3be2f5f2 button.colab-df-convert');\n",
              "        buttonEl.style.display =\n",
              "          google.colab.kernel.accessAllowed ? 'block' : 'none';\n",
              "\n",
              "        async function convertToInteractive(key) {\n",
              "          const element = document.querySelector('#df-3dff6f2c-5146-4acd-ad21-111a3be2f5f2');\n",
              "          const dataTable =\n",
              "            await google.colab.kernel.invokeFunction('convertToInteractive',\n",
              "                                                     [key], {});\n",
              "          if (!dataTable) return;\n",
              "\n",
              "          const docLinkHtml = 'Like what you see? Visit the ' +\n",
              "            '<a target=\"_blank\" href=https://colab.research.google.com/notebooks/data_table.ipynb>data table notebook</a>'\n",
              "            + ' to learn more about interactive tables.';\n",
              "          element.innerHTML = '';\n",
              "          dataTable['output_type'] = 'display_data';\n",
              "          await google.colab.output.renderOutput(dataTable, element);\n",
              "          const docLink = document.createElement('div');\n",
              "          docLink.innerHTML = docLinkHtml;\n",
              "          element.appendChild(docLink);\n",
              "        }\n",
              "      </script>\n",
              "    </div>\n",
              "  </div>\n",
              "  "
            ]
          },
          "metadata": {},
          "execution_count": 5
        }
      ],
      "source": [
        "data.head()"
      ]
    },
    {
      "cell_type": "markdown",
      "metadata": {
        "id": "OLCfmZ18pXYF"
      },
      "source": [
        "Funeral ceremony...gloomy friday..."
      ]
    },
    {
      "cell_type": "code",
      "execution_count": 6,
      "metadata": {
        "id": "TIUmyCIAmA-_"
      },
      "outputs": [],
      "source": [
        "# Let us drop the tweet id\n",
        "\n",
        "data.drop(\"tweet_id\", axis=1, inplace=True)"
      ]
    },
    {
      "cell_type": "code",
      "execution_count": 7,
      "metadata": {
        "colab": {
          "base_uri": "https://localhost:8080/",
          "height": 204
        },
        "id": "uIDRz4D-mJXk",
        "outputId": "2136ea3a-8a0c-4c8a-ba90-ff8c1d4f4730"
      },
      "outputs": [
        {
          "output_type": "execute_result",
          "data": {
            "text/plain": [
              "    sentiment                                            content\n",
              "0       empty  @tiffanylue i know  i was listenin to bad habi...\n",
              "1     sadness  Layin n bed with a headache  ughhhh...waitin o...\n",
              "2     sadness                Funeral ceremony...gloomy friday...\n",
              "3  enthusiasm               wants to hang out with friends SOON!\n",
              "4     neutral  @dannycastillo We want to trade with someone w..."
            ],
            "text/html": [
              "\n",
              "  <div id=\"df-83a7a50c-d2a7-4fef-9b31-cb07f1280e3b\">\n",
              "    <div class=\"colab-df-container\">\n",
              "      <div>\n",
              "<style scoped>\n",
              "    .dataframe tbody tr th:only-of-type {\n",
              "        vertical-align: middle;\n",
              "    }\n",
              "\n",
              "    .dataframe tbody tr th {\n",
              "        vertical-align: top;\n",
              "    }\n",
              "\n",
              "    .dataframe thead th {\n",
              "        text-align: right;\n",
              "    }\n",
              "</style>\n",
              "<table border=\"1\" class=\"dataframe\">\n",
              "  <thead>\n",
              "    <tr style=\"text-align: right;\">\n",
              "      <th></th>\n",
              "      <th>sentiment</th>\n",
              "      <th>content</th>\n",
              "    </tr>\n",
              "  </thead>\n",
              "  <tbody>\n",
              "    <tr>\n",
              "      <th>0</th>\n",
              "      <td>empty</td>\n",
              "      <td>@tiffanylue i know  i was listenin to bad habi...</td>\n",
              "    </tr>\n",
              "    <tr>\n",
              "      <th>1</th>\n",
              "      <td>sadness</td>\n",
              "      <td>Layin n bed with a headache  ughhhh...waitin o...</td>\n",
              "    </tr>\n",
              "    <tr>\n",
              "      <th>2</th>\n",
              "      <td>sadness</td>\n",
              "      <td>Funeral ceremony...gloomy friday...</td>\n",
              "    </tr>\n",
              "    <tr>\n",
              "      <th>3</th>\n",
              "      <td>enthusiasm</td>\n",
              "      <td>wants to hang out with friends SOON!</td>\n",
              "    </tr>\n",
              "    <tr>\n",
              "      <th>4</th>\n",
              "      <td>neutral</td>\n",
              "      <td>@dannycastillo We want to trade with someone w...</td>\n",
              "    </tr>\n",
              "  </tbody>\n",
              "</table>\n",
              "</div>\n",
              "      <button class=\"colab-df-convert\" onclick=\"convertToInteractive('df-83a7a50c-d2a7-4fef-9b31-cb07f1280e3b')\"\n",
              "              title=\"Convert this dataframe to an interactive table.\"\n",
              "              style=\"display:none;\">\n",
              "        \n",
              "  <svg xmlns=\"http://www.w3.org/2000/svg\" height=\"24px\"viewBox=\"0 0 24 24\"\n",
              "       width=\"24px\">\n",
              "    <path d=\"M0 0h24v24H0V0z\" fill=\"none\"/>\n",
              "    <path d=\"M18.56 5.44l.94 2.06.94-2.06 2.06-.94-2.06-.94-.94-2.06-.94 2.06-2.06.94zm-11 1L8.5 8.5l.94-2.06 2.06-.94-2.06-.94L8.5 2.5l-.94 2.06-2.06.94zm10 10l.94 2.06.94-2.06 2.06-.94-2.06-.94-.94-2.06-.94 2.06-2.06.94z\"/><path d=\"M17.41 7.96l-1.37-1.37c-.4-.4-.92-.59-1.43-.59-.52 0-1.04.2-1.43.59L10.3 9.45l-7.72 7.72c-.78.78-.78 2.05 0 2.83L4 21.41c.39.39.9.59 1.41.59.51 0 1.02-.2 1.41-.59l7.78-7.78 2.81-2.81c.8-.78.8-2.07 0-2.86zM5.41 20L4 18.59l7.72-7.72 1.47 1.35L5.41 20z\"/>\n",
              "  </svg>\n",
              "      </button>\n",
              "      \n",
              "  <style>\n",
              "    .colab-df-container {\n",
              "      display:flex;\n",
              "      flex-wrap:wrap;\n",
              "      gap: 12px;\n",
              "    }\n",
              "\n",
              "    .colab-df-convert {\n",
              "      background-color: #E8F0FE;\n",
              "      border: none;\n",
              "      border-radius: 50%;\n",
              "      cursor: pointer;\n",
              "      display: none;\n",
              "      fill: #1967D2;\n",
              "      height: 32px;\n",
              "      padding: 0 0 0 0;\n",
              "      width: 32px;\n",
              "    }\n",
              "\n",
              "    .colab-df-convert:hover {\n",
              "      background-color: #E2EBFA;\n",
              "      box-shadow: 0px 1px 2px rgba(60, 64, 67, 0.3), 0px 1px 3px 1px rgba(60, 64, 67, 0.15);\n",
              "      fill: #174EA6;\n",
              "    }\n",
              "\n",
              "    [theme=dark] .colab-df-convert {\n",
              "      background-color: #3B4455;\n",
              "      fill: #D2E3FC;\n",
              "    }\n",
              "\n",
              "    [theme=dark] .colab-df-convert:hover {\n",
              "      background-color: #434B5C;\n",
              "      box-shadow: 0px 1px 3px 1px rgba(0, 0, 0, 0.15);\n",
              "      filter: drop-shadow(0px 1px 2px rgba(0, 0, 0, 0.3));\n",
              "      fill: #FFFFFF;\n",
              "    }\n",
              "  </style>\n",
              "\n",
              "      <script>\n",
              "        const buttonEl =\n",
              "          document.querySelector('#df-83a7a50c-d2a7-4fef-9b31-cb07f1280e3b button.colab-df-convert');\n",
              "        buttonEl.style.display =\n",
              "          google.colab.kernel.accessAllowed ? 'block' : 'none';\n",
              "\n",
              "        async function convertToInteractive(key) {\n",
              "          const element = document.querySelector('#df-83a7a50c-d2a7-4fef-9b31-cb07f1280e3b');\n",
              "          const dataTable =\n",
              "            await google.colab.kernel.invokeFunction('convertToInteractive',\n",
              "                                                     [key], {});\n",
              "          if (!dataTable) return;\n",
              "\n",
              "          const docLinkHtml = 'Like what you see? Visit the ' +\n",
              "            '<a target=\"_blank\" href=https://colab.research.google.com/notebooks/data_table.ipynb>data table notebook</a>'\n",
              "            + ' to learn more about interactive tables.';\n",
              "          element.innerHTML = '';\n",
              "          dataTable['output_type'] = 'display_data';\n",
              "          await google.colab.output.renderOutput(dataTable, element);\n",
              "          const docLink = document.createElement('div');\n",
              "          docLink.innerHTML = docLinkHtml;\n",
              "          element.appendChild(docLink);\n",
              "        }\n",
              "      </script>\n",
              "    </div>\n",
              "  </div>\n",
              "  "
            ]
          },
          "metadata": {},
          "execution_count": 7
        }
      ],
      "source": [
        "data.head()"
      ]
    },
    {
      "cell_type": "code",
      "execution_count": 8,
      "metadata": {
        "colab": {
          "base_uri": "https://localhost:8080/"
        },
        "id": "CeEFLErwmZxK",
        "outputId": "96d8e447-6f1f-4a55-92f1-3c1e794e923b"
      },
      "outputs": [
        {
          "output_type": "execute_result",
          "data": {
            "text/plain": [
              "sentiment    False\n",
              "content      False\n",
              "dtype: bool"
            ]
          },
          "metadata": {},
          "execution_count": 8
        }
      ],
      "source": [
        "# Let us check if the tweet has any missing values \n",
        "\n",
        "data.isna().any()"
      ]
    },
    {
      "cell_type": "markdown",
      "metadata": {
        "id": "syZBYwVdmubC"
      },
      "source": [
        "No missing values"
      ]
    },
    {
      "cell_type": "code",
      "execution_count": 9,
      "metadata": {
        "colab": {
          "base_uri": "https://localhost:8080/"
        },
        "id": "cLiURfjqmszA",
        "outputId": "8d286b5e-c026-42a7-f26b-ed79d8379271"
      },
      "outputs": [
        {
          "output_type": "execute_result",
          "data": {
            "text/plain": [
              "neutral       8638\n",
              "worry         8459\n",
              "happiness     5209\n",
              "sadness       5165\n",
              "love          3842\n",
              "surprise      2187\n",
              "fun           1776\n",
              "relief        1526\n",
              "hate          1323\n",
              "empty          827\n",
              "enthusiasm     759\n",
              "boredom        179\n",
              "anger          110\n",
              "Name: sentiment, dtype: int64"
            ]
          },
          "metadata": {},
          "execution_count": 9
        }
      ],
      "source": [
        "# Let us check the number of categories in sentiment variable\n",
        "\n",
        "data['sentiment'].value_counts()"
      ]
    },
    {
      "cell_type": "markdown",
      "metadata": {
        "id": "xRYV6lDBnsw7"
      },
      "source": [
        "Since the data is imbalanced, we'll be deadling with it "
      ]
    },
    {
      "cell_type": "markdown",
      "metadata": {
        "id": "FEMWU1Y9GEbL"
      },
      "source": [
        "Data Imbalance"
      ]
    },
    {
      "cell_type": "markdown",
      "metadata": {
        "id": "lu2uF4piNa6F"
      },
      "source": [
        "### Eliminating the last two categories of sentiment as they are least represented. "
      ]
    },
    {
      "cell_type": "code",
      "execution_count": 10,
      "metadata": {
        "id": "uGGCatHTGE8P"
      },
      "outputs": [],
      "source": [
        "# dropping the last two samples\n",
        "\n",
        "# Appending indexes to remove\n",
        "indexes_to_remove = []\n",
        "\n",
        "\n",
        "for index in data[data['sentiment']==\"boredom\"].index:\n",
        "  indexes_to_remove.append(index)\n",
        "\n",
        "for index in data[data['sentiment']==\"anger\"].index:\n",
        "  indexes_to_remove.append(index)"
      ]
    },
    {
      "cell_type": "code",
      "execution_count": 11,
      "metadata": {
        "colab": {
          "base_uri": "https://localhost:8080/"
        },
        "id": "mAgIIK9IOnll",
        "outputId": "fe9e0935-ab1f-4dc6-e286-6a4e07e0298f"
      },
      "outputs": [
        {
          "output_type": "execute_result",
          "data": {
            "text/plain": [
              "289"
            ]
          },
          "metadata": {},
          "execution_count": 11
        }
      ],
      "source": [
        "len(indexes_to_remove)"
      ]
    },
    {
      "cell_type": "code",
      "execution_count": 12,
      "metadata": {
        "id": "GaacF126Ono5"
      },
      "outputs": [],
      "source": [
        "data.drop(indexes_to_remove, inplace=True, axis=0)"
      ]
    },
    {
      "cell_type": "code",
      "execution_count": 13,
      "metadata": {
        "colab": {
          "base_uri": "https://localhost:8080/"
        },
        "id": "zPl5Fzn4GE-x",
        "outputId": "5f90a567-655c-4dde-a77a-6e2a62898f2d"
      },
      "outputs": [
        {
          "output_type": "execute_result",
          "data": {
            "text/plain": [
              "neutral       8638\n",
              "worry         8459\n",
              "happiness     5209\n",
              "sadness       5165\n",
              "love          3842\n",
              "surprise      2187\n",
              "fun           1776\n",
              "relief        1526\n",
              "hate          1323\n",
              "empty          827\n",
              "enthusiasm     759\n",
              "Name: sentiment, dtype: int64"
            ]
          },
          "metadata": {},
          "execution_count": 13
        }
      ],
      "source": [
        "data[\"sentiment\"].value_counts()"
      ]
    },
    {
      "cell_type": "code",
      "execution_count": 14,
      "metadata": {
        "id": "7hl9qozlNPEr"
      },
      "outputs": [],
      "source": [
        "labels = [label for label in data[\"sentiment\"].unique()]"
      ]
    },
    {
      "cell_type": "code",
      "execution_count": 15,
      "metadata": {
        "id": "bOK_Yc3lGFBK"
      },
      "outputs": [],
      "source": [
        "balanced_df = pd.DataFrame()\n",
        "\n",
        "for label in labels: \n",
        "  balanced_df = pd.concat([data[data[\"sentiment\"]==label].sample(759),balanced_df], axis=0)"
      ]
    },
    {
      "cell_type": "code",
      "execution_count": 16,
      "metadata": {
        "colab": {
          "base_uri": "https://localhost:8080/"
        },
        "id": "qkiL8HfSGFGF",
        "outputId": "2075d86f-2e89-4ea9-90a3-b007d3833f1a"
      },
      "outputs": [
        {
          "output_type": "execute_result",
          "data": {
            "text/plain": [
              "relief        759\n",
              "happiness     759\n",
              "hate          759\n",
              "fun           759\n",
              "love          759\n",
              "surprise      759\n",
              "worry         759\n",
              "neutral       759\n",
              "enthusiasm    759\n",
              "sadness       759\n",
              "empty         759\n",
              "Name: sentiment, dtype: int64"
            ]
          },
          "metadata": {},
          "execution_count": 16
        }
      ],
      "source": [
        "balanced_df[\"sentiment\"].value_counts()"
      ]
    },
    {
      "cell_type": "markdown",
      "metadata": {
        "id": "l65X2l8lXPjT"
      },
      "source": [
        " Now we have a balanced dataset"
      ]
    },
    {
      "cell_type": "code",
      "execution_count": 17,
      "metadata": {
        "id": "KhDwpJKWGFJO"
      },
      "outputs": [],
      "source": [
        "# shuffling samples and resetting indexes\n",
        "\n",
        "balanced_df = balanced_df.sample(len(balanced_df))"
      ]
    },
    {
      "cell_type": "code",
      "execution_count": 18,
      "metadata": {
        "id": "OLRi0Mj0YwGy"
      },
      "outputs": [],
      "source": [
        "balanced_df.reset_index(inplace=True)"
      ]
    },
    {
      "cell_type": "code",
      "execution_count": 19,
      "metadata": {
        "colab": {
          "base_uri": "https://localhost:8080/",
          "height": 204
        },
        "id": "xfkwmfzPYwCW",
        "outputId": "f4d7be22-efde-4b6a-da10-0e608b286d76"
      },
      "outputs": [
        {
          "output_type": "execute_result",
          "data": {
            "text/plain": [
              "   index sentiment                                            content\n",
              "0  30833      hate  i blame you all!  got it??? good :p she better...\n",
              "1  36641   neutral  most of da time on gtalk ! pls make my follow ...\n",
              "2  17388       fun  Romeo and Juliet were very much in love when t...\n",
              "3   9657  surprise  @brycecurtis  really?! Ur getting rid of it! T...\n",
              "4  38491    relief  @Ste1987 relax, relax and relax a bit more  bb..."
            ],
            "text/html": [
              "\n",
              "  <div id=\"df-d6629599-94a2-44ad-9edc-f962c94a7696\">\n",
              "    <div class=\"colab-df-container\">\n",
              "      <div>\n",
              "<style scoped>\n",
              "    .dataframe tbody tr th:only-of-type {\n",
              "        vertical-align: middle;\n",
              "    }\n",
              "\n",
              "    .dataframe tbody tr th {\n",
              "        vertical-align: top;\n",
              "    }\n",
              "\n",
              "    .dataframe thead th {\n",
              "        text-align: right;\n",
              "    }\n",
              "</style>\n",
              "<table border=\"1\" class=\"dataframe\">\n",
              "  <thead>\n",
              "    <tr style=\"text-align: right;\">\n",
              "      <th></th>\n",
              "      <th>index</th>\n",
              "      <th>sentiment</th>\n",
              "      <th>content</th>\n",
              "    </tr>\n",
              "  </thead>\n",
              "  <tbody>\n",
              "    <tr>\n",
              "      <th>0</th>\n",
              "      <td>30833</td>\n",
              "      <td>hate</td>\n",
              "      <td>i blame you all!  got it??? good :p she better...</td>\n",
              "    </tr>\n",
              "    <tr>\n",
              "      <th>1</th>\n",
              "      <td>36641</td>\n",
              "      <td>neutral</td>\n",
              "      <td>most of da time on gtalk ! pls make my follow ...</td>\n",
              "    </tr>\n",
              "    <tr>\n",
              "      <th>2</th>\n",
              "      <td>17388</td>\n",
              "      <td>fun</td>\n",
              "      <td>Romeo and Juliet were very much in love when t...</td>\n",
              "    </tr>\n",
              "    <tr>\n",
              "      <th>3</th>\n",
              "      <td>9657</td>\n",
              "      <td>surprise</td>\n",
              "      <td>@brycecurtis  really?! Ur getting rid of it! T...</td>\n",
              "    </tr>\n",
              "    <tr>\n",
              "      <th>4</th>\n",
              "      <td>38491</td>\n",
              "      <td>relief</td>\n",
              "      <td>@Ste1987 relax, relax and relax a bit more  bb...</td>\n",
              "    </tr>\n",
              "  </tbody>\n",
              "</table>\n",
              "</div>\n",
              "      <button class=\"colab-df-convert\" onclick=\"convertToInteractive('df-d6629599-94a2-44ad-9edc-f962c94a7696')\"\n",
              "              title=\"Convert this dataframe to an interactive table.\"\n",
              "              style=\"display:none;\">\n",
              "        \n",
              "  <svg xmlns=\"http://www.w3.org/2000/svg\" height=\"24px\"viewBox=\"0 0 24 24\"\n",
              "       width=\"24px\">\n",
              "    <path d=\"M0 0h24v24H0V0z\" fill=\"none\"/>\n",
              "    <path d=\"M18.56 5.44l.94 2.06.94-2.06 2.06-.94-2.06-.94-.94-2.06-.94 2.06-2.06.94zm-11 1L8.5 8.5l.94-2.06 2.06-.94-2.06-.94L8.5 2.5l-.94 2.06-2.06.94zm10 10l.94 2.06.94-2.06 2.06-.94-2.06-.94-.94-2.06-.94 2.06-2.06.94z\"/><path d=\"M17.41 7.96l-1.37-1.37c-.4-.4-.92-.59-1.43-.59-.52 0-1.04.2-1.43.59L10.3 9.45l-7.72 7.72c-.78.78-.78 2.05 0 2.83L4 21.41c.39.39.9.59 1.41.59.51 0 1.02-.2 1.41-.59l7.78-7.78 2.81-2.81c.8-.78.8-2.07 0-2.86zM5.41 20L4 18.59l7.72-7.72 1.47 1.35L5.41 20z\"/>\n",
              "  </svg>\n",
              "      </button>\n",
              "      \n",
              "  <style>\n",
              "    .colab-df-container {\n",
              "      display:flex;\n",
              "      flex-wrap:wrap;\n",
              "      gap: 12px;\n",
              "    }\n",
              "\n",
              "    .colab-df-convert {\n",
              "      background-color: #E8F0FE;\n",
              "      border: none;\n",
              "      border-radius: 50%;\n",
              "      cursor: pointer;\n",
              "      display: none;\n",
              "      fill: #1967D2;\n",
              "      height: 32px;\n",
              "      padding: 0 0 0 0;\n",
              "      width: 32px;\n",
              "    }\n",
              "\n",
              "    .colab-df-convert:hover {\n",
              "      background-color: #E2EBFA;\n",
              "      box-shadow: 0px 1px 2px rgba(60, 64, 67, 0.3), 0px 1px 3px 1px rgba(60, 64, 67, 0.15);\n",
              "      fill: #174EA6;\n",
              "    }\n",
              "\n",
              "    [theme=dark] .colab-df-convert {\n",
              "      background-color: #3B4455;\n",
              "      fill: #D2E3FC;\n",
              "    }\n",
              "\n",
              "    [theme=dark] .colab-df-convert:hover {\n",
              "      background-color: #434B5C;\n",
              "      box-shadow: 0px 1px 3px 1px rgba(0, 0, 0, 0.15);\n",
              "      filter: drop-shadow(0px 1px 2px rgba(0, 0, 0, 0.3));\n",
              "      fill: #FFFFFF;\n",
              "    }\n",
              "  </style>\n",
              "\n",
              "      <script>\n",
              "        const buttonEl =\n",
              "          document.querySelector('#df-d6629599-94a2-44ad-9edc-f962c94a7696 button.colab-df-convert');\n",
              "        buttonEl.style.display =\n",
              "          google.colab.kernel.accessAllowed ? 'block' : 'none';\n",
              "\n",
              "        async function convertToInteractive(key) {\n",
              "          const element = document.querySelector('#df-d6629599-94a2-44ad-9edc-f962c94a7696');\n",
              "          const dataTable =\n",
              "            await google.colab.kernel.invokeFunction('convertToInteractive',\n",
              "                                                     [key], {});\n",
              "          if (!dataTable) return;\n",
              "\n",
              "          const docLinkHtml = 'Like what you see? Visit the ' +\n",
              "            '<a target=\"_blank\" href=https://colab.research.google.com/notebooks/data_table.ipynb>data table notebook</a>'\n",
              "            + ' to learn more about interactive tables.';\n",
              "          element.innerHTML = '';\n",
              "          dataTable['output_type'] = 'display_data';\n",
              "          await google.colab.output.renderOutput(dataTable, element);\n",
              "          const docLink = document.createElement('div');\n",
              "          docLink.innerHTML = docLinkHtml;\n",
              "          element.appendChild(docLink);\n",
              "        }\n",
              "      </script>\n",
              "    </div>\n",
              "  </div>\n",
              "  "
            ]
          },
          "metadata": {},
          "execution_count": 19
        }
      ],
      "source": [
        "balanced_df.head()"
      ]
    },
    {
      "cell_type": "code",
      "execution_count": 20,
      "metadata": {
        "id": "RdsGAuZaYs49"
      },
      "outputs": [],
      "source": [
        "balanced_df.drop(\"index\", inplace=True, axis=1)"
      ]
    },
    {
      "cell_type": "code",
      "execution_count": 21,
      "metadata": {
        "id": "zeAMfYLJaFRW"
      },
      "outputs": [],
      "source": [
        "# Changing the name of the data frame\n",
        "\n",
        "data = balanced_df"
      ]
    },
    {
      "cell_type": "code",
      "execution_count": 22,
      "metadata": {
        "colab": {
          "base_uri": "https://localhost:8080/",
          "height": 37
        },
        "id": "4ITV_GjAnT70",
        "outputId": "04940c79-ebb0-4a9b-9f23-90fdc79e3cc9"
      },
      "outputs": [
        {
          "output_type": "execute_result",
          "data": {
            "text/plain": [
              "'i blame you all!  got it??? good :p she better be in good condition 2! &lt;33 night'"
            ],
            "application/vnd.google.colaboratory.intrinsic+json": {
              "type": "string"
            }
          },
          "metadata": {},
          "execution_count": 22
        }
      ],
      "source": [
        "# Let us look at the sentences\n",
        "\n",
        "data['content'][0]"
      ]
    },
    {
      "cell_type": "code",
      "execution_count": 23,
      "metadata": {
        "colab": {
          "base_uri": "https://localhost:8080/",
          "height": 37
        },
        "id": "LqKVBAqVoMhn",
        "outputId": "9ce57e82-6a31-46ff-ae40-2b76e5863cb7"
      },
      "outputs": [
        {
          "output_type": "execute_result",
          "data": {
            "text/plain": [
              "'most of da time on gtalk ! pls make my follow count 600'"
            ],
            "application/vnd.google.colaboratory.intrinsic+json": {
              "type": "string"
            }
          },
          "metadata": {},
          "execution_count": 23
        }
      ],
      "source": [
        "data['content'][1]"
      ]
    },
    {
      "cell_type": "markdown",
      "metadata": {
        "id": "j9VKL5TVpDiw"
      },
      "source": [
        "Text Preprocessing"
      ]
    },
    {
      "cell_type": "code",
      "execution_count": 24,
      "metadata": {
        "colab": {
          "base_uri": "https://localhost:8080/"
        },
        "id": "eMD6rP6Hr_xt",
        "outputId": "68e522ae-99be-4312-ac1b-379bb804dff2"
      },
      "outputs": [
        {
          "output_type": "stream",
          "name": "stderr",
          "text": [
            "[nltk_data] Downloading package stopwords to /root/nltk_data...\n",
            "[nltk_data]   Unzipping corpora/stopwords.zip.\n",
            "[nltk_data] Downloading package wordnet to /root/nltk_data...\n",
            "[nltk_data] Downloading package omw-1.4 to /root/nltk_data...\n"
          ]
        }
      ],
      "source": [
        "# Importing libraries\n",
        "\n",
        "import re \n",
        "\n",
        "import nltk \n",
        "from nltk.stem import WordNetLemmatizer\n",
        "from nltk.corpus import stopwords\n",
        "\n",
        "nltk.download('stopwords')\n",
        "nltk.download('wordnet')\n",
        "nltk.download('omw-1.4')\n",
        "\n",
        "lemmatizer = WordNetLemmatizer()"
      ]
    },
    {
      "cell_type": "code",
      "execution_count": 25,
      "metadata": {
        "id": "hG_T2DWSo925"
      },
      "outputs": [],
      "source": [
        "def text_preprocess(dataset,list_name):\n",
        "  \n",
        "  for i in range(dataset.shape[0]):\n",
        "    list_name.append(re.sub('[^a-zA-Z]',' ',str(dataset.iloc[i,1])))\n",
        "\n",
        "  print(\"Number and other symbols eliminated from the text\")\n",
        "\n",
        "  # String spacing \n",
        "  for x in range(len(list_name)):\n",
        "    list_name[x] = \" \".join(y for y in str(list_name[x]).split()).lower()\n",
        "\n",
        "  print(\"Text reorganized and converted to small letter\")\n",
        "  \n",
        "  for index in range(len(list_name)):\n",
        "    temp_list= []\n",
        "    # Lemmatization\n",
        "    for word in list_name[index].split():\n",
        "      if word not in stopwords.words('english'):\n",
        "        temp_list.append(word)\n",
        "    list_name[index] = \" \".join(lemmatizer.lemmatize(words) for words in temp_list )"
      ]
    },
    {
      "cell_type": "code",
      "source": [
        "sample = \"This is it& I am going to be very sad, today\""
      ],
      "metadata": {
        "id": "mIKTpK1WNmoA"
      },
      "execution_count": 26,
      "outputs": []
    },
    {
      "cell_type": "code",
      "source": [
        "sample = re.sub('[^a-zA-Z]',' ',sample)\n",
        "sample"
      ],
      "metadata": {
        "colab": {
          "base_uri": "https://localhost:8080/",
          "height": 37
        },
        "id": "Fb2iqZ7wNpIN",
        "outputId": "ff706723-4c84-4a3c-dd77-3703e4fa624b"
      },
      "execution_count": 27,
      "outputs": [
        {
          "output_type": "execute_result",
          "data": {
            "text/plain": [
              "'This is it  I am going to be very sad  today'"
            ],
            "application/vnd.google.colaboratory.intrinsic+json": {
              "type": "string"
            }
          },
          "metadata": {},
          "execution_count": 27
        }
      ]
    },
    {
      "cell_type": "code",
      "source": [
        "sample = \" \".join(sent.lower() for sent in sample.split())\n",
        "sample"
      ],
      "metadata": {
        "colab": {
          "base_uri": "https://localhost:8080/",
          "height": 37
        },
        "id": "Ddhf7DcCNpKz",
        "outputId": "a1b4eb05-9a7e-4c08-ec4c-582d036a8408"
      },
      "execution_count": 28,
      "outputs": [
        {
          "output_type": "execute_result",
          "data": {
            "text/plain": [
              "'this is it i am going to be very sad today'"
            ],
            "application/vnd.google.colaboratory.intrinsic+json": {
              "type": "string"
            }
          },
          "metadata": {},
          "execution_count": 28
        }
      ]
    },
    {
      "cell_type": "code",
      "source": [
        "\" \".join(lemmatizer.lemmatize(words) for words in sample.split() if words not in stopwords.words(\"english\"))"
      ],
      "metadata": {
        "colab": {
          "base_uri": "https://localhost:8080/",
          "height": 37
        },
        "id": "uT3epQkfN9n4",
        "outputId": "85fc7772-99be-42c2-d884-c1a1e8e61ad8"
      },
      "execution_count": 29,
      "outputs": [
        {
          "output_type": "execute_result",
          "data": {
            "text/plain": [
              "'going sad today'"
            ],
            "application/vnd.google.colaboratory.intrinsic+json": {
              "type": "string"
            }
          },
          "metadata": {},
          "execution_count": 29
        }
      ]
    },
    {
      "cell_type": "code",
      "source": [],
      "metadata": {
        "id": "reV_U2c7N9qr"
      },
      "execution_count": 29,
      "outputs": []
    },
    {
      "cell_type": "code",
      "execution_count": 30,
      "metadata": {
        "colab": {
          "base_uri": "https://localhost:8080/"
        },
        "id": "kiOLAlRoo952",
        "outputId": "05f59029-8937-489d-d38e-526e27c11a0f"
      },
      "outputs": [
        {
          "output_type": "stream",
          "name": "stdout",
          "text": [
            "Number and other symbols eliminated from the text\n",
            "Text reorganized and converted to small letter\n"
          ]
        }
      ],
      "source": [
        "sentences = []\n",
        "\n",
        "text_preprocess(data,sentences)"
      ]
    },
    {
      "cell_type": "code",
      "execution_count": 31,
      "metadata": {
        "id": "rFIZ0Mdz5f6s"
      },
      "outputs": [],
      "source": [
        "p_data = pd.concat([pd.DataFrame(np.array(sentences), columns=[\"Content\"]), data['sentiment']], axis=1)"
      ]
    },
    {
      "cell_type": "markdown",
      "metadata": {
        "id": "940QFH6M-rOY"
      },
      "source": []
    },
    {
      "cell_type": "code",
      "execution_count": 32,
      "metadata": {
        "colab": {
          "base_uri": "https://localhost:8080/",
          "height": 204
        },
        "id": "TcbulVrDFjHF",
        "outputId": "c23d3b75-7f3a-46e0-c3f1-406d855a8f87"
      },
      "outputs": [
        {
          "output_type": "execute_result",
          "data": {
            "text/plain": [
              "                                           Content sentiment\n",
              "0  blame got good p better good condition lt night      hate\n",
              "1              da time gtalk pls make follow count   neutral\n",
              "2      romeo juliet much love wed honored vow dead       fun\n",
              "3            brycecurtis really ur getting rid sad  surprise\n",
              "4        ste relax relax relax bit bbq today maybe    relief"
            ],
            "text/html": [
              "\n",
              "  <div id=\"df-040a731a-de25-4192-a05b-b2b1ad057e75\">\n",
              "    <div class=\"colab-df-container\">\n",
              "      <div>\n",
              "<style scoped>\n",
              "    .dataframe tbody tr th:only-of-type {\n",
              "        vertical-align: middle;\n",
              "    }\n",
              "\n",
              "    .dataframe tbody tr th {\n",
              "        vertical-align: top;\n",
              "    }\n",
              "\n",
              "    .dataframe thead th {\n",
              "        text-align: right;\n",
              "    }\n",
              "</style>\n",
              "<table border=\"1\" class=\"dataframe\">\n",
              "  <thead>\n",
              "    <tr style=\"text-align: right;\">\n",
              "      <th></th>\n",
              "      <th>Content</th>\n",
              "      <th>sentiment</th>\n",
              "    </tr>\n",
              "  </thead>\n",
              "  <tbody>\n",
              "    <tr>\n",
              "      <th>0</th>\n",
              "      <td>blame got good p better good condition lt night</td>\n",
              "      <td>hate</td>\n",
              "    </tr>\n",
              "    <tr>\n",
              "      <th>1</th>\n",
              "      <td>da time gtalk pls make follow count</td>\n",
              "      <td>neutral</td>\n",
              "    </tr>\n",
              "    <tr>\n",
              "      <th>2</th>\n",
              "      <td>romeo juliet much love wed honored vow dead</td>\n",
              "      <td>fun</td>\n",
              "    </tr>\n",
              "    <tr>\n",
              "      <th>3</th>\n",
              "      <td>brycecurtis really ur getting rid sad</td>\n",
              "      <td>surprise</td>\n",
              "    </tr>\n",
              "    <tr>\n",
              "      <th>4</th>\n",
              "      <td>ste relax relax relax bit bbq today maybe</td>\n",
              "      <td>relief</td>\n",
              "    </tr>\n",
              "  </tbody>\n",
              "</table>\n",
              "</div>\n",
              "      <button class=\"colab-df-convert\" onclick=\"convertToInteractive('df-040a731a-de25-4192-a05b-b2b1ad057e75')\"\n",
              "              title=\"Convert this dataframe to an interactive table.\"\n",
              "              style=\"display:none;\">\n",
              "        \n",
              "  <svg xmlns=\"http://www.w3.org/2000/svg\" height=\"24px\"viewBox=\"0 0 24 24\"\n",
              "       width=\"24px\">\n",
              "    <path d=\"M0 0h24v24H0V0z\" fill=\"none\"/>\n",
              "    <path d=\"M18.56 5.44l.94 2.06.94-2.06 2.06-.94-2.06-.94-.94-2.06-.94 2.06-2.06.94zm-11 1L8.5 8.5l.94-2.06 2.06-.94-2.06-.94L8.5 2.5l-.94 2.06-2.06.94zm10 10l.94 2.06.94-2.06 2.06-.94-2.06-.94-.94-2.06-.94 2.06-2.06.94z\"/><path d=\"M17.41 7.96l-1.37-1.37c-.4-.4-.92-.59-1.43-.59-.52 0-1.04.2-1.43.59L10.3 9.45l-7.72 7.72c-.78.78-.78 2.05 0 2.83L4 21.41c.39.39.9.59 1.41.59.51 0 1.02-.2 1.41-.59l7.78-7.78 2.81-2.81c.8-.78.8-2.07 0-2.86zM5.41 20L4 18.59l7.72-7.72 1.47 1.35L5.41 20z\"/>\n",
              "  </svg>\n",
              "      </button>\n",
              "      \n",
              "  <style>\n",
              "    .colab-df-container {\n",
              "      display:flex;\n",
              "      flex-wrap:wrap;\n",
              "      gap: 12px;\n",
              "    }\n",
              "\n",
              "    .colab-df-convert {\n",
              "      background-color: #E8F0FE;\n",
              "      border: none;\n",
              "      border-radius: 50%;\n",
              "      cursor: pointer;\n",
              "      display: none;\n",
              "      fill: #1967D2;\n",
              "      height: 32px;\n",
              "      padding: 0 0 0 0;\n",
              "      width: 32px;\n",
              "    }\n",
              "\n",
              "    .colab-df-convert:hover {\n",
              "      background-color: #E2EBFA;\n",
              "      box-shadow: 0px 1px 2px rgba(60, 64, 67, 0.3), 0px 1px 3px 1px rgba(60, 64, 67, 0.15);\n",
              "      fill: #174EA6;\n",
              "    }\n",
              "\n",
              "    [theme=dark] .colab-df-convert {\n",
              "      background-color: #3B4455;\n",
              "      fill: #D2E3FC;\n",
              "    }\n",
              "\n",
              "    [theme=dark] .colab-df-convert:hover {\n",
              "      background-color: #434B5C;\n",
              "      box-shadow: 0px 1px 3px 1px rgba(0, 0, 0, 0.15);\n",
              "      filter: drop-shadow(0px 1px 2px rgba(0, 0, 0, 0.3));\n",
              "      fill: #FFFFFF;\n",
              "    }\n",
              "  </style>\n",
              "\n",
              "      <script>\n",
              "        const buttonEl =\n",
              "          document.querySelector('#df-040a731a-de25-4192-a05b-b2b1ad057e75 button.colab-df-convert');\n",
              "        buttonEl.style.display =\n",
              "          google.colab.kernel.accessAllowed ? 'block' : 'none';\n",
              "\n",
              "        async function convertToInteractive(key) {\n",
              "          const element = document.querySelector('#df-040a731a-de25-4192-a05b-b2b1ad057e75');\n",
              "          const dataTable =\n",
              "            await google.colab.kernel.invokeFunction('convertToInteractive',\n",
              "                                                     [key], {});\n",
              "          if (!dataTable) return;\n",
              "\n",
              "          const docLinkHtml = 'Like what you see? Visit the ' +\n",
              "            '<a target=\"_blank\" href=https://colab.research.google.com/notebooks/data_table.ipynb>data table notebook</a>'\n",
              "            + ' to learn more about interactive tables.';\n",
              "          element.innerHTML = '';\n",
              "          dataTable['output_type'] = 'display_data';\n",
              "          await google.colab.output.renderOutput(dataTable, element);\n",
              "          const docLink = document.createElement('div');\n",
              "          docLink.innerHTML = docLinkHtml;\n",
              "          element.appendChild(docLink);\n",
              "        }\n",
              "      </script>\n",
              "    </div>\n",
              "  </div>\n",
              "  "
            ]
          },
          "metadata": {},
          "execution_count": 32
        }
      ],
      "source": [
        "p_data.head()"
      ]
    },
    {
      "cell_type": "code",
      "source": [
        "import nltk \n",
        "nltk.download('words')\n",
        "words = set(nltk.corpus.words.words())"
      ],
      "metadata": {
        "colab": {
          "base_uri": "https://localhost:8080/"
        },
        "id": "D7e6S14zLhZI",
        "outputId": "fd76c03f-8189-44ea-fc47-43ecc2316ebe"
      },
      "execution_count": 33,
      "outputs": [
        {
          "output_type": "stream",
          "name": "stderr",
          "text": [
            "[nltk_data] Downloading package words to /root/nltk_data...\n",
            "[nltk_data]   Unzipping corpora/words.zip.\n"
          ]
        }
      ]
    },
    {
      "cell_type": "code",
      "source": [
        "len(words)"
      ],
      "metadata": {
        "colab": {
          "base_uri": "https://localhost:8080/"
        },
        "id": "fIa2KjFLLiw6",
        "outputId": "9653b7eb-0797-4c40-d355-f158bfe6af6d"
      },
      "execution_count": 34,
      "outputs": [
        {
          "output_type": "execute_result",
          "data": {
            "text/plain": [
              "235892"
            ]
          },
          "metadata": {},
          "execution_count": 34
        }
      ]
    },
    {
      "cell_type": "markdown",
      "metadata": {
        "id": "Z_6z1WOXKbW5"
      },
      "source": [
        "Text preprocessing done"
      ]
    },
    {
      "cell_type": "markdown",
      "metadata": {
        "id": "V3E4xpOEmdNf"
      },
      "source": [
        "Reference : https://phdstatsphys.wordpress.com/2018/12/27/word2vec-how-to-train-and-update-it/"
      ]
    },
    {
      "cell_type": "markdown",
      "metadata": {
        "id": "-s6ApnHXN9Iu"
      },
      "source": [
        "We have vectors stored in **vectors**"
      ]
    },
    {
      "cell_type": "markdown",
      "metadata": {
        "id": "TExG04nXgaL5"
      },
      "source": [
        "## One hot encoding - padding"
      ]
    },
    {
      "cell_type": "code",
      "source": [
        "sentences = [sentence for sentence in p_data[\"Content\"]]"
      ],
      "metadata": {
        "id": "djBRZl1TEzpI"
      },
      "execution_count": 35,
      "outputs": []
    },
    {
      "cell_type": "code",
      "source": [
        "for index in range(len(sentences)):\n",
        "  sentence_list = []\n",
        "\n",
        "  for word in sentences[index].split():\n",
        "    if word in words:\n",
        "      sentence_list.append(word)\n",
        "  \n",
        "  sentences[index] = sentence_list"
      ],
      "metadata": {
        "id": "ezpvEDPwL9Oh"
      },
      "execution_count": 36,
      "outputs": []
    },
    {
      "cell_type": "code",
      "source": [
        "for index in range(len(sentences)):\n",
        "  sentences[index] = \" \".join(sent for sent in sentences[index])"
      ],
      "metadata": {
        "id": "daNO9eL9E-E5"
      },
      "execution_count": 37,
      "outputs": []
    },
    {
      "cell_type": "code",
      "source": [],
      "metadata": {
        "id": "uzFKNDcUNUeg"
      },
      "execution_count": 37,
      "outputs": []
    },
    {
      "cell_type": "code",
      "execution_count": 38,
      "metadata": {
        "id": "zNE8xGUDaK6f"
      },
      "outputs": [],
      "source": [
        "unique_words = set()\n",
        "\n",
        "for sent in sentences:\n",
        "  for word in sent:\n",
        "    unique_words.add(word)"
      ]
    },
    {
      "cell_type": "code",
      "execution_count": 39,
      "metadata": {
        "id": "ymMTgmajaK8-"
      },
      "outputs": [],
      "source": [
        "unique_words = list(unique_words)"
      ]
    },
    {
      "cell_type": "code",
      "execution_count": 40,
      "metadata": {
        "id": "k8JMp7BCaLBS"
      },
      "outputs": [],
      "source": [
        "# The length of unique words will be vocabulary size\n",
        "\n",
        "vocabulary_size = len(unique_words)"
      ]
    },
    {
      "cell_type": "code",
      "execution_count": 41,
      "metadata": {
        "id": "KCci2g1ahQZo"
      },
      "outputs": [],
      "source": [
        "# Importing libraries for one hot encoding \n",
        "\n",
        "from tensorflow.keras.preprocessing.text import one_hot"
      ]
    },
    {
      "cell_type": "code",
      "execution_count": 42,
      "metadata": {
        "id": "d-ZbMXDgilYM"
      },
      "outputs": [],
      "source": [
        "sent_tokens = []\n",
        "\n",
        "for sent in sentences:\n",
        "  temp_list = []\n",
        "  for word in sent.split():\n",
        "    temp_list.append(word)\n",
        "  \n",
        "  sent_tokens.append(temp_list)"
      ]
    },
    {
      "cell_type": "code",
      "execution_count": 43,
      "metadata": {
        "colab": {
          "base_uri": "https://localhost:8080/"
        },
        "id": "2ghK351Sxudx",
        "outputId": "a5b21c78-a64e-421a-f8fb-1fd40e431648"
      },
      "outputs": [
        {
          "output_type": "execute_result",
          "data": {
            "text/plain": [
              "['blame', 'got', 'good', 'p', 'better', 'good', 'condition', 'night']"
            ]
          },
          "metadata": {},
          "execution_count": 43
        }
      ],
      "source": [
        "[word for word in sent_tokens[0]]"
      ]
    },
    {
      "cell_type": "code",
      "execution_count": 44,
      "metadata": {
        "id": "opihn7XNh_BP"
      },
      "outputs": [],
      "source": [
        "sentences = [str(sent) for sent in sentences]"
      ]
    },
    {
      "cell_type": "code",
      "source": [
        "vocabulary_size"
      ],
      "metadata": {
        "colab": {
          "base_uri": "https://localhost:8080/"
        },
        "id": "OIAeN1YUgfEk",
        "outputId": "6c7b4f31-ba9c-49d1-ace4-55a0b4e7366d"
      },
      "execution_count": 45,
      "outputs": [
        {
          "output_type": "execute_result",
          "data": {
            "text/plain": [
              "27"
            ]
          },
          "metadata": {},
          "execution_count": 45
        }
      ]
    },
    {
      "cell_type": "markdown",
      "source": [],
      "metadata": {
        "id": "KBqcEDJ6gZC9"
      }
    },
    {
      "cell_type": "code",
      "execution_count": 46,
      "metadata": {
        "id": "OaBcbNT5h_Dx"
      },
      "outputs": [],
      "source": [
        "one_hot_vectors = []\n",
        "\n",
        "for sent in sent_tokens:\n",
        "  one_hot_vec = []\n",
        "  for words in sent:\n",
        "    one_hot_vec.append(one_hot(words,vocabulary_size)[0])\n",
        "  \n",
        "  one_hot_vectors.append(one_hot_vec)"
      ]
    },
    {
      "cell_type": "code",
      "execution_count": 47,
      "metadata": {
        "id": "_Kx5O-2Uh_Gn"
      },
      "outputs": [],
      "source": [
        "# Importing libraries necessary for padding sequence\n",
        "\n",
        "from tensorflow.keras.preprocessing.sequence import pad_sequences"
      ]
    },
    {
      "cell_type": "code",
      "execution_count": 48,
      "metadata": {
        "id": "EbhA4JQDh_JB"
      },
      "outputs": [],
      "source": [
        "# Finding the sentence length \n",
        "\n",
        "max_len = 0\n",
        "\n",
        "for sent in sent_tokens:\n",
        "  if len(sent)>max_len:\n",
        "    max_len = len(sent)"
      ]
    },
    {
      "cell_type": "code",
      "execution_count": 49,
      "metadata": {
        "id": "tLiTI6Cvh_LT"
      },
      "outputs": [],
      "source": [
        "# Padding sequences \n",
        "\n",
        "embedded_docs = pad_sequences(one_hot_vectors,maxlen=max_len, padding='post')"
      ]
    },
    {
      "cell_type": "code",
      "source": [
        "embedded_docs[0]"
      ],
      "metadata": {
        "colab": {
          "base_uri": "https://localhost:8080/"
        },
        "id": "5V_vhIYXWof5",
        "outputId": "e5172ad4-f41e-4467-b641-5fdce5306001"
      },
      "execution_count": 50,
      "outputs": [
        {
          "output_type": "execute_result",
          "data": {
            "text/plain": [
              "array([ 6, 17, 17,  5, 20, 17, 13, 13,  0,  0,  0,  0,  0,  0,  0,  0,  0,\n",
              "        0,  0,  0], dtype=int32)"
            ]
          },
          "metadata": {},
          "execution_count": 50
        }
      ]
    },
    {
      "cell_type": "code",
      "source": [
        "X = embedded_docs"
      ],
      "metadata": {
        "id": "K8KBx_I4owPp"
      },
      "execution_count": 51,
      "outputs": []
    },
    {
      "cell_type": "code",
      "execution_count": 52,
      "metadata": {
        "colab": {
          "base_uri": "https://localhost:8080/"
        },
        "id": "RqsbsTw1h_aZ",
        "outputId": "f0fafa92-faf0-414c-db83-0d8ae8788994"
      },
      "outputs": [
        {
          "output_type": "execute_result",
          "data": {
            "text/plain": [
              "20"
            ]
          },
          "metadata": {},
          "execution_count": 52
        }
      ],
      "source": [
        "max_len"
      ]
    },
    {
      "cell_type": "code",
      "source": [
        "# Grabbing the labels\n",
        "\n",
        "y = p_data['sentiment']\n",
        "\n",
        "labels = []\n",
        "corresponding_num = []\n",
        "\n",
        "for ind,lab in enumerate(y.unique()):\n",
        "  labels.append(lab)\n",
        "  corresponding_num.append(ind)\n",
        "\n",
        "encodings = [val for val in y]\n",
        "\n",
        "for i,value in enumerate(encodings):\n",
        "  for ind,unique in enumerate(labels):\n",
        "    if value==unique:\n",
        "      encodings[i] = ind\n",
        "      \n",
        "encodings = np.array(encodings)\n",
        "\n",
        "y = encodings"
      ],
      "metadata": {
        "id": "qpyD4yCTOwtP"
      },
      "execution_count": 53,
      "outputs": []
    },
    {
      "cell_type": "markdown",
      "source": [
        "encoding y into vectors of size 13"
      ],
      "metadata": {
        "id": "1BmrI8hPpwDU"
      }
    },
    {
      "cell_type": "code",
      "source": [
        "from tensorflow.keras.utils import to_categorical"
      ],
      "metadata": {
        "id": "mw2arERBpILe"
      },
      "execution_count": 54,
      "outputs": []
    },
    {
      "cell_type": "code",
      "source": [
        "y = to_categorical(y,13)"
      ],
      "metadata": {
        "id": "Qk8hQLRcpvnr"
      },
      "execution_count": 55,
      "outputs": []
    },
    {
      "cell_type": "markdown",
      "source": [
        "Train-test-split"
      ],
      "metadata": {
        "id": "drXBqE7toiDJ"
      }
    },
    {
      "cell_type": "code",
      "source": [
        "from sklearn.model_selection import train_test_split"
      ],
      "metadata": {
        "id": "LnpvIrCTohIh"
      },
      "execution_count": 56,
      "outputs": []
    },
    {
      "cell_type": "code",
      "source": [
        "train_X, test_X, train_y, test_y = train_test_split(X,y, test_size=0.12, random_state=122, shuffle=True, stratify=y)"
      ],
      "metadata": {
        "id": "XJsly-7PohuN"
      },
      "execution_count": 57,
      "outputs": []
    },
    {
      "cell_type": "code",
      "source": [
        "train_X.shape"
      ],
      "metadata": {
        "colab": {
          "base_uri": "https://localhost:8080/"
        },
        "id": "sDbLmnPvogLC",
        "outputId": "c2a005bc-ed07-4368-e052-c1de8154d1de"
      },
      "execution_count": 58,
      "outputs": [
        {
          "output_type": "execute_result",
          "data": {
            "text/plain": [
              "(7347, 20)"
            ]
          },
          "metadata": {},
          "execution_count": 58
        }
      ]
    },
    {
      "cell_type": "code",
      "source": [
        "train_y.shape"
      ],
      "metadata": {
        "colab": {
          "base_uri": "https://localhost:8080/"
        },
        "id": "6gtbCObeogOJ",
        "outputId": "9b29699b-fdc6-4a91-e350-a8c4481e3f79"
      },
      "execution_count": 59,
      "outputs": [
        {
          "output_type": "execute_result",
          "data": {
            "text/plain": [
              "(7347, 13)"
            ]
          },
          "metadata": {},
          "execution_count": 59
        }
      ]
    },
    {
      "cell_type": "code",
      "source": [
        "test_X.shape"
      ],
      "metadata": {
        "colab": {
          "base_uri": "https://localhost:8080/"
        },
        "id": "-ow9NRudogRD",
        "outputId": "2666da94-2932-4812-e43a-f261af12df8c"
      },
      "execution_count": 60,
      "outputs": [
        {
          "output_type": "execute_result",
          "data": {
            "text/plain": [
              "(1002, 20)"
            ]
          },
          "metadata": {},
          "execution_count": 60
        }
      ]
    },
    {
      "cell_type": "code",
      "source": [
        "test_y.shape"
      ],
      "metadata": {
        "colab": {
          "base_uri": "https://localhost:8080/"
        },
        "id": "MWwfj30zogS8",
        "outputId": "92ad310b-c63a-4350-d09f-b12f5c90e68a"
      },
      "execution_count": 61,
      "outputs": [
        {
          "output_type": "execute_result",
          "data": {
            "text/plain": [
              "(1002, 13)"
            ]
          },
          "metadata": {},
          "execution_count": 61
        }
      ]
    },
    {
      "cell_type": "code",
      "source": [
        "\"\"\"\n",
        "Call arguments received by layer \"sequential_1\" (type Sequential):\n",
        "      • inputs=tf.Tensor(shape=(None,), dtype=int64)\n",
        "      • training=False\n",
        "      • mask=None\n",
        "      \"\"\""
      ],
      "metadata": {
        "colab": {
          "base_uri": "https://localhost:8080/",
          "height": 54
        },
        "id": "r2jU-H70ynYS",
        "outputId": "8afcff4b-c945-4147-9e13-2e547fcf49e7"
      },
      "execution_count": 62,
      "outputs": [
        {
          "output_type": "execute_result",
          "data": {
            "text/plain": [
              "'\\nCall arguments received by layer \"sequential_1\" (type Sequential):\\n      • inputs=tf.Tensor(shape=(None,), dtype=int64)\\n      • training=False\\n      • mask=None\\n      '"
            ],
            "application/vnd.google.colaboratory.intrinsic+json": {
              "type": "string"
            }
          },
          "metadata": {},
          "execution_count": 62
        }
      ]
    },
    {
      "cell_type": "code",
      "source": [
        "test_X[0]"
      ],
      "metadata": {
        "colab": {
          "base_uri": "https://localhost:8080/"
        },
        "id": "YROx9d7ZyneR",
        "outputId": "03225e98-f767-48e1-9018-137bc41c6137"
      },
      "execution_count": 63,
      "outputs": [
        {
          "output_type": "execute_result",
          "data": {
            "text/plain": [
              "array([20, 18, 22,  4, 16,  9,  0,  0,  0,  0,  0,  0,  0,  0,  0,  0,  0,\n",
              "        0,  0,  0], dtype=int32)"
            ]
          },
          "metadata": {},
          "execution_count": 63
        }
      ]
    },
    {
      "cell_type": "code",
      "source": [],
      "metadata": {
        "id": "WU6g475zyngp"
      },
      "execution_count": 63,
      "outputs": []
    },
    {
      "cell_type": "code",
      "source": [],
      "metadata": {
        "id": "Jx3_DLjmynj-"
      },
      "execution_count": 63,
      "outputs": []
    },
    {
      "cell_type": "markdown",
      "metadata": {
        "id": "vQ_uu-D8Kdh8"
      },
      "source": [
        "## Birdectional LSTM RNN MODEL"
      ]
    },
    {
      "cell_type": "markdown",
      "metadata": {
        "id": "OB9_UQpFN-iD"
      },
      "source": [
        "Implementing Bi-directional Long short term Memory recurrent neural network "
      ]
    },
    {
      "cell_type": "code",
      "execution_count": 64,
      "metadata": {
        "id": "5XctiZrBJqNu"
      },
      "outputs": [],
      "source": [
        "# Importing the necessary libraries\n",
        "\n",
        "import tensorflow \n",
        "from tensorflow import keras\n",
        "\n",
        "from keras.layers import Dense, Flatten, Input, LSTM, Bidirectional, Embedding, Dropout, CuDNNLSTM\n",
        "from keras.models import Model, Sequential"
      ]
    },
    {
      "cell_type": "markdown",
      "metadata": {
        "id": "ANsSvX-5HvnH"
      },
      "source": [
        "The fluctuations are normal within certain limits and depend on the fact that you use a heuristic method but in your case they are excessive. Despite all the performance takes a definite direction and therefore the system works. From the graphs you have posted, the problem depends on your data so it's a difficult training. If you have already tried to change the learning rate try to change training algorithm. You would agree to test your data: first compute the Bayes error rate using a KNN (use the trick regression in case you need), in this way you can check whether the input data contain all the information you need. Then try the LSTM without the validation or dropout to verify that it has the ability to achieve the result for you necessary. If the training algorithm is not suitable you should have the same problems even without the validation or dropout. Just at the end adjust the training and the validation size to get the best result in the test set. Statistical learning theory is not a topic that can be talked about at one time, we must proceed step by step.\n"
      ]
    },
    {
      "cell_type": "markdown",
      "metadata": {
        "id": "cdaMQD09qzdD"
      },
      "source": [
        "source :https://stats.stackexchange.com/questions/345990/why-does-the-loss-accuracy-fluctuate-during-the-training-keras-lstm"
      ]
    },
    {
      "cell_type": "code",
      "source": [
        "## Creating model\n",
        "\n",
        "embedding_vector_features=300\n",
        "model=Sequential()\n",
        "model.add(Embedding(vocabulary_size,embedding_vector_features,input_length=max_len))\n",
        "model.add(Bidirectional(LSTM(256,return_sequences=True)))\n",
        "model.add(Dropout(0.15))\n",
        "model.add(Bidirectional(LSTM(128)))\n",
        "model.add(Dense(64,activation=\"relu\"))\n",
        "model.add(Dense(64,activation=\"relu\"))\n",
        "model.add(Dense(13,activation='softmax'))"
      ],
      "metadata": {
        "id": "Bc1UCQ8YV5Tn"
      },
      "execution_count": 66,
      "outputs": []
    },
    {
      "cell_type": "code",
      "source": [
        "model.summary()"
      ],
      "metadata": {
        "colab": {
          "base_uri": "https://localhost:8080/"
        },
        "id": "IKYYvQ6C3U2N",
        "outputId": "15deb90b-7208-4dcd-e58c-375fb91900f7"
      },
      "execution_count": 67,
      "outputs": [
        {
          "output_type": "stream",
          "name": "stdout",
          "text": [
            "Model: \"sequential_1\"\n",
            "_________________________________________________________________\n",
            " Layer (type)                Output Shape              Param #   \n",
            "=================================================================\n",
            " embedding_1 (Embedding)     (None, 20, 300)           8100      \n",
            "                                                                 \n",
            " bidirectional_2 (Bidirectio  (None, 20, 512)          1140736   \n",
            " nal)                                                            \n",
            "                                                                 \n",
            " dropout_1 (Dropout)         (None, 20, 512)           0         \n",
            "                                                                 \n",
            " bidirectional_3 (Bidirectio  (None, 256)              656384    \n",
            " nal)                                                            \n",
            "                                                                 \n",
            " dense (Dense)               (None, 64)                16448     \n",
            "                                                                 \n",
            " dense_1 (Dense)             (None, 64)                4160      \n",
            "                                                                 \n",
            " dense_2 (Dense)             (None, 13)                845       \n",
            "                                                                 \n",
            "=================================================================\n",
            "Total params: 1,826,673\n",
            "Trainable params: 1,826,673\n",
            "Non-trainable params: 0\n",
            "_________________________________________________________________\n"
          ]
        }
      ]
    },
    {
      "cell_type": "code",
      "source": [
        "# Importing library for optimizer\n",
        "from keras import optimizers\n",
        "\n",
        "# adam optimizer with custom learning rate\n",
        "from keras.optimizers import Adam\n",
        "\n",
        "optimizer = Adam(learning_rate=1e-5)\n",
        "\n",
        "\n",
        "# Compiling the modle \n",
        "model.compile(optimizer = optimizer, loss=\"categorical_crossentropy\", metrics=['accuracy'])"
      ],
      "metadata": {
        "id": "gpjY78rzkuCy"
      },
      "execution_count": 72,
      "outputs": []
    },
    {
      "cell_type": "markdown",
      "metadata": {
        "id": "uaxBoFlHAySp"
      },
      "source": [
        "Keras callbacks"
      ]
    },
    {
      "cell_type": "code",
      "execution_count": 73,
      "metadata": {
        "id": "YAjvM2gpA6KC"
      },
      "outputs": [],
      "source": [
        "from keras.callbacks import EarlyStopping, ModelCheckpoint"
      ]
    },
    {
      "cell_type": "code",
      "execution_count": 74,
      "metadata": {
        "id": "RwBTC950A6rE"
      },
      "outputs": [],
      "source": [
        "patience = EarlyStopping(patience=20)\n",
        "\n",
        "save_best = ModelCheckpoint(\"lstm_model.h5\", save_best_only=True)"
      ]
    },
    {
      "cell_type": "code",
      "execution_count": 75,
      "metadata": {
        "colab": {
          "base_uri": "https://localhost:8080/"
        },
        "id": "qwu7JZws1tJR",
        "outputId": "cf250652-de27-470e-fa8c-6829c1ceed97"
      },
      "outputs": [
        {
          "output_type": "stream",
          "name": "stdout",
          "text": [
            "Epoch 1/400\n",
            "919/919 [==============================] - 24s 15ms/step - loss: 2.5110 - accuracy: 0.0872 - val_loss: 2.4512 - val_accuracy: 0.0938\n",
            "Epoch 2/400\n",
            "919/919 [==============================] - 13s 14ms/step - loss: 2.4252 - accuracy: 0.0923 - val_loss: 2.4103 - val_accuracy: 0.1058\n",
            "Epoch 3/400\n",
            "919/919 [==============================] - 13s 14ms/step - loss: 2.4064 - accuracy: 0.1003 - val_loss: 2.3998 - val_accuracy: 0.1078\n",
            "Epoch 4/400\n",
            "919/919 [==============================] - 13s 14ms/step - loss: 2.3979 - accuracy: 0.1013 - val_loss: 2.3936 - val_accuracy: 0.1048\n",
            "Epoch 5/400\n",
            "919/919 [==============================] - 14s 16ms/step - loss: 2.3932 - accuracy: 0.1030 - val_loss: 2.3896 - val_accuracy: 0.1098\n",
            "Epoch 6/400\n",
            "919/919 [==============================] - 13s 14ms/step - loss: 2.3906 - accuracy: 0.1043 - val_loss: 2.3867 - val_accuracy: 0.1118\n",
            "Epoch 7/400\n",
            "919/919 [==============================] - 13s 14ms/step - loss: 2.3886 - accuracy: 0.1071 - val_loss: 2.3872 - val_accuracy: 0.1038\n",
            "Epoch 8/400\n",
            "919/919 [==============================] - 13s 14ms/step - loss: 2.3868 - accuracy: 0.1059 - val_loss: 2.3880 - val_accuracy: 0.1128\n",
            "Epoch 9/400\n",
            "919/919 [==============================] - 13s 15ms/step - loss: 2.3852 - accuracy: 0.1088 - val_loss: 2.3848 - val_accuracy: 0.1088\n",
            "Epoch 10/400\n",
            "919/919 [==============================] - 13s 14ms/step - loss: 2.3842 - accuracy: 0.1131 - val_loss: 2.3835 - val_accuracy: 0.1098\n",
            "Epoch 11/400\n",
            "919/919 [==============================] - 13s 14ms/step - loss: 2.3836 - accuracy: 0.1139 - val_loss: 2.3827 - val_accuracy: 0.1118\n",
            "Epoch 12/400\n",
            "919/919 [==============================] - 13s 14ms/step - loss: 2.3833 - accuracy: 0.1093 - val_loss: 2.3815 - val_accuracy: 0.1098\n",
            "Epoch 13/400\n",
            "919/919 [==============================] - 13s 14ms/step - loss: 2.3816 - accuracy: 0.1094 - val_loss: 2.3815 - val_accuracy: 0.1088\n",
            "Epoch 14/400\n",
            "919/919 [==============================] - 13s 14ms/step - loss: 2.3811 - accuracy: 0.1210 - val_loss: 2.3811 - val_accuracy: 0.1178\n",
            "Epoch 15/400\n",
            "919/919 [==============================] - 14s 15ms/step - loss: 2.3804 - accuracy: 0.1141 - val_loss: 2.3805 - val_accuracy: 0.1198\n",
            "Epoch 16/400\n",
            "919/919 [==============================] - 13s 14ms/step - loss: 2.3797 - accuracy: 0.1187 - val_loss: 2.3809 - val_accuracy: 0.1228\n",
            "Epoch 17/400\n",
            "919/919 [==============================] - 13s 14ms/step - loss: 2.3785 - accuracy: 0.1135 - val_loss: 2.3816 - val_accuracy: 0.1128\n",
            "Epoch 18/400\n",
            "919/919 [==============================] - 13s 14ms/step - loss: 2.3789 - accuracy: 0.1147 - val_loss: 2.3809 - val_accuracy: 0.1098\n",
            "Epoch 19/400\n",
            "919/919 [==============================] - 13s 14ms/step - loss: 2.3775 - accuracy: 0.1135 - val_loss: 2.3812 - val_accuracy: 0.1178\n",
            "Epoch 20/400\n",
            "919/919 [==============================] - 13s 14ms/step - loss: 2.3768 - accuracy: 0.1251 - val_loss: 2.3802 - val_accuracy: 0.1267\n",
            "Epoch 21/400\n",
            "919/919 [==============================] - 13s 14ms/step - loss: 2.3760 - accuracy: 0.1168 - val_loss: 2.3804 - val_accuracy: 0.1158\n",
            "Epoch 22/400\n",
            "919/919 [==============================] - 13s 14ms/step - loss: 2.3754 - accuracy: 0.1214 - val_loss: 2.3811 - val_accuracy: 0.1238\n",
            "Epoch 23/400\n",
            "919/919 [==============================] - 13s 14ms/step - loss: 2.3755 - accuracy: 0.1241 - val_loss: 2.3801 - val_accuracy: 0.1138\n",
            "Epoch 24/400\n",
            "919/919 [==============================] - 13s 14ms/step - loss: 2.3739 - accuracy: 0.1241 - val_loss: 2.3800 - val_accuracy: 0.1158\n",
            "Epoch 25/400\n",
            "919/919 [==============================] - 13s 14ms/step - loss: 2.3733 - accuracy: 0.1289 - val_loss: 2.3818 - val_accuracy: 0.1188\n",
            "Epoch 26/400\n",
            "919/919 [==============================] - 13s 14ms/step - loss: 2.3729 - accuracy: 0.1297 - val_loss: 2.3800 - val_accuracy: 0.1257\n",
            "Epoch 27/400\n",
            "919/919 [==============================] - 13s 15ms/step - loss: 2.3723 - accuracy: 0.1244 - val_loss: 2.3797 - val_accuracy: 0.1297\n",
            "Epoch 28/400\n",
            "919/919 [==============================] - 13s 14ms/step - loss: 2.3715 - accuracy: 0.1296 - val_loss: 2.3825 - val_accuracy: 0.1238\n",
            "Epoch 29/400\n",
            "919/919 [==============================] - 13s 14ms/step - loss: 2.3715 - accuracy: 0.1312 - val_loss: 2.3786 - val_accuracy: 0.1297\n",
            "Epoch 30/400\n",
            "919/919 [==============================] - 13s 14ms/step - loss: 2.3702 - accuracy: 0.1322 - val_loss: 2.3789 - val_accuracy: 0.1267\n",
            "Epoch 31/400\n",
            "919/919 [==============================] - 13s 14ms/step - loss: 2.3685 - accuracy: 0.1338 - val_loss: 2.3771 - val_accuracy: 0.1228\n",
            "Epoch 32/400\n",
            "919/919 [==============================] - 13s 14ms/step - loss: 2.3681 - accuracy: 0.1298 - val_loss: 2.3773 - val_accuracy: 0.1148\n",
            "Epoch 33/400\n",
            "919/919 [==============================] - 13s 14ms/step - loss: 2.3671 - accuracy: 0.1298 - val_loss: 2.3777 - val_accuracy: 0.1188\n",
            "Epoch 34/400\n",
            "919/919 [==============================] - 13s 14ms/step - loss: 2.3657 - accuracy: 0.1318 - val_loss: 2.3766 - val_accuracy: 0.1367\n",
            "Epoch 35/400\n",
            "919/919 [==============================] - 13s 14ms/step - loss: 2.3651 - accuracy: 0.1320 - val_loss: 2.3751 - val_accuracy: 0.1248\n",
            "Epoch 36/400\n",
            "919/919 [==============================] - 13s 14ms/step - loss: 2.3642 - accuracy: 0.1356 - val_loss: 2.3746 - val_accuracy: 0.1277\n",
            "Epoch 37/400\n",
            "919/919 [==============================] - 13s 14ms/step - loss: 2.3637 - accuracy: 0.1357 - val_loss: 2.3734 - val_accuracy: 0.1297\n",
            "Epoch 38/400\n",
            "919/919 [==============================] - 13s 14ms/step - loss: 2.3627 - accuracy: 0.1405 - val_loss: 2.3751 - val_accuracy: 0.1218\n",
            "Epoch 39/400\n",
            "919/919 [==============================] - 13s 14ms/step - loss: 2.3616 - accuracy: 0.1338 - val_loss: 2.3729 - val_accuracy: 0.1287\n",
            "Epoch 40/400\n",
            "919/919 [==============================] - 13s 14ms/step - loss: 2.3624 - accuracy: 0.1360 - val_loss: 2.3723 - val_accuracy: 0.1208\n",
            "Epoch 41/400\n",
            "919/919 [==============================] - 13s 14ms/step - loss: 2.3605 - accuracy: 0.1416 - val_loss: 2.3727 - val_accuracy: 0.1277\n",
            "Epoch 42/400\n",
            "919/919 [==============================] - 13s 14ms/step - loss: 2.3604 - accuracy: 0.1377 - val_loss: 2.3719 - val_accuracy: 0.1188\n",
            "Epoch 43/400\n",
            "919/919 [==============================] - 13s 14ms/step - loss: 2.3586 - accuracy: 0.1420 - val_loss: 2.3728 - val_accuracy: 0.1307\n",
            "Epoch 44/400\n",
            "919/919 [==============================] - 13s 14ms/step - loss: 2.3596 - accuracy: 0.1405 - val_loss: 2.3707 - val_accuracy: 0.1327\n",
            "Epoch 45/400\n",
            "919/919 [==============================] - 13s 14ms/step - loss: 2.3580 - accuracy: 0.1406 - val_loss: 2.3706 - val_accuracy: 0.1267\n",
            "Epoch 46/400\n",
            "919/919 [==============================] - 13s 14ms/step - loss: 2.3571 - accuracy: 0.1420 - val_loss: 2.3710 - val_accuracy: 0.1218\n",
            "Epoch 47/400\n",
            "919/919 [==============================] - 13s 14ms/step - loss: 2.3570 - accuracy: 0.1429 - val_loss: 2.3725 - val_accuracy: 0.1317\n",
            "Epoch 48/400\n",
            "919/919 [==============================] - 13s 14ms/step - loss: 2.3573 - accuracy: 0.1439 - val_loss: 2.3702 - val_accuracy: 0.1407\n",
            "Epoch 49/400\n",
            "919/919 [==============================] - 13s 14ms/step - loss: 2.3562 - accuracy: 0.1398 - val_loss: 2.3704 - val_accuracy: 0.1367\n",
            "Epoch 50/400\n",
            "919/919 [==============================] - 14s 15ms/step - loss: 2.3555 - accuracy: 0.1440 - val_loss: 2.3706 - val_accuracy: 0.1257\n",
            "Epoch 51/400\n",
            "919/919 [==============================] - 13s 14ms/step - loss: 2.3554 - accuracy: 0.1394 - val_loss: 2.3721 - val_accuracy: 0.1257\n",
            "Epoch 52/400\n",
            "919/919 [==============================] - 13s 14ms/step - loss: 2.3559 - accuracy: 0.1395 - val_loss: 2.3707 - val_accuracy: 0.1337\n",
            "Epoch 53/400\n",
            "919/919 [==============================] - 13s 14ms/step - loss: 2.3538 - accuracy: 0.1447 - val_loss: 2.3731 - val_accuracy: 0.1287\n",
            "Epoch 54/400\n",
            "919/919 [==============================] - 13s 14ms/step - loss: 2.3530 - accuracy: 0.1395 - val_loss: 2.3710 - val_accuracy: 0.1257\n",
            "Epoch 55/400\n",
            "919/919 [==============================] - 13s 14ms/step - loss: 2.3539 - accuracy: 0.1410 - val_loss: 2.3742 - val_accuracy: 0.1297\n",
            "Epoch 56/400\n",
            "919/919 [==============================] - 13s 14ms/step - loss: 2.3521 - accuracy: 0.1443 - val_loss: 2.3730 - val_accuracy: 0.1267\n",
            "Epoch 57/400\n",
            "919/919 [==============================] - 13s 14ms/step - loss: 2.3522 - accuracy: 0.1429 - val_loss: 2.3715 - val_accuracy: 0.1257\n",
            "Epoch 58/400\n",
            "919/919 [==============================] - 13s 14ms/step - loss: 2.3507 - accuracy: 0.1401 - val_loss: 2.3713 - val_accuracy: 0.1277\n",
            "Epoch 59/400\n",
            "919/919 [==============================] - 13s 14ms/step - loss: 2.3495 - accuracy: 0.1395 - val_loss: 2.3719 - val_accuracy: 0.1367\n",
            "Epoch 60/400\n",
            "919/919 [==============================] - 13s 14ms/step - loss: 2.3499 - accuracy: 0.1420 - val_loss: 2.3711 - val_accuracy: 0.1377\n",
            "Epoch 61/400\n",
            "919/919 [==============================] - 13s 14ms/step - loss: 2.3489 - accuracy: 0.1459 - val_loss: 2.3702 - val_accuracy: 0.1317\n",
            "Epoch 62/400\n",
            "919/919 [==============================] - 14s 15ms/step - loss: 2.3487 - accuracy: 0.1431 - val_loss: 2.3708 - val_accuracy: 0.1277\n",
            "Epoch 63/400\n",
            "919/919 [==============================] - 13s 14ms/step - loss: 2.3483 - accuracy: 0.1445 - val_loss: 2.3702 - val_accuracy: 0.1297\n",
            "Epoch 64/400\n",
            "919/919 [==============================] - 13s 14ms/step - loss: 2.3468 - accuracy: 0.1462 - val_loss: 2.3694 - val_accuracy: 0.1367\n",
            "Epoch 65/400\n",
            "919/919 [==============================] - 13s 14ms/step - loss: 2.3460 - accuracy: 0.1435 - val_loss: 2.3694 - val_accuracy: 0.1347\n",
            "Epoch 66/400\n",
            "919/919 [==============================] - 13s 14ms/step - loss: 2.3452 - accuracy: 0.1451 - val_loss: 2.3691 - val_accuracy: 0.1307\n",
            "Epoch 67/400\n",
            "919/919 [==============================] - 13s 14ms/step - loss: 2.3444 - accuracy: 0.1505 - val_loss: 2.3686 - val_accuracy: 0.1347\n",
            "Epoch 68/400\n",
            "919/919 [==============================] - 13s 14ms/step - loss: 2.3429 - accuracy: 0.1488 - val_loss: 2.3677 - val_accuracy: 0.1377\n",
            "Epoch 69/400\n",
            "919/919 [==============================] - 13s 14ms/step - loss: 2.3427 - accuracy: 0.1463 - val_loss: 2.3718 - val_accuracy: 0.1248\n",
            "Epoch 70/400\n",
            "919/919 [==============================] - 13s 14ms/step - loss: 2.3420 - accuracy: 0.1497 - val_loss: 2.3720 - val_accuracy: 0.1248\n",
            "Epoch 71/400\n",
            "919/919 [==============================] - 13s 14ms/step - loss: 2.3413 - accuracy: 0.1471 - val_loss: 2.3717 - val_accuracy: 0.1317\n",
            "Epoch 72/400\n",
            "919/919 [==============================] - 13s 14ms/step - loss: 2.3403 - accuracy: 0.1484 - val_loss: 2.3690 - val_accuracy: 0.1357\n",
            "Epoch 73/400\n",
            "919/919 [==============================] - 14s 15ms/step - loss: 2.3397 - accuracy: 0.1451 - val_loss: 2.3683 - val_accuracy: 0.1297\n",
            "Epoch 74/400\n",
            "919/919 [==============================] - 13s 14ms/step - loss: 2.3388 - accuracy: 0.1482 - val_loss: 2.3699 - val_accuracy: 0.1188\n",
            "Epoch 75/400\n",
            "919/919 [==============================] - 13s 14ms/step - loss: 2.3376 - accuracy: 0.1489 - val_loss: 2.3682 - val_accuracy: 0.1407\n",
            "Epoch 76/400\n",
            "919/919 [==============================] - 13s 14ms/step - loss: 2.3375 - accuracy: 0.1527 - val_loss: 2.3717 - val_accuracy: 0.1238\n",
            "Epoch 77/400\n",
            "919/919 [==============================] - 13s 14ms/step - loss: 2.3370 - accuracy: 0.1545 - val_loss: 2.3691 - val_accuracy: 0.1287\n",
            "Epoch 78/400\n",
            "919/919 [==============================] - 13s 14ms/step - loss: 2.3355 - accuracy: 0.1514 - val_loss: 2.3699 - val_accuracy: 0.1168\n",
            "Epoch 79/400\n",
            "919/919 [==============================] - 13s 14ms/step - loss: 2.3350 - accuracy: 0.1554 - val_loss: 2.3706 - val_accuracy: 0.1257\n",
            "Epoch 80/400\n",
            "919/919 [==============================] - 13s 14ms/step - loss: 2.3345 - accuracy: 0.1545 - val_loss: 2.3708 - val_accuracy: 0.1347\n",
            "Epoch 81/400\n",
            "919/919 [==============================] - 13s 14ms/step - loss: 2.3328 - accuracy: 0.1527 - val_loss: 2.3695 - val_accuracy: 0.1148\n",
            "Epoch 82/400\n",
            "919/919 [==============================] - 13s 14ms/step - loss: 2.3338 - accuracy: 0.1548 - val_loss: 2.3703 - val_accuracy: 0.1337\n",
            "Epoch 83/400\n",
            "919/919 [==============================] - 13s 14ms/step - loss: 2.3317 - accuracy: 0.1503 - val_loss: 2.3690 - val_accuracy: 0.1178\n",
            "Epoch 84/400\n",
            "919/919 [==============================] - 13s 14ms/step - loss: 2.3321 - accuracy: 0.1563 - val_loss: 2.3705 - val_accuracy: 0.1257\n",
            "Epoch 85/400\n",
            "919/919 [==============================] - 14s 15ms/step - loss: 2.3304 - accuracy: 0.1543 - val_loss: 2.3693 - val_accuracy: 0.1257\n",
            "Epoch 86/400\n",
            "919/919 [==============================] - 13s 14ms/step - loss: 2.3303 - accuracy: 0.1557 - val_loss: 2.3726 - val_accuracy: 0.1297\n",
            "Epoch 87/400\n",
            "919/919 [==============================] - 13s 14ms/step - loss: 2.3298 - accuracy: 0.1578 - val_loss: 2.3731 - val_accuracy: 0.1317\n",
            "Epoch 88/400\n",
            "919/919 [==============================] - 13s 14ms/step - loss: 2.3295 - accuracy: 0.1537 - val_loss: 2.3699 - val_accuracy: 0.1287\n"
          ]
        }
      ],
      "source": [
        "history = model.fit(train_X, train_y,validation_data=(test_X, test_y),epochs=400, callbacks=(patience, save_best), batch_size=8)"
      ]
    },
    {
      "cell_type": "code",
      "execution_count": 76,
      "metadata": {
        "id": "FRuvGjLNCO8A"
      },
      "outputs": [],
      "source": [
        "import matplotlib.pyplot as plt"
      ]
    },
    {
      "cell_type": "code",
      "source": [
        "plt.plot(history.history['loss'])\n",
        "plt.plot(history.history['val_loss'])"
      ],
      "metadata": {
        "colab": {
          "base_uri": "https://localhost:8080/",
          "height": 282
        },
        "id": "z9ND6Y6x20CX",
        "outputId": "8f72678c-4861-4620-b46a-b07839f109e8"
      },
      "execution_count": 77,
      "outputs": [
        {
          "output_type": "execute_result",
          "data": {
            "text/plain": [
              "[<matplotlib.lines.Line2D at 0x7f94c23e2b80>]"
            ]
          },
          "metadata": {},
          "execution_count": 77
        },
        {
          "output_type": "display_data",
          "data": {
            "text/plain": [
              "<Figure size 432x288 with 1 Axes>"
            ],
            "image/png": "[encoded data removed]"
          },
          "metadata": {
            "needs_background": "light"
          }
        }
      ]
    },
    {
      "cell_type": "code",
      "source": [
        "plt.plot(history.history['accuracy'])\n",
        "plt.plot(history.history['val_accuracy'])"
      ],
      "metadata": {
        "colab": {
          "base_uri": "https://localhost:8080/",
          "height": 283
        },
        "id": "yhPWxbsS20E_",
        "outputId": "375d72f8-0df3-4a1b-c85a-318c0710ff2c"
      },
      "execution_count": 78,
      "outputs": [
        {
          "output_type": "execute_result",
          "data": {
            "text/plain": [
              "[<matplotlib.lines.Line2D at 0x7f94c24c3610>]"
            ]
          },
          "metadata": {},
          "execution_count": 78
        },
        {
          "output_type": "display_data",
          "data": {
            "text/plain": [
              "<Figure size 432x288 with 1 Axes>"
            ],
            "image/png": "[encoded data removed]"
          },
          "metadata": {
            "needs_background": "light"
          }
        }
      ]
    },
    {
      "cell_type": "code",
      "source": [],
      "metadata": {
        "id": "K4WATgTt20If"
      },
      "execution_count": null,
      "outputs": []
    },
    {
      "cell_type": "code",
      "source": [
        "test_X[3]"
      ],
      "metadata": {
        "id": "RVRJTGB1_89-",
        "colab": {
          "base_uri": "https://localhost:8080/"
        },
        "outputId": "1c721297-00f5-4245-befd-01507a1dcb35"
      },
      "execution_count": null,
      "outputs": [
        {
          "output_type": "execute_result",
          "data": {
            "text/plain": [
              "array([13746,  8197,  3877, 11394,  8878,  6805, 12253,  6289,  1171,\n",
              "        7986, 10534,  6552,   175,     0,     0,     0,     0,     0,\n",
              "           0,     0,     0,     0,     0,     0,     0,     0,     0],\n",
              "      dtype=int32)"
            ]
          },
          "metadata": {},
          "execution_count": 85
        }
      ]
    },
    {
      "cell_type": "code",
      "source": [
        "test_y[3]"
      ],
      "metadata": {
        "colab": {
          "base_uri": "https://localhost:8080/"
        },
        "id": "mMiPCPITq4-c",
        "outputId": "8ade71fa-4b96-4913-843c-35d711256fe9"
      },
      "execution_count": null,
      "outputs": [
        {
          "output_type": "execute_result",
          "data": {
            "text/plain": [
              "array([0., 0., 0., 0., 0., 0., 0., 1., 0., 0., 0., 0., 0.], dtype=float32)"
            ]
          },
          "metadata": {},
          "execution_count": 86
        }
      ]
    },
    {
      "cell_type": "code",
      "source": [
        "prediction = model.predict(test_X[3].reshape(1,-1))"
      ],
      "metadata": {
        "colab": {
          "base_uri": "https://localhost:8080/"
        },
        "id": "uofOy0EAq5BT",
        "outputId": "e6b84212-132e-4782-e8b3-917403cdf1fe"
      },
      "execution_count": null,
      "outputs": [
        {
          "output_type": "stream",
          "name": "stdout",
          "text": [
            "1/1 [==============================] - 0s 17ms/step\n"
          ]
        }
      ]
    },
    {
      "cell_type": "code",
      "source": [
        "np.argmax(prediction)"
      ],
      "metadata": {
        "colab": {
          "base_uri": "https://localhost:8080/"
        },
        "id": "tjB5CxVKq5Dn",
        "outputId": "dbbc96e1-1df8-4789-f1ab-ae89747a102b"
      },
      "execution_count": null,
      "outputs": [
        {
          "output_type": "execute_result",
          "data": {
            "text/plain": [
              "7"
            ]
          },
          "metadata": {},
          "execution_count": 104
        }
      ]
    },
    {
      "cell_type": "code",
      "source": [
        "test"
      ],
      "metadata": {
        "colab": {
          "base_uri": "https://localhost:8080/"
        },
        "id": "nwud7F2Wq5GA",
        "outputId": "4204539a-6d82-4da6-81e5-6be5c48f8496"
      },
      "execution_count": null,
      "outputs": [
        {
          "output_type": "execute_result",
          "data": {
            "text/plain": [
              "(27, 1)"
            ]
          },
          "metadata": {},
          "execution_count": 96
        }
      ]
    },
    {
      "cell_type": "code",
      "source": [],
      "metadata": {
        "id": "6hhN_CrNrxP8"
      },
      "execution_count": null,
      "outputs": []
    }
  ],
  "metadata": {
    "accelerator": "GPU",
    "colab": {
      "provenance": [],
      "authorship_tag": "ABX9TyMl1VWmq/xT9Q8t/kkwC5M/",
      "include_colab_link": true
    },
    "gpuClass": "standard",
    "kernelspec": {
      "display_name": "Python 3",
      "name": "python3"
    },
    "language_info": {
      "name": "python"
    }
  },
  "nbformat": 4,
  "nbformat_minor": 0
}